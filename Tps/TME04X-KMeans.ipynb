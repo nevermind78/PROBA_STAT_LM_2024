{
 "cells": [
  {
   "cell_type": "markdown",
   "metadata": {},
   "source": [
    "# Qui êtes-vous ?\n",
    "<div class=\"alert alert-block alert-info\">\n",
    "Écrire ci-dessous le nom, le prénom et le numéro étudiant de chaque membre du binôme :\n",
    "</div>"
   ]
  },
  {
   "cell_type": "code",
   "execution_count": 1,
   "metadata": {
    "collapsed": true
   },
   "outputs": [],
   "source": []
  },
  {
   "cell_type": "markdown",
   "metadata": {},
   "source": [
    "# Clustering : k-moyennes"
   ]
  },
  {
   "cell_type": "code",
   "execution_count": 2,
   "metadata": {
    "collapsed": true
   },
   "outputs": [],
   "source": [
    "import numpy as np\n",
    "import pandas as pd\n",
    "import matplotlib.pyplot as plt"
   ]
  },
  {
   "cell_type": "markdown",
   "metadata": {},
   "source": [
    "## 1 - Données fruitées"
   ]
  },
  {
   "cell_type": "markdown",
   "metadata": {},
   "source": [
    "<div class=\"alert alert-block alert-warning\">\n",
    "Pour illustrer le fonctionnement de l'algorithme des K-moyennes, nous allons utiliser un jeu de données très simple contenu dans <code>fruits.csv</code>. Il décrit le poids, la hauteur et la largeur d'un ensemble de pommes, mandarines, oranges et citrons.\n",
    "</div>\n",
    "    \n",
    "<div class=\"alert alert-block alert-info\">\n",
    "Q1.1 - Charger ce jeu de données dans la variable <code>fruits</code> et visualiser ses premières lignes.\n",
    "</div>"
   ]
  },
  {
   "cell_type": "code",
   "execution_count": 3,
   "metadata": {
    "collapsed": false
   },
   "outputs": [
    {
     "data": {
      "text/html": [
       "<div>\n",
       "<style scoped>\n",
       "    .dataframe tbody tr th:only-of-type {\n",
       "        vertical-align: middle;\n",
       "    }\n",
       "\n",
       "    .dataframe tbody tr th {\n",
       "        vertical-align: top;\n",
       "    }\n",
       "\n",
       "    .dataframe thead th {\n",
       "        text-align: right;\n",
       "    }\n",
       "</style>\n",
       "<table border=\"1\" class=\"dataframe\">\n",
       "  <thead>\n",
       "    <tr style=\"text-align: right;\">\n",
       "      <th></th>\n",
       "      <th>fruit_label</th>\n",
       "      <th>fruit_name</th>\n",
       "      <th>mass</th>\n",
       "      <th>width</th>\n",
       "      <th>height</th>\n",
       "    </tr>\n",
       "  </thead>\n",
       "  <tbody>\n",
       "    <tr>\n",
       "      <th>0</th>\n",
       "      <td>1</td>\n",
       "      <td>apple</td>\n",
       "      <td>192</td>\n",
       "      <td>8.4</td>\n",
       "      <td>7.3</td>\n",
       "    </tr>\n",
       "    <tr>\n",
       "      <th>1</th>\n",
       "      <td>1</td>\n",
       "      <td>apple</td>\n",
       "      <td>180</td>\n",
       "      <td>8.0</td>\n",
       "      <td>6.8</td>\n",
       "    </tr>\n",
       "    <tr>\n",
       "      <th>2</th>\n",
       "      <td>1</td>\n",
       "      <td>apple</td>\n",
       "      <td>176</td>\n",
       "      <td>7.4</td>\n",
       "      <td>7.2</td>\n",
       "    </tr>\n",
       "    <tr>\n",
       "      <th>3</th>\n",
       "      <td>2</td>\n",
       "      <td>mandarin</td>\n",
       "      <td>86</td>\n",
       "      <td>6.2</td>\n",
       "      <td>4.7</td>\n",
       "    </tr>\n",
       "    <tr>\n",
       "      <th>4</th>\n",
       "      <td>2</td>\n",
       "      <td>mandarin</td>\n",
       "      <td>84</td>\n",
       "      <td>6.0</td>\n",
       "      <td>4.6</td>\n",
       "    </tr>\n",
       "    <tr>\n",
       "      <th>5</th>\n",
       "      <td>2</td>\n",
       "      <td>mandarin</td>\n",
       "      <td>80</td>\n",
       "      <td>5.8</td>\n",
       "      <td>4.3</td>\n",
       "    </tr>\n",
       "    <tr>\n",
       "      <th>6</th>\n",
       "      <td>2</td>\n",
       "      <td>mandarin</td>\n",
       "      <td>80</td>\n",
       "      <td>5.9</td>\n",
       "      <td>4.3</td>\n",
       "    </tr>\n",
       "    <tr>\n",
       "      <th>7</th>\n",
       "      <td>2</td>\n",
       "      <td>mandarin</td>\n",
       "      <td>76</td>\n",
       "      <td>5.8</td>\n",
       "      <td>4.0</td>\n",
       "    </tr>\n",
       "    <tr>\n",
       "      <th>8</th>\n",
       "      <td>1</td>\n",
       "      <td>apple</td>\n",
       "      <td>178</td>\n",
       "      <td>7.1</td>\n",
       "      <td>7.8</td>\n",
       "    </tr>\n",
       "    <tr>\n",
       "      <th>9</th>\n",
       "      <td>1</td>\n",
       "      <td>apple</td>\n",
       "      <td>172</td>\n",
       "      <td>7.4</td>\n",
       "      <td>7.0</td>\n",
       "    </tr>\n",
       "    <tr>\n",
       "      <th>10</th>\n",
       "      <td>1</td>\n",
       "      <td>apple</td>\n",
       "      <td>166</td>\n",
       "      <td>6.9</td>\n",
       "      <td>7.3</td>\n",
       "    </tr>\n",
       "    <tr>\n",
       "      <th>11</th>\n",
       "      <td>1</td>\n",
       "      <td>apple</td>\n",
       "      <td>172</td>\n",
       "      <td>7.1</td>\n",
       "      <td>7.6</td>\n",
       "    </tr>\n",
       "    <tr>\n",
       "      <th>12</th>\n",
       "      <td>1</td>\n",
       "      <td>apple</td>\n",
       "      <td>154</td>\n",
       "      <td>7.0</td>\n",
       "      <td>7.1</td>\n",
       "    </tr>\n",
       "    <tr>\n",
       "      <th>13</th>\n",
       "      <td>1</td>\n",
       "      <td>apple</td>\n",
       "      <td>164</td>\n",
       "      <td>7.3</td>\n",
       "      <td>7.7</td>\n",
       "    </tr>\n",
       "    <tr>\n",
       "      <th>14</th>\n",
       "      <td>1</td>\n",
       "      <td>apple</td>\n",
       "      <td>152</td>\n",
       "      <td>7.6</td>\n",
       "      <td>7.3</td>\n",
       "    </tr>\n",
       "    <tr>\n",
       "      <th>15</th>\n",
       "      <td>1</td>\n",
       "      <td>apple</td>\n",
       "      <td>156</td>\n",
       "      <td>7.7</td>\n",
       "      <td>7.1</td>\n",
       "    </tr>\n",
       "    <tr>\n",
       "      <th>16</th>\n",
       "      <td>1</td>\n",
       "      <td>apple</td>\n",
       "      <td>156</td>\n",
       "      <td>7.6</td>\n",
       "      <td>7.5</td>\n",
       "    </tr>\n",
       "    <tr>\n",
       "      <th>17</th>\n",
       "      <td>1</td>\n",
       "      <td>apple</td>\n",
       "      <td>168</td>\n",
       "      <td>7.5</td>\n",
       "      <td>7.6</td>\n",
       "    </tr>\n",
       "    <tr>\n",
       "      <th>18</th>\n",
       "      <td>1</td>\n",
       "      <td>apple</td>\n",
       "      <td>162</td>\n",
       "      <td>7.5</td>\n",
       "      <td>7.1</td>\n",
       "    </tr>\n",
       "    <tr>\n",
       "      <th>19</th>\n",
       "      <td>1</td>\n",
       "      <td>apple</td>\n",
       "      <td>162</td>\n",
       "      <td>7.4</td>\n",
       "      <td>7.2</td>\n",
       "    </tr>\n",
       "    <tr>\n",
       "      <th>20</th>\n",
       "      <td>1</td>\n",
       "      <td>apple</td>\n",
       "      <td>160</td>\n",
       "      <td>7.5</td>\n",
       "      <td>7.5</td>\n",
       "    </tr>\n",
       "    <tr>\n",
       "      <th>21</th>\n",
       "      <td>1</td>\n",
       "      <td>apple</td>\n",
       "      <td>156</td>\n",
       "      <td>7.4</td>\n",
       "      <td>7.4</td>\n",
       "    </tr>\n",
       "    <tr>\n",
       "      <th>22</th>\n",
       "      <td>1</td>\n",
       "      <td>apple</td>\n",
       "      <td>140</td>\n",
       "      <td>7.3</td>\n",
       "      <td>7.1</td>\n",
       "    </tr>\n",
       "    <tr>\n",
       "      <th>23</th>\n",
       "      <td>1</td>\n",
       "      <td>apple</td>\n",
       "      <td>170</td>\n",
       "      <td>7.6</td>\n",
       "      <td>7.9</td>\n",
       "    </tr>\n",
       "    <tr>\n",
       "      <th>24</th>\n",
       "      <td>3</td>\n",
       "      <td>orange</td>\n",
       "      <td>342</td>\n",
       "      <td>9.0</td>\n",
       "      <td>9.4</td>\n",
       "    </tr>\n",
       "    <tr>\n",
       "      <th>25</th>\n",
       "      <td>3</td>\n",
       "      <td>orange</td>\n",
       "      <td>356</td>\n",
       "      <td>9.2</td>\n",
       "      <td>9.2</td>\n",
       "    </tr>\n",
       "    <tr>\n",
       "      <th>26</th>\n",
       "      <td>3</td>\n",
       "      <td>orange</td>\n",
       "      <td>362</td>\n",
       "      <td>9.6</td>\n",
       "      <td>9.2</td>\n",
       "    </tr>\n",
       "    <tr>\n",
       "      <th>27</th>\n",
       "      <td>3</td>\n",
       "      <td>orange</td>\n",
       "      <td>204</td>\n",
       "      <td>7.5</td>\n",
       "      <td>9.2</td>\n",
       "    </tr>\n",
       "    <tr>\n",
       "      <th>28</th>\n",
       "      <td>3</td>\n",
       "      <td>orange</td>\n",
       "      <td>140</td>\n",
       "      <td>6.7</td>\n",
       "      <td>7.1</td>\n",
       "    </tr>\n",
       "    <tr>\n",
       "      <th>29</th>\n",
       "      <td>3</td>\n",
       "      <td>orange</td>\n",
       "      <td>160</td>\n",
       "      <td>7.0</td>\n",
       "      <td>7.4</td>\n",
       "    </tr>\n",
       "    <tr>\n",
       "      <th>30</th>\n",
       "      <td>3</td>\n",
       "      <td>orange</td>\n",
       "      <td>158</td>\n",
       "      <td>7.1</td>\n",
       "      <td>7.5</td>\n",
       "    </tr>\n",
       "    <tr>\n",
       "      <th>31</th>\n",
       "      <td>3</td>\n",
       "      <td>orange</td>\n",
       "      <td>210</td>\n",
       "      <td>7.8</td>\n",
       "      <td>8.0</td>\n",
       "    </tr>\n",
       "    <tr>\n",
       "      <th>32</th>\n",
       "      <td>3</td>\n",
       "      <td>orange</td>\n",
       "      <td>164</td>\n",
       "      <td>7.2</td>\n",
       "      <td>7.0</td>\n",
       "    </tr>\n",
       "    <tr>\n",
       "      <th>33</th>\n",
       "      <td>3</td>\n",
       "      <td>orange</td>\n",
       "      <td>190</td>\n",
       "      <td>7.5</td>\n",
       "      <td>8.1</td>\n",
       "    </tr>\n",
       "    <tr>\n",
       "      <th>34</th>\n",
       "      <td>3</td>\n",
       "      <td>orange</td>\n",
       "      <td>142</td>\n",
       "      <td>7.6</td>\n",
       "      <td>7.8</td>\n",
       "    </tr>\n",
       "    <tr>\n",
       "      <th>35</th>\n",
       "      <td>3</td>\n",
       "      <td>orange</td>\n",
       "      <td>150</td>\n",
       "      <td>7.1</td>\n",
       "      <td>7.9</td>\n",
       "    </tr>\n",
       "    <tr>\n",
       "      <th>36</th>\n",
       "      <td>3</td>\n",
       "      <td>orange</td>\n",
       "      <td>160</td>\n",
       "      <td>7.1</td>\n",
       "      <td>7.6</td>\n",
       "    </tr>\n",
       "    <tr>\n",
       "      <th>37</th>\n",
       "      <td>3</td>\n",
       "      <td>orange</td>\n",
       "      <td>154</td>\n",
       "      <td>7.3</td>\n",
       "      <td>7.3</td>\n",
       "    </tr>\n",
       "    <tr>\n",
       "      <th>38</th>\n",
       "      <td>3</td>\n",
       "      <td>orange</td>\n",
       "      <td>158</td>\n",
       "      <td>7.2</td>\n",
       "      <td>7.8</td>\n",
       "    </tr>\n",
       "    <tr>\n",
       "      <th>39</th>\n",
       "      <td>3</td>\n",
       "      <td>orange</td>\n",
       "      <td>144</td>\n",
       "      <td>6.8</td>\n",
       "      <td>7.4</td>\n",
       "    </tr>\n",
       "    <tr>\n",
       "      <th>40</th>\n",
       "      <td>3</td>\n",
       "      <td>orange</td>\n",
       "      <td>154</td>\n",
       "      <td>7.1</td>\n",
       "      <td>7.5</td>\n",
       "    </tr>\n",
       "    <tr>\n",
       "      <th>41</th>\n",
       "      <td>3</td>\n",
       "      <td>orange</td>\n",
       "      <td>180</td>\n",
       "      <td>7.6</td>\n",
       "      <td>8.2</td>\n",
       "    </tr>\n",
       "    <tr>\n",
       "      <th>42</th>\n",
       "      <td>3</td>\n",
       "      <td>orange</td>\n",
       "      <td>154</td>\n",
       "      <td>7.2</td>\n",
       "      <td>7.2</td>\n",
       "    </tr>\n",
       "    <tr>\n",
       "      <th>43</th>\n",
       "      <td>4</td>\n",
       "      <td>lemon</td>\n",
       "      <td>194</td>\n",
       "      <td>7.2</td>\n",
       "      <td>10.3</td>\n",
       "    </tr>\n",
       "    <tr>\n",
       "      <th>44</th>\n",
       "      <td>4</td>\n",
       "      <td>lemon</td>\n",
       "      <td>200</td>\n",
       "      <td>7.3</td>\n",
       "      <td>10.5</td>\n",
       "    </tr>\n",
       "    <tr>\n",
       "      <th>45</th>\n",
       "      <td>4</td>\n",
       "      <td>lemon</td>\n",
       "      <td>186</td>\n",
       "      <td>7.2</td>\n",
       "      <td>9.2</td>\n",
       "    </tr>\n",
       "    <tr>\n",
       "      <th>46</th>\n",
       "      <td>4</td>\n",
       "      <td>lemon</td>\n",
       "      <td>216</td>\n",
       "      <td>7.3</td>\n",
       "      <td>10.2</td>\n",
       "    </tr>\n",
       "    <tr>\n",
       "      <th>47</th>\n",
       "      <td>4</td>\n",
       "      <td>lemon</td>\n",
       "      <td>196</td>\n",
       "      <td>7.3</td>\n",
       "      <td>9.7</td>\n",
       "    </tr>\n",
       "    <tr>\n",
       "      <th>48</th>\n",
       "      <td>4</td>\n",
       "      <td>lemon</td>\n",
       "      <td>174</td>\n",
       "      <td>7.3</td>\n",
       "      <td>10.1</td>\n",
       "    </tr>\n",
       "    <tr>\n",
       "      <th>49</th>\n",
       "      <td>4</td>\n",
       "      <td>lemon</td>\n",
       "      <td>132</td>\n",
       "      <td>5.8</td>\n",
       "      <td>8.7</td>\n",
       "    </tr>\n",
       "    <tr>\n",
       "      <th>50</th>\n",
       "      <td>4</td>\n",
       "      <td>lemon</td>\n",
       "      <td>130</td>\n",
       "      <td>6.0</td>\n",
       "      <td>8.2</td>\n",
       "    </tr>\n",
       "    <tr>\n",
       "      <th>51</th>\n",
       "      <td>4</td>\n",
       "      <td>lemon</td>\n",
       "      <td>116</td>\n",
       "      <td>6.0</td>\n",
       "      <td>7.5</td>\n",
       "    </tr>\n",
       "    <tr>\n",
       "      <th>52</th>\n",
       "      <td>4</td>\n",
       "      <td>lemon</td>\n",
       "      <td>118</td>\n",
       "      <td>5.9</td>\n",
       "      <td>8.0</td>\n",
       "    </tr>\n",
       "    <tr>\n",
       "      <th>53</th>\n",
       "      <td>4</td>\n",
       "      <td>lemon</td>\n",
       "      <td>120</td>\n",
       "      <td>6.0</td>\n",
       "      <td>8.4</td>\n",
       "    </tr>\n",
       "    <tr>\n",
       "      <th>54</th>\n",
       "      <td>4</td>\n",
       "      <td>lemon</td>\n",
       "      <td>116</td>\n",
       "      <td>6.1</td>\n",
       "      <td>8.5</td>\n",
       "    </tr>\n",
       "    <tr>\n",
       "      <th>55</th>\n",
       "      <td>4</td>\n",
       "      <td>lemon</td>\n",
       "      <td>116</td>\n",
       "      <td>6.3</td>\n",
       "      <td>7.7</td>\n",
       "    </tr>\n",
       "    <tr>\n",
       "      <th>56</th>\n",
       "      <td>4</td>\n",
       "      <td>lemon</td>\n",
       "      <td>116</td>\n",
       "      <td>5.9</td>\n",
       "      <td>8.1</td>\n",
       "    </tr>\n",
       "    <tr>\n",
       "      <th>57</th>\n",
       "      <td>4</td>\n",
       "      <td>lemon</td>\n",
       "      <td>152</td>\n",
       "      <td>6.5</td>\n",
       "      <td>8.5</td>\n",
       "    </tr>\n",
       "    <tr>\n",
       "      <th>58</th>\n",
       "      <td>4</td>\n",
       "      <td>lemon</td>\n",
       "      <td>118</td>\n",
       "      <td>6.1</td>\n",
       "      <td>8.1</td>\n",
       "    </tr>\n",
       "  </tbody>\n",
       "</table>\n",
       "</div>"
      ],
      "text/plain": [
       "    fruit_label fruit_name  mass  width  height\n",
       "0             1      apple   192    8.4     7.3\n",
       "1             1      apple   180    8.0     6.8\n",
       "2             1      apple   176    7.4     7.2\n",
       "3             2   mandarin    86    6.2     4.7\n",
       "4             2   mandarin    84    6.0     4.6\n",
       "5             2   mandarin    80    5.8     4.3\n",
       "6             2   mandarin    80    5.9     4.3\n",
       "7             2   mandarin    76    5.8     4.0\n",
       "8             1      apple   178    7.1     7.8\n",
       "9             1      apple   172    7.4     7.0\n",
       "10            1      apple   166    6.9     7.3\n",
       "11            1      apple   172    7.1     7.6\n",
       "12            1      apple   154    7.0     7.1\n",
       "13            1      apple   164    7.3     7.7\n",
       "14            1      apple   152    7.6     7.3\n",
       "15            1      apple   156    7.7     7.1\n",
       "16            1      apple   156    7.6     7.5\n",
       "17            1      apple   168    7.5     7.6\n",
       "18            1      apple   162    7.5     7.1\n",
       "19            1      apple   162    7.4     7.2\n",
       "20            1      apple   160    7.5     7.5\n",
       "21            1      apple   156    7.4     7.4\n",
       "22            1      apple   140    7.3     7.1\n",
       "23            1      apple   170    7.6     7.9\n",
       "24            3     orange   342    9.0     9.4\n",
       "25            3     orange   356    9.2     9.2\n",
       "26            3     orange   362    9.6     9.2\n",
       "27            3     orange   204    7.5     9.2\n",
       "28            3     orange   140    6.7     7.1\n",
       "29            3     orange   160    7.0     7.4\n",
       "30            3     orange   158    7.1     7.5\n",
       "31            3     orange   210    7.8     8.0\n",
       "32            3     orange   164    7.2     7.0\n",
       "33            3     orange   190    7.5     8.1\n",
       "34            3     orange   142    7.6     7.8\n",
       "35            3     orange   150    7.1     7.9\n",
       "36            3     orange   160    7.1     7.6\n",
       "37            3     orange   154    7.3     7.3\n",
       "38            3     orange   158    7.2     7.8\n",
       "39            3     orange   144    6.8     7.4\n",
       "40            3     orange   154    7.1     7.5\n",
       "41            3     orange   180    7.6     8.2\n",
       "42            3     orange   154    7.2     7.2\n",
       "43            4      lemon   194    7.2    10.3\n",
       "44            4      lemon   200    7.3    10.5\n",
       "45            4      lemon   186    7.2     9.2\n",
       "46            4      lemon   216    7.3    10.2\n",
       "47            4      lemon   196    7.3     9.7\n",
       "48            4      lemon   174    7.3    10.1\n",
       "49            4      lemon   132    5.8     8.7\n",
       "50            4      lemon   130    6.0     8.2\n",
       "51            4      lemon   116    6.0     7.5\n",
       "52            4      lemon   118    5.9     8.0\n",
       "53            4      lemon   120    6.0     8.4\n",
       "54            4      lemon   116    6.1     8.5\n",
       "55            4      lemon   116    6.3     7.7\n",
       "56            4      lemon   116    5.9     8.1\n",
       "57            4      lemon   152    6.5     8.5\n",
       "58            4      lemon   118    6.1     8.1"
      ]
     },
     "execution_count": 3,
     "metadata": {},
     "output_type": "execute_result"
    }
   ],
   "source": [
    "fruits =  pd.read_csv('fruits.csv')\n",
    "fruits"
   ]
  },
  {
   "cell_type": "markdown",
   "metadata": {},
   "source": [
    "<div class=\"alert alert-block alert-info\">\n",
    "Q1.2 - Isoler dans un tableau <code>numpy</code> que vous nommerez <code>fruits_class</code> la classe de chaque fruit (de 1 à 4) et dans un autre tableau <code>fruits_mw</code> le poids et la largeur de chaque fruit. N'oubliez pas d'utiliser la fonction <code>to_numpy()</code> qui permet de convertir une dataframe en tableau numpy.\n",
    "</div>"
   ]
  },
  {
   "cell_type": "code",
   "execution_count": 4,
   "metadata": {
    "collapsed": false
   },
   "outputs": [
    {
     "data": {
      "text/plain": [
       "array([[192. ,   8.4],\n",
       "       [180. ,   8. ],\n",
       "       [176. ,   7.4],\n",
       "       [ 86. ,   6.2],\n",
       "       [ 84. ,   6. ],\n",
       "       [ 80. ,   5.8],\n",
       "       [ 80. ,   5.9],\n",
       "       [ 76. ,   5.8],\n",
       "       [178. ,   7.1],\n",
       "       [172. ,   7.4],\n",
       "       [166. ,   6.9],\n",
       "       [172. ,   7.1],\n",
       "       [154. ,   7. ],\n",
       "       [164. ,   7.3],\n",
       "       [152. ,   7.6],\n",
       "       [156. ,   7.7],\n",
       "       [156. ,   7.6],\n",
       "       [168. ,   7.5],\n",
       "       [162. ,   7.5],\n",
       "       [162. ,   7.4],\n",
       "       [160. ,   7.5],\n",
       "       [156. ,   7.4],\n",
       "       [140. ,   7.3],\n",
       "       [170. ,   7.6],\n",
       "       [342. ,   9. ],\n",
       "       [356. ,   9.2],\n",
       "       [362. ,   9.6],\n",
       "       [204. ,   7.5],\n",
       "       [140. ,   6.7],\n",
       "       [160. ,   7. ],\n",
       "       [158. ,   7.1],\n",
       "       [210. ,   7.8],\n",
       "       [164. ,   7.2],\n",
       "       [190. ,   7.5],\n",
       "       [142. ,   7.6],\n",
       "       [150. ,   7.1],\n",
       "       [160. ,   7.1],\n",
       "       [154. ,   7.3],\n",
       "       [158. ,   7.2],\n",
       "       [144. ,   6.8],\n",
       "       [154. ,   7.1],\n",
       "       [180. ,   7.6],\n",
       "       [154. ,   7.2],\n",
       "       [194. ,   7.2],\n",
       "       [200. ,   7.3],\n",
       "       [186. ,   7.2],\n",
       "       [216. ,   7.3],\n",
       "       [196. ,   7.3],\n",
       "       [174. ,   7.3],\n",
       "       [132. ,   5.8],\n",
       "       [130. ,   6. ],\n",
       "       [116. ,   6. ],\n",
       "       [118. ,   5.9],\n",
       "       [120. ,   6. ],\n",
       "       [116. ,   6.1],\n",
       "       [116. ,   6.3],\n",
       "       [116. ,   5.9],\n",
       "       [152. ,   6.5],\n",
       "       [118. ,   6.1]])"
      ]
     },
     "execution_count": 4,
     "metadata": {},
     "output_type": "execute_result"
    }
   ],
   "source": [
    "fruits_class = np.array(fruits['fruit_label'])\n",
    "fruits_class\n",
    "fruits_mw = np.array(fruits[['mass', 'width']])\n",
    "fruits_mw"
   ]
  },
  {
   "cell_type": "markdown",
   "metadata": {},
   "source": [
    "<div class=\"alert alert-block alert-info\">\n",
    "Q1.3 - Tracer avec un scatter plot le jeu de données en 2D à partir du tableau <code>fruits_mw</code> en coloriant différement chaque type de fruit.\n",
    "</div>"
   ]
  },
  {
   "cell_type": "code",
   "execution_count": 5,
   "metadata": {
    "collapsed": false
   },
   "outputs": [
    {
     "data": {
      "image/png": "[encoded data removed]",
      "text/plain": [
       "<matplotlib.figure.Figure at 0x7f81f5c3d790>"
      ]
     },
     "metadata": {},
     "output_type": "display_data"
    }
   ],
   "source": [
    "plt.scatter(fruits_mw[:,1], fruits_mw[:,0], c=fruits_class)\n",
    "plt.show()"
   ]
  },
  {
   "cell_type": "markdown",
   "metadata": {},
   "source": [
    "## 2 - Algorithme des K-moyennes : préliminaires"
   ]
  },
  {
   "cell_type": "markdown",
   "metadata": {},
   "source": [
    "<div class=\"alert alert-block alert-warning\">\n",
    "Deux étapes constituent l'algorithme des K-moyennes : \n",
    "<ul>\n",
    "<li> étant donnés un jeu de données <code>data</code> sous la forme d'un tableau numpy (un exemple par ligne, une dimension par colonne) et un ensemble de centroïdes sous la forme d'un tableau numpy (un centroide par ligne, une dimension par colonne), il faut calculer l'affectation de chaque exemple au centroïde le plus proche. Cette opération sera effectuée par la fonction <code>calcul_affectation(data, centroides)</code> qui retournera un vecteur numpy contenant pour chaque case l'affectation de l'exemple concerné ;</li>\n",
    "<li> étant donnés un jeu de données <code>data</code>, une affectation <code>affectation</code> et un entier <code>k</code>, il faut calculer les barycentres des exemples de chacun des $k$ clusters. Si jamais un cluster est vide (aucun exemple n'a cette affactation), alors un exemple au hasard est tiré  comme nouveau centroïde. </li>\n",
    "</div>"
   ]
  },
  {
   "cell_type": "markdown",
   "metadata": {},
   "source": [
    "<div class=\"alert alert-block alert-info\">\n",
    "Exécuter les lignes ci-dessous qui permettent d'engendrer 10 centroïdes en tirant au hasard dans les données.\n",
    "</div>"
   ]
  },
  {
   "cell_type": "code",
   "execution_count": 6,
   "metadata": {
    "collapsed": true
   },
   "outputs": [],
   "source": [
    "np.random.seed(0)\n",
    "centroides = np.zeros((10, fruits_mw.shape[1]))\n",
    "for i in range(10):\n",
    "    centroides[i] = fruits_mw[np.random.randint(len(fruits_mw))]"
   ]
  },
  {
   "cell_type": "markdown",
   "metadata": {},
   "source": [
    "<div class=\"alert alert-block alert-info\">\n",
    "Q2.1 - Donner la ligne qui permet de calculer la distance au carré entre la première ligne de <code>fruits_mw</code> et tous les centroïdes. Pour cela, il faut d'abord soustraite la première ligne à la matrice des centroïdes, puis élever tous les termes au carré, et ensuite sommer toutes les lignes (à l'aide des opérations <code>np.sum(matrice, axis = 1)</code>. On stockera le résultat dans la variable <code>distance</code>.\n",
    "</div>"
   ]
  },
  {
   "cell_type": "code",
   "execution_count": 7,
   "metadata": {
    "collapsed": false
   },
   "outputs": [
    {
     "data": {
      "text/plain": [
       "array([   65.21,    17.21,  5189.76,     0.  , 11240.84, 11240.84,\n",
       "        2306.56,   401.  ,   901.  ,  1297.  ])"
      ]
     },
     "execution_count": 7,
     "metadata": {},
     "output_type": "execute_result"
    }
   ],
   "source": [
    "distance = np.sum(((centroides - fruits_mw[0])**2), axis = 1)\n",
    "distance"
   ]
  },
  {
   "cell_type": "markdown",
   "metadata": {},
   "source": [
    "<div class=\"alert alert-block alert-warning\">\n",
    "Il faut trouver :\n",
    "<code>\n",
    "array([   65.21,    17.21,  5189.76,     0.  , 11240.84, 11240.84, 2306.56,   401.  ,   901.  ,  1297.  ])\n",
    "</code>\n",
    "</div>"
   ]
  },
  {
   "cell_type": "markdown",
   "metadata": {},
   "source": [
    "<div class=\"alert alert-block alert-info\">\n",
    "Q2.2 - Utiliser <code>np.argmin</code> pour trouver le centroïde le plus proche de la première ligne à partir du résultat précédent. On le stockera dans la variable <code>idx</code>.\n",
    "</div>"
   ]
  },
  {
   "cell_type": "code",
   "execution_count": 8,
   "metadata": {
    "collapsed": false
   },
   "outputs": [],
   "source": [
    "idx = np.argmin(distance)"
   ]
  },
  {
   "cell_type": "markdown",
   "metadata": {},
   "source": [
    "<div class=\"alert alert-block alert-warning\">\n",
    "Il faut trouver :\n",
    "<code>\n",
    "3\n",
    "</code>\n",
    "</div>"
   ]
  },
  {
   "cell_type": "markdown",
   "metadata": {},
   "source": [
    "<div class=\"alert alert-block alert-info\">\n",
    "Exécuter le block suivant qui permet de créer un vecteur d'affectation aléatoire entre 10 clusters pour les exemples du jeu de données. \n",
    "</div>"
   ]
  },
  {
   "cell_type": "code",
   "execution_count": 9,
   "metadata": {
    "collapsed": false
   },
   "outputs": [
    {
     "data": {
      "text/plain": [
       "array([5, 0, 3, 3, 7, 9, 3, 5, 2, 4, 7, 6, 8, 8, 1, 6, 7, 7, 8, 1, 5, 9,\n",
       "       8, 9, 4, 3, 0, 3, 5, 0, 2, 3, 8, 1, 3, 3, 3, 7, 0, 1, 9, 9, 0, 4,\n",
       "       7, 3, 2, 7, 2, 0, 0, 4, 5, 5, 6, 8, 4, 1, 4])"
      ]
     },
     "execution_count": 9,
     "metadata": {},
     "output_type": "execute_result"
    }
   ],
   "source": [
    "np.random.seed(0)\n",
    "affectation = np.random.randint(0, 10, len(fruits_mw))\n",
    "affectation"
   ]
  },
  {
   "cell_type": "markdown",
   "metadata": {},
   "source": [
    "<div class=\"alert alert-block alert-info\">\n",
    "Q2.3 - Donner la ligne qui permet de calculer  le barycentre des exemples affecté au cluster $0$. Utiliser <code>np.mean(matrice, axis = 0)</code> pour faire la moyenne selon les colonnes.\n",
    "</div>"
   ]
  },
  {
   "cell_type": "code",
   "execution_count": 10,
   "metadata": {
    "collapsed": false
   },
   "outputs": [
    {
     "data": {
      "text/plain": [
       "array([182.28571429,   7.25714286])"
      ]
     },
     "execution_count": 10,
     "metadata": {},
     "output_type": "execute_result"
    }
   ],
   "source": [
    "np.mean(fruits_mw[affectation == 0], axis = 0)"
   ]
  },
  {
   "cell_type": "markdown",
   "metadata": {},
   "source": [
    "<div class=\"alert alert-block alert-warning\">\n",
    "Il faut trouver :\n",
    "<code>\n",
    "array([182.28571429,   7.25714286])\n",
    "</code>\n",
    "</div>"
   ]
  },
  {
   "cell_type": "markdown",
   "metadata": {},
   "source": [
    "## Algorithme K-moyennes : fonctions de l'algorithme"
   ]
  },
  {
   "cell_type": "markdown",
   "metadata": {},
   "source": [
    "<div class=\"alert alert-block alert-info\">\n",
    "Q3.1 - Compléter la fonction suivante qui calcule l'affectation en utilisant ce que vous avez fait précédement.\n",
    "</div>"
   ]
  },
  {
   "cell_type": "code",
   "execution_count": 11,
   "metadata": {
    "collapsed": false
   },
   "outputs": [],
   "source": [
    "def calcul_affectation(data,centroides):\n",
    "    # Création du vecteur d'affectation \n",
    "    affectation = np.zeros(len(data))\n",
    "    # On parcourt tous les exemples\n",
    "    for i in range(len(data)):\n",
    "        ## Compléter ici pour trouver le centroide le plus proche du i-ème exemple\n",
    "        distance = np.sum(((centroides - data[i])**2),  axis=1)\n",
    "        affectation[i] = np.argmin(distance)\n",
    "    return affectation\n"
   ]
  },
  {
   "cell_type": "markdown",
   "metadata": {},
   "source": [
    "<div class=\"alert alert-block alert-info\">\n",
    "Q3.2 - Compléter la fonction suivante qui calcule le barycentre en utilisant ce que vous avez fait précédement.\n",
    "</div>"
   ]
  },
  {
   "cell_type": "code",
   "execution_count": 12,
   "metadata": {
    "collapsed": false
   },
   "outputs": [],
   "source": [
    "def calcul_barycentres(data, affectation, k):\n",
    "    # Création de la matrice des centroides\n",
    "    centroides = np.zeros((k, data.shape[1]))\n",
    "    # On parcourt tous les clusters\n",
    "    for i in range(k):\n",
    "        # On vérifie que le cluster n'est pas vide\n",
    "        if len(data[affectation == i]) > 0:\n",
    "            ## Compléter ici pour calculer le barycentre du cluster i\n",
    "            centroides[i] = np.mean(data[affectation == i], axis = 0)\n",
    "                                 \n",
    "        else:\n",
    "            # si le cluster est vide on tire un exemple au hasard\n",
    "            centroides[i] = data[np.random.randint(len(data))]\n",
    "    return centroides\n"
   ]
  },
  {
   "cell_type": "markdown",
   "metadata": {},
   "source": [
    "<div class=\"alert alert-block alert-info\">\n",
    "Exécuter le block ci-dessous qui contient deux versions de la fonction qui calcule la dispersion intra-cluster.\n",
    "</div>"
   ]
  },
  {
   "cell_type": "code",
   "execution_count": 13,
   "metadata": {
    "collapsed": true
   },
   "outputs": [],
   "source": [
    "def dispersion_intra(data,affectation,centroides):\n",
    "    # initialisation de la dispersion à 0\n",
    "    d = 0.\n",
    "    # on parcourt tous les clusters\n",
    "    for i in range(len(centroides)):\n",
    "        d += ((data[affectation==i] - centroides[i]) ** 2).sum()\n",
    "    return d\n",
    "\n",
    "# Autre version plus compacte\n",
    "def dispersion_intra(data,affectation,centroides):\n",
    "    return np.sum([((data[affectation==i] - centroides[i]) ** 2).sum() for i in range(len(centroides))])"
   ]
  },
  {
   "cell_type": "markdown",
   "metadata": {},
   "source": [
    "<div class=\"alert alert-block alert-info\">\n",
    "Exécuter le block ci-dessous qui définit la fonction principale qui calcule les K-moyennes pour des données <code>data</code>, un nombre <code>k</code> de clusters et un nombre maximal de <code>niter</code> itérations. Si la dispersion entre deux itérations ne change pas, la boucle est interrompue. La fonction retourne le vecteur d'affectation et les centroïdes.\n",
    "</div>"
   ]
  },
  {
   "cell_type": "code",
   "execution_count": 14,
   "metadata": {
    "collapsed": true
   },
   "outputs": [],
   "source": [
    "def kmeans(data,k,niter=200):\n",
    "    ## Initialisation des centroides\n",
    "    centroides = np.zeros((k, data.shape[1]))\n",
    "    dispersion = -1\n",
    "    for i in range(k):\n",
    "        centroides[i] = data[np.random.randint(len(data))]\n",
    "    ## Boucle principale\n",
    "    for i in range(niter):\n",
    "        affectation = calcul_affectation(data, centroides)\n",
    "        centroides = calcul_barycentres(data, affectation, k)\n",
    "        old_dispersion = dispersion\n",
    "        dispersion = dispersion_intra(data, affectation, centroides)\n",
    "        if (old_dispersion == dispersion): \n",
    "            break\n",
    "        print(i, dispersion)\n",
    "    return affectation, centroides"
   ]
  },
  {
   "cell_type": "markdown",
   "metadata": {},
   "source": [
    "<div class=\"alert alert-block alert-info\">\n",
    "Q3.3 - Tester l'algorithme sur le jeu de données avec $k=5$.\n",
    "</div>"
   ]
  },
  {
   "cell_type": "code",
   "execution_count": 24,
   "metadata": {
    "collapsed": false
   },
   "outputs": [
    {
     "name": "stdout",
     "output_type": "stream",
     "text": [
      "(0, 97390.16660121552)\n",
      "(1, 84783.8528138528)\n",
      "(2, 75987.60461538461)\n",
      "(3, 63515.62037296039)\n",
      "(4, 45393.50465747703)\n",
      "(5, 14107.399935897438)\n",
      "(6, 13701.951929824561)\n"
     ]
    }
   ],
   "source": [
    "classif5, critere5 = kmeans(fruits_mw, 5, niter=200)"
   ]
  },
  {
   "cell_type": "markdown",
   "metadata": {},
   "source": [
    "<div class=\"alert alert-block alert-info\">\n",
    "Q3.4 - Tracer un scatter plot en coloriant les clusters. Tracer également les centroïdes.\n",
    "</div>"
   ]
  },
  {
   "cell_type": "code",
   "execution_count": 28,
   "metadata": {
    "collapsed": false
   },
   "outputs": [
    {
     "data": {
      "image/png": "[encoded data removed]",
      "text/plain": [
       "<matplotlib.figure.Figure at 0x7f81f3352110>"
      ]
     },
     "metadata": {},
     "output_type": "display_data"
    }
   ],
   "source": [
    "plt.scatter(fruits_mw[:,1], fruits_mw[:,0], c=classif5)\n",
    "plt.show()"
   ]
  },
  {
   "cell_type": "markdown",
   "metadata": {},
   "source": [
    "<div class=\"alert alert-block alert-info\">\n",
    "Q3.5 - Refaire le même graphique pour différentes valeurs de $k$ (2,3,10 par exemple). Que remarquez vous pour la dispersion intra-cluster lorsque $k$ augmente ?\n",
    "</div>"
   ]
  },
  {
   "cell_type": "code",
   "execution_count": 17,
   "metadata": {
    "collapsed": false
   },
   "outputs": [
    {
     "name": "stdout",
     "output_type": "stream",
     "text": [
      "(0, 175608.8779661017)\n",
      "(1, 113352.74681704263)\n"
     ]
    },
    {
     "data": {
      "image/png": "[encoded data removed]",
      "text/plain": [
       "<matplotlib.figure.Figure at 0x7f81f3b34750>"
      ]
     },
     "metadata": {},
     "output_type": "display_data"
    }
   ],
   "source": [
    "classif2, critere2 = kmeans(fruits_mw, 2, niter=200)\n",
    "plt.scatter(fruits_mw[:,1], fruits_mw[:,0], c=classif2)\n",
    "plt.show()"
   ]
  },
  {
   "cell_type": "code",
   "execution_count": 18,
   "metadata": {
    "collapsed": false
   },
   "outputs": [
    {
     "name": "stdout",
     "output_type": "stream",
     "text": [
      "(0, 85998.17313283207)\n",
      "(1, 63995.39133116882)\n",
      "(2, 50336.241165413536)\n",
      "(3, 20605.14)\n"
     ]
    },
    {
     "data": {
      "image/png": "[encoded data removed]",
      "text/plain": [
       "<matplotlib.figure.Figure at 0x7f81f39d0e10>"
      ]
     },
     "metadata": {},
     "output_type": "display_data"
    }
   ],
   "source": [
    "classif3, critere3 = kmeans(fruits_mw, 3, niter=200)\n",
    "plt.scatter(fruits_mw[:,1], fruits_mw[:,0], c=classif3)\n",
    "plt.show()"
   ]
  },
  {
   "cell_type": "code",
   "execution_count": 19,
   "metadata": {
    "collapsed": false,
    "scrolled": true
   },
   "outputs": [
    {
     "name": "stdout",
     "output_type": "stream",
     "text": [
      "(0, 17677.915515873017)\n",
      "(1, 978.1380753968253)\n",
      "(2, 895.5843809523809)\n",
      "(3, 828.3279166666667)\n"
     ]
    },
    {
     "data": {
      "image/png": "[encoded data removed]",
      "text/plain": [
       "<matplotlib.figure.Figure at 0x7f81f5c0eb10>"
      ]
     },
     "metadata": {},
     "output_type": "display_data"
    }
   ],
   "source": [
    "classif10, critere10 = kmeans(fruits_mw, 10, niter=200)\n",
    "plt.scatter(fruits_mw[:,1], fruits_mw[:,0], c=classif10)\n",
    "plt.show()"
   ]
  },
  {
   "cell_type": "code",
   "execution_count": 20,
   "metadata": {
    "collapsed": true
   },
   "outputs": [],
   "source": [
    "#Plus k augmente, plus la dispersion intra-groupe devient linéaire."
   ]
  },
  {
   "cell_type": "markdown",
   "metadata": {},
   "source": [
    "## 4 - Pureté des cluster\n",
    "<div class=\"alert alert-block alert-warning\">\n",
    "Dans notre cas de figure, on dispose d'une supervision : on connait la vraie classe des fruits. On peut évaluer la pertinence de notre clustering grâce à cette information de plusieurs manières. Par exemple, la pureté d'un clustering consiste à regarder dans chaque cluster le nombre d'exemples bien classés, i.e. qui ont la même classe que la classe assignée à ce cluster (la classe majoritaire), à sommer sur la totalité de cluster ces nombres et à divisier par le nombre d'exemples, ce qui nous donne le pourcentage d'exemples bien classés. La fonction ci-dessous implémente ce calcul.\n",
    "</div>"
   ]
  },
  {
   "cell_type": "markdown",
   "metadata": {},
   "source": [
    "<div class=\"alert alert-block alert-info\">\n",
    "Exécuter le block ci-dessous qui définit la fonction qui implémente ce calcul.\n",
    "</div>"
   ]
  },
  {
   "cell_type": "code",
   "execution_count": 21,
   "metadata": {
    "collapsed": true
   },
   "outputs": [],
   "source": [
    "def purete(labels,affectation):\n",
    "    clusters = np.unique(affectation)\n",
    "    list_labels = np.unique(labels)    \n",
    "    res = np.zeros((len(clusters), len(list_labels)))\n",
    "    for i in range(len(clusters)):\n",
    "        for j in range(len(list_labels)):\n",
    "            res[i,j] = (affectation[labels == j] == clusters[i]).sum()\n",
    "    correct = np.max(res, axis = 1)\n",
    "    return correct.sum() / len(labels)"
   ]
  },
  {
   "cell_type": "markdown",
   "metadata": {},
   "source": [
    "<div class=\"alert alert-block alert-info\">\n",
    "Q4.1 - Tracer les courbes de la pureté et de la dispersion en fonction de $k$. Pour chaque valeur de $k$, on exécutera la fonction <code>kmeans</code> et on ajoutera la dispersion dans une liste <code>disp_k</code> ainsi que la pureté dans une liste <code>pure_k</code>. Analyser les résultats.\n",
    "</div>"
   ]
  },
  {
   "cell_type": "code",
   "execution_count": 40,
   "metadata": {
    "collapsed": false
   },
   "outputs": [
    {
     "name": "stdout",
     "output_type": "stream",
     "text": [
      "(0, 97079.97911674347)\n",
      "(1, 69823.0221031746)\n",
      "(2, 51569.428888888884)\n",
      "(3, 22258.180872549023)\n",
      "(4, 7906.379551820728)\n",
      "(5, 7396.899821428571)\n",
      "(6, 7275.3176)\n",
      "(7, 7218.164871794872)\n"
     ]
    }
   ],
   "source": [
    "#k=5\n",
    "for \n",
    "classif5, critere5 = kmeans(fruits_mw,5,niter=200)\n"
   ]
  },
  {
   "cell_type": "code",
   "execution_count": null,
   "metadata": {
    "collapsed": true
   },
   "outputs": [],
   "source": []
  },
  {
   "cell_type": "code",
   "execution_count": null,
   "metadata": {
    "collapsed": true
   },
   "outputs": [],
   "source": []
  },
  {
   "cell_type": "code",
   "execution_count": null,
   "metadata": {
    "collapsed": true
   },
   "outputs": [],
   "source": []
  },
  {
   "cell_type": "code",
   "execution_count": null,
   "metadata": {
    "collapsed": true
   },
   "outputs": [],
   "source": [
    "plt.plot(disp_k, k)"
   ]
  }
 ],
 "metadata": {
  "anaconda-cloud": {},
  "kernelspec": {
   "display_name": "Python [default]",
   "language": "python",
   "name": "python2"
  },
  "language_info": {
   "codemirror_mode": {
    "name": "ipython",
    "version": 2
   },
   "file_extension": ".py",
   "mimetype": "text/x-python",
   "name": "python",
   "nbconvert_exporter": "python",
   "pygments_lexer": "ipython2",
   "version": "2.7.12"
  }
 },
 "nbformat": 4,
 "nbformat_minor": 5
}
