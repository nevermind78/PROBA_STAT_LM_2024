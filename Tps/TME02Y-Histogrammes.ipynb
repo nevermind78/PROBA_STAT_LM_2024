{
 "cells": [
  {
   "cell_type": "markdown",
   "id": "25758d42",
   "metadata": {},
   "source": [
    "# Qui êtes-vous ?\n",
    "<div class=\"alert alert-block alert-info\">\n",
    "Écrire ci-dessous le nom, le prénom et le numéro étudiant de chaque membre du binôme :\n",
    "</div>"
   ]
  },
  {
   "cell_type": "code",
   "execution_count": 78,
   "id": "c6d64caf",
   "metadata": {},
   "outputs": [],
   "source": []
  },
  {
   "cell_type": "markdown",
   "id": "7be7a50d",
   "metadata": {},
   "source": [
    "# TME 2Y - Histogrammes"
   ]
  },
  {
   "cell_type": "markdown",
   "id": "sharing-setting",
   "metadata": {},
   "source": [
    "<div class=\"alert alert-block alert-warning\">\n",
    "Nous allons reprendre dans ce TME les données du TME 1 sur la géolocalisation de points d'intérêt dans Paris et l'isolation faite dans le TME précédent en séparant dans des variables `bars`,`restos` et `barestos`  les lieux correspondants respectivement à des bars seul, des restaurants seul et des bars-restaurants, qui ont une note existante.\n",
    "</div>"
   ]
  },
  {
   "cell_type": "markdown",
   "id": "462708bf",
   "metadata": {},
   "source": [
    "<div class=\"alert alert-block alert-info\">\n",
    "Tout d'abord, exécuter le bloc ci-dessous pour importer les bibliothèques Pandas, MatPlotLib et Numpy.\n",
    "</div>"
   ]
  },
  {
   "cell_type": "code",
   "execution_count": 79,
   "id": "cellular-complexity",
   "metadata": {},
   "outputs": [],
   "source": [
    "# Chargement des bibliothèque pandas, matplotlib et numpy\n",
    "import pandas as pd\n",
    "%matplotlib inline\n",
    "import matplotlib.pyplot as plt\n",
    "import numpy as np"
   ]
  },
  {
   "cell_type": "markdown",
   "id": "surrounded-being",
   "metadata": {},
   "source": [
    "# 1 - Simulation et histogrammes"
   ]
  },
  {
   "cell_type": "markdown",
   "id": "upper-youth",
   "metadata": {},
   "source": [
    "<div class=\"alert alert-block alert-warning\">\n",
    "Afin de mieux comprendre l'estimation par histogramme (et les pièges possibles), nous allons étudier dans un premier temps des données simulés. La fonction <code>np.random.uniform(size = N)</code> permet de tirer uniformément dans $[0,1[$ un échantillon de taille <code>N</code>.\n",
    "</div>"
   ]
  },
  {
   "cell_type": "markdown",
   "id": "surrounded-gothic",
   "metadata": {},
   "source": [
    "<div class=\"alert alert-block alert-info\">\n",
    "    Q1.1 - Tirer un échantillon <code>ech50</code> de taille 50 et faire un histogramme des valeurs obtenues en utilisant 2, 5, 10 et 20 segments.\n",
    "</div>"
   ]
  },
  {
   "cell_type": "code",
   "execution_count": 80,
   "id": "acceptable-companion",
   "metadata": {},
   "outputs": [
    {
     "data": {
      "text/plain": [
       "(array([4., 1., 2., 1., 1., 2., 1., 1., 2., 5., 4., 2., 1., 4., 3., 3., 2.,\n",
       "        6., 2., 3.]),\n",
       " array([0.00403482, 0.05351072, 0.10298661, 0.1524625 , 0.2019384 ,\n",
       "        0.25141429, 0.30089019, 0.35036608, 0.39984197, 0.44931787,\n",
       "        0.49879376, 0.54826965, 0.59774555, 0.64722144, 0.69669733,\n",
       "        0.74617323, 0.79564912, 0.84512502, 0.89460091, 0.9440768 ,\n",
       "        0.9935527 ]),\n",
       " <BarContainer object of 20 artists>)"
      ]
     },
     "execution_count": 80,
     "metadata": {},
     "output_type": "execute_result"
    },
    {
     "data": {
      "image/png": "[encoded data removed]",
      "text/plain": [
       "<Figure size 432x288 with 1 Axes>"
      ]
     },
     "metadata": {
      "needs_background": "light"
     },
     "output_type": "display_data"
    }
   ],
   "source": [
    "ech50 = np.random.uniform(size = 50)\n",
    "plt.hist(ech50, bins = 2)\n",
    "plt.hist(ech50, bins = 5)\n",
    "plt.hist(ech50, bins = 10)\n",
    "plt.hist(ech50, bins = 20)"
   ]
  },
  {
   "cell_type": "markdown",
   "id": "lined-participation",
   "metadata": {},
   "source": [
    "<div class=\"alert alert-block alert-info\">\n",
    "Q1.2 - Tirer un échantillon <code>ech100</code> de taille 100 et faire un histogramme des valeurs obtenues en utilisant 2, 5, 10 et 20 segments.\n",
    "</div>"
   ]
  },
  {
   "cell_type": "code",
   "execution_count": 81,
   "id": "imposed-bicycle",
   "metadata": {},
   "outputs": [
    {
     "data": {
      "text/plain": [
       "(array([ 6.,  4.,  9.,  7.,  4.,  4.,  2.,  1.,  4.,  6.,  5.,  4.,  4.,\n",
       "         7.,  4., 11.,  7.,  4.,  4.,  3.]),\n",
       " array([0.02272975, 0.07133287, 0.119936  , 0.16853913, 0.21714226,\n",
       "        0.26574538, 0.31434851, 0.36295164, 0.41155477, 0.46015789,\n",
       "        0.50876102, 0.55736415, 0.60596728, 0.6545704 , 0.70317353,\n",
       "        0.75177666, 0.80037979, 0.84898291, 0.89758604, 0.94618917,\n",
       "        0.9947923 ]),\n",
       " <BarContainer object of 20 artists>)"
      ]
     },
     "execution_count": 81,
     "metadata": {},
     "output_type": "execute_result"
    },
    {
     "data": {
      "image/png": "[encoded data removed]",
      "text/plain": [
       "<Figure size 432x288 with 1 Axes>"
      ]
     },
     "metadata": {
      "needs_background": "light"
     },
     "output_type": "display_data"
    }
   ],
   "source": [
    "ech100 = np.random.uniform(size = 100)\n",
    "plt.hist(ech100, bins = 2)\n",
    "plt.hist(ech100, bins = 5)\n",
    "plt.hist(ech100, bins = 10)\n",
    "plt.hist(ech100, bins = 20)"
   ]
  },
  {
   "cell_type": "markdown",
   "id": "matched-census",
   "metadata": {},
   "source": [
    "<div class=\"alert alert-block alert-info\">\n",
    "Q1.3 - Tirer un échantillon <code>ech1000</code> de taille 1000 et faire un histogramme des valeurs obtenues en utilisant 2, 5, 10 et 20 segments.\n",
    "</div>"
   ]
  },
  {
   "cell_type": "code",
   "execution_count": 82,
   "id": "covered-munich",
   "metadata": {},
   "outputs": [
    {
     "data": {
      "text/plain": [
       "(array([53., 48., 55., 52., 47., 51., 46., 53., 51., 39., 45., 44., 53.,\n",
       "        48., 38., 52., 59., 51., 58., 57.]),\n",
       " array([6.96581237e-04, 5.05434740e-02, 1.00390367e-01, 1.50237259e-01,\n",
       "        2.00084152e-01, 2.49931045e-01, 2.99777938e-01, 3.49624830e-01,\n",
       "        3.99471723e-01, 4.49318616e-01, 4.99165508e-01, 5.49012401e-01,\n",
       "        5.98859294e-01, 6.48706187e-01, 6.98553079e-01, 7.48399972e-01,\n",
       "        7.98246865e-01, 8.48093757e-01, 8.97940650e-01, 9.47787543e-01,\n",
       "        9.97634436e-01]),\n",
       " <BarContainer object of 20 artists>)"
      ]
     },
     "execution_count": 82,
     "metadata": {},
     "output_type": "execute_result"
    },
    {
     "data": {
      "image/png": "[encoded data removed]",
      "text/plain": [
       "<Figure size 432x288 with 1 Axes>"
      ]
     },
     "metadata": {
      "needs_background": "light"
     },
     "output_type": "display_data"
    }
   ],
   "source": [
    "ech1000 = np.random.uniform(size = 1000)\n",
    "plt.hist(ech1000, bins = 2)\n",
    "plt.hist(ech1000, bins = 5)\n",
    "plt.hist(ech1000, bins = 10)\n",
    "plt.hist(ech1000, bins = 20)"
   ]
  },
  {
   "cell_type": "markdown",
   "id": "graduate-feelings",
   "metadata": {},
   "source": [
    "<div class=\"alert alert-block alert-info\">\n",
    "Q1.4 - Comparer les trois résultats. Quel est le nombre de segments optimaux pour $N=50$ ? Pour $N=1000$ ? Comment évolue ce nombre en fonction de la taille de l'échantillon ?\n",
    "</div>"
   ]
  },
  {
   "cell_type": "code",
   "execution_count": 83,
   "id": "06942412",
   "metadata": {},
   "outputs": [],
   "source": [
    "#Le nombre de segments optimal pour N=50  est de 5 et pour N = 1000 est de 10. Plus La taille de l'échantillon augmente, plus le nombre de segements optimal augmente. "
   ]
  },
  {
   "cell_type": "markdown",
   "id": "genetic-heritage",
   "metadata": {},
   "source": [
    "# 2 - Histogramme 2D"
   ]
  },
  {
   "cell_type": "markdown",
   "id": "minimal-secret",
   "metadata": {},
   "source": [
    "<div class=\"alert alert-block alert-warning\">\n",
    "On peut généraliser les histogrammes à des dimensions supérieures, en particulier dans le cas de dimension 2. \n",
    "    La fonction <code>plt.hist2D(dataX, dataY, bins = N)</code> permet de construire l'histogramme  des points en 2 dimensions dont la liste des abscisses est passée dans <code>dataX</code> et la liste des ordonnées dans <code>dataY</code>. Vous pouvez connaître l'échelle des couleurs en rajoutant juste après l'instruction <code>plt.colorbar()</code>.\n",
    "La fonction retourne 4 valeurs : le tableau du nombre d'échantillons dans chaque case, les bornes des cases des abscisses, les bornes des cases des ordonnées, et la figure.\n",
    "</div>"
   ]
  },
  {
   "cell_type": "markdown",
   "id": "municipal-oregon",
   "metadata": {},
   "source": [
    "<div class=\"alert alert-block alert-info\">\n",
    "    Q2.1 - En utilisant toujours <code>np.random.uniform()</code>, tirer un échantillon de 50 points 2D  en stockant les abscisses dans <code>echX50</code> et les ordonnées dans <code>echY50</code>. Faire les histogrammes 2D avec 2, 5, 10 et 50 segments par axe. Répéter l'expérience avec $100$ puis $1000$ points. \n",
    "\n",
    "Que remarquez vous dans ce cas 2D sur le rapport entre taille de l'échantillon et nombre de segments ? À votre avis, que se passe-t-il lorsqu'on augment encore la dimension ?\n",
    "</div>"
   ]
  },
  {
   "cell_type": "code",
   "execution_count": 84,
   "id": "monetary-qualification",
   "metadata": {},
   "outputs": [],
   "source": [
    "echX50 = np.random.uniform (size = 50)\n",
    "echY50 = np.random.uniform ( size = 50)"
   ]
  },
  {
   "cell_type": "markdown",
   "id": "06c34093",
   "metadata": {},
   "source": [
    "##### <div class=\"alert alert-block alert-info\">\n",
    "    Q2.2 - Faire les histogrammes 2D avec 2, 5, 10 et 50 segments par axe.\n",
    "</div>"
   ]
  },
  {
   "cell_type": "code",
   "execution_count": 85,
   "id": "prerequisite-brisbane",
   "metadata": {},
   "outputs": [
    {
     "data": {
      "text/plain": [
       "<matplotlib.colorbar.Colorbar at 0x1c9bdf5f2e0>"
      ]
     },
     "execution_count": 85,
     "metadata": {},
     "output_type": "execute_result"
    },
    {
     "data": {
      "image/png": "[encoded data removed]",
      "text/plain": [
       "<Figure size 432x288 with 2 Axes>"
      ]
     },
     "metadata": {
      "needs_background": "light"
     },
     "output_type": "display_data"
    }
   ],
   "source": [
    "plt.hist2d(echX50, echY50, bins = 2)\n",
    "plt.colorbar()"
   ]
  },
  {
   "cell_type": "code",
   "execution_count": 86,
   "id": "monthly-growth",
   "metadata": {},
   "outputs": [
    {
     "data": {
      "text/plain": [
       "<matplotlib.colorbar.Colorbar at 0x1c9bd6ebc40>"
      ]
     },
     "execution_count": 86,
     "metadata": {},
     "output_type": "execute_result"
    },
    {
     "data": {
      "image/png": "[encoded data removed]",
      "text/plain": [
       "<Figure size 432x288 with 2 Axes>"
      ]
     },
     "metadata": {
      "needs_background": "light"
     },
     "output_type": "display_data"
    }
   ],
   "source": [
    "plt.hist2d(echX50, echY50, bins = 5)\n",
    "plt.colorbar()"
   ]
  },
  {
   "cell_type": "code",
   "execution_count": 87,
   "id": "million-oxide",
   "metadata": {},
   "outputs": [
    {
     "data": {
      "text/plain": [
       "<matplotlib.colorbar.Colorbar at 0x1c9bf9a0400>"
      ]
     },
     "execution_count": 87,
     "metadata": {},
     "output_type": "execute_result"
    },
    {
     "data": {
      "image/png": "[encoded data removed]",
      "text/plain": [
       "<Figure size 432x288 with 2 Axes>"
      ]
     },
     "metadata": {
      "needs_background": "light"
     },
     "output_type": "display_data"
    }
   ],
   "source": [
    "plt.hist2d(echX50, echY50, bins = 10)\n",
    "plt.colorbar()"
   ]
  },
  {
   "cell_type": "code",
   "execution_count": 88,
   "id": "fourth-shareware",
   "metadata": {},
   "outputs": [
    {
     "data": {
      "text/plain": [
       "<matplotlib.colorbar.Colorbar at 0x1c9bfa3e190>"
      ]
     },
     "execution_count": 88,
     "metadata": {},
     "output_type": "execute_result"
    },
    {
     "data": {
      "image/png": "[encoded data removed]",
      "text/plain": [
       "<Figure size 432x288 with 2 Axes>"
      ]
     },
     "metadata": {
      "needs_background": "light"
     },
     "output_type": "display_data"
    }
   ],
   "source": [
    "plt.hist2d(echX50, echY50, bins = 50)\n",
    "plt.colorbar()"
   ]
  },
  {
   "cell_type": "markdown",
   "id": "bea53cb9",
   "metadata": {},
   "source": [
    "<div class=\"alert alert-block alert-info\">\n",
    "    Q2.3 - Répéter l'expérience avec $100$ puis $1000$ points. \n",
    "\n",
    "Que remarquez vous dans ce cas 2D sur le rapport entre taille de l'échantillon et nombre de segments ? À votre avis, que se passe-t-il lorsqu'on augment encore la dimension ?\n",
    "</div>"
   ]
  },
  {
   "cell_type": "code",
   "execution_count": 89,
   "id": "b8356b03",
   "metadata": {},
   "outputs": [],
   "source": [
    "echX100 = np.random.uniform (size = 100)\n",
    "echY100 = np.random.uniform ( size = 100)\n",
    "echX1000 = np.random.uniform (size = 1000)\n",
    "echY1000 = np.random.uniform ( size = 1000)"
   ]
  },
  {
   "cell_type": "code",
   "execution_count": 90,
   "id": "spoken-healthcare",
   "metadata": {},
   "outputs": [
    {
     "data": {
      "text/plain": [
       "<matplotlib.colorbar.Colorbar at 0x1c9bfad5040>"
      ]
     },
     "execution_count": 90,
     "metadata": {},
     "output_type": "execute_result"
    },
    {
     "data": {
      "image/png": "[encoded data removed]",
      "text/plain": [
       "<Figure size 432x288 with 2 Axes>"
      ]
     },
     "metadata": {
      "needs_background": "light"
     },
     "output_type": "display_data"
    }
   ],
   "source": [
    "plt.hist2d(echX100, ech100, bins = 2)\n",
    "plt.colorbar()"
   ]
  },
  {
   "cell_type": "code",
   "execution_count": 91,
   "id": "cordless-protocol",
   "metadata": {},
   "outputs": [
    {
     "data": {
      "text/plain": [
       "<matplotlib.colorbar.Colorbar at 0x1c9c0d46850>"
      ]
     },
     "execution_count": 91,
     "metadata": {},
     "output_type": "execute_result"
    },
    {
     "data": {
      "image/png": "[encoded data removed]",
      "text/plain": [
       "<Figure size 432x288 with 2 Axes>"
      ]
     },
     "metadata": {
      "needs_background": "light"
     },
     "output_type": "display_data"
    }
   ],
   "source": [
    "plt.hist2d(echX100, ech100, bins = 5)\n",
    "plt.colorbar()"
   ]
  },
  {
   "cell_type": "code",
   "execution_count": 92,
   "id": "neither-brief",
   "metadata": {},
   "outputs": [
    {
     "data": {
      "text/plain": [
       "<matplotlib.colorbar.Colorbar at 0x1c9c0ddcb50>"
      ]
     },
     "execution_count": 92,
     "metadata": {},
     "output_type": "execute_result"
    },
    {
     "data": {
      "image/png": "[encoded data removed]",
      "text/plain": [
       "<Figure size 432x288 with 2 Axes>"
      ]
     },
     "metadata": {
      "needs_background": "light"
     },
     "output_type": "display_data"
    }
   ],
   "source": [
    "plt.hist2d(echX100, ech100, bins = 10)\n",
    "plt.colorbar()"
   ]
  },
  {
   "cell_type": "code",
   "execution_count": 93,
   "id": "vulnerable-aurora",
   "metadata": {},
   "outputs": [
    {
     "data": {
      "text/plain": [
       "<matplotlib.colorbar.Colorbar at 0x1c9c0e0f910>"
      ]
     },
     "execution_count": 93,
     "metadata": {},
     "output_type": "execute_result"
    },
    {
     "data": {
      "image/png": "[encoded data removed]",
      "text/plain": [
       "<Figure size 432x288 with 2 Axes>"
      ]
     },
     "metadata": {
      "needs_background": "light"
     },
     "output_type": "display_data"
    }
   ],
   "source": [
    "plt.hist2d(echX100, ech100, bins = 50)\n",
    "plt.colorbar()"
   ]
  },
  {
   "cell_type": "code",
   "execution_count": 94,
   "id": "martial-lambda",
   "metadata": {},
   "outputs": [
    {
     "data": {
      "text/plain": [
       "<matplotlib.colorbar.Colorbar at 0x1c9c0eabf70>"
      ]
     },
     "execution_count": 94,
     "metadata": {},
     "output_type": "execute_result"
    },
    {
     "data": {
      "image/png": "[encoded data removed]",
      "text/plain": [
       "<Figure size 432x288 with 2 Axes>"
      ]
     },
     "metadata": {
      "needs_background": "light"
     },
     "output_type": "display_data"
    }
   ],
   "source": [
    "plt.hist2d(echX1000, echY1000, bins = 2)\n",
    "plt.colorbar()"
   ]
  },
  {
   "cell_type": "code",
   "execution_count": 95,
   "id": "nonprofit-symbol",
   "metadata": {},
   "outputs": [
    {
     "data": {
      "text/plain": [
       "<matplotlib.colorbar.Colorbar at 0x1c9c0f1ea60>"
      ]
     },
     "execution_count": 95,
     "metadata": {},
     "output_type": "execute_result"
    },
    {
     "data": {
      "image/png": "[encoded data removed]",
      "text/plain": [
       "<Figure size 432x288 with 2 Axes>"
      ]
     },
     "metadata": {
      "needs_background": "light"
     },
     "output_type": "display_data"
    }
   ],
   "source": [
    "plt.hist2d(echX1000, echY1000, bins = 5)\n",
    "plt.colorbar()"
   ]
  },
  {
   "cell_type": "code",
   "execution_count": 96,
   "id": "streaming-physics",
   "metadata": {},
   "outputs": [
    {
     "data": {
      "text/plain": [
       "<matplotlib.colorbar.Colorbar at 0x1c9c0fdf6d0>"
      ]
     },
     "execution_count": 96,
     "metadata": {},
     "output_type": "execute_result"
    },
    {
     "data": {
      "image/png": "[encoded data removed]",
      "text/plain": [
       "<Figure size 432x288 with 2 Axes>"
      ]
     },
     "metadata": {
      "needs_background": "light"
     },
     "output_type": "display_data"
    }
   ],
   "source": [
    "plt.hist2d(echX1000, echY1000, bins = 10)\n",
    "plt.colorbar()"
   ]
  },
  {
   "cell_type": "code",
   "execution_count": 97,
   "id": "swedish-audio",
   "metadata": {},
   "outputs": [
    {
     "data": {
      "text/plain": [
       "<matplotlib.colorbar.Colorbar at 0x1c9c106fee0>"
      ]
     },
     "execution_count": 97,
     "metadata": {},
     "output_type": "execute_result"
    },
    {
     "data": {
      "image/png": "[encoded data removed]",
      "text/plain": [
       "<Figure size 432x288 with 2 Axes>"
      ]
     },
     "metadata": {
      "needs_background": "light"
     },
     "output_type": "display_data"
    }
   ],
   "source": [
    "plt.hist2d(echX1000, echY1000, bins = 50)\n",
    "plt.colorbar()"
   ]
  },
  {
   "cell_type": "markdown",
   "id": "inside-arctic",
   "metadata": {},
   "source": [
    "# 3 - Histogramme 2D et analyse géospatiale"
   ]
  },
  {
   "cell_type": "markdown",
   "id": "burning-skill",
   "metadata": {},
   "source": [
    "<div class=\"alert alert-block alert-warning\">\n",
    "L'objectif de cette partie est de proposer une analyse plus fine de la répartition des lieux et des notes dans l'espace parisien que celle faite dans le précédent TME. Pour cela, nous allons discrétiser l'espace en une grille de cases selon un découpage linéaire de la latitude et de la longitude. Les cases de la grille peuvent être vu comme une variable qualitative d'indication géographique. Cette grille sera calculée par un histogramme en 2 dimensions.\n",
    "</div>"
   ]
  },
  {
   "cell_type": "markdown",
   "id": "6bde5a77",
   "metadata": {},
   "source": [
    "<div class=\"alert alert-block alert-info\">\n",
    "Exécuter le bloc suivant pour charger le tableau des données sur les points d'intérêt parisiens\n",
    "</div>"
   ]
  },
  {
   "cell_type": "code",
   "execution_count": 98,
   "id": "59add4c3",
   "metadata": {},
   "outputs": [],
   "source": [
    "# Chargement du fichier de données\n",
    "tableau_poi = pd.read_csv(\"poi-paris.csv\")"
   ]
  },
  {
   "cell_type": "markdown",
   "id": "07300f03",
   "metadata": {},
   "source": [
    "<div class=\"alert alert-block alert-info\">\n",
    "Q3.1.a - Définir une variable <code>bars</code> ne contenant que les lieux qui sont des bars, ne sont pas des restaurants et ont une note attribuée.\n",
    "</div>"
   ]
  },
  {
   "cell_type": "code",
   "execution_count": 99,
   "id": "9f4ca824",
   "metadata": {
    "scrolled": true
   },
   "outputs": [
    {
     "data": {
      "text/html": [
       "<div>\n",
       "<style scoped>\n",
       "    .dataframe tbody tr th:only-of-type {\n",
       "        vertical-align: middle;\n",
       "    }\n",
       "\n",
       "    .dataframe tbody tr th {\n",
       "        vertical-align: top;\n",
       "    }\n",
       "\n",
       "    .dataframe thead th {\n",
       "        text-align: right;\n",
       "    }\n",
       "</style>\n",
       "<table border=\"1\" class=\"dataframe\">\n",
       "  <thead>\n",
       "    <tr style=\"text-align: right;\">\n",
       "      <th></th>\n",
       "      <th>nom</th>\n",
       "      <th>latitude</th>\n",
       "      <th>longitude</th>\n",
       "      <th>note</th>\n",
       "      <th>prix</th>\n",
       "      <th>furniture_store</th>\n",
       "      <th>laundry</th>\n",
       "      <th>bakery</th>\n",
       "      <th>cafe</th>\n",
       "      <th>home_goods_store</th>\n",
       "      <th>clothing_store</th>\n",
       "      <th>atm</th>\n",
       "      <th>lodging</th>\n",
       "      <th>night_club</th>\n",
       "      <th>convenience_store</th>\n",
       "      <th>restaurant</th>\n",
       "      <th>bar</th>\n",
       "    </tr>\n",
       "  </thead>\n",
       "  <tbody>\n",
       "    <tr>\n",
       "      <th>2992</th>\n",
       "      <td>Hôtel Abrial</td>\n",
       "      <td>48.890467</td>\n",
       "      <td>2.317608</td>\n",
       "      <td>3.4</td>\n",
       "      <td>-1</td>\n",
       "      <td>0</td>\n",
       "      <td>1</td>\n",
       "      <td>0</td>\n",
       "      <td>0</td>\n",
       "      <td>0</td>\n",
       "      <td>0</td>\n",
       "      <td>0</td>\n",
       "      <td>1</td>\n",
       "      <td>0</td>\n",
       "      <td>0</td>\n",
       "      <td>0</td>\n",
       "      <td>1</td>\n",
       "    </tr>\n",
       "    <tr>\n",
       "      <th>3034</th>\n",
       "      <td>Blanchisserie Bichat</td>\n",
       "      <td>48.872172</td>\n",
       "      <td>2.366913</td>\n",
       "      <td>3.0</td>\n",
       "      <td>-1</td>\n",
       "      <td>0</td>\n",
       "      <td>1</td>\n",
       "      <td>0</td>\n",
       "      <td>0</td>\n",
       "      <td>0</td>\n",
       "      <td>0</td>\n",
       "      <td>0</td>\n",
       "      <td>0</td>\n",
       "      <td>0</td>\n",
       "      <td>0</td>\n",
       "      <td>0</td>\n",
       "      <td>1</td>\n",
       "    </tr>\n",
       "    <tr>\n",
       "      <th>6988</th>\n",
       "      <td>La Pointe Lafayette</td>\n",
       "      <td>48.882322</td>\n",
       "      <td>2.368882</td>\n",
       "      <td>3.6</td>\n",
       "      <td>-1</td>\n",
       "      <td>0</td>\n",
       "      <td>0</td>\n",
       "      <td>0</td>\n",
       "      <td>1</td>\n",
       "      <td>0</td>\n",
       "      <td>0</td>\n",
       "      <td>0</td>\n",
       "      <td>0</td>\n",
       "      <td>0</td>\n",
       "      <td>0</td>\n",
       "      <td>0</td>\n",
       "      <td>1</td>\n",
       "    </tr>\n",
       "    <tr>\n",
       "      <th>6990</th>\n",
       "      <td>Café Odessa - Brasserie traditionnelle Montpar...</td>\n",
       "      <td>48.841565</td>\n",
       "      <td>2.324697</td>\n",
       "      <td>3.0</td>\n",
       "      <td>-1</td>\n",
       "      <td>0</td>\n",
       "      <td>0</td>\n",
       "      <td>0</td>\n",
       "      <td>1</td>\n",
       "      <td>0</td>\n",
       "      <td>0</td>\n",
       "      <td>0</td>\n",
       "      <td>0</td>\n",
       "      <td>0</td>\n",
       "      <td>0</td>\n",
       "      <td>0</td>\n",
       "      <td>1</td>\n",
       "    </tr>\n",
       "    <tr>\n",
       "      <th>7032</th>\n",
       "      <td>Le Fontenoy</td>\n",
       "      <td>48.868957</td>\n",
       "      <td>2.335845</td>\n",
       "      <td>3.7</td>\n",
       "      <td>-1</td>\n",
       "      <td>0</td>\n",
       "      <td>0</td>\n",
       "      <td>0</td>\n",
       "      <td>1</td>\n",
       "      <td>0</td>\n",
       "      <td>0</td>\n",
       "      <td>0</td>\n",
       "      <td>0</td>\n",
       "      <td>0</td>\n",
       "      <td>0</td>\n",
       "      <td>0</td>\n",
       "      <td>1</td>\n",
       "    </tr>\n",
       "    <tr>\n",
       "      <th>...</th>\n",
       "      <td>...</td>\n",
       "      <td>...</td>\n",
       "      <td>...</td>\n",
       "      <td>...</td>\n",
       "      <td>...</td>\n",
       "      <td>...</td>\n",
       "      <td>...</td>\n",
       "      <td>...</td>\n",
       "      <td>...</td>\n",
       "      <td>...</td>\n",
       "      <td>...</td>\n",
       "      <td>...</td>\n",
       "      <td>...</td>\n",
       "      <td>...</td>\n",
       "      <td>...</td>\n",
       "      <td>...</td>\n",
       "      <td>...</td>\n",
       "    </tr>\n",
       "    <tr>\n",
       "      <th>31840</th>\n",
       "      <td>Delice Dore Xuting</td>\n",
       "      <td>48.901548</td>\n",
       "      <td>2.388993</td>\n",
       "      <td>4.0</td>\n",
       "      <td>-1</td>\n",
       "      <td>0</td>\n",
       "      <td>0</td>\n",
       "      <td>0</td>\n",
       "      <td>0</td>\n",
       "      <td>0</td>\n",
       "      <td>0</td>\n",
       "      <td>0</td>\n",
       "      <td>0</td>\n",
       "      <td>0</td>\n",
       "      <td>0</td>\n",
       "      <td>0</td>\n",
       "      <td>1</td>\n",
       "    </tr>\n",
       "    <tr>\n",
       "      <th>31842</th>\n",
       "      <td>Le Fontenoy</td>\n",
       "      <td>48.846563</td>\n",
       "      <td>2.436680</td>\n",
       "      <td>4.2</td>\n",
       "      <td>-1</td>\n",
       "      <td>0</td>\n",
       "      <td>0</td>\n",
       "      <td>0</td>\n",
       "      <td>0</td>\n",
       "      <td>0</td>\n",
       "      <td>0</td>\n",
       "      <td>0</td>\n",
       "      <td>0</td>\n",
       "      <td>0</td>\n",
       "      <td>0</td>\n",
       "      <td>0</td>\n",
       "      <td>1</td>\n",
       "    </tr>\n",
       "    <tr>\n",
       "      <th>31844</th>\n",
       "      <td>Café Louis</td>\n",
       "      <td>48.891144</td>\n",
       "      <td>2.287485</td>\n",
       "      <td>4.3</td>\n",
       "      <td>-1</td>\n",
       "      <td>0</td>\n",
       "      <td>0</td>\n",
       "      <td>0</td>\n",
       "      <td>0</td>\n",
       "      <td>0</td>\n",
       "      <td>0</td>\n",
       "      <td>0</td>\n",
       "      <td>0</td>\n",
       "      <td>0</td>\n",
       "      <td>0</td>\n",
       "      <td>0</td>\n",
       "      <td>1</td>\n",
       "    </tr>\n",
       "    <tr>\n",
       "      <th>31846</th>\n",
       "      <td>Le Chalet Des Gaufres</td>\n",
       "      <td>48.842283</td>\n",
       "      <td>2.424079</td>\n",
       "      <td>3.4</td>\n",
       "      <td>-1</td>\n",
       "      <td>0</td>\n",
       "      <td>0</td>\n",
       "      <td>0</td>\n",
       "      <td>0</td>\n",
       "      <td>0</td>\n",
       "      <td>0</td>\n",
       "      <td>0</td>\n",
       "      <td>0</td>\n",
       "      <td>0</td>\n",
       "      <td>0</td>\n",
       "      <td>0</td>\n",
       "      <td>1</td>\n",
       "    </tr>\n",
       "    <tr>\n",
       "      <th>31850</th>\n",
       "      <td>Le Révérend</td>\n",
       "      <td>48.914967</td>\n",
       "      <td>2.286391</td>\n",
       "      <td>4.5</td>\n",
       "      <td>-1</td>\n",
       "      <td>0</td>\n",
       "      <td>0</td>\n",
       "      <td>0</td>\n",
       "      <td>0</td>\n",
       "      <td>0</td>\n",
       "      <td>0</td>\n",
       "      <td>0</td>\n",
       "      <td>0</td>\n",
       "      <td>0</td>\n",
       "      <td>0</td>\n",
       "      <td>0</td>\n",
       "      <td>1</td>\n",
       "    </tr>\n",
       "  </tbody>\n",
       "</table>\n",
       "<p>1151 rows × 17 columns</p>\n",
       "</div>"
      ],
      "text/plain": [
       "                                                     nom   latitude  \\\n",
       "2992                                        Hôtel Abrial  48.890467   \n",
       "3034                                Blanchisserie Bichat  48.872172   \n",
       "6988                                 La Pointe Lafayette  48.882322   \n",
       "6990   Café Odessa - Brasserie traditionnelle Montpar...  48.841565   \n",
       "7032                                         Le Fontenoy  48.868957   \n",
       "...                                                  ...        ...   \n",
       "31840                                 Delice Dore Xuting  48.901548   \n",
       "31842                                        Le Fontenoy  48.846563   \n",
       "31844                                         Café Louis  48.891144   \n",
       "31846                              Le Chalet Des Gaufres  48.842283   \n",
       "31850                                        Le Révérend  48.914967   \n",
       "\n",
       "       longitude  note  prix  furniture_store  laundry  bakery  cafe  \\\n",
       "2992    2.317608   3.4    -1                0        1       0     0   \n",
       "3034    2.366913   3.0    -1                0        1       0     0   \n",
       "6988    2.368882   3.6    -1                0        0       0     1   \n",
       "6990    2.324697   3.0    -1                0        0       0     1   \n",
       "7032    2.335845   3.7    -1                0        0       0     1   \n",
       "...          ...   ...   ...              ...      ...     ...   ...   \n",
       "31840   2.388993   4.0    -1                0        0       0     0   \n",
       "31842   2.436680   4.2    -1                0        0       0     0   \n",
       "31844   2.287485   4.3    -1                0        0       0     0   \n",
       "31846   2.424079   3.4    -1                0        0       0     0   \n",
       "31850   2.286391   4.5    -1                0        0       0     0   \n",
       "\n",
       "       home_goods_store  clothing_store  atm  lodging  night_club  \\\n",
       "2992                  0               0    0        1           0   \n",
       "3034                  0               0    0        0           0   \n",
       "6988                  0               0    0        0           0   \n",
       "6990                  0               0    0        0           0   \n",
       "7032                  0               0    0        0           0   \n",
       "...                 ...             ...  ...      ...         ...   \n",
       "31840                 0               0    0        0           0   \n",
       "31842                 0               0    0        0           0   \n",
       "31844                 0               0    0        0           0   \n",
       "31846                 0               0    0        0           0   \n",
       "31850                 0               0    0        0           0   \n",
       "\n",
       "       convenience_store  restaurant  bar  \n",
       "2992                   0           0    1  \n",
       "3034                   0           0    1  \n",
       "6988                   0           0    1  \n",
       "6990                   0           0    1  \n",
       "7032                   0           0    1  \n",
       "...                  ...         ...  ...  \n",
       "31840                  0           0    1  \n",
       "31842                  0           0    1  \n",
       "31844                  0           0    1  \n",
       "31846                  0           0    1  \n",
       "31850                  0           0    1  \n",
       "\n",
       "[1151 rows x 17 columns]"
      ]
     },
     "execution_count": 99,
     "metadata": {},
     "output_type": "execute_result"
    }
   ],
   "source": [
    "bars = tableau_poi[(tableau_poi['bar']==1)&(tableau_poi['restaurant']==0)&(tableau_poi['note']>0)]\n",
    "bars"
   ]
  },
  {
   "cell_type": "markdown",
   "id": "396a7622",
   "metadata": {},
   "source": [
    "<div class=\"alert alert-block alert-info\">\n",
    "Q3.1.b - Définir une variable <code>restos</code> ne contenant que les lieux qui sont des restaurants, ne sont pas des bars et ont une note attribuée.\n",
    "</div>"
   ]
  },
  {
   "cell_type": "code",
   "execution_count": 100,
   "id": "79d0f8dc",
   "metadata": {},
   "outputs": [
    {
     "data": {
      "text/html": [
       "<div>\n",
       "<style scoped>\n",
       "    .dataframe tbody tr th:only-of-type {\n",
       "        vertical-align: middle;\n",
       "    }\n",
       "\n",
       "    .dataframe tbody tr th {\n",
       "        vertical-align: top;\n",
       "    }\n",
       "\n",
       "    .dataframe thead th {\n",
       "        text-align: right;\n",
       "    }\n",
       "</style>\n",
       "<table border=\"1\" class=\"dataframe\">\n",
       "  <thead>\n",
       "    <tr style=\"text-align: right;\">\n",
       "      <th></th>\n",
       "      <th>nom</th>\n",
       "      <th>latitude</th>\n",
       "      <th>longitude</th>\n",
       "      <th>note</th>\n",
       "      <th>prix</th>\n",
       "      <th>furniture_store</th>\n",
       "      <th>laundry</th>\n",
       "      <th>bakery</th>\n",
       "      <th>cafe</th>\n",
       "      <th>home_goods_store</th>\n",
       "      <th>clothing_store</th>\n",
       "      <th>atm</th>\n",
       "      <th>lodging</th>\n",
       "      <th>night_club</th>\n",
       "      <th>convenience_store</th>\n",
       "      <th>restaurant</th>\n",
       "      <th>bar</th>\n",
       "    </tr>\n",
       "  </thead>\n",
       "  <tbody>\n",
       "    <tr>\n",
       "      <th>827</th>\n",
       "      <td>Bulthaup</td>\n",
       "      <td>48.853836</td>\n",
       "      <td>2.326387</td>\n",
       "      <td>5.0</td>\n",
       "      <td>-1</td>\n",
       "      <td>1</td>\n",
       "      <td>0</td>\n",
       "      <td>0</td>\n",
       "      <td>0</td>\n",
       "      <td>1</td>\n",
       "      <td>0</td>\n",
       "      <td>0</td>\n",
       "      <td>0</td>\n",
       "      <td>0</td>\n",
       "      <td>0</td>\n",
       "      <td>1</td>\n",
       "      <td>0</td>\n",
       "    </tr>\n",
       "    <tr>\n",
       "      <th>871</th>\n",
       "      <td>Galeries Lafayette Gourmet</td>\n",
       "      <td>48.873103</td>\n",
       "      <td>2.330247</td>\n",
       "      <td>3.8</td>\n",
       "      <td>-1</td>\n",
       "      <td>1</td>\n",
       "      <td>0</td>\n",
       "      <td>0</td>\n",
       "      <td>0</td>\n",
       "      <td>1</td>\n",
       "      <td>0</td>\n",
       "      <td>0</td>\n",
       "      <td>0</td>\n",
       "      <td>0</td>\n",
       "      <td>0</td>\n",
       "      <td>1</td>\n",
       "      <td>0</td>\n",
       "    </tr>\n",
       "    <tr>\n",
       "      <th>1814</th>\n",
       "      <td>L'Atelier des Guillemites</td>\n",
       "      <td>48.858161</td>\n",
       "      <td>2.357276</td>\n",
       "      <td>3.9</td>\n",
       "      <td>-1</td>\n",
       "      <td>1</td>\n",
       "      <td>0</td>\n",
       "      <td>0</td>\n",
       "      <td>1</td>\n",
       "      <td>1</td>\n",
       "      <td>0</td>\n",
       "      <td>0</td>\n",
       "      <td>0</td>\n",
       "      <td>0</td>\n",
       "      <td>0</td>\n",
       "      <td>1</td>\n",
       "      <td>0</td>\n",
       "    </tr>\n",
       "    <tr>\n",
       "      <th>4291</th>\n",
       "      <td>Maison Pradier</td>\n",
       "      <td>48.875435</td>\n",
       "      <td>2.327027</td>\n",
       "      <td>3.7</td>\n",
       "      <td>-1</td>\n",
       "      <td>0</td>\n",
       "      <td>0</td>\n",
       "      <td>1</td>\n",
       "      <td>1</td>\n",
       "      <td>0</td>\n",
       "      <td>0</td>\n",
       "      <td>0</td>\n",
       "      <td>0</td>\n",
       "      <td>0</td>\n",
       "      <td>0</td>\n",
       "      <td>1</td>\n",
       "      <td>0</td>\n",
       "    </tr>\n",
       "    <tr>\n",
       "      <th>4296</th>\n",
       "      <td>Maison Pradier</td>\n",
       "      <td>48.890421</td>\n",
       "      <td>2.237496</td>\n",
       "      <td>2.4</td>\n",
       "      <td>-1</td>\n",
       "      <td>0</td>\n",
       "      <td>0</td>\n",
       "      <td>1</td>\n",
       "      <td>1</td>\n",
       "      <td>0</td>\n",
       "      <td>0</td>\n",
       "      <td>0</td>\n",
       "      <td>0</td>\n",
       "      <td>0</td>\n",
       "      <td>0</td>\n",
       "      <td>1</td>\n",
       "      <td>0</td>\n",
       "    </tr>\n",
       "    <tr>\n",
       "      <th>...</th>\n",
       "      <td>...</td>\n",
       "      <td>...</td>\n",
       "      <td>...</td>\n",
       "      <td>...</td>\n",
       "      <td>...</td>\n",
       "      <td>...</td>\n",
       "      <td>...</td>\n",
       "      <td>...</td>\n",
       "      <td>...</td>\n",
       "      <td>...</td>\n",
       "      <td>...</td>\n",
       "      <td>...</td>\n",
       "      <td>...</td>\n",
       "      <td>...</td>\n",
       "      <td>...</td>\n",
       "      <td>...</td>\n",
       "      <td>...</td>\n",
       "    </tr>\n",
       "    <tr>\n",
       "      <th>29341</th>\n",
       "      <td>L'Etoile du Liban</td>\n",
       "      <td>48.877568</td>\n",
       "      <td>2.338091</td>\n",
       "      <td>4.3</td>\n",
       "      <td>-1</td>\n",
       "      <td>0</td>\n",
       "      <td>0</td>\n",
       "      <td>0</td>\n",
       "      <td>0</td>\n",
       "      <td>0</td>\n",
       "      <td>0</td>\n",
       "      <td>0</td>\n",
       "      <td>0</td>\n",
       "      <td>0</td>\n",
       "      <td>0</td>\n",
       "      <td>1</td>\n",
       "      <td>0</td>\n",
       "    </tr>\n",
       "    <tr>\n",
       "      <th>29342</th>\n",
       "      <td>Crousti Poulet</td>\n",
       "      <td>48.873992</td>\n",
       "      <td>2.454176</td>\n",
       "      <td>4.4</td>\n",
       "      <td>-1</td>\n",
       "      <td>0</td>\n",
       "      <td>0</td>\n",
       "      <td>0</td>\n",
       "      <td>0</td>\n",
       "      <td>0</td>\n",
       "      <td>0</td>\n",
       "      <td>0</td>\n",
       "      <td>0</td>\n",
       "      <td>0</td>\n",
       "      <td>0</td>\n",
       "      <td>1</td>\n",
       "      <td>0</td>\n",
       "    </tr>\n",
       "    <tr>\n",
       "      <th>29343</th>\n",
       "      <td>Subway</td>\n",
       "      <td>48.899274</td>\n",
       "      <td>2.282634</td>\n",
       "      <td>3.7</td>\n",
       "      <td>-1</td>\n",
       "      <td>0</td>\n",
       "      <td>0</td>\n",
       "      <td>0</td>\n",
       "      <td>0</td>\n",
       "      <td>0</td>\n",
       "      <td>0</td>\n",
       "      <td>0</td>\n",
       "      <td>0</td>\n",
       "      <td>0</td>\n",
       "      <td>0</td>\n",
       "      <td>1</td>\n",
       "      <td>0</td>\n",
       "    </tr>\n",
       "    <tr>\n",
       "      <th>29345</th>\n",
       "      <td>Eden Pantin</td>\n",
       "      <td>48.896267</td>\n",
       "      <td>2.400696</td>\n",
       "      <td>4.0</td>\n",
       "      <td>-1</td>\n",
       "      <td>0</td>\n",
       "      <td>0</td>\n",
       "      <td>0</td>\n",
       "      <td>0</td>\n",
       "      <td>0</td>\n",
       "      <td>0</td>\n",
       "      <td>0</td>\n",
       "      <td>0</td>\n",
       "      <td>0</td>\n",
       "      <td>0</td>\n",
       "      <td>1</td>\n",
       "      <td>0</td>\n",
       "    </tr>\n",
       "    <tr>\n",
       "      <th>29346</th>\n",
       "      <td>Sens Uniques</td>\n",
       "      <td>48.889806</td>\n",
       "      <td>2.333969</td>\n",
       "      <td>4.2</td>\n",
       "      <td>3</td>\n",
       "      <td>0</td>\n",
       "      <td>0</td>\n",
       "      <td>0</td>\n",
       "      <td>0</td>\n",
       "      <td>0</td>\n",
       "      <td>0</td>\n",
       "      <td>0</td>\n",
       "      <td>0</td>\n",
       "      <td>0</td>\n",
       "      <td>0</td>\n",
       "      <td>1</td>\n",
       "      <td>0</td>\n",
       "    </tr>\n",
       "  </tbody>\n",
       "</table>\n",
       "<p>4768 rows × 17 columns</p>\n",
       "</div>"
      ],
      "text/plain": [
       "                              nom   latitude  longitude  note  prix  \\\n",
       "827                      Bulthaup  48.853836   2.326387   5.0    -1   \n",
       "871    Galeries Lafayette Gourmet  48.873103   2.330247   3.8    -1   \n",
       "1814    L'Atelier des Guillemites  48.858161   2.357276   3.9    -1   \n",
       "4291               Maison Pradier  48.875435   2.327027   3.7    -1   \n",
       "4296               Maison Pradier  48.890421   2.237496   2.4    -1   \n",
       "...                           ...        ...        ...   ...   ...   \n",
       "29341           L'Etoile du Liban  48.877568   2.338091   4.3    -1   \n",
       "29342              Crousti Poulet  48.873992   2.454176   4.4    -1   \n",
       "29343                      Subway  48.899274   2.282634   3.7    -1   \n",
       "29345                 Eden Pantin  48.896267   2.400696   4.0    -1   \n",
       "29346                Sens Uniques  48.889806   2.333969   4.2     3   \n",
       "\n",
       "       furniture_store  laundry  bakery  cafe  home_goods_store  \\\n",
       "827                  1        0       0     0                 1   \n",
       "871                  1        0       0     0                 1   \n",
       "1814                 1        0       0     1                 1   \n",
       "4291                 0        0       1     1                 0   \n",
       "4296                 0        0       1     1                 0   \n",
       "...                ...      ...     ...   ...               ...   \n",
       "29341                0        0       0     0                 0   \n",
       "29342                0        0       0     0                 0   \n",
       "29343                0        0       0     0                 0   \n",
       "29345                0        0       0     0                 0   \n",
       "29346                0        0       0     0                 0   \n",
       "\n",
       "       clothing_store  atm  lodging  night_club  convenience_store  \\\n",
       "827                 0    0        0           0                  0   \n",
       "871                 0    0        0           0                  0   \n",
       "1814                0    0        0           0                  0   \n",
       "4291                0    0        0           0                  0   \n",
       "4296                0    0        0           0                  0   \n",
       "...               ...  ...      ...         ...                ...   \n",
       "29341               0    0        0           0                  0   \n",
       "29342               0    0        0           0                  0   \n",
       "29343               0    0        0           0                  0   \n",
       "29345               0    0        0           0                  0   \n",
       "29346               0    0        0           0                  0   \n",
       "\n",
       "       restaurant  bar  \n",
       "827             1    0  \n",
       "871             1    0  \n",
       "1814            1    0  \n",
       "4291            1    0  \n",
       "4296            1    0  \n",
       "...           ...  ...  \n",
       "29341           1    0  \n",
       "29342           1    0  \n",
       "29343           1    0  \n",
       "29345           1    0  \n",
       "29346           1    0  \n",
       "\n",
       "[4768 rows x 17 columns]"
      ]
     },
     "execution_count": 100,
     "metadata": {},
     "output_type": "execute_result"
    }
   ],
   "source": [
    "restos = tableau_poi[(tableau_poi['restaurant']==1)&(tableau_poi['bar']==0)&(tableau_poi['note']>0)]\n",
    "restos"
   ]
  },
  {
   "cell_type": "markdown",
   "id": "cfdefbbd",
   "metadata": {},
   "source": [
    "<div class=\"alert alert-block alert-info\">\n",
    "Q3.1.c - Définir une variable <code>barestos</code> ne contenant que les lieux qui sont à la fois des restaurants et des bars et ont une note attribuée.\n",
    "</div>"
   ]
  },
  {
   "cell_type": "code",
   "execution_count": 101,
   "id": "1a4d4419",
   "metadata": {},
   "outputs": [
    {
     "data": {
      "text/html": [
       "<div>\n",
       "<style scoped>\n",
       "    .dataframe tbody tr th:only-of-type {\n",
       "        vertical-align: middle;\n",
       "    }\n",
       "\n",
       "    .dataframe tbody tr th {\n",
       "        vertical-align: top;\n",
       "    }\n",
       "\n",
       "    .dataframe thead th {\n",
       "        text-align: right;\n",
       "    }\n",
       "</style>\n",
       "<table border=\"1\" class=\"dataframe\">\n",
       "  <thead>\n",
       "    <tr style=\"text-align: right;\">\n",
       "      <th></th>\n",
       "      <th>nom</th>\n",
       "      <th>latitude</th>\n",
       "      <th>longitude</th>\n",
       "      <th>note</th>\n",
       "      <th>prix</th>\n",
       "      <th>furniture_store</th>\n",
       "      <th>laundry</th>\n",
       "      <th>bakery</th>\n",
       "      <th>cafe</th>\n",
       "      <th>home_goods_store</th>\n",
       "      <th>clothing_store</th>\n",
       "      <th>atm</th>\n",
       "      <th>lodging</th>\n",
       "      <th>night_club</th>\n",
       "      <th>convenience_store</th>\n",
       "      <th>restaurant</th>\n",
       "      <th>bar</th>\n",
       "    </tr>\n",
       "  </thead>\n",
       "  <tbody>\n",
       "    <tr>\n",
       "      <th>938</th>\n",
       "      <td>ALLO CHR</td>\n",
       "      <td>48.876602</td>\n",
       "      <td>2.422864</td>\n",
       "      <td>3.8</td>\n",
       "      <td>-1</td>\n",
       "      <td>1</td>\n",
       "      <td>0</td>\n",
       "      <td>1</td>\n",
       "      <td>0</td>\n",
       "      <td>1</td>\n",
       "      <td>0</td>\n",
       "      <td>0</td>\n",
       "      <td>0</td>\n",
       "      <td>0</td>\n",
       "      <td>0</td>\n",
       "      <td>1</td>\n",
       "      <td>1</td>\n",
       "    </tr>\n",
       "    <tr>\n",
       "      <th>2018</th>\n",
       "      <td>La Chaise Et Le Vin</td>\n",
       "      <td>48.854505</td>\n",
       "      <td>2.364844</td>\n",
       "      <td>4.7</td>\n",
       "      <td>-1</td>\n",
       "      <td>1</td>\n",
       "      <td>0</td>\n",
       "      <td>0</td>\n",
       "      <td>0</td>\n",
       "      <td>1</td>\n",
       "      <td>0</td>\n",
       "      <td>0</td>\n",
       "      <td>0</td>\n",
       "      <td>0</td>\n",
       "      <td>0</td>\n",
       "      <td>1</td>\n",
       "      <td>1</td>\n",
       "    </tr>\n",
       "    <tr>\n",
       "      <th>4334</th>\n",
       "      <td>Café Pouchkine</td>\n",
       "      <td>48.869887</td>\n",
       "      <td>2.325498</td>\n",
       "      <td>3.7</td>\n",
       "      <td>-1</td>\n",
       "      <td>0</td>\n",
       "      <td>0</td>\n",
       "      <td>1</td>\n",
       "      <td>1</td>\n",
       "      <td>0</td>\n",
       "      <td>0</td>\n",
       "      <td>0</td>\n",
       "      <td>0</td>\n",
       "      <td>0</td>\n",
       "      <td>0</td>\n",
       "      <td>1</td>\n",
       "      <td>1</td>\n",
       "    </tr>\n",
       "    <tr>\n",
       "      <th>4677</th>\n",
       "      <td>CENTRAL PARC</td>\n",
       "      <td>48.812354</td>\n",
       "      <td>2.472908</td>\n",
       "      <td>4.1</td>\n",
       "      <td>-1</td>\n",
       "      <td>0</td>\n",
       "      <td>0</td>\n",
       "      <td>1</td>\n",
       "      <td>0</td>\n",
       "      <td>0</td>\n",
       "      <td>0</td>\n",
       "      <td>0</td>\n",
       "      <td>0</td>\n",
       "      <td>0</td>\n",
       "      <td>0</td>\n",
       "      <td>1</td>\n",
       "      <td>1</td>\n",
       "    </tr>\n",
       "    <tr>\n",
       "      <th>5038</th>\n",
       "      <td>Cuisine et Dépendances</td>\n",
       "      <td>48.869419</td>\n",
       "      <td>2.350863</td>\n",
       "      <td>4.5</td>\n",
       "      <td>-1</td>\n",
       "      <td>0</td>\n",
       "      <td>0</td>\n",
       "      <td>1</td>\n",
       "      <td>0</td>\n",
       "      <td>0</td>\n",
       "      <td>0</td>\n",
       "      <td>0</td>\n",
       "      <td>0</td>\n",
       "      <td>0</td>\n",
       "      <td>0</td>\n",
       "      <td>1</td>\n",
       "      <td>1</td>\n",
       "    </tr>\n",
       "    <tr>\n",
       "      <th>...</th>\n",
       "      <td>...</td>\n",
       "      <td>...</td>\n",
       "      <td>...</td>\n",
       "      <td>...</td>\n",
       "      <td>...</td>\n",
       "      <td>...</td>\n",
       "      <td>...</td>\n",
       "      <td>...</td>\n",
       "      <td>...</td>\n",
       "      <td>...</td>\n",
       "      <td>...</td>\n",
       "      <td>...</td>\n",
       "      <td>...</td>\n",
       "      <td>...</td>\n",
       "      <td>...</td>\n",
       "      <td>...</td>\n",
       "      <td>...</td>\n",
       "    </tr>\n",
       "    <tr>\n",
       "      <th>31835</th>\n",
       "      <td>Sashimi</td>\n",
       "      <td>48.845953</td>\n",
       "      <td>2.343329</td>\n",
       "      <td>3.8</td>\n",
       "      <td>-1</td>\n",
       "      <td>0</td>\n",
       "      <td>0</td>\n",
       "      <td>0</td>\n",
       "      <td>0</td>\n",
       "      <td>0</td>\n",
       "      <td>0</td>\n",
       "      <td>0</td>\n",
       "      <td>0</td>\n",
       "      <td>0</td>\n",
       "      <td>0</td>\n",
       "      <td>1</td>\n",
       "      <td>1</td>\n",
       "    </tr>\n",
       "    <tr>\n",
       "      <th>31836</th>\n",
       "      <td>Le Saut du Crapaud</td>\n",
       "      <td>48.831568</td>\n",
       "      <td>2.324250</td>\n",
       "      <td>4.2</td>\n",
       "      <td>-1</td>\n",
       "      <td>0</td>\n",
       "      <td>0</td>\n",
       "      <td>0</td>\n",
       "      <td>0</td>\n",
       "      <td>0</td>\n",
       "      <td>0</td>\n",
       "      <td>0</td>\n",
       "      <td>0</td>\n",
       "      <td>0</td>\n",
       "      <td>0</td>\n",
       "      <td>1</td>\n",
       "      <td>1</td>\n",
       "    </tr>\n",
       "    <tr>\n",
       "      <th>31839</th>\n",
       "      <td>Ah! la Pompe à Biere</td>\n",
       "      <td>48.889289</td>\n",
       "      <td>2.376740</td>\n",
       "      <td>4.5</td>\n",
       "      <td>-1</td>\n",
       "      <td>0</td>\n",
       "      <td>0</td>\n",
       "      <td>0</td>\n",
       "      <td>0</td>\n",
       "      <td>0</td>\n",
       "      <td>0</td>\n",
       "      <td>0</td>\n",
       "      <td>0</td>\n",
       "      <td>0</td>\n",
       "      <td>0</td>\n",
       "      <td>1</td>\n",
       "      <td>1</td>\n",
       "    </tr>\n",
       "    <tr>\n",
       "      <th>31841</th>\n",
       "      <td>Au Métro</td>\n",
       "      <td>48.864419</td>\n",
       "      <td>2.368516</td>\n",
       "      <td>3.6</td>\n",
       "      <td>-1</td>\n",
       "      <td>0</td>\n",
       "      <td>0</td>\n",
       "      <td>0</td>\n",
       "      <td>0</td>\n",
       "      <td>0</td>\n",
       "      <td>0</td>\n",
       "      <td>0</td>\n",
       "      <td>0</td>\n",
       "      <td>0</td>\n",
       "      <td>0</td>\n",
       "      <td>1</td>\n",
       "      <td>1</td>\n",
       "    </tr>\n",
       "    <tr>\n",
       "      <th>31849</th>\n",
       "      <td>King George</td>\n",
       "      <td>48.874817</td>\n",
       "      <td>2.341561</td>\n",
       "      <td>4.1</td>\n",
       "      <td>-1</td>\n",
       "      <td>0</td>\n",
       "      <td>0</td>\n",
       "      <td>0</td>\n",
       "      <td>0</td>\n",
       "      <td>0</td>\n",
       "      <td>0</td>\n",
       "      <td>0</td>\n",
       "      <td>0</td>\n",
       "      <td>0</td>\n",
       "      <td>0</td>\n",
       "      <td>1</td>\n",
       "      <td>1</td>\n",
       "    </tr>\n",
       "  </tbody>\n",
       "</table>\n",
       "<p>3240 rows × 17 columns</p>\n",
       "</div>"
      ],
      "text/plain": [
       "                          nom   latitude  longitude  note  prix  \\\n",
       "938                  ALLO CHR  48.876602   2.422864   3.8    -1   \n",
       "2018      La Chaise Et Le Vin  48.854505   2.364844   4.7    -1   \n",
       "4334           Café Pouchkine  48.869887   2.325498   3.7    -1   \n",
       "4677             CENTRAL PARC  48.812354   2.472908   4.1    -1   \n",
       "5038   Cuisine et Dépendances  48.869419   2.350863   4.5    -1   \n",
       "...                       ...        ...        ...   ...   ...   \n",
       "31835                 Sashimi  48.845953   2.343329   3.8    -1   \n",
       "31836      Le Saut du Crapaud  48.831568   2.324250   4.2    -1   \n",
       "31839    Ah! la Pompe à Biere  48.889289   2.376740   4.5    -1   \n",
       "31841                Au Métro  48.864419   2.368516   3.6    -1   \n",
       "31849             King George  48.874817   2.341561   4.1    -1   \n",
       "\n",
       "       furniture_store  laundry  bakery  cafe  home_goods_store  \\\n",
       "938                  1        0       1     0                 1   \n",
       "2018                 1        0       0     0                 1   \n",
       "4334                 0        0       1     1                 0   \n",
       "4677                 0        0       1     0                 0   \n",
       "5038                 0        0       1     0                 0   \n",
       "...                ...      ...     ...   ...               ...   \n",
       "31835                0        0       0     0                 0   \n",
       "31836                0        0       0     0                 0   \n",
       "31839                0        0       0     0                 0   \n",
       "31841                0        0       0     0                 0   \n",
       "31849                0        0       0     0                 0   \n",
       "\n",
       "       clothing_store  atm  lodging  night_club  convenience_store  \\\n",
       "938                 0    0        0           0                  0   \n",
       "2018                0    0        0           0                  0   \n",
       "4334                0    0        0           0                  0   \n",
       "4677                0    0        0           0                  0   \n",
       "5038                0    0        0           0                  0   \n",
       "...               ...  ...      ...         ...                ...   \n",
       "31835               0    0        0           0                  0   \n",
       "31836               0    0        0           0                  0   \n",
       "31839               0    0        0           0                  0   \n",
       "31841               0    0        0           0                  0   \n",
       "31849               0    0        0           0                  0   \n",
       "\n",
       "       restaurant  bar  \n",
       "938             1    1  \n",
       "2018            1    1  \n",
       "4334            1    1  \n",
       "4677            1    1  \n",
       "5038            1    1  \n",
       "...           ...  ...  \n",
       "31835           1    1  \n",
       "31836           1    1  \n",
       "31839           1    1  \n",
       "31841           1    1  \n",
       "31849           1    1  \n",
       "\n",
       "[3240 rows x 17 columns]"
      ]
     },
     "execution_count": 101,
     "metadata": {},
     "output_type": "execute_result"
    }
   ],
   "source": [
    "barestos = tableau_poi[(tableau_poi['bar']==1)&(tableau_poi['restaurant']==1)&(tableau_poi['note']>0)]\n",
    "barestos"
   ]
  },
  {
   "cell_type": "markdown",
   "id": "available-quarterly",
   "metadata": {},
   "source": [
    "<div class=\"alert alert-block alert-warning\">\n",
    "Comme nous allons utiliser différentes données (bars, restaurants) pour faire des histogrammes et que les limites spatiales (longitudes/latitudes maximales et minimales) ne sont pas forcément les mêmes entre chaque jeu de données, il est nécessaire dans un premier temps de définir ces limites et d'utiliser le paramètre `range` de la fonction ̀`hist2d` pour délimiter la région géographique étudiée en lui passant ces variables.\n",
    "</div>"
   ]
  },
  {
   "cell_type": "markdown",
   "id": "10d30e23",
   "metadata": {},
   "source": [
    "<div class=\"alert alert-block alert-info\">\n",
    "    Q3.2 - Enregistrer dans les variables <code>lomin, lomax, latmin, latmax</code> les longitudes et latitudes minimales/maximales des lieux du tableau <code>tableau_poi</code>.\n",
    "</div>"
   ]
  },
  {
   "cell_type": "code",
   "execution_count": 102,
   "id": "4dfb888e",
   "metadata": {},
   "outputs": [],
   "source": [
    "lomin = np.min (tableau_poi['longitude'])\n",
    "lomax = np.max (tableau_poi['longitude'])\n",
    "latmin = np.min(tableau_poi['latitude'])\n",
    "latmax = np.max(tableau_poi['latitude'])"
   ]
  },
  {
   "cell_type": "markdown",
   "id": "innovative-belief",
   "metadata": {},
   "source": [
    "<div class=\"alert alert-block alert-info\">\n",
    "Q3.3 - Tracer l'histogramme 2D de la répartition des bars en utilisant un nombre de segment de 20. Enregistrer le tableau résultant dans une variable <code>bars_h</code>.\n",
    "    \n",
    "Enregistrer également les bornes des longitudes et latitudes associées à l'histogramme dans les variables <code>long</code> et <code>lat</code>.\n",
    "</div>"
   ]
  },
  {
   "cell_type": "code",
   "execution_count": 103,
   "id": "three-singapore",
   "metadata": {},
   "outputs": [],
   "source": [
    "long = bars['longitude']\n",
    "lat = bars['latitude']"
   ]
  },
  {
   "cell_type": "code",
   "execution_count": 104,
   "id": "renewable-consciousness",
   "metadata": {},
   "outputs": [
    {
     "data": {
      "text/plain": [
       "<matplotlib.colorbar.Colorbar at 0x1c9bfb792b0>"
      ]
     },
     "execution_count": 104,
     "metadata": {},
     "output_type": "execute_result"
    },
    {
     "data": {
      "image/png": "[encoded data removed]",
      "text/plain": [
       "<Figure size 432x288 with 2 Axes>"
      ]
     },
     "metadata": {
      "needs_background": "light"
     },
     "output_type": "display_data"
    }
   ],
   "source": [
    "bars_h = plt.hist2d (long, lat, bins = 20)\n",
    "plt.colorbar()"
   ]
  },
  {
   "cell_type": "markdown",
   "id": "minor-attendance",
   "metadata": {},
   "source": [
    "<div class=\"alert alert-block alert-info\">\n",
    "    Q3.4 - Le paramètre <code>weights</code> de la fonction <code>hist2d</code> permet de donner un poids à chaque lieu de l'échantillon passé en paramètre : le lieu ne comptera pas pour un dans le décompte, mais pour le poids associé. Il est ainsi possible de construire l'histogramme pondéré par la note de chaque lieu.\n",
    "\n",
    "Enregistrer cet histogramme dans une variable `bars_n`.\n",
    "</div>"
   ]
  },
  {
   "cell_type": "code",
   "execution_count": 105,
   "id": "final-turkey",
   "metadata": {},
   "outputs": [
    {
     "data": {
      "text/plain": [
       "<matplotlib.colorbar.Colorbar at 0x1c9c132b3a0>"
      ]
     },
     "execution_count": 105,
     "metadata": {},
     "output_type": "execute_result"
    },
    {
     "data": {
      "image/png": "[encoded data removed]",
      "text/plain": [
       "<Figure size 432x288 with 2 Axes>"
      ]
     },
     "metadata": {
      "needs_background": "light"
     },
     "output_type": "display_data"
    }
   ],
   "source": [
    "bars_n = plt.hist2d(long, lat , weights = bars['note'], bins = 20)\n",
    "plt.colorbar()"
   ]
  },
  {
   "cell_type": "markdown",
   "id": "posted-excellence",
   "metadata": {},
   "source": [
    "<div class=\"alert alert-block alert-info\">\n",
    "En mettant en correspondance les deux histogrammes ainsi construits, on peut calculer la moyenne des notes dans chaque case, ce que fait la ligne suivante :\n",
    "<div>"
   ]
  },
  {
   "cell_type": "code",
   "execution_count": 106,
   "id": "shared-manhattan",
   "metadata": {},
   "outputs": [
    {
     "data": {
      "image/png": "[encoded data removed]",
      "text/plain": [
       "<Figure size 432x288 with 2 Axes>"
      ]
     },
     "metadata": {
      "needs_background": "light"
     },
     "output_type": "display_data"
    }
   ],
   "source": [
    "plt.imshow(bars_n[0]/(bars_h[0]+1e-6),origin='lower',extent=[lomin,lomax,latmin,latmax],aspect=\"auto\")\n",
    "_ = plt.colorbar()"
   ]
  },
  {
   "cell_type": "markdown",
   "id": "promising-disorder",
   "metadata": {},
   "source": [
    "<div class=\"alert alert-block alert-info\">\n",
    "Q3.5 - Faire le même travail sur les restaurants, en enregistrant le résultat dans les variables <code>restos_h</code> et <code>restos_n</code>. Voyez-vous une différence entre les bars et les restaurants ? Entre les différents lieux de Paris ?\n",
    "</div>"
   ]
  },
  {
   "cell_type": "code",
   "execution_count": 107,
   "id": "lucky-greensboro",
   "metadata": {},
   "outputs": [],
   "source": [
    "long1 = restos['longitude']\n",
    "lat1 = restos['latitude']"
   ]
  },
  {
   "cell_type": "code",
   "execution_count": 108,
   "id": "increased-typing",
   "metadata": {},
   "outputs": [
    {
     "data": {
      "text/plain": [
       "<matplotlib.colorbar.Colorbar at 0x1c9bf79c940>"
      ]
     },
     "execution_count": 108,
     "metadata": {},
     "output_type": "execute_result"
    },
    {
     "data": {
      "image/png": "[encoded data removed]",
      "text/plain": [
       "<Figure size 432x288 with 2 Axes>"
      ]
     },
     "metadata": {
      "needs_background": "light"
     },
     "output_type": "display_data"
    }
   ],
   "source": [
    "restos_h = plt.hist2d (long1, lat1, bins = 20)\n",
    "plt.colorbar()"
   ]
  },
  {
   "cell_type": "code",
   "execution_count": 109,
   "id": "biological-shipping",
   "metadata": {},
   "outputs": [
    {
     "data": {
      "text/plain": [
       "<matplotlib.colorbar.Colorbar at 0x1c9c13ad4f0>"
      ]
     },
     "execution_count": 109,
     "metadata": {},
     "output_type": "execute_result"
    },
    {
     "data": {
      "image/png": "[encoded data removed]",
      "text/plain": [
       "<Figure size 432x288 with 2 Axes>"
      ]
     },
     "metadata": {
      "needs_background": "light"
     },
     "output_type": "display_data"
    }
   ],
   "source": [
    "restos_n = plt.hist2d(long1, lat1 , weights = restos['note'], bins = 20)\n",
    "plt.colorbar()"
   ]
  },
  {
   "cell_type": "code",
   "execution_count": 110,
   "id": "61fa7576",
   "metadata": {},
   "outputs": [
    {
     "data": {
      "image/png": "[encoded data removed]",
      "text/plain": [
       "<Figure size 432x288 with 2 Axes>"
      ]
     },
     "metadata": {
      "needs_background": "light"
     },
     "output_type": "display_data"
    }
   ],
   "source": [
    "plt.imshow(restos_n[0]/(restos_h[0]+1e-6),origin='lower',extent=[lomin,lomax,latmin,latmax],aspect=\"auto\")\n",
    "_ = plt.colorbar()"
   ]
  },
  {
   "cell_type": "markdown",
   "id": "interpreted-millennium",
   "metadata": {},
   "source": [
    "<div class=\"alert alert-block alert-warning\">\n",
    "On obtient ainsi d'une part pour les restaurants, d'autre part pour les bars,  $20*20=400$ moyennes correspondant aux 400 régions découpées par l'histogramme et $400$ comptage du nombre de restaurants ou bars.\n",
    "</div>"
   ]
  },
  {
   "cell_type": "markdown",
   "id": "15463cbc",
   "metadata": {},
   "source": [
    "<div class=\"alert alert-block alert-info\">\n",
    "3.6 - Comparer les séries ainsi obtenues : le nombre moyen de bars par région est-il le même que celui de restaurants ? Qui à la plus grosse variance ? Tracer les boîtes à moustache correspondantes à l'aide de la fonction <code>np.ravel()</code> d'un tableau 2D qui  permet de transformer le tableau 2D en un tableau 1D. \n",
    "\n",
    "3.7 - Refaire le même travail avec un nombre de segments différents et comparer les résultats en fonction du nombre de segments. Quel est le problème pour les analyses sur les notes moyennes ?\n",
    "</div>"
   ]
  },
  {
   "cell_type": "code",
   "execution_count": 111,
   "id": "strange-cotton",
   "metadata": {
    "scrolled": true
   },
   "outputs": [
    {
     "name": "stderr",
     "output_type": "stream",
     "text": [
      "C:\\Users\\thoma\\anaconda3\\lib\\site-packages\\numpy\\core\\_asarray.py:171: VisibleDeprecationWarning: Creating an ndarray from ragged nested sequences (which is a list-or-tuple of lists-or-tuples-or ndarrays with different lengths or shapes) is deprecated. If you meant to do this, you must specify 'dtype=object' when creating the ndarray.\n",
      "  return array(a, dtype, copy=False, order=order, subok=True)\n"
     ]
    },
    {
     "ename": "ValueError",
     "evalue": "operands could not be broadcast together with shapes (20,20) (21,) ",
     "output_type": "error",
     "traceback": [
      "\u001b[1;31m---------------------------------------------------------------------------\u001b[0m",
      "\u001b[1;31mValueError\u001b[0m                                Traceback (most recent call last)",
      "\u001b[1;32m<ipython-input-111-87b7485c9a10>\u001b[0m in \u001b[0;36m<module>\u001b[1;34m\u001b[0m\n\u001b[0;32m      1\u001b[0m \u001b[0ma\u001b[0m \u001b[1;33m=\u001b[0m \u001b[0mnp\u001b[0m\u001b[1;33m.\u001b[0m\u001b[0mravel\u001b[0m\u001b[1;33m(\u001b[0m\u001b[0mbars_n\u001b[0m\u001b[1;33m)\u001b[0m\u001b[1;33m\u001b[0m\u001b[1;33m\u001b[0m\u001b[0m\n\u001b[0;32m      2\u001b[0m \u001b[0mb\u001b[0m \u001b[1;33m=\u001b[0m \u001b[0mnp\u001b[0m\u001b[1;33m.\u001b[0m\u001b[0mravel\u001b[0m\u001b[1;33m(\u001b[0m\u001b[0mrestos_n\u001b[0m\u001b[1;33m)\u001b[0m\u001b[1;33m\u001b[0m\u001b[1;33m\u001b[0m\u001b[0m\n\u001b[1;32m----> 3\u001b[1;33m \u001b[0mplt\u001b[0m\u001b[1;33m.\u001b[0m\u001b[0mboxplot\u001b[0m\u001b[1;33m(\u001b[0m\u001b[1;33m(\u001b[0m\u001b[0ma\u001b[0m\u001b[1;33m,\u001b[0m \u001b[0mb\u001b[0m\u001b[1;33m)\u001b[0m\u001b[1;33m,\u001b[0m \u001b[0mshowmeans\u001b[0m \u001b[1;33m=\u001b[0m \u001b[1;32mTrue\u001b[0m\u001b[1;33m,\u001b[0m \u001b[0mlabels\u001b[0m \u001b[1;33m=\u001b[0m \u001b[1;33m[\u001b[0m\u001b[1;34m'bars'\u001b[0m\u001b[1;33m,\u001b[0m \u001b[1;34m'restos'\u001b[0m\u001b[1;33m]\u001b[0m\u001b[1;33m)\u001b[0m\u001b[1;33m\u001b[0m\u001b[1;33m\u001b[0m\u001b[0m\n\u001b[0m",
      "\u001b[1;32m~\\anaconda3\\lib\\site-packages\\matplotlib\\pyplot.py\u001b[0m in \u001b[0;36mboxplot\u001b[1;34m(x, notch, sym, vert, whis, positions, widths, patch_artist, bootstrap, usermedians, conf_intervals, meanline, showmeans, showcaps, showbox, showfliers, boxprops, labels, flierprops, medianprops, meanprops, capprops, whiskerprops, manage_ticks, autorange, zorder, data)\u001b[0m\n\u001b[0;32m   2515\u001b[0m         \u001b[0mwhiskerprops\u001b[0m\u001b[1;33m=\u001b[0m\u001b[1;32mNone\u001b[0m\u001b[1;33m,\u001b[0m \u001b[0mmanage_ticks\u001b[0m\u001b[1;33m=\u001b[0m\u001b[1;32mTrue\u001b[0m\u001b[1;33m,\u001b[0m \u001b[0mautorange\u001b[0m\u001b[1;33m=\u001b[0m\u001b[1;32mFalse\u001b[0m\u001b[1;33m,\u001b[0m\u001b[1;33m\u001b[0m\u001b[1;33m\u001b[0m\u001b[0m\n\u001b[0;32m   2516\u001b[0m         zorder=None, *, data=None):\n\u001b[1;32m-> 2517\u001b[1;33m     return gca().boxplot(\n\u001b[0m\u001b[0;32m   2518\u001b[0m         \u001b[0mx\u001b[0m\u001b[1;33m,\u001b[0m \u001b[0mnotch\u001b[0m\u001b[1;33m=\u001b[0m\u001b[0mnotch\u001b[0m\u001b[1;33m,\u001b[0m \u001b[0msym\u001b[0m\u001b[1;33m=\u001b[0m\u001b[0msym\u001b[0m\u001b[1;33m,\u001b[0m \u001b[0mvert\u001b[0m\u001b[1;33m=\u001b[0m\u001b[0mvert\u001b[0m\u001b[1;33m,\u001b[0m \u001b[0mwhis\u001b[0m\u001b[1;33m=\u001b[0m\u001b[0mwhis\u001b[0m\u001b[1;33m,\u001b[0m\u001b[1;33m\u001b[0m\u001b[1;33m\u001b[0m\u001b[0m\n\u001b[0;32m   2519\u001b[0m         \u001b[0mpositions\u001b[0m\u001b[1;33m=\u001b[0m\u001b[0mpositions\u001b[0m\u001b[1;33m,\u001b[0m \u001b[0mwidths\u001b[0m\u001b[1;33m=\u001b[0m\u001b[0mwidths\u001b[0m\u001b[1;33m,\u001b[0m \u001b[0mpatch_artist\u001b[0m\u001b[1;33m=\u001b[0m\u001b[0mpatch_artist\u001b[0m\u001b[1;33m,\u001b[0m\u001b[1;33m\u001b[0m\u001b[1;33m\u001b[0m\u001b[0m\n",
      "\u001b[1;32m~\\anaconda3\\lib\\site-packages\\matplotlib\\__init__.py\u001b[0m in \u001b[0;36minner\u001b[1;34m(ax, data, *args, **kwargs)\u001b[0m\n\u001b[0;32m   1445\u001b[0m     \u001b[1;32mdef\u001b[0m \u001b[0minner\u001b[0m\u001b[1;33m(\u001b[0m\u001b[0max\u001b[0m\u001b[1;33m,\u001b[0m \u001b[1;33m*\u001b[0m\u001b[0margs\u001b[0m\u001b[1;33m,\u001b[0m \u001b[0mdata\u001b[0m\u001b[1;33m=\u001b[0m\u001b[1;32mNone\u001b[0m\u001b[1;33m,\u001b[0m \u001b[1;33m**\u001b[0m\u001b[0mkwargs\u001b[0m\u001b[1;33m)\u001b[0m\u001b[1;33m:\u001b[0m\u001b[1;33m\u001b[0m\u001b[1;33m\u001b[0m\u001b[0m\n\u001b[0;32m   1446\u001b[0m         \u001b[1;32mif\u001b[0m \u001b[0mdata\u001b[0m \u001b[1;32mis\u001b[0m \u001b[1;32mNone\u001b[0m\u001b[1;33m:\u001b[0m\u001b[1;33m\u001b[0m\u001b[1;33m\u001b[0m\u001b[0m\n\u001b[1;32m-> 1447\u001b[1;33m             \u001b[1;32mreturn\u001b[0m \u001b[0mfunc\u001b[0m\u001b[1;33m(\u001b[0m\u001b[0max\u001b[0m\u001b[1;33m,\u001b[0m \u001b[1;33m*\u001b[0m\u001b[0mmap\u001b[0m\u001b[1;33m(\u001b[0m\u001b[0msanitize_sequence\u001b[0m\u001b[1;33m,\u001b[0m \u001b[0margs\u001b[0m\u001b[1;33m)\u001b[0m\u001b[1;33m,\u001b[0m \u001b[1;33m**\u001b[0m\u001b[0mkwargs\u001b[0m\u001b[1;33m)\u001b[0m\u001b[1;33m\u001b[0m\u001b[1;33m\u001b[0m\u001b[0m\n\u001b[0m\u001b[0;32m   1448\u001b[0m \u001b[1;33m\u001b[0m\u001b[0m\n\u001b[0;32m   1449\u001b[0m         \u001b[0mbound\u001b[0m \u001b[1;33m=\u001b[0m \u001b[0mnew_sig\u001b[0m\u001b[1;33m.\u001b[0m\u001b[0mbind\u001b[0m\u001b[1;33m(\u001b[0m\u001b[0max\u001b[0m\u001b[1;33m,\u001b[0m \u001b[1;33m*\u001b[0m\u001b[0margs\u001b[0m\u001b[1;33m,\u001b[0m \u001b[1;33m**\u001b[0m\u001b[0mkwargs\u001b[0m\u001b[1;33m)\u001b[0m\u001b[1;33m\u001b[0m\u001b[1;33m\u001b[0m\u001b[0m\n",
      "\u001b[1;32m~\\anaconda3\\lib\\site-packages\\matplotlib\\axes\\_axes.py\u001b[0m in \u001b[0;36mboxplot\u001b[1;34m(self, x, notch, sym, vert, whis, positions, widths, patch_artist, bootstrap, usermedians, conf_intervals, meanline, showmeans, showcaps, showbox, showfliers, boxprops, labels, flierprops, medianprops, meanprops, capprops, whiskerprops, manage_ticks, autorange, zorder)\u001b[0m\n\u001b[0;32m   3681\u001b[0m             \u001b[0mbootstrap\u001b[0m \u001b[1;33m=\u001b[0m \u001b[0mrcParams\u001b[0m\u001b[1;33m[\u001b[0m\u001b[1;34m'boxplot.bootstrap'\u001b[0m\u001b[1;33m]\u001b[0m\u001b[1;33m\u001b[0m\u001b[1;33m\u001b[0m\u001b[0m\n\u001b[0;32m   3682\u001b[0m \u001b[1;33m\u001b[0m\u001b[0m\n\u001b[1;32m-> 3683\u001b[1;33m         bxpstats = cbook.boxplot_stats(x, whis=whis, bootstrap=bootstrap,\n\u001b[0m\u001b[0;32m   3684\u001b[0m                                        labels=labels, autorange=autorange)\n\u001b[0;32m   3685\u001b[0m         \u001b[1;32mif\u001b[0m \u001b[0mnotch\u001b[0m \u001b[1;32mis\u001b[0m \u001b[1;32mNone\u001b[0m\u001b[1;33m:\u001b[0m\u001b[1;33m\u001b[0m\u001b[1;33m\u001b[0m\u001b[0m\n",
      "\u001b[1;32m~\\anaconda3\\lib\\site-packages\\matplotlib\\cbook\\__init__.py\u001b[0m in \u001b[0;36mboxplot_stats\u001b[1;34m(X, whis, bootstrap, labels, autorange)\u001b[0m\n\u001b[0;32m   1175\u001b[0m \u001b[1;33m\u001b[0m\u001b[0m\n\u001b[0;32m   1176\u001b[0m         \u001b[1;31m# arithmetic mean\u001b[0m\u001b[1;33m\u001b[0m\u001b[1;33m\u001b[0m\u001b[1;33m\u001b[0m\u001b[0m\n\u001b[1;32m-> 1177\u001b[1;33m         \u001b[0mstats\u001b[0m\u001b[1;33m[\u001b[0m\u001b[1;34m'mean'\u001b[0m\u001b[1;33m]\u001b[0m \u001b[1;33m=\u001b[0m \u001b[0mnp\u001b[0m\u001b[1;33m.\u001b[0m\u001b[0mmean\u001b[0m\u001b[1;33m(\u001b[0m\u001b[0mx\u001b[0m\u001b[1;33m)\u001b[0m\u001b[1;33m\u001b[0m\u001b[1;33m\u001b[0m\u001b[0m\n\u001b[0m\u001b[0;32m   1178\u001b[0m \u001b[1;33m\u001b[0m\u001b[0m\n\u001b[0;32m   1179\u001b[0m         \u001b[1;31m# medians and quartiles\u001b[0m\u001b[1;33m\u001b[0m\u001b[1;33m\u001b[0m\u001b[1;33m\u001b[0m\u001b[0m\n",
      "\u001b[1;32m<__array_function__ internals>\u001b[0m in \u001b[0;36mmean\u001b[1;34m(*args, **kwargs)\u001b[0m\n",
      "\u001b[1;32m~\\anaconda3\\lib\\site-packages\\numpy\\core\\fromnumeric.py\u001b[0m in \u001b[0;36mmean\u001b[1;34m(a, axis, dtype, out, keepdims, where)\u001b[0m\n\u001b[0;32m   3417\u001b[0m             \u001b[1;32mreturn\u001b[0m \u001b[0mmean\u001b[0m\u001b[1;33m(\u001b[0m\u001b[0maxis\u001b[0m\u001b[1;33m=\u001b[0m\u001b[0maxis\u001b[0m\u001b[1;33m,\u001b[0m \u001b[0mdtype\u001b[0m\u001b[1;33m=\u001b[0m\u001b[0mdtype\u001b[0m\u001b[1;33m,\u001b[0m \u001b[0mout\u001b[0m\u001b[1;33m=\u001b[0m\u001b[0mout\u001b[0m\u001b[1;33m,\u001b[0m \u001b[1;33m**\u001b[0m\u001b[0mkwargs\u001b[0m\u001b[1;33m)\u001b[0m\u001b[1;33m\u001b[0m\u001b[1;33m\u001b[0m\u001b[0m\n\u001b[0;32m   3418\u001b[0m \u001b[1;33m\u001b[0m\u001b[0m\n\u001b[1;32m-> 3419\u001b[1;33m     return _methods._mean(a, axis=axis, dtype=dtype,\n\u001b[0m\u001b[0;32m   3420\u001b[0m                           out=out, **kwargs)\n\u001b[0;32m   3421\u001b[0m \u001b[1;33m\u001b[0m\u001b[0m\n",
      "\u001b[1;32m~\\anaconda3\\lib\\site-packages\\numpy\\core\\_methods.py\u001b[0m in \u001b[0;36m_mean\u001b[1;34m(a, axis, dtype, out, keepdims, where)\u001b[0m\n\u001b[0;32m    176\u001b[0m             \u001b[0mis_float16_result\u001b[0m \u001b[1;33m=\u001b[0m \u001b[1;32mTrue\u001b[0m\u001b[1;33m\u001b[0m\u001b[1;33m\u001b[0m\u001b[0m\n\u001b[0;32m    177\u001b[0m \u001b[1;33m\u001b[0m\u001b[0m\n\u001b[1;32m--> 178\u001b[1;33m     \u001b[0mret\u001b[0m \u001b[1;33m=\u001b[0m \u001b[0mumr_sum\u001b[0m\u001b[1;33m(\u001b[0m\u001b[0marr\u001b[0m\u001b[1;33m,\u001b[0m \u001b[0maxis\u001b[0m\u001b[1;33m,\u001b[0m \u001b[0mdtype\u001b[0m\u001b[1;33m,\u001b[0m \u001b[0mout\u001b[0m\u001b[1;33m,\u001b[0m \u001b[0mkeepdims\u001b[0m\u001b[1;33m,\u001b[0m \u001b[0mwhere\u001b[0m\u001b[1;33m=\u001b[0m\u001b[0mwhere\u001b[0m\u001b[1;33m)\u001b[0m\u001b[1;33m\u001b[0m\u001b[1;33m\u001b[0m\u001b[0m\n\u001b[0m\u001b[0;32m    179\u001b[0m     \u001b[1;32mif\u001b[0m \u001b[0misinstance\u001b[0m\u001b[1;33m(\u001b[0m\u001b[0mret\u001b[0m\u001b[1;33m,\u001b[0m \u001b[0mmu\u001b[0m\u001b[1;33m.\u001b[0m\u001b[0mndarray\u001b[0m\u001b[1;33m)\u001b[0m\u001b[1;33m:\u001b[0m\u001b[1;33m\u001b[0m\u001b[1;33m\u001b[0m\u001b[0m\n\u001b[0;32m    180\u001b[0m         ret = um.true_divide(\n",
      "\u001b[1;31mValueError\u001b[0m: operands could not be broadcast together with shapes (20,20) (21,) "
     ]
    },
    {
     "data": {
      "image/png": "[encoded data removed]",
      "text/plain": [
       "<Figure size 432x288 with 1 Axes>"
      ]
     },
     "metadata": {
      "needs_background": "light"
     },
     "output_type": "display_data"
    }
   ],
   "source": [
    "a = np.ravel(bars_n)\n",
    "b = np.ravel(restos_n)\n",
    "plt.boxplot((a, b), showmeans = True, labels = ['bars', 'restos'])"
   ]
  },
  {
   "cell_type": "code",
   "execution_count": 112,
   "id": "proved-tomato",
   "metadata": {},
   "outputs": [
    {
     "data": {
      "image/png": "[encoded data removed]",
      "text/plain": [
       "<Figure size 432x288 with 2 Axes>"
      ]
     },
     "metadata": {
      "needs_background": "light"
     },
     "output_type": "display_data"
    }
   ],
   "source": [
    "bars_h = plt.hist2d (long, lat, bins = 50)\n",
    "bars_n = plt.hist2d(long, lat , weights = bars['note'], bins = 50)\n",
    "plt.imshow(bars_n[0]/(bars_h[0]+1e-6),origin='lower',extent=[lomin,lomax,latmin,latmax],aspect=\"auto\")\n",
    "_ = plt.colorbar()"
   ]
  },
  {
   "cell_type": "code",
   "execution_count": 113,
   "id": "fe565468",
   "metadata": {},
   "outputs": [
    {
     "data": {
      "image/png": "[encoded data removed]",
      "text/plain": [
       "<Figure size 432x288 with 2 Axes>"
      ]
     },
     "metadata": {
      "needs_background": "light"
     },
     "output_type": "display_data"
    }
   ],
   "source": [
    "restos_h = plt.hist2d (long1, lat1, bins = 50)\n",
    "restos_n = plt.hist2d(long1, lat1 , weights = restos['note'], bins = 50)\n",
    "plt.imshow(restos_n[0]/(restos_h[0]+1e-6),origin='lower',extent=[lomin,lomax,latmin,latmax],aspect=\"auto\")\n",
    "_ = plt.colorbar()"
   ]
  },
  {
   "cell_type": "markdown",
   "id": "44a3ae26",
   "metadata": {},
   "source": []
  }
 ],
 "metadata": {
  "kernelspec": {
   "display_name": "Python 3",
   "language": "python",
   "name": "python3"
  },
  "language_info": {
   "codemirror_mode": {
    "name": "ipython",
    "version": 3
   },
   "file_extension": ".py",
   "mimetype": "text/x-python",
   "name": "python",
   "nbconvert_exporter": "python",
   "pygments_lexer": "ipython3",
   "version": "3.8.8"
  }
 },
 "nbformat": 4,
 "nbformat_minor": 5
}
