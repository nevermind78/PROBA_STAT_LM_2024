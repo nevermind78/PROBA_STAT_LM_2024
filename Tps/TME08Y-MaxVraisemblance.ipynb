{
 "cells": [
  {
   "cell_type": "markdown",
   "metadata": {},
   "source": [
    "# Qui êtes-vous ?\n",
    "<div class=\"alert alert-block alert-info\">\n",
    "Écrire ci-dessous le nom, le prénom et le numéro étudiant de chaque membre du binôme :\n",
    "</div>"
   ]
  },
  {
   "cell_type": "code",
   "execution_count": 1,
   "metadata": {
    "collapsed": true
   },
   "outputs": [],
   "source": []
  },
  {
   "cell_type": "markdown",
   "metadata": {},
   "source": [
    "# TME 08Y - Maximum de vraisemblance 2"
   ]
  },
  {
   "cell_type": "markdown",
   "metadata": {},
   "source": [
    "<div class=\"alert alert-block alert-warning\">\n",
    "Ce TME fait suite au TME 08X que vous devez terminer avant de poursuivre celui-ci\n",
    "</div>"
   ]
  },
  {
   "cell_type": "code",
   "execution_count": 2,
   "metadata": {
    "collapsed": true
   },
   "outputs": [],
   "source": [
    "import numpy as np\n",
    "import pandas as pd\n",
    "import matplotlib.pyplot as plt\n",
    "%matplotlib inline"
   ]
  },
  {
   "cell_type": "markdown",
   "metadata": {},
   "source": [
    "# 1 - Test de notre modèle sur de nouvelles données"
   ]
  },
  {
   "cell_type": "markdown",
   "metadata": {},
   "source": [
    "<div class=\"alert alert-block alert-warning\">\n",
    "Nous allons commencer par charger des données de test qui se présentent comme les données du TME 08X.\n",
    "</div>"
   ]
  },
  {
   "cell_type": "markdown",
   "metadata": {},
   "source": [
    "<div class=\"alert alert-block alert-info\">\n",
    "Exécuter le bloc suivant pour charger les données de test (différentes des données du TME 08X).\n",
    "</div>"
   ]
  },
  {
   "cell_type": "code",
   "execution_count": 3,
   "metadata": {
    "collapsed": false,
    "scrolled": true
   },
   "outputs": [
    {
     "data": {
      "text/plain": [
       "(array([[0.        , 0.        , 0.        , 0.        , 0.        ,\n",
       "         0.        , 0.        , 0.        , 0.        , 0.        ,\n",
       "         0.        , 0.        , 0.        , 0.        , 0.        ,\n",
       "         0.        ],\n",
       "        [0.        , 0.        , 0.        , 0.        , 0.        ,\n",
       "         0.60058594, 0.83251953, 0.76464844, 0.35595703, 0.06347656,\n",
       "         0.        , 0.        , 0.        , 0.        , 0.        ,\n",
       "         0.        ],\n",
       "        [0.        , 0.        , 0.        , 0.        , 0.        ,\n",
       "         0.20996094, 0.50878906, 0.74658203, 0.98925781, 0.94189453,\n",
       "         0.49951172, 0.05349731, 0.        , 0.        , 0.        ,\n",
       "         0.        ],\n",
       "        [0.        , 0.        , 0.        , 0.        , 0.        ,\n",
       "         0.        , 0.        , 0.        , 0.10302734, 0.49438477,\n",
       "         0.94140625, 0.83398438, 0.11199951, 0.        , 0.        ,\n",
       "         0.        ],\n",
       "        [0.        , 0.        , 0.        , 0.        , 0.        ,\n",
       "         0.        , 0.        , 0.        , 0.        , 0.        ,\n",
       "         0.10302734, 0.87841797, 0.79736328, 0.        , 0.        ,\n",
       "         0.        ],\n",
       "        [0.        , 0.        , 0.        , 0.        , 0.        ,\n",
       "         0.        , 0.        , 0.        , 0.        , 0.        ,\n",
       "         0.        , 0.31689453, 1.        , 0.27709961, 0.        ,\n",
       "         0.        ],\n",
       "        [0.        , 0.        , 0.        , 0.        , 0.        ,\n",
       "         0.        , 0.        , 0.        , 0.        , 0.        ,\n",
       "         0.        , 0.18896484, 1.        , 0.45703125, 0.        ,\n",
       "         0.        ],\n",
       "        [0.        , 0.        , 0.        , 0.        , 0.        ,\n",
       "         0.        , 0.        , 0.        , 0.        , 0.        ,\n",
       "         0.        , 0.44238281, 1.        , 0.30761719, 0.        ,\n",
       "         0.        ],\n",
       "        [0.43896484, 0.73583984, 0.83886719, 1.        , 1.        ,\n",
       "         1.        , 0.85253906, 0.51953125, 0.14196777, 0.        ,\n",
       "         0.16955566, 0.92773438, 0.91894531, 0.05450439, 0.        ,\n",
       "         0.        ],\n",
       "        [0.88964844, 0.82617188, 0.46191406, 0.36645508, 0.36645508,\n",
       "         0.58886719, 0.91308594, 1.        , 0.97558594, 0.70654297,\n",
       "         0.97265625, 0.99169922, 0.23254395, 0.        , 0.        ,\n",
       "         0.        ],\n",
       "        [0.70947266, 0.55761719, 0.22253418, 0.03900146, 0.22802734,\n",
       "         0.26708984, 0.47900391, 0.94042969, 1.        , 1.        ,\n",
       "         1.        , 0.82617188, 0.05700684, 0.        , 0.        ,\n",
       "         0.        ],\n",
       "        [0.11450195, 0.76855469, 1.        , 1.        , 1.        ,\n",
       "         1.        , 1.        , 0.94580078, 0.8515625 , 0.64404297,\n",
       "         0.70556641, 1.        , 0.91503906, 0.24353027, 0.        ,\n",
       "         0.        ],\n",
       "        [0.        , 0.00900269, 0.13305664, 0.32739258, 0.32739258,\n",
       "         0.32739258, 0.2130127 , 0.05999756, 0.        , 0.        ,\n",
       "         0.        , 0.31103516, 0.91552734, 0.92626953, 0.11999512,\n",
       "         0.        ],\n",
       "        [0.        , 0.        , 0.        , 0.        , 0.        ,\n",
       "         0.        , 0.        , 0.        , 0.        , 0.        ,\n",
       "         0.        , 0.        , 0.125     , 0.88427734, 0.79443359,\n",
       "         0.43701172],\n",
       "        [0.        , 0.        , 0.        , 0.        , 0.        ,\n",
       "         0.        , 0.        , 0.        , 0.        , 0.        ,\n",
       "         0.        , 0.        , 0.        , 0.1829834 , 0.81738281,\n",
       "         0.56591797],\n",
       "        [0.        , 0.        , 0.        , 0.        , 0.        ,\n",
       "         0.        , 0.        , 0.        , 0.        , 0.        ,\n",
       "         0.        , 0.        , 0.        , 0.        , 0.        ,\n",
       "         0.        ]]), 2)"
      ]
     },
     "execution_count": 3,
     "metadata": {},
     "output_type": "execute_result"
    }
   ],
   "source": [
    "import pickle as pkl\n",
    "import gzip\n",
    "image_test = pkl.load(gzip.open('image-test.pkl.gz','rb'))\n",
    "chiffre_test = pkl.load(gzip.open('chiffre-test.pkl.gz','rb')) \n",
    "image_test[0], chiffre_test[0]"
   ]
  },
  {
   "cell_type": "markdown",
   "metadata": {},
   "source": [
    "<div class=\"alert alert-block alert-info\">\n",
    "Exécuter le bloc suivant pour définir la liste, pour chacun des chiffres, des tuples <code>(mu, sigma)</code> que vous auriez dû trouver au TME 08X.\n",
    "</div>"
   ]
  },
  {
   "cell_type": "code",
   "execution_count": 4,
   "metadata": {
    "collapsed": true,
    "scrolled": false
   },
   "outputs": [],
   "source": [
    "parametres_tous_chiffres = pkl.load(gzip.open(\"modele.pkl.gz\", 'rb'))"
   ]
  },
  {
   "cell_type": "markdown",
   "metadata": {},
   "source": [
    "<div class=\"alert alert-block alert-warning\">\n",
    "<code>parametres_tous_chiffres</code> est une liste de 10 tuples, chaque tuple correspond à un chiffre entre 0 et 9.\n",
    "    \n",
    "Par exemple, le premier tuple correspond à l'estimation de la moyenne et de la variance des images représentant des 0.\n",
    "    \n",
    "Le premier tuple est constitué :\n",
    "<ul>\n",
    "    <li>d'une matrice $16 \\times 16$ constituée des estimations des moyennes $\\mu^{(0)}_{i, j}$</li>\n",
    "    <li>d'une matrice $16 \\times 16$ constituée des estimations des variances $(\\sigma^{(0)}_{i, j})^2$</li>\n",
    "</ul>\n",
    "Par exemple, $\\mu^{(0)}_{5, 4}$ est, pour les images représentant des 0, la moyenne des pixels situés ligne 5 et colonne 4.\n",
    "    \n",
    "Par exemple, $(\\sigma^{(0)}_{5, 4})^2$ est, pour les images représentant des 0, la variance des pixels situés ligne 5 et colonne 4.  \n",
    "    \n",
    "    \n",
    "Les tuples suivants sont constitués de la même manière mais correspondent aux autres chiffres.\n",
    "</div>"
   ]
  },
  {
   "cell_type": "markdown",
   "metadata": {},
   "source": [
    "<div class=\"alert alert-block alert-info\">\n",
    "    Q1.1 - Récupérer la fonction <code>log_densite</code> du TME 08X qui calcule la valeur de la log-densité pour une image et les paramètres $\\mu^{(0)}_{i, j}, (\\sigma^{(0)}_{i, j})^2$ correspondant à un chiffre particulier.\n",
    "</div>"
   ]
  },
  {
   "cell_type": "code",
   "execution_count": 5,
   "metadata": {
    "collapsed": false,
    "scrolled": true
   },
   "outputs": [],
   "source": [
    "def log_densite(image, parametres):\n",
    "    mu, sig2 = parametres\n",
    "    sig2 = np.maximum(sig2, 1e-3)\n",
    "    res = np.zeros((16,16))\n",
    "    for i in range(16):\n",
    "        for j in range(16):\n",
    "            res[i][j] = np.sum(np.log(2*np.pi*sig2[i][j]) + (image[i][j] - mu[i][j])**2 / sig2[i][j])\n",
    "    \n",
    "    return -np.sum(res)/2"
   ]
  },
  {
   "cell_type": "markdown",
   "metadata": {},
   "source": [
    "<div class=\"alert alert-block alert-info\">\n",
    "    Q1.2 - Récupérer la fonction <code>plus_vraisemblable</code> du TME 08X qui, étant donné une seule image\n",
    "    et l'ensemble des <code>parametres_tous_chiffres</code>, calcule le chiffre le plus vraisemblablement représenté sur l'image.\n",
    "</div>"
   ]
  },
  {
   "cell_type": "code",
   "execution_count": 6,
   "metadata": {
    "collapsed": true
   },
   "outputs": [],
   "source": [
    "def plus_vraisemblable(image, parametres):\n",
    "    \n",
    "    maxi = log_densite(image, parametres[0])\n",
    "    i_max = 0\n",
    "    \n",
    "    for i in range(1, len(parametres)):\n",
    "        (mu, sigma2) = parametres[i]\n",
    "        if log_densite(image, (mu, sigma2)) > maxi:\n",
    "            \n",
    "            maxi = log_densite(image, (mu, sigma2))\n",
    "            i_max = i\n",
    "         \n",
    "    \n",
    "    return i_max"
   ]
  },
  {
   "cell_type": "code",
   "execution_count": 7,
   "metadata": {
    "collapsed": true
   },
   "outputs": [],
   "source": [
    "def plus_vraisemblable_test(image, parametres):\n",
    "    return max(range(10),key=lambda x:log_densite(image,parametres[x]))"
   ]
  },
  {
   "cell_type": "markdown",
   "metadata": {},
   "source": [
    "<div class=\"alert alert-block alert-info\">\n",
    "    Q1.3 - Récupérer la fonction <code>prediction</code> du TME 08X qui, étant donné un vecteur d'<code>image</code>s\n",
    "    et l'ensemble des <code>parametres_tous_chiffres</code>, calcule le vecteur des chiffres les plus vraisemblablement représentés.\n",
    "</div>"
   ]
  },
  {
   "cell_type": "code",
   "execution_count": 8,
   "metadata": {
    "collapsed": true
   },
   "outputs": [],
   "source": [
    "def prediction(image, parametres):\n",
    "    res = []\n",
    "    for i in image:\n",
    "        res.append(plus_vraisemblable_test(i, parametres))\n",
    "    return res"
   ]
  },
  {
   "cell_type": "markdown",
   "metadata": {},
   "source": [
    "<div class=\"alert alert-block alert-info\">\n",
    "Exécuter le bloc suivant pour stocker dans une variable <code>chiffre_predit</code> le vecteur des prédictions.\n",
    "</div>"
   ]
  },
  {
   "cell_type": "code",
   "execution_count": 9,
   "metadata": {
    "collapsed": false
   },
   "outputs": [],
   "source": [
    "chiffre_predit = prediction(image_test, parametres_tous_chiffres)\n",
    "#chiffre_predit[0]"
   ]
  },
  {
   "cell_type": "markdown",
   "metadata": {},
   "source": [
    "<div class=\"alert alert-block alert-info\">\n",
    "Q1.4 - Récupérer la fonction <code>matrice_confusion</code>  du TME 08X qui, étant donné les <code>prédictions</code> précédentes et les <code>vrais_chiffres</code>, calcule la matrice de confusion.\n",
    "</div>"
   ]
  },
  {
   "cell_type": "code",
   "execution_count": 10,
   "metadata": {
    "collapsed": true
   },
   "outputs": [],
   "source": [
    "def matrice_confusion(predit,chiff):\n",
    "    res=np.zeros((10,10))\n",
    "    for i in range (len(predit)):\n",
    "        res[predit[i],chiff[i]]+=1\n",
    "    return res"
   ]
  },
  {
   "cell_type": "markdown",
   "metadata": {},
   "source": [
    "<div class=\"alert alert-block alert-info\">\n",
    "Exécuter le bloc suivant pour visualiser la matrice de confusion.\n",
    "</div>"
   ]
  },
  {
   "cell_type": "code",
   "execution_count": 11,
   "metadata": {
    "collapsed": false,
    "scrolled": true
   },
   "outputs": [
    {
     "data": {
      "image/png": "[encoded data removed]",
      "text/plain": [
       "<matplotlib.figure.Figure at 0x7ffade40d610>"
      ]
     },
     "metadata": {},
     "output_type": "display_data"
    }
   ],
   "source": [
    "_ = plt.imshow(matrice_confusion(chiffre_predit, chiffre_test))\n",
    "_ = plt.colorbar()"
   ]
  },
  {
   "cell_type": "code",
   "execution_count": 22,
   "metadata": {
    "collapsed": false
   },
   "outputs": [
    {
     "data": {
      "text/plain": [
       "array([[423.,   0.,   0.,   6.,   1.,  13.,   5.,   0.,   1.,   0.],\n",
       "       [  0., 404.,   0.,   0.,   0.,   0.,   1.,   0.,   3.,   1.],\n",
       "       [  4.,   2., 262.,  14.,   4.,   4.,   7.,   4.,   4.,   0.],\n",
       "       [  0.,   0.,   5., 191.,   0.,  17.,   0.,   1.,   3.,   0.],\n",
       "       [  4.,   1.,   4.,   3., 136.,   7.,   4.,   8.,   3.,  16.],\n",
       "       [  1.,   0.,   2.,   7.,   6., 136.,   5.,   0.,   7.,   0.],\n",
       "       [ 10.,   1.,  12.,   1.,  10.,  42., 236.,   0.,   0.,   0.],\n",
       "       [  0.,   0.,   2.,   2.,   2.,   0.,   0., 248.,   1.,   7.],\n",
       "       [ 45.,   2.,  23.,  33.,   7.,  19.,   3.,   3., 167.,   4.],\n",
       "       [  1.,   2.,   1.,   3., 140.,   6.,   0.,  18.,  35., 253.]])"
      ]
     },
     "execution_count": 22,
     "metadata": {},
     "output_type": "execute_result"
    }
   ],
   "source": [
    "#chiffre_test[0]\n",
    "matrice_confusion(chiffre_predit, chiffre_test)"
   ]
  },
  {
   "cell_type": "markdown",
   "metadata": {},
   "source": [
    "<div class=\"alert alert-block alert-info\">\n",
    "    Q1.5 - Écrire une fonction <code>taux_bonne_classif</code> qui, étant donné les <code>prédictions</code> précédentes et les <code>vrais_chiffres</code>, calcule le taux de bonnes classifications.\n",
    "</div>"
   ]
  },
  {
   "cell_type": "markdown",
   "metadata": {},
   "source": [
    "def taux_bonne_classif2(predit, chiff):\n",
    "    nb=0\n",
    "    for i in range (len(predit)):\n",
    "        if predit[i]==chiff[i]:\n",
    "            nb+=1\n",
    "    return nb*(1./len(predit))\n"
   ]
  },
  {
   "cell_type": "code",
   "execution_count": 49,
   "metadata": {
    "collapsed": true
   },
   "outputs": [],
   "source": [
    "def taux_bonne_classif(predit, chiff):\n",
    "    nb=0\n",
    "    matrice = matrice_confusion(predit, chiff)\n",
    "    for i in range(len(matrice)):\n",
    "        nb += matrice[i][i]\n",
    "    print(nb)\n",
    "    return nb*(1./len(predit))"
   ]
  },
  {
   "cell_type": "markdown",
   "metadata": {},
   "source": [
    "<div class=\"alert alert-block alert-info\">\n",
    "    Q1.6 - Calculer le taux de bonne classification sur nos données de test.\n",
    "</div>"
   ]
  },
  {
   "cell_type": "code",
   "execution_count": 51,
   "metadata": {
    "collapsed": false
   },
   "outputs": [
    {
     "name": "stdout",
     "output_type": "stream",
     "text": [
      "2456.0\n"
     ]
    },
    {
     "data": {
      "text/plain": [
       "0.8002606712284132"
      ]
     },
     "execution_count": 51,
     "metadata": {},
     "output_type": "execute_result"
    }
   ],
   "source": [
    "taux_bonne_classif(chiffre_predit, chiffre_test)"
   ]
  },
  {
   "cell_type": "markdown",
   "metadata": {},
   "source": [
    "<div class=\"alert alert-block alert-warning\">\n",
    "    Vous devez trouver <code>0.7018572825024438</code>. Pas trop mal, non ?\n",
    "</div>"
   ]
  },
  {
   "cell_type": "markdown",
   "metadata": {},
   "source": [
    "# 2 -Binarisation des images"
   ]
  },
  {
   "cell_type": "markdown",
   "metadata": {},
   "source": [
    "<div class=\"alert alert-block alert-warning\">\n",
    "Au lieu d'estimer chaque pixel par une loi normale, nous allons l'estimer par une loi de Bernoulli. Nous gardons l'hypothèse qu'au sein d'un modèle représentant un des chiffres, les pixels sont indépendants les uns des autres.\n",
    "</div>"
   ]
  },
  {
   "cell_type": "markdown",
   "metadata": {},
   "source": [
    "<div class=\"alert alert-block alert-warning\">\n",
    "Pour cela, nous avons besoin de binariser les pixels, c'est-à-dire faire en sorte qu'ils ne prennent que deux valeurs : 0 ou 1.\n",
    "</div>"
   ]
  },
  {
   "cell_type": "markdown",
   "metadata": {},
   "source": [
    "<div class=\"alert alert-block alert-info\">\n",
    "Exécuter le bloc suivant pour recharger les données d'apprentissage.\n",
    "</div>"
   ]
  },
  {
   "cell_type": "code",
   "execution_count": 15,
   "metadata": {
    "collapsed": true
   },
   "outputs": [],
   "source": [
    "image = pkl.load(gzip.open('image.pkl.gz','rb'))\n",
    "chiffre = pkl.load(gzip.open('chiffre.pkl.gz','rb')) "
   ]
  },
  {
   "cell_type": "markdown",
   "metadata": {},
   "source": [
    "<div class=\"alert alert-block alert-info\">\n",
    "    Exécuter le bloc suivant pour définir les fonctions <code>affiche_une_image</code> et <code>affiche_des_images</code>.\n",
    "</div>"
   ]
  },
  {
   "cell_type": "code",
   "execution_count": 16,
   "metadata": {
    "collapsed": true
   },
   "outputs": [],
   "source": [
    "def affiche_une_image(image):\n",
    "    _ = plt.imshow(image, cmap='gray', interpolation='none')\n",
    "    _ = plt.colorbar()\n",
    "    return None\n",
    "\n",
    "def affiche_des_images(tab_images):\n",
    "    nb = min(len(tab_images), 10)\n",
    "    fig = plt.figure(figsize=(16, 16))\n",
    "    for i in range(nb):\n",
    "        fig.add_subplot(1, nb, i+1)\n",
    "        _ = plt.imshow(tab_images[i], cmap='gray', interpolation='none')\n",
    "    plt.show()\n",
    "    return None"
   ]
  },
  {
   "cell_type": "markdown",
   "metadata": {},
   "source": [
    "<div class=\"alert alert-block alert-info\">\n",
    "    Q2.1 - Écrire une fonction <code>binarise</code> qui, étant donné une image <code>im</code>, retourne l'image binarisée en remplaçant toutes les valeurs strictement positives par des 1.\n",
    "</div>"
   ]
  },
  {
   "cell_type": "code",
   "execution_count": 17,
   "metadata": {
    "collapsed": true
   },
   "outputs": [],
   "source": [
    "def binarise(im):\n",
    "    for i in range(len(im)):\n",
    "        for j in range(16):\n",
    "            #for k in range(16):\n",
    "            if im[i][j]>0:\n",
    "                im[i][j] = 1\n",
    "    return im"
   ]
  },
  {
   "cell_type": "code",
   "execution_count": 18,
   "metadata": {
    "collapsed": false
   },
   "outputs": [
    {
     "data": {
      "text/plain": [
       "array([0, 9, 7, ..., 6, 3, 2])"
      ]
     },
     "execution_count": 18,
     "metadata": {},
     "output_type": "execute_result"
    }
   ],
   "source": [
    "chiffre"
   ]
  },
  {
   "cell_type": "markdown",
   "metadata": {},
   "source": [
    "<div class=\"alert alert-block alert-info\">\n",
    "Tester votre fonction sur l'image d'un 8.\n",
    "</div>"
   ]
  },
  {
   "cell_type": "code",
   "execution_count": 19,
   "metadata": {
    "collapsed": false
   },
   "outputs": [
    {
     "data": {
      "image/png": "[encoded data removed]",
      "text/plain": [
       "<matplotlib.figure.Figure at 0x7ffade114e90>"
      ]
     },
     "metadata": {},
     "output_type": "display_data"
    }
   ],
   "source": [
    "affiche_une_image(binarise(image[40]))"
   ]
  },
  {
   "cell_type": "markdown",
   "metadata": {},
   "source": [
    "<div class=\"alert alert-block alert-info\">\n",
    "    Q2.2 - Définir une variable <code>image_bin</code> contenant le vecteur des images binarisées de la base <code>image</code>.\n",
    "</div>"
   ]
  },
  {
   "cell_type": "code",
   "execution_count": 20,
   "metadata": {
    "collapsed": true
   },
   "outputs": [],
   "source": [
    "image_bin = [binarise(im) for im in image]"
   ]
  },
  {
   "cell_type": "markdown",
   "metadata": {},
   "source": [
    "<div class=\"alert alert-block alert-info\">\n",
    "Observer les images de <code>image_bin</code>\n",
    "</div>"
   ]
  },
  {
   "cell_type": "code",
   "execution_count": 21,
   "metadata": {
    "collapsed": false
   },
   "outputs": [
    {
     "data": {
      "image/png": "[encoded data removed]",
      "text/plain": [
       "<matplotlib.figure.Figure at 0x7ffade1148d0>"
      ]
     },
     "metadata": {},
     "output_type": "display_data"
    }
   ],
   "source": [
    "affiche_des_images(image_bin)"
   ]
  },
  {
   "cell_type": "markdown",
   "metadata": {},
   "source": [
    "# 3 - Modèle de Bernoulli"
   ]
  },
  {
   "cell_type": "markdown",
   "metadata": {},
   "source": [
    "<div class=\"alert alert-block alert-warning\">\n",
    "On définit des variable aléatoire représentant les pixels composant une image d'un chiffre donné :\n",
    "$$\n",
    "\\begin{bmatrix} \n",
    "    X_{0, 0} & \\dots & X_{0, 15} \\\\\n",
    "    \\vdots & \\ddots & \\vdots \\\\\n",
    "    X_{15, 0} & \\dots & X_{15, 15} \n",
    "    \\end{bmatrix}\n",
    "$$\n",
    "\n",
    "On suppose de plus que la teinte de chaque pixel suit une loi de Bernoulli.\n",
    "$$\\forall i\\in\\{0,\\dots,15\\}, \\forall j\\in\\{0,\\dots,15\\}, X_{i,j} \\sim {\\mathcal B}(\\pi_{i,j})$$ \n",
    "</div>"
   ]
  },
  {
   "cell_type": "markdown",
   "metadata": {},
   "source": [
    "<div class=\"alert alert-block alert-warning\">\n",
    "L'estimateur de maximum de vraisemblance pour les paramètres d'une loi de Bernoulli\n",
    "    pour des $X_i \\sim {\\mathcal B}(\\pi)$ <em>iid</em> sont :\n",
    "\n",
    "$$ \\Pi_{ML} = \\frac{1}{n} \\sum_{i = 1}^{n} X_i$$\n",
    "</div>"
   ]
  },
  {
   "cell_type": "markdown",
   "metadata": {},
   "source": [
    "<div class=\"alert alert-block alert-info\">\n",
    "Q3 - Refaire le même travail que dans le TME 8X mais avec le modèle de Bernoulli.\n",
    "</div>"
   ]
  },
  {
   "cell_type": "code",
   "execution_count": 23,
   "metadata": {
    "collapsed": true
   },
   "outputs": [],
   "source": [
    "def estimation2(data):\n",
    "    return np.mean(data)"
   ]
  },
  {
   "cell_type": "code",
   "execution_count": 99,
   "metadata": {
    "collapsed": false
   },
   "outputs": [
    {
     "data": {
      "text/plain": [
       "[0.532882188967136,\n",
       " 0.2373833138856476,\n",
       " 0.45030592637540456,\n",
       " 0.45901900487588654,\n",
       " 0.36494820283882784,\n",
       " 0.4671361890889831,\n",
       " 0.4089291557591623,\n",
       " 0.3424402573529412,\n",
       " 0.4598802298553719,\n",
       " 0.3724175347222222]"
      ]
     },
     "execution_count": 99,
     "metadata": {},
     "output_type": "execute_result"
    }
   ],
   "source": [
    "mu_tous_chiffres=[estimation2(i) for i in [estimation2(image[chiffre == i]) for i in range(10)]]\n",
    "mu_tous_chiffres"
   ]
  },
  {
   "cell_type": "code",
   "execution_count": 100,
   "metadata": {
    "collapsed": false
   },
   "outputs": [],
   "source": [
    "def log_densite2(im, parametres):\n",
    "    n = len(im)*len(im[1])\n",
    "    y = np.sum(im)\n",
    "    return y*np.log(parametres)+(n-y)*np.log(1-parametres)\n",
    "    #return [parametres[i]**((np.sum(image[i])))*(1-parametres[i])**((len(image[i])-np.sum(image[i]))) for i in range(10)]"
   ]
  },
  {
   "cell_type": "code",
   "execution_count": 101,
   "metadata": {
    "collapsed": false
   },
   "outputs": [
    {
     "data": {
      "text/plain": [
       "-256.10862991012397"
      ]
     },
     "execution_count": 101,
     "metadata": {},
     "output_type": "execute_result"
    }
   ],
   "source": [
    "log_densite2(image[0],mu_tous_chiffres[1])"
   ]
  },
  {
   "cell_type": "code",
   "execution_count": 103,
   "metadata": {
    "collapsed": true
   },
   "outputs": [],
   "source": [
    "def plus_vraisemblable_test2(image, parametres):\n",
    "    return max(range(10),key=lambda x:log_densite2(image,parametres[x]))"
   ]
  },
  {
   "cell_type": "code",
   "execution_count": 104,
   "metadata": {
    "collapsed": false
   },
   "outputs": [
    {
     "data": {
      "text/plain": [
       "2"
      ]
     },
     "execution_count": 104,
     "metadata": {},
     "output_type": "execute_result"
    }
   ],
   "source": [
    "plus_vraisemblable_test2(image[40], mu_tous_chiffres)"
   ]
  },
  {
   "cell_type": "code",
   "execution_count": 105,
   "metadata": {
    "collapsed": false
   },
   "outputs": [
    {
     "data": {
      "text/plain": [
       "array([0, 9, 7, ..., 6, 3, 2])"
      ]
     },
     "execution_count": 105,
     "metadata": {},
     "output_type": "execute_result"
    }
   ],
   "source": [
    "chiffre"
   ]
  },
  {
   "cell_type": "code",
   "execution_count": null,
   "metadata": {
    "collapsed": true
   },
   "outputs": [],
   "source": []
  },
  {
   "cell_type": "code",
   "execution_count": null,
   "metadata": {
    "collapsed": true
   },
   "outputs": [],
   "source": []
  }
 ],
 "metadata": {
  "anaconda-cloud": {},
  "kernelspec": {
   "display_name": "Python [conda root]",
   "language": "python",
   "name": "conda-root-py"
  },
  "language_info": {
   "codemirror_mode": {
    "name": "ipython",
    "version": 2
   },
   "file_extension": ".py",
   "mimetype": "text/x-python",
   "name": "python",
   "nbconvert_exporter": "python",
   "pygments_lexer": "ipython2",
   "version": "2.7.12"
  }
 },
 "nbformat": 4,
 "nbformat_minor": 5
}
