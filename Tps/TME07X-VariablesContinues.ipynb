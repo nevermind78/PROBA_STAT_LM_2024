{
 "cells": [
  {
   "cell_type": "markdown",
   "id": "25758d42",
   "metadata": {},
   "source": [
    "# Qui êtes-vous ?\n",
    "<div class=\"alert alert-block alert-info\">\n",
    "Écrire ci-dessous le nom, le prénom et le numéro étudiant de chaque membre du binôme :\n",
    "</div>"
   ]
  },
  {
   "cell_type": "code",
   "execution_count": 1,
   "id": "c6d64caf",
   "metadata": {},
   "outputs": [],
   "source": []
  },
  {
   "cell_type": "markdown",
   "id": "tracked-control",
   "metadata": {},
   "source": [
    "# TME 07X - Variables continues"
   ]
  },
  {
   "cell_type": "code",
   "execution_count": 2,
   "id": "beneficial-glossary",
   "metadata": {},
   "outputs": [],
   "source": [
    "import numpy as np\n",
    "import pandas as pd\n",
    "import matplotlib.pyplot as plt\n",
    "%matplotlib inline"
   ]
  },
  {
   "cell_type": "markdown",
   "id": "0411a51e",
   "metadata": {},
   "source": [
    "## 1 - Loi uniforme"
   ]
  },
  {
   "cell_type": "markdown",
   "id": "a01d3424",
   "metadata": {},
   "source": [
    "<div class=\"alert alert-block alert-warning\">\n",
    "    La loi uniforme sur l'intervalle $[0, 1]$ est la loi de la variable\n",
    "    aléatoire $X$ réelle à valeurs dans $[0, 1]$ telle que\n",
    "    $$\n",
    "    f(x) = 1\\text{ si $x \\in [0, 1]$ et 0 sinon}.\n",
    "    $$\n",
    "    On note alors $X \\sim \\mathcal{U}([0, 1])$.\n",
    "</div>"
   ]
  },
  {
   "cell_type": "markdown",
   "id": "0316d350",
   "metadata": {},
   "source": [
    "<div class=\"alert alert-block alert-info\">\n",
    "Q1.1 - Écrire la définition de la fonction <code>loi_uniforme</code> qui étant donné une valeur <code>x</code>, renvoie la valeur de la fonction densité de la loi uniforme en <code>x</code>.\n",
    "</div>"
   ]
  },
  {
   "cell_type": "code",
   "execution_count": 3,
   "id": "431f80e7",
   "metadata": {},
   "outputs": [],
   "source": [
    "def loi_uniforme(x):\n",
    "    if x>=0 and x<=1:\n",
    "        return 1\n",
    "    else:\n",
    "        return 0"
   ]
  },
  {
   "cell_type": "markdown",
   "id": "c40af40e",
   "metadata": {},
   "source": [
    "<div class=\"alert alert-block alert-warning\">\n",
    "    On peut utiliser la fonction <code>np.arange(xmin, xmax, delta)</code> pour générer un vecteur de valeurs comprises entre <code>xmin</code> inclus et <code>xmax</code> exclu avec un espacement égal à <code>delta</code> entre deux valeurs successives.\n",
    "</div>"
   ]
  },
  {
   "cell_type": "markdown",
   "id": "7854395d",
   "metadata": {},
   "source": [
    "<div class=\"alert alert-block alert-info\">\n",
    "Exécuter le bloc ci-dessous pour obtenir les valeurs entre 0 et 1 espacées de 0.1.\n",
    "</div>"
   ]
  },
  {
   "cell_type": "code",
   "execution_count": 4,
   "id": "52778aa3",
   "metadata": {},
   "outputs": [
    {
     "data": {
      "text/plain": [
       "array([0. , 0.1, 0.2, 0.3, 0.4, 0.5, 0.6, 0.7, 0.8, 0.9])"
      ]
     },
     "execution_count": 4,
     "metadata": {},
     "output_type": "execute_result"
    }
   ],
   "source": [
    "np.arange(0, 1, .1)"
   ]
  },
  {
   "cell_type": "markdown",
   "id": "fef0a4a7",
   "metadata": {},
   "source": [
    "<div class=\"alert alert-block alert-info\">\n",
    "    Q1.2 - Dessiner une courbe qui donne l'allure de la fonction (densité) <code>loi_uniforme</code> entre -1 et 2.\n",
    "</div>"
   ]
  },
  {
   "cell_type": "code",
   "execution_count": 5,
   "id": "2911d2c2",
   "metadata": {},
   "outputs": [
    {
     "data": {
      "text/plain": [
       "[<matplotlib.lines.Line2D at 0x17c1d407fd0>]"
      ]
     },
     "execution_count": 5,
     "metadata": {},
     "output_type": "execute_result"
    },
    {
     "data": {
      "image/png": "[encoded data removed]",
      "text/plain": [
       "<Figure size 432x288 with 1 Axes>"
      ]
     },
     "metadata": {
      "needs_background": "light"
     },
     "output_type": "display_data"
    }
   ],
   "source": [
    "plt.plot(np.arange(-1,2,.01), np.array([loi_uniforme(x) for x in np.arange(-1,2,.01)]))"
   ]
  },
  {
   "cell_type": "markdown",
   "id": "74daf97a",
   "metadata": {},
   "source": [
    "<div class=\"alert alert-block alert-warning\">\n",
    "Pour effectuer un tirage aléatoire selon la loi $\\mathcal{U}([0, 1])$, on utilise la fonction <code>np.random.rand()</code>.\n",
    "</div>"
   ]
  },
  {
   "cell_type": "markdown",
   "id": "301f713e",
   "metadata": {},
   "source": [
    "<div class=\"alert alert-block alert-info\">\n",
    "Q1.3 - Écrire la définition de la fonction <code>tirage_uniforme</code> qui étant donné une valeur <code>n</code>, renvoie un vecteur de <code>n</code> tirages selon la loi uniforme $\\mathcal{U}([0, 1])$.\n",
    "</div>"
   ]
  },
  {
   "cell_type": "code",
   "execution_count": 6,
   "id": "5ca005ed",
   "metadata": {},
   "outputs": [],
   "source": [
    "def tirage_uniforme(n):\n",
    "    return [np.random.rand() for i in range(n)]"
   ]
  },
  {
   "cell_type": "markdown",
   "id": "3d8a36fb",
   "metadata": {},
   "source": [
    "<div class=\"alert alert-block alert-info\">\n",
    "    Q1.4 - Tester la fonction <code>tirage_uniforme</code> en tirant un vecteur de taille 20.\n",
    "</div>"
   ]
  },
  {
   "cell_type": "code",
   "execution_count": 7,
   "id": "309e32e3",
   "metadata": {},
   "outputs": [
    {
     "data": {
      "text/plain": [
       "[0.3691282967941222,\n",
       " 0.11287919648701117,\n",
       " 0.1752014562228973,\n",
       " 0.6734684447852365,\n",
       " 0.5659825959493507,\n",
       " 0.32225787370363446,\n",
       " 0.8171972274838993,\n",
       " 0.9240625772165503,\n",
       " 0.2561097185259096,\n",
       " 0.5016535033263345,\n",
       " 0.24165126062965825,\n",
       " 0.010796016473683334,\n",
       " 0.18538956931254102,\n",
       " 0.9753357634018565,\n",
       " 0.9320942443108894,\n",
       " 0.24701439412624104,\n",
       " 0.8152719324611272,\n",
       " 0.06703632986797825,\n",
       " 0.1696322505338166,\n",
       " 0.9329372382935555]"
      ]
     },
     "execution_count": 7,
     "metadata": {},
     "output_type": "execute_result"
    }
   ],
   "source": [
    "tirage_uniforme(20)"
   ]
  },
  {
   "cell_type": "markdown",
   "id": "c8cd5164",
   "metadata": {},
   "source": [
    "<div class=\"alert alert-block alert-warning\">\n",
    "    La fonction <code>plt.hist(data, bins = n)</code> permet de tracer l'histogramme des données <code>data</code> passées en entrée, en discrétisant l'intervalle d'entrée en <code>n</code> segments.\n",
    "</div>"
   ]
  },
  {
   "cell_type": "markdown",
   "id": "7112d883",
   "metadata": {},
   "source": [
    "<div class=\"alert alert-block alert-info\">\n",
    "Q1.5 - Dessiner un histogramme à partir de 1000 tirages selon la loi uniforme.\n",
    "</div>"
   ]
  },
  {
   "cell_type": "code",
   "execution_count": 8,
   "id": "634911f2",
   "metadata": {},
   "outputs": [
    {
     "data": {
      "text/plain": [
       "(array([1., 1., 1., 0., 2., 1., 0., 1., 0., 0., 1., 0., 0., 0., 1., 0., 1.,\n",
       "        2., 0., 0., 2., 2., 0., 0., 2., 1., 0., 1., 0., 1., 0., 2., 3., 1.,\n",
       "        1., 0., 0., 0., 3., 0., 2., 0., 1., 0., 1., 2., 0., 1., 0., 1., 0.,\n",
       "        2., 1., 3., 1., 0., 1., 0., 1., 0., 0., 1., 0., 0., 0., 2., 1., 0.,\n",
       "        1., 1., 5., 2., 1., 0., 3., 2., 2., 1., 1., 0., 1., 2., 3., 1., 1.,\n",
       "        0., 0., 2., 2., 0., 0., 1., 2., 0., 2., 1., 0., 1., 0., 0., 1., 2.,\n",
       "        1., 0., 1., 3., 0., 1., 3., 4., 0., 0., 0., 0., 1., 4., 2., 1., 0.,\n",
       "        1., 0., 2., 1., 1., 0., 0., 1., 2., 3., 2., 2., 3., 0., 1., 4., 1.,\n",
       "        1., 1., 3., 1., 0., 1., 1., 0., 1., 1., 1., 1., 0., 1., 1., 2., 1.,\n",
       "        1., 2., 1., 1., 1., 1., 0., 1., 0., 0., 1., 0., 1., 4., 1., 0., 2.,\n",
       "        0., 1., 0., 2., 0., 0., 1., 0., 3., 0., 0., 1., 0., 0., 0., 2., 1.,\n",
       "        2., 1., 2., 1., 1., 2., 3., 1., 0., 0., 2., 1., 0., 3., 2., 1., 0.,\n",
       "        1., 1., 1., 1., 2., 2., 0., 0., 0., 1., 1., 1., 0., 1., 0., 3., 1.,\n",
       "        1., 2., 0., 0., 3., 0., 1., 0., 0., 1., 2., 2., 0., 1., 0., 2., 3.,\n",
       "        1., 1., 0., 0., 1., 1., 0., 1., 1., 1., 2., 0., 0., 2., 0., 0., 0.,\n",
       "        2., 3., 0., 1., 0., 0., 2., 0., 0., 0., 0., 0., 0., 1., 1., 1., 2.,\n",
       "        1., 0., 0., 1., 0., 0., 3., 0., 1., 1., 0., 0., 1., 0., 1., 2., 2.,\n",
       "        0., 0., 0., 1., 0., 0., 1., 2., 2., 0., 1., 0., 1., 0., 0., 1., 0.,\n",
       "        0., 2., 2., 2., 3., 1., 1., 1., 1., 1., 0., 2., 1., 0., 0., 0., 0.,\n",
       "        1., 2., 2., 5., 1., 0., 2., 2., 1., 1., 0., 1., 1., 2., 1., 1., 1.,\n",
       "        1., 1., 0., 0., 0., 0., 0., 1., 2., 0., 0., 0., 1., 0., 2., 0., 0.,\n",
       "        3., 0., 0., 0., 1., 1., 3., 1., 3., 0., 1., 0., 0., 0., 2., 1., 1.,\n",
       "        1., 1., 4., 1., 1., 0., 2., 1., 1., 0., 3., 1., 1., 0., 1., 1., 3.,\n",
       "        1., 0., 0., 0., 0., 0., 2., 1., 1., 1., 0., 0., 1., 2., 1., 0., 2.,\n",
       "        2., 0., 0., 1., 2., 2., 1., 1., 2., 0., 1., 1., 1., 2., 0., 0., 1.,\n",
       "        1., 0., 0., 1., 1., 0., 1., 0., 1., 0., 2., 3., 0., 0., 0., 0., 0.,\n",
       "        1., 0., 2., 0., 1., 4., 0., 0., 0., 1., 2., 1., 0., 2., 0., 1., 3.,\n",
       "        0., 2., 1., 1., 0., 2., 0., 0., 0., 1., 2., 1., 2., 2., 0., 0., 1.,\n",
       "        1., 2., 1., 2., 2., 3., 0., 3., 1., 0., 3., 3., 1., 1., 0., 2., 1.,\n",
       "        1., 2., 0., 0., 2., 2., 3., 1., 0., 2., 1., 2., 0., 3., 0., 0., 1.,\n",
       "        1., 1., 0., 4., 0., 2., 1., 1., 1., 1., 1., 3., 1., 3., 0., 1., 0.,\n",
       "        2., 0., 0., 1., 2., 2., 0., 1., 0., 2., 2., 1., 1., 2., 1., 0., 0.,\n",
       "        0., 2., 2., 2., 0., 0., 1., 1., 0., 1., 1., 3., 2., 0., 2., 0., 2.,\n",
       "        0., 1., 3., 1., 0., 0., 0., 2., 1., 1., 0., 1., 0., 0., 0., 0., 0.,\n",
       "        2., 0., 0., 1., 2., 1., 1., 1., 2., 0., 2., 0., 5., 2., 0., 1., 1.,\n",
       "        0., 2., 0., 0., 1., 1., 2., 1., 0., 2., 0., 0., 0., 2., 2., 0., 0.,\n",
       "        2., 0., 0., 0., 1., 0., 0., 1., 0., 1., 2., 0., 1., 3., 1., 2., 0.,\n",
       "        0., 0., 2., 1., 0., 0., 0., 0., 1., 3., 0., 0., 1., 2., 2., 0., 1.,\n",
       "        1., 2., 0., 0., 1., 0., 1., 0., 1., 2., 1., 1., 0., 0., 1., 1., 1.,\n",
       "        1., 3., 1., 0., 2., 0., 2., 1., 0., 0., 0., 2., 2., 1., 0., 1., 0.,\n",
       "        1., 3., 2., 1., 2., 1., 3., 0., 1., 1., 2., 0., 1., 0., 0., 0., 2.,\n",
       "        1., 0., 2., 4., 1., 0., 0., 1., 1., 1., 2., 0., 1., 3., 0., 1., 0.,\n",
       "        2., 1., 2., 2., 1., 0., 1., 2., 0., 1., 5., 3., 0., 0., 0., 1., 2.,\n",
       "        0., 2., 0., 1., 0., 0., 1., 1., 1., 3., 0., 5., 1., 1., 1., 0., 4.,\n",
       "        1., 0., 0., 1., 1., 0., 1., 4., 0., 2., 1., 1., 1., 2., 1., 1., 1.,\n",
       "        2., 1., 0., 1., 2., 0., 0., 0., 1., 1., 0., 2., 0., 2., 1., 1., 5.,\n",
       "        2., 0., 1., 0., 1., 0., 0., 1., 0., 2., 3., 2., 0., 2., 1., 2., 1.,\n",
       "        1., 0., 2., 2., 0., 0., 0., 1., 0., 0., 2., 1., 3., 1., 0., 1., 0.,\n",
       "        0., 1., 1., 0., 3., 0., 0., 2., 1., 1., 2., 1., 1., 0., 1., 2., 0.,\n",
       "        0., 2., 1., 2., 3., 3., 4., 3., 1., 1., 1., 1., 0., 1., 1., 0., 1.,\n",
       "        0., 0., 0., 3., 0., 1., 2., 0., 2., 2., 2., 1., 2., 3., 1., 0., 0.,\n",
       "        1., 1., 1., 1., 1., 0., 2., 1., 1., 0., 0., 0., 3., 1., 2., 1., 2.,\n",
       "        2., 0., 0., 2., 2., 2., 0., 0., 1., 1., 0., 1., 1., 1., 2., 1., 1.,\n",
       "        0., 0., 1., 0., 0., 1., 0., 1., 0., 5., 1., 1., 0., 1., 2., 0., 1.,\n",
       "        0., 0., 1., 1., 1., 1., 2., 0., 1., 1., 2., 0., 0., 1., 2., 2., 1.,\n",
       "        0., 0., 0., 1., 0., 0., 0., 1., 0., 1., 2., 0., 3., 1., 5., 2., 1.,\n",
       "        1., 2., 1., 3., 1., 0., 0., 4., 2., 1., 0., 1., 0., 4., 0., 3., 2.,\n",
       "        2., 2., 1., 1., 4., 0., 0., 3., 2., 0., 2., 0., 1., 0., 1., 1., 1.,\n",
       "        0., 2., 1., 0., 0., 0., 0., 0., 1., 3., 1., 3., 1., 1.]),\n",
       " array([1.31988114e-04, 1.13113586e-03, 2.13028361e-03, ...,\n",
       "        9.97281441e-01, 9.98280589e-01, 9.99279736e-01]),\n",
       " <BarContainer object of 1000 artists>)"
      ]
     },
     "execution_count": 8,
     "metadata": {},
     "output_type": "execute_result"
    },
    {
     "data": {
      "image/png": "[encoded data removed]",
      "text/plain": [
       "<Figure size 432x288 with 1 Axes>"
      ]
     },
     "metadata": {
      "needs_background": "light"
     },
     "output_type": "display_data"
    }
   ],
   "source": [
    "plt.hist(tirage_uniforme(1000), bins=1000)"
   ]
  },
  {
   "cell_type": "markdown",
   "id": "f5670b91",
   "metadata": {},
   "source": [
    "<div class=\"alert alert-block alert-info\">\n",
    "Q1.6 - Quel rapport voyez-vous entre le graphique de la question 1.2 et celui de la question 1.5 ?\n",
    "</div>"
   ]
  },
  {
   "cell_type": "code",
   "execution_count": 9,
   "id": "917a5c59",
   "metadata": {},
   "outputs": [],
   "source": [
    "#On remarque que toutes les valeurs des tirages selont la loi uniforme \n",
    "#sont comprises entre 0 et 1 ce qui confirme la densité = 1 sur l'intervalle [0,1]"
   ]
  },
  {
   "cell_type": "markdown",
   "id": "72d8b036",
   "metadata": {},
   "source": [
    "## 2 - Loi exponentielle"
   ]
  },
  {
   "cell_type": "markdown",
   "id": "d911dbd0",
   "metadata": {},
   "source": [
    "<div class=\"alert alert-block alert-warning\">\n",
    "La densité de la loi exponentielle $\\mathcal{E}(\\lambda)$ est définie sur $[0, +\\infty]$ par :\n",
    "    $$\n",
    "    f(x) = \\lambda \\exp(-\\lambda x).\n",
    "    $$\n",
    "</div>"
   ]
  },
  {
   "cell_type": "markdown",
   "id": "fc966aff",
   "metadata": {},
   "source": [
    "<div class=\"alert alert-block alert-info\">\n",
    "Q2.1 - Écrire la définition de la fonction <code>loi_exponentielle</code> qui étant donné une valeur <code>x</code> et la valeur <code>lbda</code> (du paramètre $\\lambda$), renvoie la valeur en <code>x</code>de la fonction densité de la loi exponentielle de paramètre <code>lbda</code>.\n",
    "</div>"
   ]
  },
  {
   "cell_type": "code",
   "execution_count": 10,
   "id": "3dd440a8",
   "metadata": {},
   "outputs": [],
   "source": [
    "def loi_exponentielle(x, lbda):\n",
    "    return lbda*np.exp((-lbda)*x)"
   ]
  },
  {
   "cell_type": "markdown",
   "id": "9b7d58be",
   "metadata": {},
   "source": [
    "<div class=\"alert alert-block alert-info\">\n",
    "Q2.2 - Dessiner une courbe qui donne l'allure de la fonction <code>loi_exponentielle</code> entre 0 et 5 pour un paramètre <code>lbda</code> égal à 2.\n",
    "</div>"
   ]
  },
  {
   "cell_type": "code",
   "execution_count": 11,
   "id": "5dff2de5",
   "metadata": {},
   "outputs": [
    {
     "data": {
      "image/png": "[encoded data removed]",
      "text/plain": [
       "<Figure size 432x288 with 1 Axes>"
      ]
     },
     "metadata": {
      "needs_background": "light"
     },
     "output_type": "display_data"
    }
   ],
   "source": [
    "_ = plt.plot(np.arange(0, 5, .01), np.array([loi_exponentielle(x, 2) for x in np.arange(0, 5, .01)]))"
   ]
  },
  {
   "cell_type": "markdown",
   "id": "0a0157db",
   "metadata": {},
   "source": [
    "<div class=\"alert alert-block alert-warning\">\n",
    "On a vu en cours (méthode de la fonction inverse) que si $U \\sim \\mathcal{U}([0, 1])$, alors\n",
    "    $$\n",
    "    X = -\\log(1-U)/\\lambda\n",
    "    $$\n",
    "    suit une loi exponentielle $\\mathcal{E}(\\lambda)$.\n",
    "\n",
    "</div>"
   ]
  },
  {
   "cell_type": "markdown",
   "id": "181f8fa0",
   "metadata": {},
   "source": [
    "<div class=\"alert alert-block alert-info\">\n",
    "Q2.3 - Écrire la définition de la fonction <code>tirage_exponentielle</code> qui étant donné une valeur <code>n</code> et le paramètre <code>lbda</code>, renvoie un vecteur de <code>n</code> tirages selon la loi exponentielle $\\mathcal{E}(\\lambda)$.\n",
    "</div>"
   ]
  },
  {
   "cell_type": "code",
   "execution_count": 12,
   "id": "b5fb1f5f",
   "metadata": {},
   "outputs": [],
   "source": [
    "def tirage_exponentielle(n,lbda):\n",
    "    return [(-np.log(1-np.random.rand()))/lbda for i in range(n)]"
   ]
  },
  {
   "cell_type": "markdown",
   "id": "fbe03284",
   "metadata": {},
   "source": [
    "<div class=\"alert alert-block alert-info\">\n",
    "Q2.4 - Dessiner un histogramme à partir de 1000 tirages selon la loi exponentielle de paramètre 2.\n",
    "</div>"
   ]
  },
  {
   "cell_type": "code",
   "execution_count": 13,
   "id": "f7dc48ce",
   "metadata": {},
   "outputs": [
    {
     "data": {
      "image/png": "[encoded data removed]",
      "text/plain": [
       "<Figure size 432x288 with 1 Axes>"
      ]
     },
     "metadata": {
      "needs_background": "light"
     },
     "output_type": "display_data"
    }
   ],
   "source": [
    "_ = plt.hist(tirage_exponentielle(1000, 2), bins = 10)"
   ]
  },
  {
   "cell_type": "markdown",
   "id": "65302640",
   "metadata": {},
   "source": [
    "<div class=\"alert alert-block alert-info\">\n",
    "Q2.5 - Quel rapport voyez-vous entre le graphique de la question 2.2 et celui de la question 2.5 ?\n",
    "</div>"
   ]
  },
  {
   "cell_type": "code",
   "execution_count": 14,
   "id": "225096f3",
   "metadata": {},
   "outputs": [],
   "source": [
    "#Les valeurs décroient exponentiellement"
   ]
  },
  {
   "cell_type": "markdown",
   "id": "3c13a728",
   "metadata": {},
   "source": [
    "## 3 - Vraisemblance et loi exponentielle"
   ]
  },
  {
   "cell_type": "markdown",
   "id": "876e016c",
   "metadata": {},
   "source": [
    "<div class=\"alert alert-block alert-warning\">\n",
    "La loi exponentielle peut servir (entre autres) à caractériser la durée de vie de composants électroniques.\n",
    "</div>"
   ]
  },
  {
   "cell_type": "markdown",
   "id": "ab009b79",
   "metadata": {},
   "source": [
    "<div class=\"alert alert-block alert-info\">\n",
    "    Exécuter le bloc ci-dessous pour définir la variable <code>durees</code> contenant un vecteur d'observations de la durée de vie (en années) de 100 appareils éléctroniques de même marque et de même modèle.\n",
    "</div>"
   ]
  },
  {
   "cell_type": "code",
   "execution_count": 15,
   "id": "e669019f",
   "metadata": {},
   "outputs": [],
   "source": [
    "durees = np.array([ 1, 13,  1,  4,  4, 10,  2,  5,  1,  4,  4,  4,  5,  1,  9,  1, 11,\n",
    "                    4,  5,  5,  2,  2,  2,  6,  4, 16,  8,  1,  6, 13,  3,  4,  7,  1,\n",
    "                    2,  1,  5,  9,  1,  2,  1,  2,  1,  9,  3,  1,  8,  4,  7,  1,  1,\n",
    "                    1,  2,  3,  2,  8,  3, 15,  5,  1,  5,  2,  2,  2,  1,  3,  8, 11,\n",
    "                    8, 13,  1,  5,  4,  1,  3,  8,  2,  1,  3,  4,  9,  2,  1,  2,  6,\n",
    "                    2,  2,  1,  1,  1,  5,  2,  4,  3,  2,  8,  6,  6,  3,  3])"
   ]
  },
  {
   "cell_type": "markdown",
   "id": "a2ff8eb9",
   "metadata": {},
   "source": [
    "<div class=\"alert alert-block alert-info\">\n",
    "Q3.1 - Dessiner un histogramme de ces observations.\n",
    "</div>"
   ]
  },
  {
   "cell_type": "code",
   "execution_count": 16,
   "id": "80c1c38e",
   "metadata": {},
   "outputs": [
    {
     "data": {
      "text/plain": [
       "(array([24.,  0.,  0.,  0.,  0.,  0., 19.,  0.,  0.,  0.,  0.,  0.,  0.,\n",
       "        10.,  0.,  0.,  0.,  0.,  0.,  0., 12.,  0.,  0.,  0.,  0.,  0.,\n",
       "         9.,  0.,  0.,  0.,  0.,  0.,  0.,  5.,  0.,  0.,  0.,  0.,  0.,\n",
       "         0.,  2.,  0.,  0.,  0.,  0.,  0.,  7.,  0.,  0.,  0.,  0.,  0.,\n",
       "         0.,  4.,  0.,  0.,  0.,  0.,  0.,  0.,  1.,  0.,  0.,  0.,  0.,\n",
       "         0.,  2.,  0.,  0.,  0.,  0.,  0.,  0.,  0.,  0.,  0.,  0.,  0.,\n",
       "         0.,  0.,  3.,  0.,  0.,  0.,  0.,  0.,  0.,  0.,  0.,  0.,  0.,\n",
       "         0.,  0.,  1.,  0.,  0.,  0.,  0.,  0.,  1.]),\n",
       " array([ 1.  ,  1.15,  1.3 ,  1.45,  1.6 ,  1.75,  1.9 ,  2.05,  2.2 ,\n",
       "         2.35,  2.5 ,  2.65,  2.8 ,  2.95,  3.1 ,  3.25,  3.4 ,  3.55,\n",
       "         3.7 ,  3.85,  4.  ,  4.15,  4.3 ,  4.45,  4.6 ,  4.75,  4.9 ,\n",
       "         5.05,  5.2 ,  5.35,  5.5 ,  5.65,  5.8 ,  5.95,  6.1 ,  6.25,\n",
       "         6.4 ,  6.55,  6.7 ,  6.85,  7.  ,  7.15,  7.3 ,  7.45,  7.6 ,\n",
       "         7.75,  7.9 ,  8.05,  8.2 ,  8.35,  8.5 ,  8.65,  8.8 ,  8.95,\n",
       "         9.1 ,  9.25,  9.4 ,  9.55,  9.7 ,  9.85, 10.  , 10.15, 10.3 ,\n",
       "        10.45, 10.6 , 10.75, 10.9 , 11.05, 11.2 , 11.35, 11.5 , 11.65,\n",
       "        11.8 , 11.95, 12.1 , 12.25, 12.4 , 12.55, 12.7 , 12.85, 13.  ,\n",
       "        13.15, 13.3 , 13.45, 13.6 , 13.75, 13.9 , 14.05, 14.2 , 14.35,\n",
       "        14.5 , 14.65, 14.8 , 14.95, 15.1 , 15.25, 15.4 , 15.55, 15.7 ,\n",
       "        15.85, 16.  ]),\n",
       " <BarContainer object of 100 artists>)"
      ]
     },
     "execution_count": 16,
     "metadata": {},
     "output_type": "execute_result"
    },
    {
     "data": {
      "image/png": "[encoded data removed]",
      "text/plain": [
       "<Figure size 432x288 with 1 Axes>"
      ]
     },
     "metadata": {
      "needs_background": "light"
     },
     "output_type": "display_data"
    }
   ],
   "source": [
    "plt.hist(durees, 100)"
   ]
  },
  {
   "cell_type": "markdown",
   "id": "378bdb15",
   "metadata": {},
   "source": [
    "<div class=\"alert alert-block alert-info\">\n",
    "Q3.2 - Écrire une fonction <code>vraisemblance</code> qui, étant donné n'importe quel vecteur d'observations <code>obs</code> et n'importe quelle densité de probabilité <code>f</code> (ne dépendant que de la variable $x$), renvoie la vraisemblance de ces observations.\n",
    "</div>"
   ]
  },
  {
   "cell_type": "code",
   "execution_count": 17,
   "id": "721d855b",
   "metadata": {},
   "outputs": [],
   "source": [
    "def vraisemblance(obs,f):\n",
    "    return np.sum([f(x) for x in obs])"
   ]
  },
  {
   "cell_type": "markdown",
   "id": "80b2f997",
   "metadata": {},
   "source": [
    "<div class=\"alert alert-block alert-info\">\n",
    "    Q3.3 - Calculer la vraisemblance que les observations <code>durees</code> aient été générées par une loi exponentielle de paramètre $\\lambda = 1$.\n",
    "</div>"
   ]
  },
  {
   "cell_type": "code",
   "execution_count": 18,
   "id": "4805831d",
   "metadata": {},
   "outputs": [
    {
     "data": {
      "text/plain": [
       "1.9653239875774178e-184"
      ]
     },
     "execution_count": 18,
     "metadata": {},
     "output_type": "execute_result"
    }
   ],
   "source": [
    "1**(len(durees))*np.exp(-1*np.sum(durees))"
   ]
  },
  {
   "cell_type": "markdown",
   "id": "fdba275e",
   "metadata": {},
   "source": [
    "<div class=\"alert alert-block alert-warning\">\n",
    "    Vous devriez trouver <code>1.965323987577424e-184</code>.\n",
    "</div>"
   ]
  },
  {
   "cell_type": "markdown",
   "id": "32108001",
   "metadata": {},
   "source": [
    "<div class=\"alert alert-block alert-info\">\n",
    "Q3.4 - Parmi les lois suivantes, déterminer celle qui a le plus vraisemblablement généré les observations <code>durees</code> :\n",
    "<ol>\n",
    "    <li>loi exponentielle de paramètre $\\lambda = 1$</li>\n",
    "    <li>loi exponentielle de paramètre $\\lambda = \\frac12$</li>\n",
    "    <li>loi exponentielle de paramètre $\\lambda = \\frac14$</li>\n",
    "    <li>loi exponentielle de paramètre $\\lambda = \\frac{1}{10}$</li>\n",
    "</ol>\n",
    "    Attention : <code>1/2</code> vaut <code>0</code> en Python 2.7.\n",
    "</div>"
   ]
  },
  {
   "cell_type": "code",
   "execution_count": 19,
   "id": "2f3273db",
   "metadata": {},
   "outputs": [
    {
     "data": {
      "text/plain": [
       "(1.9653239875774178e-184,\n",
       " 1.1059042092623236e-122,\n",
       " 7.368166072324186e-107,\n",
       " 4.259350853603882e-119)"
      ]
     },
     "execution_count": 19,
     "metadata": {},
     "output_type": "execute_result"
    }
   ],
   "source": [
    "1**(len(durees))*np.exp(-1*np.sum(durees)),(1/2)**(len(durees))*np.exp(-(1/2)*np.sum(durees)),(1/4)**(len(durees))*np.exp(-(1/4)*np.sum(durees)),(1/10)**(len(durees))*np.exp(-(1/10)*np.sum(durees))"
   ]
  },
  {
   "cell_type": "markdown",
   "id": "01949974",
   "metadata": {},
   "source": [
    "<div class=\"alert alert-block alert-warning\">\n",
    "    À présent, nous allons réaliser <em>à la main</em> l'histogramme de la question 3.1.\n",
    "</div>"
   ]
  },
  {
   "cell_type": "markdown",
   "id": "b799f48b",
   "metadata": {},
   "source": [
    "<div class=\"alert alert-block alert-info\">\n",
    "    Q3.5 - Écrire une fonction <code>decoupage</code> qui, étant donné un vecteur d'obervations <code>obs</code> et un entier naturel non nul<code>n</code>, renvoie le vecteur de bornes $(v_1, v_2, \\dots, v_n)$ où $v_1$ est le minimum de <code>durees</code> et $v_n$ vaut le maximum de <code>durees</code>\n",
    "</div>"
   ]
  },
  {
   "cell_type": "code",
   "execution_count": 20,
   "id": "0df9e2f9",
   "metadata": {},
   "outputs": [],
   "source": [
    "def decoupage(obs, n):\n",
    "    vf=[0]*(n+1)\n",
    "    vf[0]=min(obs)\n",
    "    vf[-1]=max(obs)\n",
    "    for i in range(1, n):\n",
    "        vf[i] = i*n/100*(np.max(obs)-np.min(obs))+np.min(obs)\n",
    "        \n",
    "    return vf"
   ]
  },
  {
   "cell_type": "markdown",
   "id": "8546d738",
   "metadata": {},
   "source": [
    "<div class=\"alert alert-block alert-info\">\n",
    "    Q3.6 - Tester la fonction <code>decoupage</code> pour qu'elle génère un vecteur de bornes correspondant à 10 intervalles adaptés aux observations <code>durees</code>\n",
    "</div>"
   ]
  },
  {
   "cell_type": "code",
   "execution_count": 21,
   "id": "7eb098f3",
   "metadata": {},
   "outputs": [
    {
     "data": {
      "text/plain": [
       "[1, 2.5, 4.0, 5.5, 7.0, 8.5, 10.0, 11.5, 13.0, 14.5, 16]"
      ]
     },
     "execution_count": 21,
     "metadata": {},
     "output_type": "execute_result"
    }
   ],
   "source": [
    "decoupage(durees, 10)"
   ]
  },
  {
   "cell_type": "markdown",
   "id": "cda825b2",
   "metadata": {},
   "source": [
    "<div class=\"alert alert-block alert-warning\">\n",
    "    Vous devriez trouver <code>np.array([ 1. ,  2.5,  4. ,  5.5,  7. ,  8.5, 10. , 11.5, 13. , 14.5, 16. ])</code>\n",
    "</div>"
   ]
  },
  {
   "cell_type": "markdown",
   "id": "6eb4e205",
   "metadata": {},
   "source": [
    "<div class=\"alert alert-block alert-info\">\n",
    "Q3.7 - Écrire la fonction <code>effectifs</code> qui, étant donné un vecteur <code>obs</code> d'observations et un vecteur <code>bornes</code> de nombres $(v_1, v_2, \\dots, v_n)$ triés dans l'ordre croissant, renvoie les effectifs dans les intervalles $[v_1, v_2[, [v_2, v_3], \\dots, [v_{n - 1}, v_n[$.\n",
    "</div>"
   ]
  },
  {
   "cell_type": "code",
   "execution_count": 22,
   "id": "dcdc231a",
   "metadata": {},
   "outputs": [],
   "source": [
    "def effectifs(obs, bornes):\n",
    "    vf=[0]*(len(bornes)-1)\n",
    "    for i in obs:\n",
    "        for j in range(len(bornes)-1):\n",
    "            if i>=bornes[j] and i<bornes[j+1]:\n",
    "                vf[j]=vf[j]+1\n",
    "                j=j+1\n",
    "            else:\n",
    "                j=j+1\n",
    "    return vf"
   ]
  },
  {
   "cell_type": "markdown",
   "id": "c9a54bf5",
   "metadata": {},
   "source": [
    "<div class=\"alert alert-block alert-info\">\n",
    "    Q3.8 - Tester la fonction <code>effectifs</code> pour qu'elle donne les effectifs des observations <code>durees</code> pour un découpage en 10 intervalles.\n",
    "</div>"
   ]
  },
  {
   "cell_type": "code",
   "execution_count": 23,
   "id": "abfb4a30",
   "metadata": {
    "scrolled": true
   },
   "outputs": [
    {
     "data": {
      "text/plain": [
       "[43, 10, 21, 5, 9, 4, 3, 0, 3, 1]"
      ]
     },
     "execution_count": 23,
     "metadata": {},
     "output_type": "execute_result"
    }
   ],
   "source": [
    "height = effectifs(durees, np.array([ 1. ,  2.5,  4. ,  5.5,  7. ,  8.5, 10. , 11.5, 13. , 14.5, 16. ]))\n",
    "height"
   ]
  },
  {
   "cell_type": "markdown",
   "id": "355dbfdc",
   "metadata": {},
   "source": [
    "<div class=\"alert alert-block alert-warning\">\n",
    "    Vous devriez trouver <code>np.array([43, 10, 21,  5,  9,  4,  3,  0,  3,  1])</code>\n",
    "</div>"
   ]
  },
  {
   "cell_type": "markdown",
   "id": "6f217e70",
   "metadata": {},
   "source": [
    "<div class=\"alert alert-block alert-info\">\n",
    "    Q3.9 - Avec <code>plt.bar(x, height, width)</code> et la fonction précédente, dessiner un graphique similaire à celui de la question 3.1.\n",
    "</div>"
   ]
  },
  {
   "cell_type": "code",
   "execution_count": 24,
   "id": "14e1b227",
   "metadata": {},
   "outputs": [
    {
     "ename": "ValueError",
     "evalue": "shape mismatch: objects cannot be broadcast to a single shape",
     "output_type": "error",
     "traceback": [
      "\u001b[1;31m---------------------------------------------------------------------------\u001b[0m",
      "\u001b[1;31mValueError\u001b[0m                                Traceback (most recent call last)",
      "\u001b[1;32m<ipython-input-24-b8bceb32351c>\u001b[0m in \u001b[0;36m<module>\u001b[1;34m\u001b[0m\n\u001b[1;32m----> 1\u001b[1;33m \u001b[0mplt\u001b[0m\u001b[1;33m.\u001b[0m\u001b[0mbar\u001b[0m\u001b[1;33m(\u001b[0m\u001b[0mrange\u001b[0m\u001b[1;33m(\u001b[0m\u001b[1;36m100\u001b[0m\u001b[1;33m)\u001b[0m\u001b[1;33m,\u001b[0m \u001b[0mheight\u001b[0m\u001b[1;33m,\u001b[0m \u001b[1;36m0.8\u001b[0m\u001b[1;33m)\u001b[0m\u001b[1;33m\u001b[0m\u001b[1;33m\u001b[0m\u001b[0m\n\u001b[0m",
      "\u001b[1;32m~\\anaconda3\\lib\\site-packages\\matplotlib\\pyplot.py\u001b[0m in \u001b[0;36mbar\u001b[1;34m(x, height, width, bottom, align, data, **kwargs)\u001b[0m\n\u001b[0;32m   2485\u001b[0m         \u001b[0mx\u001b[0m\u001b[1;33m,\u001b[0m \u001b[0mheight\u001b[0m\u001b[1;33m,\u001b[0m \u001b[0mwidth\u001b[0m\u001b[1;33m=\u001b[0m\u001b[1;36m0.8\u001b[0m\u001b[1;33m,\u001b[0m \u001b[0mbottom\u001b[0m\u001b[1;33m=\u001b[0m\u001b[1;32mNone\u001b[0m\u001b[1;33m,\u001b[0m \u001b[1;33m*\u001b[0m\u001b[1;33m,\u001b[0m \u001b[0malign\u001b[0m\u001b[1;33m=\u001b[0m\u001b[1;34m'center'\u001b[0m\u001b[1;33m,\u001b[0m\u001b[1;33m\u001b[0m\u001b[1;33m\u001b[0m\u001b[0m\n\u001b[0;32m   2486\u001b[0m         data=None, **kwargs):\n\u001b[1;32m-> 2487\u001b[1;33m     return gca().bar(\n\u001b[0m\u001b[0;32m   2488\u001b[0m         \u001b[0mx\u001b[0m\u001b[1;33m,\u001b[0m \u001b[0mheight\u001b[0m\u001b[1;33m,\u001b[0m \u001b[0mwidth\u001b[0m\u001b[1;33m=\u001b[0m\u001b[0mwidth\u001b[0m\u001b[1;33m,\u001b[0m \u001b[0mbottom\u001b[0m\u001b[1;33m=\u001b[0m\u001b[0mbottom\u001b[0m\u001b[1;33m,\u001b[0m \u001b[0malign\u001b[0m\u001b[1;33m=\u001b[0m\u001b[0malign\u001b[0m\u001b[1;33m,\u001b[0m\u001b[1;33m\u001b[0m\u001b[1;33m\u001b[0m\u001b[0m\n\u001b[0;32m   2489\u001b[0m         **({\"data\": data} if data is not None else {}), **kwargs)\n",
      "\u001b[1;32m~\\anaconda3\\lib\\site-packages\\matplotlib\\__init__.py\u001b[0m in \u001b[0;36minner\u001b[1;34m(ax, data, *args, **kwargs)\u001b[0m\n\u001b[0;32m   1445\u001b[0m     \u001b[1;32mdef\u001b[0m \u001b[0minner\u001b[0m\u001b[1;33m(\u001b[0m\u001b[0max\u001b[0m\u001b[1;33m,\u001b[0m \u001b[1;33m*\u001b[0m\u001b[0margs\u001b[0m\u001b[1;33m,\u001b[0m \u001b[0mdata\u001b[0m\u001b[1;33m=\u001b[0m\u001b[1;32mNone\u001b[0m\u001b[1;33m,\u001b[0m \u001b[1;33m**\u001b[0m\u001b[0mkwargs\u001b[0m\u001b[1;33m)\u001b[0m\u001b[1;33m:\u001b[0m\u001b[1;33m\u001b[0m\u001b[1;33m\u001b[0m\u001b[0m\n\u001b[0;32m   1446\u001b[0m         \u001b[1;32mif\u001b[0m \u001b[0mdata\u001b[0m \u001b[1;32mis\u001b[0m \u001b[1;32mNone\u001b[0m\u001b[1;33m:\u001b[0m\u001b[1;33m\u001b[0m\u001b[1;33m\u001b[0m\u001b[0m\n\u001b[1;32m-> 1447\u001b[1;33m             \u001b[1;32mreturn\u001b[0m \u001b[0mfunc\u001b[0m\u001b[1;33m(\u001b[0m\u001b[0max\u001b[0m\u001b[1;33m,\u001b[0m \u001b[1;33m*\u001b[0m\u001b[0mmap\u001b[0m\u001b[1;33m(\u001b[0m\u001b[0msanitize_sequence\u001b[0m\u001b[1;33m,\u001b[0m \u001b[0margs\u001b[0m\u001b[1;33m)\u001b[0m\u001b[1;33m,\u001b[0m \u001b[1;33m**\u001b[0m\u001b[0mkwargs\u001b[0m\u001b[1;33m)\u001b[0m\u001b[1;33m\u001b[0m\u001b[1;33m\u001b[0m\u001b[0m\n\u001b[0m\u001b[0;32m   1448\u001b[0m \u001b[1;33m\u001b[0m\u001b[0m\n\u001b[0;32m   1449\u001b[0m         \u001b[0mbound\u001b[0m \u001b[1;33m=\u001b[0m \u001b[0mnew_sig\u001b[0m\u001b[1;33m.\u001b[0m\u001b[0mbind\u001b[0m\u001b[1;33m(\u001b[0m\u001b[0max\u001b[0m\u001b[1;33m,\u001b[0m \u001b[1;33m*\u001b[0m\u001b[0margs\u001b[0m\u001b[1;33m,\u001b[0m \u001b[1;33m**\u001b[0m\u001b[0mkwargs\u001b[0m\u001b[1;33m)\u001b[0m\u001b[1;33m\u001b[0m\u001b[1;33m\u001b[0m\u001b[0m\n",
      "\u001b[1;32m~\\anaconda3\\lib\\site-packages\\matplotlib\\axes\\_axes.py\u001b[0m in \u001b[0;36mbar\u001b[1;34m(self, x, height, width, bottom, align, **kwargs)\u001b[0m\n\u001b[0;32m   2428\u001b[0m                 \u001b[0myerr\u001b[0m \u001b[1;33m=\u001b[0m \u001b[0mself\u001b[0m\u001b[1;33m.\u001b[0m\u001b[0m_convert_dx\u001b[0m\u001b[1;33m(\u001b[0m\u001b[0myerr\u001b[0m\u001b[1;33m,\u001b[0m \u001b[0my0\u001b[0m\u001b[1;33m,\u001b[0m \u001b[0my\u001b[0m\u001b[1;33m,\u001b[0m \u001b[0mself\u001b[0m\u001b[1;33m.\u001b[0m\u001b[0mconvert_yunits\u001b[0m\u001b[1;33m)\u001b[0m\u001b[1;33m\u001b[0m\u001b[1;33m\u001b[0m\u001b[0m\n\u001b[0;32m   2429\u001b[0m \u001b[1;33m\u001b[0m\u001b[0m\n\u001b[1;32m-> 2430\u001b[1;33m         x, height, width, y, linewidth = np.broadcast_arrays(\n\u001b[0m\u001b[0;32m   2431\u001b[0m             \u001b[1;31m# Make args iterable too.\u001b[0m\u001b[1;33m\u001b[0m\u001b[1;33m\u001b[0m\u001b[1;33m\u001b[0m\u001b[0m\n\u001b[0;32m   2432\u001b[0m             np.atleast_1d(x), height, width, y, linewidth)\n",
      "\u001b[1;32m<__array_function__ internals>\u001b[0m in \u001b[0;36mbroadcast_arrays\u001b[1;34m(*args, **kwargs)\u001b[0m\n",
      "\u001b[1;32m~\\anaconda3\\lib\\site-packages\\numpy\\lib\\stride_tricks.py\u001b[0m in \u001b[0;36mbroadcast_arrays\u001b[1;34m(subok, *args)\u001b[0m\n\u001b[0;32m    536\u001b[0m     \u001b[0margs\u001b[0m \u001b[1;33m=\u001b[0m \u001b[1;33m[\u001b[0m\u001b[0mnp\u001b[0m\u001b[1;33m.\u001b[0m\u001b[0marray\u001b[0m\u001b[1;33m(\u001b[0m\u001b[0m_m\u001b[0m\u001b[1;33m,\u001b[0m \u001b[0mcopy\u001b[0m\u001b[1;33m=\u001b[0m\u001b[1;32mFalse\u001b[0m\u001b[1;33m,\u001b[0m \u001b[0msubok\u001b[0m\u001b[1;33m=\u001b[0m\u001b[0msubok\u001b[0m\u001b[1;33m)\u001b[0m \u001b[1;32mfor\u001b[0m \u001b[0m_m\u001b[0m \u001b[1;32min\u001b[0m \u001b[0margs\u001b[0m\u001b[1;33m]\u001b[0m\u001b[1;33m\u001b[0m\u001b[1;33m\u001b[0m\u001b[0m\n\u001b[0;32m    537\u001b[0m \u001b[1;33m\u001b[0m\u001b[0m\n\u001b[1;32m--> 538\u001b[1;33m     \u001b[0mshape\u001b[0m \u001b[1;33m=\u001b[0m \u001b[0m_broadcast_shape\u001b[0m\u001b[1;33m(\u001b[0m\u001b[1;33m*\u001b[0m\u001b[0margs\u001b[0m\u001b[1;33m)\u001b[0m\u001b[1;33m\u001b[0m\u001b[1;33m\u001b[0m\u001b[0m\n\u001b[0m\u001b[0;32m    539\u001b[0m \u001b[1;33m\u001b[0m\u001b[0m\n\u001b[0;32m    540\u001b[0m     \u001b[1;32mif\u001b[0m \u001b[0mall\u001b[0m\u001b[1;33m(\u001b[0m\u001b[0marray\u001b[0m\u001b[1;33m.\u001b[0m\u001b[0mshape\u001b[0m \u001b[1;33m==\u001b[0m \u001b[0mshape\u001b[0m \u001b[1;32mfor\u001b[0m \u001b[0marray\u001b[0m \u001b[1;32min\u001b[0m \u001b[0margs\u001b[0m\u001b[1;33m)\u001b[0m\u001b[1;33m:\u001b[0m\u001b[1;33m\u001b[0m\u001b[1;33m\u001b[0m\u001b[0m\n",
      "\u001b[1;32m~\\anaconda3\\lib\\site-packages\\numpy\\lib\\stride_tricks.py\u001b[0m in \u001b[0;36m_broadcast_shape\u001b[1;34m(*args)\u001b[0m\n\u001b[0;32m    418\u001b[0m     \u001b[1;31m# use the old-iterator because np.nditer does not handle size 0 arrays\u001b[0m\u001b[1;33m\u001b[0m\u001b[1;33m\u001b[0m\u001b[1;33m\u001b[0m\u001b[0m\n\u001b[0;32m    419\u001b[0m     \u001b[1;31m# consistently\u001b[0m\u001b[1;33m\u001b[0m\u001b[1;33m\u001b[0m\u001b[1;33m\u001b[0m\u001b[0m\n\u001b[1;32m--> 420\u001b[1;33m     \u001b[0mb\u001b[0m \u001b[1;33m=\u001b[0m \u001b[0mnp\u001b[0m\u001b[1;33m.\u001b[0m\u001b[0mbroadcast\u001b[0m\u001b[1;33m(\u001b[0m\u001b[1;33m*\u001b[0m\u001b[0margs\u001b[0m\u001b[1;33m[\u001b[0m\u001b[1;33m:\u001b[0m\u001b[1;36m32\u001b[0m\u001b[1;33m]\u001b[0m\u001b[1;33m)\u001b[0m\u001b[1;33m\u001b[0m\u001b[1;33m\u001b[0m\u001b[0m\n\u001b[0m\u001b[0;32m    421\u001b[0m     \u001b[1;31m# unfortunately, it cannot handle 32 or more arguments directly\u001b[0m\u001b[1;33m\u001b[0m\u001b[1;33m\u001b[0m\u001b[1;33m\u001b[0m\u001b[0m\n\u001b[0;32m    422\u001b[0m     \u001b[1;32mfor\u001b[0m \u001b[0mpos\u001b[0m \u001b[1;32min\u001b[0m \u001b[0mrange\u001b[0m\u001b[1;33m(\u001b[0m\u001b[1;36m32\u001b[0m\u001b[1;33m,\u001b[0m \u001b[0mlen\u001b[0m\u001b[1;33m(\u001b[0m\u001b[0margs\u001b[0m\u001b[1;33m)\u001b[0m\u001b[1;33m,\u001b[0m \u001b[1;36m31\u001b[0m\u001b[1;33m)\u001b[0m\u001b[1;33m:\u001b[0m\u001b[1;33m\u001b[0m\u001b[1;33m\u001b[0m\u001b[0m\n",
      "\u001b[1;31mValueError\u001b[0m: shape mismatch: objects cannot be broadcast to a single shape"
     ]
    },
    {
     "data": {
      "image/png": "[encoded data removed]",
      "text/plain": [
       "<Figure size 432x288 with 1 Axes>"
      ]
     },
     "metadata": {
      "needs_background": "light"
     },
     "output_type": "display_data"
    }
   ],
   "source": [
    "plt.bar(range(100), height, 0.8)"
   ]
  },
  {
   "cell_type": "markdown",
   "id": "ed66f06f",
   "metadata": {},
   "source": [
    "<div class=\"alert alert-block alert-info\">\n",
    "Q3.10 - Superposer l'histogramme précédent (ajusté pour que son aire vale 1) avec la densité de la fonction exponentielle pour les différents paramètres $\\lambda = 1, \\frac12, \\frac14, \\frac{1}{10}$ (en mettant en rouge le meilleur paramètre trouvé à la question 3.1).\n",
    "</div>"
   ]
  },
  {
   "cell_type": "code",
   "execution_count": null,
   "id": "16e17dd5",
   "metadata": {},
   "outputs": [],
   "source": []
  },
  {
   "cell_type": "markdown",
   "id": "4b47ef72",
   "metadata": {},
   "source": [
    "<div class=\"alert alert-block alert-info\">\n",
    "Q3.10 - Retrouvez-vous le résultat de la question 3.4 ?\n",
    "</div>"
   ]
  },
  {
   "cell_type": "code",
   "execution_count": null,
   "id": "43eafb67",
   "metadata": {},
   "outputs": [],
   "source": [
    "# Oui"
   ]
  },
  {
   "cell_type": "code",
   "execution_count": null,
   "id": "6a5aa749",
   "metadata": {},
   "outputs": [],
   "source": []
  }
 ],
 "metadata": {
  "kernelspec": {
   "display_name": "Python 3",
   "language": "python",
   "name": "python3"
  },
  "language_info": {
   "codemirror_mode": {
    "name": "ipython",
    "version": 3
   },
   "file_extension": ".py",
   "mimetype": "text/x-python",
   "name": "python",
   "nbconvert_exporter": "python",
   "pygments_lexer": "ipython3",
   "version": "3.8.8"
  }
 },
 "nbformat": 4,
 "nbformat_minor": 5
}
