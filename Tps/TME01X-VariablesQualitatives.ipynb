{
 "cells": [
  {
   "cell_type": "markdown",
   "metadata": {},
   "source": [
    "# Qui êtes-vous ?\n",
    "<div class=\"alert alert-block alert-info\">\n",
    "Écrire ci-dessous le nom, le prénom et le numéro étudiant de chaque membre du binôme :\n",
    "</div>"
   ]
  },
  {
   "cell_type": "code",
   "execution_count": null,
   "metadata": {
    "collapsed": true
   },
   "outputs": [],
   "source": []
  },
  {
   "cell_type": "markdown",
   "metadata": {},
   "source": [
    "# Introduction Jupyter"
   ]
  },
  {
   "cell_type": "markdown",
   "metadata": {},
   "source": [
    "<div class=\"alert alert-block alert-warning\">\n",
    "Jupyter est un environnement de travail qui permet qui permet de réaliser des *notebooks*, sorte de calepins qui peuvent contenir à la fois du code (en python mais pas seulement), du texte formatté en <a href=\"https://fr.wikipedia.org/wiki/Markdown\">markdown</a>), des images et des figures pour présenter les résultats. \n",
    "\n",
    "Il tourne en général sur un serveur web local qui est lancé avec la commande `jupyter notebook` (ou pour la version plus complète `jupyter lab`). L'interface est accessible à partir de n'importe quel navigateur web en se connectant à l'adresse locale précisée lors du lancement. \n",
    "\n",
    "Un notebook est composé de *cellules* qui sont soit du texte (de type Markdown) soit du code. \n",
    "Lorsqu'une cellule de texte est exécutée (avec le raccourci *shift-enter* ou avec le symbole en forme de flèche), elle n'est plus modifiable temporairement et est affichée de manière formattée. En double-cliquant dessus, il est possible de revenir en mode édition.\n",
    "Pour une cellule de code, son exécution provoque l'exécution effective du code contenu et le résultat (si résultat il y a) s'affiche en dessous de la cellule.\n",
    "</div>\n",
    "\n",
    "## Attention !\n",
    "<div class=\"alert alert-block alert-warning\">\n",
    "Lorsque vous exécutez une cellule de code, uniquement celle-ci est exécutée par défaut (et non pas toutes celles précédentes). Si des modifications sont apportées aux cellules précédentes, elles ne seront prises en compte que si vous les exécutez aussi. Le numéro précédent la cellule de code exécutée permet de savoir dans quel ordre celles-ci ont été exécutée. \n",
    "\n",
    "Beaucoup de raccourcis existent afin de simplifier la navigation et la manipulation des notebooks, <a href=\"https://cheatography.com/weidadeyue/cheat-sheets/jupyter-notebook/\">ce cheatsheet</a> en présente les principales. \n",
    "\n",
    "Les notebooks sont exportables dans différents formats, en *pdf* par exemple pour faciliter la lecture ou en fichier python pour pouvoir les exécuter en script si besoin. \n",
    "\n",
    "Les TMEs de l'UE se serviront exclusivement des notebooks. N'hesitez pas à ajouter des cellules de codes (ou même de texte) pour clarifier votre code et relancer uniquement les bouts de codes dont vous aurez besoin (n'oubliez pas qu'un code dans une cellule est exécutée d'un bloc, il n'est pas possible d'exécutez ligne à ligne, juste bloc par bloc). \n",
    "</div>"
   ]
  },
  {
   "cell_type": "markdown",
   "metadata": {
    "scrolled": true
   },
   "source": [
    "# TME 1X - Variables qualitatives"
   ]
  },
  {
   "cell_type": "markdown",
   "metadata": {},
   "source": [
    "## 1 - Chargement de fichier csv (Pandas)\n",
    "\n",
    "\n",
    "<div class=\"alert alert-block alert-warning\">\n",
    "    <b>Pandas</b> est une bibliothèque de python spécialisée dans l'analyse de données. Elle permet de charger facilement les données sous forme de tableaux (appelés *DataFrame* ou *frame*), de les manipuler, de tracer des graphiques associés, d'en extraire des caractéristiques ...\n",
    "\n",
    "Cette section montre quelques manipulations basiques que l'on peut faire sur les tableaux. N'hesitez pas à expérimenter au-delà ce qui est demandé jusqu'à ce que vous compreniez le bon fonctionnement des opérateurs introduits.\n"
   ]
  },
  {
   "cell_type": "markdown",
   "metadata": {},
   "source": [
    "<div class=\"alert alert-block alert-info\">\n",
    "Tout d'abord, exécuter le bloc ci-dessous pour importer la bibliothèque Pandas.\n",
    "</div>"
   ]
  },
  {
   "cell_type": "code",
   "execution_count": 2,
   "metadata": {
    "collapsed": true
   },
   "outputs": [],
   "source": [
    "# Chargement de la bibliothèque pandas\n",
    "import pandas as pd"
   ]
  },
  {
   "cell_type": "markdown",
   "metadata": {},
   "source": [
    "<div class=\"alert alert-block alert-warning\">\n",
    "Nous allons travailler dans ce premier TME sur des données de lieux d'intérêts de Paris (POI, <em>Points of interest</em>) qui ont été scrappés par l'intermédiaire de l'API de google map. Ce jeu de données est à télécharger sur XXXX. Il est en format <code>csv</code>, un format texte tabulaire ou chaque ligne du texte correspond à une ligne du tableau et chaque case du tableau est délimité par un séparateur. Pandas a une fonction dédiée <code>read_csv('nom du fichier')</code> pour charger un fichier <code>csv</code>. Vérifiez bien au préalable d'avoir sauvegardé le fichier dans votre répertoire de travail où figure également ce notebook.  \n",
    "</div>\n",
    "\n",
    "<div class=\"alert alert-block alert-info\">\n",
    "Exécuter le bloc suivant pour charger le tableau à partir du fichier.\n",
    " </div>"
   ]
  },
  {
   "cell_type": "code",
   "execution_count": 3,
   "metadata": {
    "collapsed": true
   },
   "outputs": [],
   "source": [
    "# Chargement du fichier\n",
    "tableau_poi = pd.read_csv(\"poi-paris.csv\")"
   ]
  },
  {
   "cell_type": "markdown",
   "metadata": {},
   "source": [
    "<div class=\"alert alert-block alert-info\">\n",
    "Exécuter le bloc suivant pour de visualiser le tableau. \n",
    "</div>"
   ]
  },
  {
   "cell_type": "code",
   "execution_count": null,
   "metadata": {
    "collapsed": false
   },
   "outputs": [],
   "source": [
    "tableau_poi"
   ]
  },
  {
   "cell_type": "markdown",
   "metadata": {},
   "source": [
    "<div class=\"alert alert-block alert-warning\">\n",
    "Le tableau est très grand - comme indiqué à la fin, 31852 lignes pour 17 colonnes : l'affichage est incompréhensible tel quel. Nous allons voir ci-dessous quelques opérations basiques qui permettent d'examiner le contenu de façon intelligible.\n",
    "</div>"
   ]
  },
  {
   "cell_type": "markdown",
   "metadata": {},
   "source": [
    "## 2 - Opérations basiques sur les DataFrames (Pandas)"
   ]
  },
  {
   "cell_type": "markdown",
   "metadata": {},
   "source": [
    "<div class=\"alert alert-block alert-info\">\n",
    "    La première fonction utile lorsqu'on découvre un tableau est la méthode <code>.info()</code> qui permet d'obtenir les informations du tableau. Exécuter le bloc suivant pour obtenir les informations de <code>tableau_poi</code>.\n",
    "</div>"
   ]
  },
  {
   "cell_type": "code",
   "execution_count": null,
   "metadata": {
    "collapsed": false
   },
   "outputs": [],
   "source": [
    "tableau_poi.info()"
   ]
  },
  {
   "cell_type": "markdown",
   "metadata": {},
   "source": [
    "<div class=\"alert alert-block alert-warning\">\n",
    "Dans notre cas, nous voyons que le tableau contient 31852 lignes, numérotées de 0 à 31851, et 17 colonnes. S'en suit la liste des colonnes : \n",
    "<ul>\n",
    "    <li> <code>'nom'</code> : indique le nom de l'endroit</li>\n",
    "    <li> <code>'latitude'</code> et <code>'longitude'</code> qui contiennent un réel indiquant la géo-localisation de l'endroit</li>\n",
    "    <li> <code>'note'</code> qui est la note attribuée par les utilisateurs à l'endroit, également un réel</li>\n",
    "    <li> <code>'prix'</code> qui indique la cherté de l'endroit - un entier nous indique pandas\n",
    "puis une suite de colonnes correspondant à des types d'endroits (magasin, café, banque, restaurant, ...).</li>\n",
    "</ul>\n",
    "</div>"
   ]
  },
  {
   "cell_type": "markdown",
   "metadata": {},
   "source": [
    "<div class=\"alert alert-block alert-info\">\n",
    "    Nous pouvons également accéder  à la liste des colonnes avec la variable <code>.columns</code> du tableau et connaître le nombre de ligne avec la fonction <code>len()</code> de python ou la méthode <code>.count()</code> de pandas qui compte le nombre de lignes non vide pour chaque colonne.\n",
    "Exécutez les trois blocs suivants :\n",
    "</div>"
   ]
  },
  {
   "cell_type": "code",
   "execution_count": null,
   "metadata": {
    "collapsed": false
   },
   "outputs": [],
   "source": [
    "tableau_poi.columns"
   ]
  },
  {
   "cell_type": "code",
   "execution_count": null,
   "metadata": {
    "collapsed": false
   },
   "outputs": [],
   "source": [
    "len(tableau_poi)"
   ]
  },
  {
   "cell_type": "code",
   "execution_count": null,
   "metadata": {
    "collapsed": false
   },
   "outputs": [],
   "source": [
    "tableau_poi.count()"
   ]
  },
  {
   "cell_type": "markdown",
   "metadata": {},
   "source": [
    "<div class=\"alert alert-block alert-warning\">\n",
    "Ces opérations nous permettent de connaître la structure du tableau mais pas son contenu. \n",
    "Il est possible de sélectionner :\n",
    "<ul>\n",
    "    <li> les n premières lignes : <code>tableau_poi.head(10)</code> pour les 10 premières lignes </li>\n",
    "    <li> les n dernières lignes : <code>tableau_poi.tail(10)</code> pour les 10 dernières lignes </li>\n",
    "    <li> une colonne avec des crochets et le nom de la colonne : <code>tableau_poi['note']</code> </li>\n",
    "<li> un ensemble de colonnes sous forme de liste des noms de colonne : <code>tableau_poi[['longitude','latitude']]</code> </li>\n",
    "    <li> une ligne avec la variable <code>.iloc</code> du tableau : <code>tableau_poi.iloc[0]</code> pour la première ligne </li>\n",
    "    <li> des lignes en utilisant la notation <code>p:q</code> pour préciser les lignes de <code>p</code> à  <code>q</code> (non inclu) : <code>tableau_poi.iloc[0:5]</code> pour les 5 premières lignes </li>\n",
    "</ul>\n",
    "    \n",
    "On peut également spécifier des colonnes avec `.iloc` en précisant les numéros de colonnes voulues (et pas leur nom) : `tableau_poi.iloc[0,1]`, `tableau_poi.iloc[0:5,2:4]`\n",
    "\n",
    "Il est possible d'indexer par la fin en utilisant la notation `tableau_poi['nom'].iloc[-3]` pour avoir la 3ème igne avant la fin.\n",
    "\n",
    "Le retour de ces opérations est toujours une **DataFrame**, vous pouvez donc combiner les opérations : \n",
    "* pour avoir les 3 premiers noms : `tableau_poi['nom'].iloc[0:3]` ou `tableau_poi.iloc[0:3]['nom']`\n",
    "\n",
    "Il est toutefois préférable de passer par la variable `.loc` du tableau dans ce cas : celle-ci permet de préciser une ligne ou un ensembe de lignes par l'index des lignes et un certain nombre de colonnes par leur nom : `tableau_poi.loc[0,'nom']`, `tableau_poi.loc[[1,2,3],['nom','note']]`.\n",
    "\n",
    "L'index est affiché sur le côté gauche du tableau. **Attention** dans notre cas le numéro d'index est le même que le numéro de la ligne, ce n'est pas toujours le cas. Un index peut être également sous la forme d'une chaîne de caractères.\n",
    "\n",
    "Pour résumer, `.iloc` permet d'accéder au contenu du tableau à partir des numéros de lignes ou de colonnes, `.loc` à  partir des labels des lignes (les index) et des colonnes.\n",
    "</div>"
   ]
  },
  {
   "cell_type": "markdown",
   "metadata": {},
   "source": [
    "<div class=\"alert alert-block alert-info\">\n",
    "Exécuter le bloc suivant pour visualiser les 10 premières lignes.\n",
    "</div>"
   ]
  },
  {
   "cell_type": "code",
   "execution_count": null,
   "metadata": {
    "collapsed": false,
    "scrolled": false
   },
   "outputs": [],
   "source": [
    "tableau_poi.head(10)"
   ]
  },
  {
   "cell_type": "markdown",
   "metadata": {},
   "source": [
    "<div class=\"alert alert-block alert-info\">\n",
    "Exécuter le bloc suivant pour visualiser les 10 dernières lignes.\n",
    "</div>"
   ]
  },
  {
   "cell_type": "code",
   "execution_count": null,
   "metadata": {
    "collapsed": false,
    "scrolled": true
   },
   "outputs": [],
   "source": [
    "tableau_poi.tail(10)"
   ]
  },
  {
   "cell_type": "markdown",
   "metadata": {},
   "source": [
    "<div class=\"alert alert-block alert-info\">\n",
    "    Exécuter le bloc suivant pour visualiser la colonne des <code>'nom'</code>s.\n",
    "</div>"
   ]
  },
  {
   "cell_type": "code",
   "execution_count": null,
   "metadata": {
    "collapsed": false,
    "scrolled": true
   },
   "outputs": [],
   "source": [
    "tableau_poi['nom']"
   ]
  },
  {
   "cell_type": "markdown",
   "metadata": {},
   "source": [
    "<div class=\"alert alert-block alert-info\">\n",
    "    Exécuter le bloc suivant pour visualiser le sous-tableau constitué uniquement des colonnes <code>'longitude'</code> et <code>latitude</code>.\n",
    "</div>"
   ]
  },
  {
   "cell_type": "code",
   "execution_count": null,
   "metadata": {
    "collapsed": false,
    "scrolled": true
   },
   "outputs": [],
   "source": [
    "tableau_poi[['longitude','latitude']]"
   ]
  },
  {
   "cell_type": "markdown",
   "metadata": {},
   "source": [
    "<div class=\"alert alert-block alert-info\">\n",
    "    Exécuter le bloc suivant pour visualiser la première ligne du tableau.\n",
    "</div>"
   ]
  },
  {
   "cell_type": "code",
   "execution_count": null,
   "metadata": {
    "collapsed": false,
    "scrolled": true
   },
   "outputs": [],
   "source": [
    "tableau_poi.iloc[0]"
   ]
  },
  {
   "cell_type": "markdown",
   "metadata": {},
   "source": [
    "<div class=\"alert alert-block alert-info\">\n",
    "    Exécuter le bloc suivant pour visualiser les 4 premières lignes du tableau.\n",
    "</div>"
   ]
  },
  {
   "cell_type": "code",
   "execution_count": null,
   "metadata": {
    "collapsed": false,
    "scrolled": true
   },
   "outputs": [],
   "source": [
    "tableau_poi.iloc[0:4]"
   ]
  },
  {
   "cell_type": "markdown",
   "metadata": {},
   "source": [
    "<div class=\"alert alert-block alert-info\">\n",
    "    Exécuter le bloc suivant pour visualiser le <code>'nom'</code> de l'individu situé à la troisième ligne en partant du bas.\n",
    "</div>"
   ]
  },
  {
   "cell_type": "code",
   "execution_count": null,
   "metadata": {
    "collapsed": false,
    "scrolled": true
   },
   "outputs": [],
   "source": [
    "tableau_poi['nom'].iloc[-3]"
   ]
  },
  {
   "cell_type": "markdown",
   "metadata": {},
   "source": [
    "<div class=\"alert alert-block alert-info\">\n",
    "    Exécuter le bloc suivant pour vérifier qu'on obtient la même chose en sélectionnant la ligne en premier, puis la colonne.\n",
    "</div>"
   ]
  },
  {
   "cell_type": "code",
   "execution_count": null,
   "metadata": {
    "collapsed": false,
    "scrolled": true
   },
   "outputs": [],
   "source": [
    "tableau_poi.iloc[-3]['nom']"
   ]
  },
  {
   "cell_type": "markdown",
   "metadata": {},
   "source": [
    "<div class=\"alert alert-block alert-warning\">\n",
    "Pour plus de facilité, on peut sauvegarder les noms d'une partie des colonnes dans une liste afin de manipuler qu'une partie du tableau.\n",
    "</div>"
   ]
  },
  {
   "cell_type": "markdown",
   "metadata": {},
   "source": [
    "<div class=\"alert alert-block alert-info\">\n",
    "    Exécuter le bloc suivant pour sauvegarder dans une variable <code>types</code> les dernières colonnes qui correspondent uniquement aux types de lieux.\n",
    "</div>"
   ]
  },
  {
   "cell_type": "code",
   "execution_count": 17,
   "metadata": {
    "collapsed": true
   },
   "outputs": [],
   "source": [
    "types = tableau_poi.columns[5:]"
   ]
  },
  {
   "cell_type": "markdown",
   "metadata": {},
   "source": [
    "<div class=\"alert alert-block alert-info\">\n",
    "    Exécuter le bloc suivant pour visualiser le contenu de la variable <code>types</code>.\n",
    "</div>"
   ]
  },
  {
   "cell_type": "code",
   "execution_count": null,
   "metadata": {
    "collapsed": false,
    "scrolled": true
   },
   "outputs": [],
   "source": [
    "types"
   ]
  },
  {
   "cell_type": "markdown",
   "metadata": {},
   "source": [
    "<div class=\"alert alert-block alert-info\">\n",
    "    Exécuter le bloc suivant pour visualiser le sous-tableau constitué uniquement des colonnes dont les intitulés sont dans <code>types</code>.\n",
    "</div>"
   ]
  },
  {
   "cell_type": "code",
   "execution_count": null,
   "metadata": {
    "collapsed": false
   },
   "outputs": [],
   "source": [
    "tableau_poi[types]"
   ]
  },
  {
   "cell_type": "markdown",
   "metadata": {},
   "source": [
    "## 3 - Inspection et manipulation élémentaire du contenu (NumPy)\n",
    "\n",
    "<div class=\"alert alert-block alert-warning\">\n",
    "Beaucoup d'opérations sont disponibles pour manipuler le contenu d'un tableau et/ou d'une colonne. Nous allons voir dans la suite uniquement les plus importantes.\n",
    "    \n",
    "Même si elles peuvent directement être appelées sous forme de méthodes en Pandas, nous allons plutôt utiliser les fonctions de la bibliothèse Numpy pour réaliser ces opérations.\n",
    "\n",
    "On peut tout d'abord obtenir un certain nombre d'informations sur le contenu : \n",
    "* les fonctions `np.max()` et `np.min()`  sur un tableau permettent de connaître la valeur minimale et maximale\n",
    "* la fonction `np.unique()` sur une colonne permet de renvoyer la liste des valeurs uniques d'une colonne\n",
    "\n",
    "On peut également manipuler le contenu : \n",
    "* la fonction  `np.abs()` sur une colonne permet de retourner les valeur absolues du contenu\n",
    "* la fonction `np.round()` sur une colonne permet d'arrondir le  contenu\n",
    "* la fonction `np.sum()` permet de retourner la somme de tous les éléments\n",
    "</div>"
   ]
  },
  {
   "cell_type": "markdown",
   "metadata": {},
   "source": [
    "<div class=\"alert alert-block alert-info\">\n",
    "    Exécuter le bloc suivant pour importer la bibliotèque Numpy.\n",
    "</div>"
   ]
  },
  {
   "cell_type": "code",
   "execution_count": 20,
   "metadata": {
    "collapsed": true
   },
   "outputs": [],
   "source": [
    "import numpy as np"
   ]
  },
  {
   "cell_type": "markdown",
   "metadata": {},
   "source": [
    "<div class=\"alert alert-block alert-info\">\n",
    "    Exécuter le bloc suivant pour voir le minimum de la colonne <code>'atm'</code>.\n",
    "</div>"
   ]
  },
  {
   "cell_type": "code",
   "execution_count": null,
   "metadata": {
    "collapsed": false
   },
   "outputs": [],
   "source": [
    "np.min(tableau_poi['atm'])"
   ]
  },
  {
   "cell_type": "markdown",
   "metadata": {},
   "source": [
    "<div class=\"alert alert-block alert-info\">\n",
    "    Exécuter le bloc suivant pour voir le maximum de la colonne <code>'atm'</code>.\n",
    "</div>"
   ]
  },
  {
   "cell_type": "code",
   "execution_count": null,
   "metadata": {
    "collapsed": false
   },
   "outputs": [],
   "source": [
    "np.max(tableau_poi['atm'])"
   ]
  },
  {
   "cell_type": "markdown",
   "metadata": {},
   "source": [
    "<div class=\"alert alert-block alert-info\">\n",
    "    Exécuter le bloc suivant pour voir toutes les valeurs différentes de la colonne <code>'atm'</code>.\n",
    "</div>"
   ]
  },
  {
   "cell_type": "code",
   "execution_count": null,
   "metadata": {
    "collapsed": false
   },
   "outputs": [],
   "source": [
    "np.unique(tableau_poi['atm'])"
   ]
  },
  {
   "cell_type": "markdown",
   "metadata": {},
   "source": [
    "<div class=\"alert alert-block alert-info\">\n",
    "    Exécuter le bloc suivant pour voir toutes les valeurs uniques des <code>'longitude'</code>s arrondies.\n",
    "</div>"
   ]
  },
  {
   "cell_type": "code",
   "execution_count": null,
   "metadata": {
    "collapsed": false
   },
   "outputs": [],
   "source": [
    "# On arrondit les longitudes puis on garde les valeurs uniques\n",
    "np.unique(np.round(tableau_poi['longitude']))"
   ]
  },
  {
   "cell_type": "markdown",
   "metadata": {},
   "source": [
    "<div class=\"alert alert-block alert-info\">\n",
    "    Exécuter le bloc suivant pour voir la somme totale des valeurs de la colonne <code>'atm'</code>. Qu'indique le résultat ?\n",
    "</div>"
   ]
  },
  {
   "cell_type": "code",
   "execution_count": null,
   "metadata": {
    "collapsed": false
   },
   "outputs": [],
   "source": [
    "np.sum(tableau_poi['atm'])"
   ]
  },
  {
   "cell_type": "markdown",
   "metadata": {},
   "source": [
    "## 4 - Sélection de lignes (Pandas)\n",
    "\n",
    "<div class=\"alert alert-block alert-warning\">\n",
    "Un des grands avantages de Pandas est sa capacité à sélectionner une sous-partie des données de manière très efficace et simple. Il suffit de préciser les conditions voulues sur les colonnes avec les opérateurs : <code><, >, <=, >=, ==, !=</code> : \n",
    "<ul>\n",
    "<li> <code>tableau_poi[tableau_poi['note'] > 1]</code> pour sélectionner les lieux avec une note supérieure à 1</li>\n",
    "<li> <code>tableau_poi[tableau_poi['note'] <= 3]</code> pour sélectionner les lieux avec une note inférieure ou égale à 3</li>\n",
    "<li> <code>tableau_poi[tableau_poi['note'] == 2]</code> pour sélectionner les lieux avec une note égale à 2</li>\n",
    "<li> <code>tableau_poi[tableau_poi['note'] != 2]</code> pour sélectionner les lieux avec une note différente de 2</li>\n",
    "</ul>\n",
    "    \n",
    "Les conditions peuvent être combinées avec  :\n",
    "* le *et* logique `&` :  `tableau_poi[(tableau_poi['note']=>1) & (tableau_poi['note']<=3)]` pour les lieux avec une note entre 1 et 3\n",
    "* le *ou* logique `|` :   `tableau_poi[(tableau_poi['note']==1) | (tableau_poi['note']==3)]` pour les lieux avec une note de 1 ou de 3\n",
    "* la *négation* logique `~` : `tableau_poi[~((tableau_poi['note']==1) | (tableau_poi['note']==3))]` pour les lieux de note ni de 1 ou de 3\n",
    "\n",
    "Le résultat peut être bien sûr stocké dans une autre variable pour des manipulations ultérieures.\n",
    "                                                                                           </div>"
   ]
  },
  {
   "cell_type": "markdown",
   "metadata": {},
   "source": [
    "## 5 - Exercices : introspection des données\n"
   ]
  },
  {
   "cell_type": "markdown",
   "metadata": {},
   "source": [
    "<div class=\"alert alert-block alert-warning\">\n",
    "    Comme dit en introduction, les données chargées représentent des points d'intérêts dans Paris avec les informations du nom, des coordonnées spatiales, d'une note du lieu, d'un indice du prix et du type de lieu. Ces premières questions ont pour but de comprendre le codage de chaque colonne.\n",
    "</div>"
   ]
  },
  {
   "cell_type": "markdown",
   "metadata": {},
   "source": [
    "<div class = \"alert alert-block alert-info\">\n",
    "    Q5.1 - Écrire une instruction qui permet de voir les entêtes de colonnes. \n",
    " </div>"
   ]
  },
  {
   "cell_type": "code",
   "execution_count": null,
   "metadata": {
    "collapsed": false
   },
   "outputs": [],
   "source": [
    "tableau_poi.columns"
   ]
  },
  {
   "cell_type": "markdown",
   "metadata": {},
   "source": [
    "<div class = \"alert alert-block alert-info\">\n",
    "    Q5.2 - À l'aide de la fonction <code>np.unique()</code>, étudier chacune des colonnes suivantes en comptant le nombre de valeurs uniques. Commenter pour dire s'il s'agit d'une variable qualitative ou quantitative. \n",
    " </div>"
   ]
  },
  {
   "cell_type": "markdown",
   "metadata": {},
   "source": [
    "<div class = \"alert alert-block alert-info\">\n",
    "    Q5.2.a - <code>'latitude'</code>. \n",
    " </div>"
   ]
  },
  {
   "cell_type": "code",
   "execution_count": null,
   "metadata": {
    "collapsed": false
   },
   "outputs": [],
   "source": [
    "np.unique(tableau_poi['latitude']) # quantitative"
   ]
  },
  {
   "cell_type": "markdown",
   "metadata": {},
   "source": [
    "<div class = \"alert alert-block alert-info\">\n",
    "    Q5.2.b - <code>'note'</code>. \n",
    " </div>"
   ]
  },
  {
   "cell_type": "code",
   "execution_count": null,
   "metadata": {
    "collapsed": false
   },
   "outputs": [],
   "source": [
    "np.unique(tableau_poi['note']) # quantitative"
   ]
  },
  {
   "cell_type": "markdown",
   "metadata": {},
   "source": [
    "<div class = \"alert alert-block alert-info\">\n",
    "    Q5.2.c - <code>'prix'</code>. \n",
    " </div>"
   ]
  },
  {
   "cell_type": "code",
   "execution_count": null,
   "metadata": {
    "collapsed": false
   },
   "outputs": [],
   "source": [
    "np.unique(tableau_poi['prix']) # qualitative"
   ]
  },
  {
   "cell_type": "markdown",
   "metadata": {},
   "source": [
    "<div class = \"alert alert-block alert-info\">\n",
    "    Q5.2.d - <code>'bakery'</code>. \n",
    " </div>"
   ]
  },
  {
   "cell_type": "code",
   "execution_count": null,
   "metadata": {
    "collapsed": false
   },
   "outputs": [],
   "source": [
    " np.unique(tableau_poi['bakery']) # qualitative"
   ]
  },
  {
   "cell_type": "markdown",
   "metadata": {},
   "source": [
    "<div class = \"alert alert-block alert-info\">\n",
    "    Q5.2.e - <code>'restaurant'</code>. \n",
    " </div>"
   ]
  },
  {
   "cell_type": "code",
   "execution_count": null,
   "metadata": {
    "collapsed": false
   },
   "outputs": [],
   "source": [
    "np.unique(tableau_poi['restaurant']) # qualitative"
   ]
  },
  {
   "cell_type": "markdown",
   "metadata": {},
   "source": [
    "<div class = \"alert alert-block alert-info\">\n",
    "    Q5.3.a - Quelles est la longitude minimale ?\n",
    "</div>"
   ]
  },
  {
   "cell_type": "code",
   "execution_count": null,
   "metadata": {
    "collapsed": false
   },
   "outputs": [],
   "source": [
    "np.min(tableau_poi['longitude'])"
   ]
  },
  {
   "cell_type": "markdown",
   "metadata": {},
   "source": [
    "<div class = \"alert alert-block alert-info\">\n",
    "    Q5.3.b - Quelles est la longitude maximale ?\n",
    "</div>"
   ]
  },
  {
   "cell_type": "code",
   "execution_count": null,
   "metadata": {
    "collapsed": false
   },
   "outputs": [],
   "source": [
    "np.max(tableau_poi['longitude'])"
   ]
  },
  {
   "cell_type": "markdown",
   "metadata": {},
   "source": [
    "<div class = \"alert alert-block alert-info\">\n",
    "    Q5.3.c - Quelles est la latitude minimale ?\n",
    "</div>"
   ]
  },
  {
   "cell_type": "code",
   "execution_count": null,
   "metadata": {
    "collapsed": false
   },
   "outputs": [],
   "source": [
    "np.min(tableau_poi['latitude'])"
   ]
  },
  {
   "cell_type": "markdown",
   "metadata": {},
   "source": [
    "<div class = \"alert alert-block alert-info\">\n",
    "    Q5.3.d - Quelles est la latitude maximale ?\n",
    "</div>"
   ]
  },
  {
   "cell_type": "code",
   "execution_count": null,
   "metadata": {
    "collapsed": false
   },
   "outputs": [],
   "source": [
    "np.max(tableau_poi['latitude'])"
   ]
  },
  {
   "cell_type": "markdown",
   "metadata": {},
   "source": [
    "<div class = \"alert alert-block alert-info\">\n",
    "Q5.4 - Quelles sont les différentes modalités possibles pour les variables indiquant le type du lieu ?  Écrire en commentaire ce qu'indiquent, à votre avis, ces valeurs.\n",
    "</div>"
   ]
  },
  {
   "cell_type": "code",
   "execution_count": null,
   "metadata": {
    "collapsed": false
   },
   "outputs": [],
   "source": [
    "np.unique(tableau_poi['restaurant'])"
   ]
  },
  {
   "cell_type": "markdown",
   "metadata": {},
   "source": [
    "les valeurs possibles pour un type de lieu sont 0 et 1.\n",
    "la modalité 1 signifie que le lieu appartient au type de la colonne correspondante sinon 0"
   ]
  },
  {
   "cell_type": "markdown",
   "metadata": {},
   "source": [
    "<div class = \"alert alert-block alert-info\">\n",
    "Q5.5 - Sur quelle échelle est indiquée le prix ? Que signifie une valeur de -1 à votre avis ?  \n",
    "</div>"
   ]
  },
  {
   "cell_type": "code",
   "execution_count": null,
   "metadata": {
    "collapsed": false
   },
   "outputs": [],
   "source": [
    "[np.min(tableau_poi['prix']), np.max(tableau_poi['prix'])]"
   ]
  },
  {
   "cell_type": "raw",
   "metadata": {},
   "source": [
    "les valeurs varient entre -1 et 4\n"
   ]
  },
  {
   "cell_type": "markdown",
   "metadata": {},
   "source": [
    "<div class = \"alert alert-block alert-info\">\n",
    "    Q5.6.a - Sélectionner uniquement les lignes où le prix est supérieur à 0 et sauvez le dans une variable <code>tableau_prix</code>.\n",
    "</div>"
   ]
  },
  {
   "cell_type": "code",
   "execution_count": null,
   "metadata": {
    "collapsed": false
   },
   "outputs": [],
   "source": [
    "tableau_prix = tableau_poi[tableau_poi['prix'] >= 0]\n",
    "tableau_prix"
   ]
  },
  {
   "cell_type": "markdown",
   "metadata": {},
   "source": [
    "<div class = \"alert alert-block alert-info\">\n",
    "    Q5.6.b - Combien de lieux correspondent à cette contrainte ? \n",
    "</div>"
   ]
  },
  {
   "cell_type": "code",
   "execution_count": null,
   "metadata": {
    "collapsed": false
   },
   "outputs": [],
   "source": [
    "len(tableau_prix) # Il y a 723 lieux correspondants à cette contrainte"
   ]
  },
  {
   "cell_type": "markdown",
   "metadata": {},
   "source": [
    "<div class = \"alert alert-block alert-info\">\n",
    "    Q5.7 - À l'aide de la fonction <code>np.sum()</code> par exemple, calculer en une ligne le nombre de lieux avec un prix supérieur à 0 pour chaque type de lieu (ne pas oublier d'utiliser la variable `types` définie ci-dessus).\n",
    "</div>"
   ]
  },
  {
   "cell_type": "code",
   "execution_count": null,
   "metadata": {
    "collapsed": false
   },
   "outputs": [],
   "source": [
    "np.sum(tableau_prix[types])"
   ]
  },
  {
   "cell_type": "markdown",
   "metadata": {},
   "source": [
    "<div class = \"alert alert-block alert-info\">\n",
    "Q5.7 - Combien y'a-t-il : \n",
    "</div>"
   ]
  },
  {
   "cell_type": "raw",
   "metadata": {},
   "source": []
  },
  {
   "cell_type": "markdown",
   "metadata": {},
   "source": [
    "<div class = \"alert alert-block alert-info\">\n",
    "Q5.7.a - de restaurants ? \n",
    "</div>"
   ]
  },
  {
   "cell_type": "code",
   "execution_count": null,
   "metadata": {
    "collapsed": false
   },
   "outputs": [],
   "source": [
    "np.sum(tableau_poi['restaurant']) "
   ]
  },
  {
   "cell_type": "markdown",
   "metadata": {},
   "source": [
    "<div class = \"alert alert-block alert-info\">\n",
    "Q5.7.b - de bars ? \n",
    "</div>"
   ]
  },
  {
   "cell_type": "code",
   "execution_count": null,
   "metadata": {
    "collapsed": false
   },
   "outputs": [],
   "source": [
    "np.sum(tableau_poi['bar'])"
   ]
  },
  {
   "cell_type": "markdown",
   "metadata": {},
   "source": [
    "<div class = \"alert alert-block alert-info\">\n",
    "Q5.7.c - de restaurants qui sont également des bars ? \n",
    "</div>"
   ]
  },
  {
   "cell_type": "code",
   "execution_count": null,
   "metadata": {
    "collapsed": false
   },
   "outputs": [],
   "source": [
    "np.sum(tableau_poi[tableau_poi['restaurant'] == 1]['bar'])"
   ]
  },
  {
   "cell_type": "markdown",
   "metadata": {},
   "source": [
    "<div class = \"alert alert-block alert-info\">\n",
    "Q5.7.d - de bars qui ne sont pas des restaurants ? \n",
    "</div>"
   ]
  },
  {
   "cell_type": "code",
   "execution_count": null,
   "metadata": {
    "collapsed": false
   },
   "outputs": [],
   "source": [
    "np.sum(tableau_poi[tableau_poi['restaurant'] == 0]['bar'])"
   ]
  },
  {
   "cell_type": "markdown",
   "metadata": {},
   "source": [
    "## 6 - Visualisation de données"
   ]
  },
  {
   "cell_type": "markdown",
   "metadata": {},
   "source": [
    "<div class=\"alert alert-block alert-warning\">\n",
    "Pandas dispose de quelques fonctions d'affichage graphique mais il est plus générique et plus flexible de passer par une bibliothèque externe. Nous utiliserons dans la suite <code>matplotlib.pyplot</code> qui est la bibliothèque de base pour l'affichage graphique en python (la plupart des autres bibliothèques se fondent dessus avec une syntaxe très similaire).\n",
    "</div>\n",
    "<div class = \"alert alert-block alert-info\">\n",
    "    Exécuter le bloc ci-dessous pour importer la bibliothèque <code>matplotlib</code>.\n",
    "</div>"
   ]
  },
  {
   "cell_type": "code",
   "execution_count": null,
   "metadata": {
    "collapsed": false
   },
   "outputs": [],
   "source": [
    "%matplotlib inline\n",
    "import matplotlib.pyplot as plt"
   ]
  },
  {
   "cell_type": "markdown",
   "metadata": {},
   "source": [
    "<div class=\"alert alert-block alert-warning\">\n",
    "Un premier type d'affichage  pour la visualisation de données est l'affichage par des barres représentant le nombre d'éléments par catégories. Par exemple, pour afficher le nombre de lieux des 5 premiers types : <code>plt.bar([1,2,3,4,5], np.sum(tableau_poi[types[:5]]), tick_label = types[:5])</code>\n",
    "\n",
    "Le premier argument indique les abscisses des barres à tracer, le deuxieme la valeur pour chaque barre, et l'argument <code>tick_label</code> permet de préciser le texte en dessous de chaque barre.\n",
    "</div>\n",
    "<div class = \"alert alert-block alert-info\">\n",
    "    Exécuter le bloc ci-dessous pour générer le graphique.\n",
    "</div>"
   ]
  },
  {
   "cell_type": "code",
   "execution_count": null,
   "metadata": {
    "collapsed": false
   },
   "outputs": [],
   "source": [
    "_ = plt.bar([1,2,3,4,5], np.sum(tableau_poi[types[:5]]), tick_label = types[:5])"
   ]
  },
  {
   "cell_type": "markdown",
   "metadata": {},
   "source": [
    "<div class=\"alert alert-block alert-warning\">\n",
    "On peut également faire un diagramme en camembert : <code>plt.pie(np.sum(tableau_poi[types[:5]]), labels = types[:5])</code> (ici le texte est passé par l'argument `labels`)\n",
    "</div>\n",
    "<div class = \"alert alert-block alert-info\">\n",
    "    Exécuter le bloc ci-dessous pour générer le graphique.\n",
    "</div>"
   ]
  },
  {
   "cell_type": "code",
   "execution_count": null,
   "metadata": {
    "collapsed": false
   },
   "outputs": [],
   "source": [
    "_ = plt.pie(np.sum(tableau_poi[types[:5]]), labels = types[:5])"
   ]
  },
  {
   "cell_type": "markdown",
   "metadata": {},
   "source": [
    "<div class=\"alert alert-block alert-warning\">\n",
    "    On peut également tracer des points sur un plan 2d grâce à <code>plt.scatter</code>.\n",
    "</div>\n",
    "<div class = \"alert alert-block alert-info\">\n",
    "    Exécuter le bloc ci-dessous pour générer le graphique.\n",
    "</div>"
   ]
  },
  {
   "cell_type": "code",
   "execution_count": null,
   "metadata": {
    "collapsed": false
   },
   "outputs": [],
   "source": [
    "# s permet de définir la taille des points, color leur couleur\n",
    "_ = plt.scatter(tableau_poi['longitude'], tableau_poi['latitude'], s=.1, color=\"yellow\")"
   ]
  },
  {
   "cell_type": "markdown",
   "metadata": {},
   "source": [
    "## 7 - Exercices : visualisation de données"
   ]
  },
  {
   "cell_type": "markdown",
   "metadata": {},
   "source": [
    "<div class = \"alert alert-block alert-info\">\n",
    "Q7.1 - Observer sous forme de barres la répartition des prix pour les restaurants (seulement pour ceux qui ont un prix supérieur à 0).\n",
    "</div>"
   ]
  },
  {
   "cell_type": "code",
   "execution_count": null,
   "metadata": {
    "collapsed": false,
    "scrolled": false
   },
   "outputs": [],
   "source": [
    "#_ = plt.bar([1,2,3,4],tableau_prix[tableau_prix['restaurant']==1]['prix'], tick_label = 'restaurant')"
   ]
  },
  {
   "cell_type": "markdown",
   "metadata": {},
   "source": [
    "<div class = \"alert alert-block alert-info\">\n",
    "Q7.2 - Observer sous forme de camembert la répartition des prix pour les bars (seulement pour ceux qui ont un prix supérieur à 0).\n",
    "</div>"
   ]
  },
  {
   "cell_type": "code",
   "execution_count": null,
   "metadata": {
    "collapsed": true
   },
   "outputs": [],
   "source": []
  },
  {
   "cell_type": "markdown",
   "metadata": {},
   "source": [
    "<div class = \"alert alert-block alert-info\">\n",
    "Q7.3 : Observer la répartition spatiale en fonction du prix pour les restaurants.\n",
    "</div>"
   ]
  },
  {
   "cell_type": "code",
   "execution_count": null,
   "metadata": {
    "collapsed": true
   },
   "outputs": [],
   "source": []
  },
  {
   "cell_type": "markdown",
   "metadata": {},
   "source": [
    "<div class=\"alert alert-block alert-warning\">\n",
    "Remarque : il est possible de faire des diagrammes beaucoup plus compliqués avec un peu d'algorithmique (ce qui ne vous est pas demandé).\n",
    "</div>\n",
    "<div class = \"alert alert-block alert-info\">\n",
    "Par exemple : exécuter le bloc suivant.\n",
    "</div>"
   ]
  },
  {
   "cell_type": "code",
   "execution_count": null,
   "metadata": {
    "collapsed": true
   },
   "outputs": [],
   "source": [
    "prix = [1,2,3,4]\n",
    "for p in prix:\n",
    "    plt.bar([i + (p - 1) / (len(prix) + 1)  for i, t in enumerate(types)],\n",
    "            [np.sum(tableau_prix[tableau_prix['prix'] == p][t])\n",
    "             for i, t in enumerate(types)], width = 1 / (len(prix) + 1))\n",
    "_ = plt.xticks(range(len(types)), types, rotation = 'vertical')"
   ]
  }
 ],
 "metadata": {
  "anaconda-cloud": {},
  "kernelspec": {
   "display_name": "Python [conda root]",
   "language": "python",
   "name": "conda-root-py"
  },
  "language_info": {
   "codemirror_mode": {
    "name": "ipython",
    "version": 2
   },
   "file_extension": ".py",
   "mimetype": "text/x-python",
   "name": "python",
   "nbconvert_exporter": "python",
   "pygments_lexer": "ipython2",
   "version": "2.7.12"
  }
 },
 "nbformat": 4,
 "nbformat_minor": 5
}
