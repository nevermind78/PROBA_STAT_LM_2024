{
 "cells": [
  {
   "cell_type": "markdown",
   "metadata": {},
   "source": [
    "# Qui êtes-vous ?\n",
    "<div class=\"alert alert-block alert-info\">\n",
    "Écrire ci-dessous le nom, le prénom et le numéro étudiant de chaque membre du binôme :\n",
    "</div>"
   ]
  },
  {
   "cell_type": "code",
   "execution_count": 1,
   "metadata": {
    "collapsed": true
   },
   "outputs": [],
   "source": []
  },
  {
   "cell_type": "markdown",
   "metadata": {},
   "source": [
    "# TME 08X - Maximum de vraisemblance"
   ]
  },
  {
   "cell_type": "markdown",
   "metadata": {},
   "source": [
    "<div class=\"alert alert-block alert-warning\">\n",
    "Dans ce TME, l'objectif est d'apprendre grâce à l'estimateur de maximum de vraisemblance les paramètres de lois normales à partir d'un ensemble d'images réelles de chiffres provenant de codes postaux écrits manuellement et scannés par le service des postes américain. Ces lois normales seront ensuite exploitées pour reconnaître automatique des chiffres.\n",
    "\n",
    "Les images scannées ont été normalisées de manière à ce qu'elles soient toutes des images de 16x16 pixels en teintes de gris, et utilisées dans un travail de recherche en IA de Le Cun et al., 1990 :\n",
    "\n",
    "Y. LeCun, O. Matan, B. Boser, J. S. Denker, et al. (1990) *Handwritten zip code recognition with multilayer networks*. In ICPR, volume II, pages 35–40.\n",
    "\n",
    "Voici quelques exemples d'images de cette base : \n",
    "    \n",
    "<img src=\"usps.png\" title=\"Quelques exemples\">\n",
    "</div>"
   ]
  },
  {
   "cell_type": "code",
   "execution_count": 2,
   "metadata": {
    "collapsed": true
   },
   "outputs": [],
   "source": [
    "import numpy as np\n",
    "import pandas as pd\n",
    "import matplotlib.pyplot as plt\n",
    "%matplotlib inline"
   ]
  },
  {
   "cell_type": "markdown",
   "metadata": {},
   "source": [
    "# 1 - Prise en main des données"
   ]
  },
  {
   "cell_type": "markdown",
   "metadata": {},
   "source": [
    "<div class=\"alert alert-block alert-warning\">\n",
    "Nous allons commencer par charger des données et regarder comment elles se présentent.\n",
    "</div>"
   ]
  },
  {
   "cell_type": "markdown",
   "metadata": {},
   "source": [
    "<div class=\"alert alert-block alert-info\">\n",
    "Exécuter le bloc suivant pour charger les données.\n",
    "</div>"
   ]
  },
  {
   "cell_type": "code",
   "execution_count": 3,
   "metadata": {
    "collapsed": true
   },
   "outputs": [],
   "source": [
    "import pickle as pkl\n",
    "import gzip\n",
    "image = pkl.load(gzip.open('image.pkl.gz','rb'))\n",
    "chiffre = pkl.load(gzip.open('chiffre.pkl.gz','rb')) "
   ]
  },
  {
   "cell_type": "markdown",
   "metadata": {},
   "source": [
    "<div class=\"alert alert-block alert-info\">\n",
    "    Q1.1 - Quelles sont les longueurs des tableaux <code>image</code> et <code>chiffre</code>. La taille d'une matrice <code>image[i]</code> ?\n",
    "</div>"
   ]
  },
  {
   "cell_type": "code",
   "execution_count": 4,
   "metadata": {
    "collapsed": false,
    "scrolled": false
   },
   "outputs": [
    {
     "data": {
      "text/plain": [
       "(6229, 6229, 16)"
      ]
     },
     "execution_count": 4,
     "metadata": {},
     "output_type": "execute_result"
    }
   ],
   "source": [
    "len(image), len(chiffre), len(image[0])"
   ]
  },
  {
   "cell_type": "markdown",
   "metadata": {},
   "source": [
    "<div class=\"alert alert-block alert-info\">\n",
    "    Q1.2 - Afficher les deux premières donnée du tableau <code>image</code> et les deux premières données du tableau <code>chiffre</code>.\n",
    "</div>"
   ]
  },
  {
   "cell_type": "code",
   "execution_count": 5,
   "metadata": {
    "collapsed": false,
    "scrolled": true
   },
   "outputs": [
    {
     "data": {
      "text/plain": [
       "(array([0, 9]),\n",
       " array([array([[0.        , 0.        , 0.        , 0.05151367, 0.62060547,\n",
       "         0.90527344, 0.38452148, 0.38452148, 0.38452148, 0.1550293 ,\n",
       "         0.        , 0.        , 0.        , 0.        , 0.        ,\n",
       "         0.        ],\n",
       "        [0.        , 0.        , 0.09448242, 0.68994141, 1.        ,\n",
       "         1.        , 1.        , 1.        , 1.        , 0.87548828,\n",
       "         0.76904297, 0.19152832, 0.        , 0.        , 0.        ,\n",
       "         0.        ],\n",
       "        [0.        , 0.        , 0.63037109, 1.        , 1.        ,\n",
       "         1.        , 1.        , 1.        , 1.        , 1.        ,\n",
       "         1.        , 0.84912109, 0.41357422, 0.        , 0.        ,\n",
       "         0.        ],\n",
       "        [0.        , 0.        , 0.26293945, 1.        , 1.        ,\n",
       "         1.        , 1.        , 0.87548828, 0.69238281, 0.86376953,\n",
       "         1.        , 1.        , 0.98632812, 0.21154785, 0.        ,\n",
       "         0.        ],\n",
       "        [0.        , 0.        , 0.38110352, 1.        , 1.        ,\n",
       "         1.        , 1.        , 0.54150391, 0.        , 0.56494141,\n",
       "         1.        , 1.        , 1.        , 0.50585938, 0.        ,\n",
       "         0.        ],\n",
       "        [0.        , 0.        , 0.58203125, 1.        , 1.        ,\n",
       "         1.        , 1.        , 0.34106445, 0.        , 0.07250977,\n",
       "         0.55712891, 1.        , 1.        , 0.76171875, 0.01699829,\n",
       "         0.        ],\n",
       "        [0.        , 0.        , 0.76513672, 1.        , 1.        ,\n",
       "         1.        , 0.86230469, 0.15344238, 0.        , 0.        ,\n",
       "         0.        , 0.48754883, 1.        , 0.91259766, 0.01450348,\n",
       "         0.        ],\n",
       "        [0.        , 0.00400162, 0.92626953, 1.        , 1.        ,\n",
       "         1.        , 0.37695312, 0.        , 0.        , 0.        ,\n",
       "         0.        , 0.0880127 , 0.99707031, 0.93994141, 0.19995117,\n",
       "         0.        ],\n",
       "        [0.        , 0.14855957, 1.        , 1.        , 1.        ,\n",
       "         1.        , 0.15905762, 0.        , 0.        , 0.        ,\n",
       "         0.        , 0.30297852, 1.        , 1.        , 0.15844727,\n",
       "         0.        ],\n",
       "        [0.        , 0.23999023, 0.97949219, 1.        , 1.        ,\n",
       "         0.95849609, 0.03500366, 0.        , 0.        , 0.        ,\n",
       "         0.        , 0.46850586, 1.        , 0.95800781, 0.03448486,\n",
       "         0.        ],\n",
       "        [0.        , 0.        , 0.88183594, 1.        , 1.        ,\n",
       "         0.94580078, 0.19555664, 0.        , 0.        , 0.        ,\n",
       "         0.17749023, 0.80566406, 1.        , 0.81005859, 0.        ,\n",
       "         0.        ],\n",
       "        [0.        , 0.03149414, 0.86132812, 1.        , 1.        ,\n",
       "         1.        , 0.41455078, 0.        , 0.        , 0.28100586,\n",
       "         0.94384766, 1.        , 0.96386719, 0.45605469, 0.        ,\n",
       "         0.        ],\n",
       "        [0.        , 0.        , 0.20703125, 1.        , 1.        ,\n",
       "         1.        , 0.93408203, 0.69238281, 0.69238281, 0.92382812,\n",
       "         1.        , 1.        , 0.78076172, 0.        , 0.        ,\n",
       "         0.        ],\n",
       "        [0.        , 0.        , 0.08349609, 0.85009766, 1.        ,\n",
       "         1.        , 1.        , 1.        , 1.        , 1.        ,\n",
       "         1.        , 0.68798828, 0.04049683, 0.        , 0.        ,\n",
       "         0.        ],\n",
       "        [0.        , 0.        , 0.        , 0.19348145, 0.9296875 ,\n",
       "         1.        , 1.        , 1.        , 1.        , 0.96386719,\n",
       "         0.52832031, 0.0585022 , 0.        , 0.        , 0.        ,\n",
       "         0.        ],\n",
       "        [0.        , 0.        , 0.        , 0.        , 0.24499512,\n",
       "         0.71777344, 0.99951172, 0.99951172, 0.71337891, 0.34643555,\n",
       "         0.        , 0.        , 0.        , 0.        , 0.        ,\n",
       "         0.        ]]),\n",
       "        array([[0.        , 0.        , 0.        , 0.        , 0.        ,\n",
       "         0.        , 0.29443359, 0.63769531, 0.74609375, 0.67285156,\n",
       "         0.0994873 , 0.59423828, 0.60302734, 0.        , 0.        ,\n",
       "         0.        ],\n",
       "        [0.        , 0.        , 0.        , 0.        , 0.        ,\n",
       "         0.55957031, 0.99462891, 1.        , 0.80761719, 0.91015625,\n",
       "         0.99072266, 0.99755859, 0.98632812, 0.0539856 , 0.        ,\n",
       "         0.        ],\n",
       "        [0.        , 0.        , 0.        , 0.        , 0.51171875,\n",
       "         0.99609375, 0.98193359, 0.43554688, 0.00550079, 0.13098145,\n",
       "         0.91845703, 1.        , 0.98339844, 0.04251099, 0.        ,\n",
       "         0.        ],\n",
       "        [0.        , 0.        , 0.        , 0.41601562, 0.99267578,\n",
       "         0.98925781, 0.34692383, 0.        , 0.        , 0.06100464,\n",
       "         0.94580078, 1.        , 0.83251953, 0.00200081, 0.        ,\n",
       "         0.        ],\n",
       "        [0.        , 0.        , 0.00900269, 0.73193359, 1.        ,\n",
       "         0.43139648, 0.        , 0.        , 0.        , 0.62988281,\n",
       "         1.        , 1.        , 0.63574219, 0.        , 0.        ,\n",
       "         0.        ],\n",
       "        [0.        , 0.        , 0.05551147, 0.99072266, 0.96289062,\n",
       "         0.04299927, 0.        , 0.02850342, 0.58154297, 0.99365234,\n",
       "         1.        , 1.        , 0.39550781, 0.        , 0.        ,\n",
       "         0.        ],\n",
       "        [0.        , 0.        , 0.        , 0.79394531, 1.        ,\n",
       "         0.61132812, 0.59765625, 0.87988281, 1.        , 1.        ,\n",
       "         1.        , 0.99072266, 0.1204834 , 0.        , 0.        ,\n",
       "         0.        ],\n",
       "        [0.        , 0.        , 0.        , 0.07098389, 0.68896484,\n",
       "         1.        , 1.        , 0.95751953, 0.52734375, 0.58007812,\n",
       "         1.        , 0.78271484, 0.        , 0.        , 0.        ,\n",
       "         0.        ],\n",
       "        [0.        , 0.        , 0.        , 0.        , 0.0114975 ,\n",
       "         0.19604492, 0.31591797, 0.08947754, 0.00200081, 0.79345703,\n",
       "         1.        , 0.42553711, 0.        , 0.        , 0.        ,\n",
       "         0.        ],\n",
       "        [0.        , 0.        , 0.        , 0.        , 0.        ,\n",
       "         0.        , 0.        , 0.        , 0.18347168, 0.99707031,\n",
       "         0.98046875, 0.12451172, 0.        , 0.        , 0.        ,\n",
       "         0.        ],\n",
       "        [0.        , 0.        , 0.        , 0.        , 0.        ,\n",
       "         0.        , 0.        , 0.        , 0.48095703, 1.        ,\n",
       "         0.74072266, 0.        , 0.        , 0.        , 0.        ,\n",
       "         0.        ],\n",
       "        [0.        , 0.        , 0.        , 0.        , 0.        ,\n",
       "         0.        , 0.        , 0.00900269, 0.81640625, 1.        ,\n",
       "         0.39550781, 0.        , 0.        , 0.        , 0.        ,\n",
       "         0.        ],\n",
       "        [0.        , 0.        , 0.        , 0.        , 0.        ,\n",
       "         0.        , 0.        , 0.19848633, 1.        , 0.99707031,\n",
       "         0.15454102, 0.        , 0.        , 0.        , 0.        ,\n",
       "         0.        ],\n",
       "        [0.        , 0.        , 0.        , 0.        , 0.        ,\n",
       "         0.        , 0.        , 0.46240234, 1.        , 0.99560547,\n",
       "         0.10198975, 0.        , 0.        , 0.        , 0.        ,\n",
       "         0.        ],\n",
       "        [0.        , 0.        , 0.        , 0.        , 0.        ,\n",
       "         0.        , 0.        , 0.59326172, 1.        , 0.91113281,\n",
       "         0.08752441, 0.        , 0.        , 0.        , 0.        ,\n",
       "         0.        ],\n",
       "        [0.        , 0.        , 0.        , 0.        , 0.        ,\n",
       "         0.        , 0.        , 0.22497559, 0.93115234, 0.48461914,\n",
       "         0.        , 0.        , 0.        , 0.        , 0.        ,\n",
       "         0.        ]])], dtype=object))"
      ]
     },
     "execution_count": 5,
     "metadata": {},
     "output_type": "execute_result"
    }
   ],
   "source": [
    "chiffre[:2], image[:2]"
   ]
  },
  {
   "cell_type": "markdown",
   "metadata": {},
   "source": [
    "<div class=\"alert alert-block alert-warning\">\n",
    "Les données se présentent sous la forme de deux tableaux. Le premier tableau <code>image</code> contient des images dont nous allons voir l'encodage un peu plus loin. Le second tableau <code>chiffre</code> contient des chiffres entre 0 et 9.\n",
    "</div>"
   ]
  },
  {
   "cell_type": "markdown",
   "metadata": {},
   "source": [
    "<div class=\"alert alert-block alert-info\">\n",
    "Q1.3 - Dessiner un histogramme des effectifs de chaque chiffre dans la colonne <code>'chiffre'</code>.\n",
    "</div>"
   ]
  },
  {
   "cell_type": "code",
   "execution_count": 6,
   "metadata": {
    "collapsed": false
   },
   "outputs": [
    {
     "data": {
      "text/plain": [
       "(array([1065.,  857.,  618.,  564.,  546.,  472.,  573.,  510.,  484.,\n",
       "         540.]),\n",
       " array([0. , 0.9, 1.8, 2.7, 3.6, 4.5, 5.4, 6.3, 7.2, 8.1, 9. ]),\n",
       " <a list of 10 Patch objects>)"
      ]
     },
     "execution_count": 6,
     "metadata": {},
     "output_type": "execute_result"
    },
    {
     "data": {
      "image/png": "[encoded data removed]",
      "text/plain": [
       "<matplotlib.figure.Figure at 0x7fee5818e410>"
      ]
     },
     "metadata": {},
     "output_type": "display_data"
    }
   ],
   "source": [
    "plt.hist(chiffre)"
   ]
  },
  {
   "cell_type": "markdown",
   "metadata": {},
   "source": [
    "<div class=\"alert alert-block alert-warning\">\n",
    "    Une image du tableau <code>image</code> correspond à une matrice :\n",
    "$$\n",
    "\\begin{bmatrix} \n",
    "    x_{0, 0} & \\dots & x_{0, 15} \\\\\n",
    "    \\vdots & \\ddots & \\vdots \\\\\n",
    "    x_{15, 0} & \\dots & x_{15, 15} \n",
    "    \\end{bmatrix}\n",
    "$$\n",
    "\n",
    "où les $x_{i,j}$ sont des nombres réels compris entre 0 et 1 qui représentent une teint de gris (0 = noir, 1 = blanc).\n",
    "</div>"
   ]
  },
  {
   "cell_type": "markdown",
   "metadata": {},
   "source": [
    "<div class=\"alert alert-block alert-info\">\n",
    "    Exécuter le bloc suivant pour définir la fonction <code>affiche_une_image</code> qui permet d'afficher une image.\n",
    "</div>"
   ]
  },
  {
   "cell_type": "code",
   "execution_count": 7,
   "metadata": {
    "collapsed": true
   },
   "outputs": [],
   "source": [
    "def affiche_une_image(image):\n",
    "    _ = plt.imshow(image, cmap='gray', interpolation='none')\n",
    "    _ = plt.colorbar()\n",
    "    return None"
   ]
  },
  {
   "cell_type": "markdown",
   "metadata": {},
   "source": [
    "<div class=\"alert alert-block alert-info\">\n",
    "Q1.4 - Afficher l'image d'indice 42 grâce à la fonction précédente.\n",
    "</div>"
   ]
  },
  {
   "cell_type": "code",
   "execution_count": 8,
   "metadata": {
    "collapsed": false,
    "scrolled": false
   },
   "outputs": [
    {
     "data": {
      "image/png": "[encoded data removed]",
      "text/plain": [
       "<matplotlib.figure.Figure at 0x7fee40179710>"
      ]
     },
     "metadata": {},
     "output_type": "display_data"
    }
   ],
   "source": [
    "affiche_une_image(image[42])"
   ]
  },
  {
   "cell_type": "markdown",
   "metadata": {},
   "source": [
    "<div class=\"alert alert-block alert-warning\">\n",
    "Vous devez voir un 1.\n",
    "</div>"
   ]
  },
  {
   "cell_type": "markdown",
   "metadata": {},
   "source": [
    "<div class=\"alert alert-block alert-info\">\n",
    "    Q1.5 - Afficher la valeur du tableau <code>chiffre</code> pour le même index.\n",
    "</div>"
   ]
  },
  {
   "cell_type": "code",
   "execution_count": 9,
   "metadata": {
    "collapsed": false,
    "scrolled": true
   },
   "outputs": [
    {
     "data": {
      "text/plain": [
       "1"
      ]
     },
     "execution_count": 9,
     "metadata": {},
     "output_type": "execute_result"
    }
   ],
   "source": [
    "chiffre[42]"
   ]
  },
  {
   "cell_type": "markdown",
   "metadata": {},
   "source": [
    "<div class=\"alert alert-block alert-warning\">\n",
    "Vous devez obtenir la valeur 1.\n",
    "</div>"
   ]
  },
  {
   "cell_type": "markdown",
   "metadata": {},
   "source": [
    "<div class=\"alert alert-block alert-info\">\n",
    "Exécuter les deux blocs suivants pour afficher plusieurs images à partir d'une sous-partie du tableau de données.\n",
    "\n",
    "Remarque : la fonction limite le nombre d'image affichées à 10 pour réduire le temps de calcul.\n",
    "</div>"
   ]
  },
  {
   "cell_type": "code",
   "execution_count": 10,
   "metadata": {
    "collapsed": true
   },
   "outputs": [],
   "source": [
    "def affiche_des_images(tab_images):\n",
    "    nb = min(len(tab_images), 10)\n",
    "    fig = plt.figure(figsize=(16, 16))\n",
    "    for i in range(nb):\n",
    "        fig.add_subplot(1, nb, i+1)\n",
    "        _ = plt.imshow(tab_images[i], cmap='gray', interpolation='none')\n",
    "    plt.show()"
   ]
  },
  {
   "cell_type": "code",
   "execution_count": 11,
   "metadata": {
    "collapsed": false,
    "scrolled": false
   },
   "outputs": [
    {
     "data": {
      "image/png": "[encoded data removed]",
      "text/plain": [
       "<matplotlib.figure.Figure at 0x7fee29b0ce10>"
      ]
     },
     "metadata": {},
     "output_type": "display_data"
    }
   ],
   "source": [
    "affiche_des_images(image)"
   ]
  },
  {
   "cell_type": "markdown",
   "metadata": {},
   "source": [
    "# 2 - Génération d'images du chiffre 8"
   ]
  },
  {
   "cell_type": "markdown",
   "metadata": {},
   "source": [
    "<div class=\"alert alert-block alert-info\">\n",
    "Q2.1 - Déclarer la variable <code>huit</code> qui contiendra toutes les lignes correspondant au chiffre 8.\n",
    "</div>"
   ]
  },
  {
   "cell_type": "code",
   "execution_count": 12,
   "metadata": {
    "collapsed": true
   },
   "outputs": [],
   "source": [
    "huit = [image[i] for i in range(len(image)) if chiffre[i] == 8]"
   ]
  },
  {
   "cell_type": "markdown",
   "metadata": {},
   "source": [
    "<div class=\"alert alert-block alert-info\">\n",
    "    Q2.2 - Afficher les images du tableau <code>huit</code> pour vérifier.\n",
    "</div>"
   ]
  },
  {
   "cell_type": "code",
   "execution_count": 13,
   "metadata": {
    "collapsed": false,
    "scrolled": true
   },
   "outputs": [
    {
     "data": {
      "image/png": "[encoded data removed]",
      "text/plain": [
       "<matplotlib.figure.Figure at 0x7fee297b4410>"
      ]
     },
     "metadata": {},
     "output_type": "display_data"
    }
   ],
   "source": [
    "affiche_des_images(huit)"
   ]
  },
  {
   "cell_type": "markdown",
   "metadata": {},
   "source": [
    "<div class=\"alert alert-block alert-warning\">\n",
    "On définit des variable aléatoire représentant les pixels composant une image de 8 :\n",
    "$$\n",
    "\\begin{bmatrix} \n",
    "    X_{0, 0} & \\dots & X_{0, 15} \\\\\n",
    "    \\vdots & \\ddots & \\vdots \\\\\n",
    "    X_{15, 0} & \\dots & X_{15, 15} \n",
    "    \\end{bmatrix}\n",
    "$$\n",
    "\n",
    "On suppose de plus que la teinte de chaque pixel suit une loi normale.\n",
    "$$\\forall i\\in\\{0,\\dots,15\\}, \\forall j\\in\\{0,\\dots,15\\}, X_{i,j} \\sim {\\mathcal N}(\\mu^{(8)}_{i,j},(σ^{8}_{i,j})^2)$$ \n",
    "</div>"
   ]
  },
  {
   "cell_type": "markdown",
   "metadata": {},
   "source": [
    "<div class=\"alert alert-block alert-warning\">\n",
    "L'estimateur de maximum de vraisemblance pour les paramètres d'une loi normale\n",
    "    pour des $X_i \\sim {\\mathcal N}(\\mu, \\sigma^2)$ <em>iid</em> sont :\n",
    "\n",
    "$$ \\text{moyenne : } M_{ML} = \\frac{1}{n} \\sum_{i = 1}^{n} X_i$$\n",
    "$$ \\text{variance : } S_{ML}^2 = \\frac{1}{n} \\sum_{i = 1}^{n} (X_i - M_{ML})^{2} \\text{ (légèrement biaisé).}$$\n",
    "</div>"
   ]
  },
  {
   "cell_type": "markdown",
   "metadata": {},
   "source": [
    "<div class=\"alert alert-block alert-info\">\n",
    "    Q2.3 - Pour les données <code>huit</code>, écrire une fonction <code>estimation</code> qui, pour chaque pixel, calcule une estimation de $\\mu^{(8)}_{i,j}$ et $(\\sigma^{8}_{i,j})^2$. On renverra le resultat sous la forme d'une matrice $16 \\times 16$ (comme pour une image).\n",
    "</div>"
   ]
  },
  {
   "cell_type": "code",
   "execution_count": 14,
   "metadata": {
    "collapsed": true
   },
   "outputs": [],
   "source": [
    "def estimation(data):\n",
    "    mu = np.zeros((16,16))\n",
    "    sigma2 = np.zeros((16,16))\n",
    "\n",
    "    for image in data:\n",
    "        for i in range(16):\n",
    "            for j in range(16):\n",
    "                mu[i][j] += image[i,j]\n",
    "                \n",
    "    mu/=len(data)\n",
    "    \n",
    "    for image in data:\n",
    "        for i in range(16):\n",
    "            for j in range(16):\n",
    "                sigma2[i][j] += (image[i,j] - mu[i][j])**2\n",
    "    \n",
    "    sigma2/=len(data)\n",
    "    \n",
    "    return mu, sigma2"
   ]
  },
  {
   "cell_type": "markdown",
   "metadata": {},
   "source": [
    "<div class=\"alert alert-block alert-info\">\n",
    "Q2.4 - Calculer dans deux variables <code>mu8</code> et <code>sig_carre8</code>, les matrices des $\\mu^{(8)}_{i,j}$ et des $(σ^{8}_{i,j})^2$.\n",
    "</div>"
   ]
  },
  {
   "cell_type": "code",
   "execution_count": 15,
   "metadata": {
    "collapsed": false
   },
   "outputs": [
    {
     "data": {
      "text/plain": [
       "(array([[1.03197019e-03, 1.11303467e-02, 4.45532976e-02, 1.07072212e-01,\n",
       "         2.16572444e-01, 3.80982249e-01, 5.45732949e-01, 6.18830758e-01,\n",
       "         5.89119641e-01, 4.62519123e-01, 3.01254020e-01, 1.67038662e-01,\n",
       "         6.39503111e-02, 2.46640207e-02, 7.11226857e-03, 2.36876937e-03],\n",
       "        [8.30995544e-03, 4.85627513e-02, 1.23204670e-01, 2.77051175e-01,\n",
       "         5.00368819e-01, 7.17787325e-01, 7.96267446e-01, 7.86731724e-01,\n",
       "         7.43516015e-01, 6.98298109e-01, 5.80010689e-01, 3.95526453e-01,\n",
       "         1.94571664e-01, 7.63612345e-02, 2.77111905e-02, 5.95628723e-03],\n",
       "        [2.02442240e-02, 7.54081612e-02, 1.79197059e-01, 4.12653665e-01,\n",
       "         6.37584777e-01, 6.72008877e-01, 5.35718053e-01, 4.17216097e-01,\n",
       "         3.83036085e-01, 4.69399727e-01, 5.76635758e-01, 5.15640993e-01,\n",
       "         2.93055457e-01, 1.12547221e-01, 3.96042156e-02, 9.63090471e-03],\n",
       "        [2.18270475e-02, 7.65382909e-02, 2.11167160e-01, 4.69686276e-01,\n",
       "         6.37434419e-01, 5.19879704e-01, 2.87851109e-01, 1.57377957e-01,\n",
       "         1.74420679e-01, 3.40039101e-01, 5.61519582e-01, 5.85015033e-01,\n",
       "         3.69626052e-01, 1.43066088e-01, 4.51145675e-02, 6.90893792e-03],\n",
       "        [1.39105093e-02, 6.42663743e-02, 1.91001927e-01, 4.23364385e-01,\n",
       "         6.17967538e-01, 5.16278798e-01, 2.61464252e-01, 1.33563485e-01,\n",
       "         1.98187208e-01, 3.96823196e-01, 6.24181510e-01, 5.91736803e-01,\n",
       "         3.74563067e-01, 1.70729890e-01, 5.14261388e-02, 6.38562195e-03],\n",
       "        [6.55838281e-03, 4.77373265e-02, 1.47089016e-01, 3.17852204e-01,\n",
       "         5.25065458e-01, 5.75597316e-01, 4.07782014e-01, 2.79138705e-01,\n",
       "         3.65524428e-01, 6.06689768e-01, 6.60113077e-01, 4.88641415e-01,\n",
       "         2.98184372e-01, 1.39103307e-01, 4.18391996e-02, 1.30663746e-02],\n",
       "        [3.72222238e-03, 2.46005314e-02, 9.88541595e-02, 2.15836925e-01,\n",
       "         3.93387202e-01, 5.76283059e-01, 5.99488140e-01, 5.65044323e-01,\n",
       "         6.57713841e-01, 7.26491697e-01, 5.66642736e-01, 3.33016957e-01,\n",
       "         1.90441688e-01, 8.73850003e-02, 2.77897701e-02, 6.92187853e-03],\n",
       "        [1.17902519e-03, 9.15210503e-03, 4.70818232e-02, 1.44788090e-01,\n",
       "         3.04044602e-01, 5.13957665e-01, 7.08664133e-01, 7.90844896e-01,\n",
       "         8.07532444e-01, 6.51397983e-01, 3.88160268e-01, 1.89927623e-01,\n",
       "         9.94443066e-02, 4.90537754e-02, 1.38119962e-02, 1.61579227e-03],\n",
       "        [1.21074078e-03, 8.61742477e-03, 3.80842883e-02, 1.17000237e-01,\n",
       "         2.51989377e-01, 4.98464450e-01, 7.40876710e-01, 8.51611248e-01,\n",
       "         7.94239244e-01, 5.54784600e-01, 2.69304251e-01, 1.25033162e-01,\n",
       "         6.04570917e-02, 3.19310604e-02, 1.53288408e-02, 3.35676020e-03],\n",
       "        [3.78342305e-03, 1.78921784e-02, 6.84965957e-02, 1.53803624e-01,\n",
       "         3.01607438e-01, 5.39756373e-01, 7.00058848e-01, 7.25973448e-01,\n",
       "         6.71473583e-01, 5.22837056e-01, 3.04251691e-01, 1.54009716e-01,\n",
       "         7.37078643e-02, 3.89821254e-02, 2.09391432e-02, 4.49035187e-03],\n",
       "        [8.25024439e-03, 2.85198728e-02, 9.92628957e-02, 2.10050322e-01,\n",
       "         4.04987341e-01, 5.85136857e-01, 5.76642808e-01, 4.97579241e-01,\n",
       "         5.06055642e-01, 5.28054121e-01, 3.93471240e-01, 2.07420709e-01,\n",
       "         1.02456102e-01, 5.00903878e-02, 2.33998683e-02, 4.95021599e-03],\n",
       "        [8.57472223e-03, 3.44094816e-02, 1.18398584e-01, 2.65175485e-01,\n",
       "         4.77579337e-01, 5.75999455e-01, 4.49222176e-01, 2.90889455e-01,\n",
       "         3.55847972e-01, 5.14960053e-01, 4.85332343e-01, 2.86060849e-01,\n",
       "         1.29722788e-01, 5.63340384e-02, 2.14758826e-02, 5.15066100e-03],\n",
       "        [5.29975931e-03, 3.05491538e-02, 1.06594493e-01, 2.77263722e-01,\n",
       "         4.99932011e-01, 5.77953609e-01, 3.96468446e-01, 1.95353509e-01,\n",
       "         2.73627866e-01, 5.15217093e-01, 5.68651543e-01, 3.70563767e-01,\n",
       "         1.54847832e-01, 5.49378287e-02, 1.56787328e-02, 3.25150923e-03],\n",
       "        [1.13860044e-03, 1.75814195e-02, 6.97613777e-02, 2.19158901e-01,\n",
       "         4.84155293e-01, 6.60227448e-01, 5.26062387e-01, 3.43085019e-01,\n",
       "         4.18041715e-01, 6.50188749e-01, 6.51958562e-01, 3.86844909e-01,\n",
       "         1.38116452e-01, 3.49837482e-02, 6.84734415e-03, 5.94935141e-04],\n",
       "        [2.16901795e-05, 3.19332722e-03, 2.53442989e-02, 1.05809244e-01,\n",
       "         3.28045493e-01, 6.54651937e-01, 8.16420367e-01, 8.13882339e-01,\n",
       "         8.46479798e-01, 8.32432660e-01, 5.95379517e-01, 2.61386441e-01,\n",
       "         7.21032856e-02, 1.34631839e-02, 1.41926639e-03, 0.00000000e+00],\n",
       "        [0.00000000e+00, 2.06695115e-06, 1.14782586e-03, 1.38429817e-02,\n",
       "         7.44975874e-02, 2.60627884e-01, 5.68194602e-01, 7.82062371e-01,\n",
       "         7.72891876e-01, 5.41783017e-01, 2.42770991e-01, 7.41811675e-02,\n",
       "         1.44812302e-02, 2.63843063e-03, 2.06695115e-06, 0.00000000e+00]]),\n",
       " array([[1.62819873e-04, 4.47919373e-03, 2.39542021e-02, 6.06165750e-02,\n",
       "         1.03733277e-01, 1.41661479e-01, 1.34912646e-01, 1.30707672e-01,\n",
       "         1.24450353e-01, 1.39290807e-01, 1.26495496e-01, 7.96053168e-02,\n",
       "         3.36614610e-02, 1.24824876e-02, 3.05557031e-03, 9.38357050e-04],\n",
       "        [3.34627342e-03, 3.24713470e-02, 8.45462767e-02, 1.41229153e-01,\n",
       "         1.68623275e-01, 1.21993287e-01, 8.89433579e-02, 8.67986451e-02,\n",
       "         1.11935809e-01, 1.26918579e-01, 1.54259403e-01, 1.64813700e-01,\n",
       "         1.08127261e-01, 4.90787266e-02, 1.83900990e-02, 3.02237329e-03],\n",
       "        [1.12465586e-02, 5.49123254e-02, 1.07372568e-01, 1.78123693e-01,\n",
       "         1.51526458e-01, 1.32120153e-01, 1.56044106e-01, 1.53777788e-01,\n",
       "         1.46440591e-01, 1.53355807e-01, 1.52503802e-01, 1.65490689e-01,\n",
       "         1.36944905e-01, 6.94765396e-02, 2.86363869e-02, 4.87300178e-03],\n",
       "        [1.35519516e-02, 5.45845134e-02, 1.20151954e-01, 1.71159441e-01,\n",
       "         1.47728312e-01, 1.65806889e-01, 1.31359007e-01, 8.13353641e-02,\n",
       "         9.24520687e-02, 1.41189986e-01, 1.58796718e-01, 1.58168570e-01,\n",
       "         1.59400503e-01, 8.34883643e-02, 3.02234067e-02, 2.56897331e-03],\n",
       "        [7.06688534e-03, 4.61876440e-02, 1.10147326e-01, 1.69327094e-01,\n",
       "         1.55794759e-01, 1.58629640e-01, 1.26794919e-01, 7.61088158e-02,\n",
       "         1.09708363e-01, 1.54053152e-01, 1.53907916e-01, 1.57277442e-01,\n",
       "         1.71913535e-01, 9.70461952e-02, 3.20472173e-02, 1.93801030e-03],\n",
       "        [2.88033401e-03, 3.46714146e-02, 9.30856782e-02, 1.50490907e-01,\n",
       "         1.61047508e-01, 1.53976399e-01, 1.59723143e-01, 1.36963966e-01,\n",
       "         1.49756849e-01, 1.48746501e-01, 1.49330589e-01, 1.65382082e-01,\n",
       "         1.52854979e-01, 8.34880827e-02, 2.82767070e-02, 8.16195568e-03],\n",
       "        [2.77118892e-03, 1.49530184e-02, 6.62046167e-02, 1.32624208e-01,\n",
       "         1.56908549e-01, 1.44859380e-01, 1.57202422e-01, 1.60150627e-01,\n",
       "         1.35515344e-01, 1.22472583e-01, 1.65067792e-01, 1.59285724e-01,\n",
       "         1.17257850e-01, 5.55698298e-02, 1.66227908e-02, 3.58190948e-03],\n",
       "        [5.93941140e-04, 5.42373835e-03, 2.94277940e-02, 8.86821224e-02,\n",
       "         1.57145669e-01, 1.72459554e-01, 1.23602329e-01, 1.03892084e-01,\n",
       "         8.88018070e-02, 1.48402689e-01, 1.62344842e-01, 1.13153261e-01,\n",
       "         6.39836076e-02, 3.45313482e-02, 7.88430619e-03, 3.93390260e-04],\n",
       "        [3.71870270e-04, 5.61174831e-03, 2.62287793e-02, 7.65784533e-02,\n",
       "         1.43798187e-01, 1.69214675e-01, 1.17821947e-01, 6.90837267e-02,\n",
       "         9.75705854e-02, 1.58937692e-01, 1.35004204e-01, 7.87825215e-02,\n",
       "         3.97821340e-02, 2.43861373e-02, 1.10979526e-02, 1.70781778e-03],\n",
       "        [1.75743662e-03, 1.21050325e-02, 4.70897039e-02, 1.03258257e-01,\n",
       "         1.55566280e-01, 1.67250774e-01, 1.30036327e-01, 1.19350436e-01,\n",
       "         1.35354737e-01, 1.57664726e-01, 1.49860192e-01, 9.85758503e-02,\n",
       "         5.17812401e-02, 2.92607397e-02, 1.65467724e-02, 3.10024774e-03],\n",
       "        [4.85955075e-03, 2.21262808e-02, 6.55643079e-02, 1.29358729e-01,\n",
       "         1.66520902e-01, 1.68898366e-01, 1.54150532e-01, 1.70526116e-01,\n",
       "         1.63913073e-01, 1.63944886e-01, 1.67604780e-01, 1.19627743e-01,\n",
       "         6.92092486e-02, 3.78053645e-02, 1.85782444e-02, 2.33512927e-03],\n",
       "        [5.62656120e-03, 2.52930164e-02, 7.67288036e-02, 1.50530792e-01,\n",
       "         1.69469775e-01, 1.60708941e-01, 1.66049362e-01, 1.32013358e-01,\n",
       "         1.56425297e-01, 1.66412281e-01, 1.70857393e-01, 1.39310845e-01,\n",
       "         8.61660322e-02, 4.06154063e-02, 1.72038592e-02, 3.41295871e-03],\n",
       "        [2.70628166e-03, 2.17006023e-02, 6.82041597e-02, 1.52303315e-01,\n",
       "         1.64581714e-01, 1.60459639e-01, 1.55948462e-01, 1.03352152e-01,\n",
       "         1.31194671e-01, 1.65806132e-01, 1.63255327e-01, 1.62003386e-01,\n",
       "         9.81153264e-02, 3.66930119e-02, 1.09618866e-02, 1.91423260e-03],\n",
       "        [2.45849960e-04, 1.15702183e-02, 4.75072612e-02, 1.20509586e-01,\n",
       "         1.67969388e-01, 1.25903278e-01, 1.45583885e-01, 1.24433241e-01,\n",
       "         1.44338779e-01, 1.35537012e-01, 1.41879229e-01, 1.61463429e-01,\n",
       "         8.78291572e-02, 2.08880182e-02, 4.63222771e-03, 1.43304599e-04],\n",
       "        [2.27234057e-07, 1.14141917e-03, 1.38017112e-02, 6.35481555e-02,\n",
       "         1.40337739e-01, 1.28731702e-01, 6.30345767e-02, 6.05604804e-02,\n",
       "         5.61871048e-02, 7.71417845e-02, 1.49165033e-01, 1.27244681e-01,\n",
       "         4.14487508e-02, 9.38601583e-03, 4.24984861e-04, 0.00000000e+00],\n",
       "        [0.00000000e+00, 2.06351465e-09, 1.59414755e-04, 4.64988313e-03,\n",
       "         2.96422397e-02, 8.93729153e-02, 1.11479004e-01, 6.74454954e-02,\n",
       "         6.44734385e-02, 1.15876555e-01, 9.55261136e-02, 3.58341337e-02,\n",
       "         6.35702696e-03, 8.86182097e-04, 2.06351465e-09, 0.00000000e+00]]))"
      ]
     },
     "execution_count": 15,
     "metadata": {},
     "output_type": "execute_result"
    }
   ],
   "source": [
    "mu8, sig_carre8 = estimation(huit)\n",
    "mu8, sig_carre8"
   ]
  },
  {
   "cell_type": "markdown",
   "metadata": {},
   "source": [
    "<div class=\"alert alert-block alert-info\">\n",
    "Q2.5 - Générer un huit en tirant chaque pixel suivant une loi normale $\\mathcal{N}(\\mu^{(8)}_{i,j}, (σ^{8}_{i,j})^2)$ et l'afficher.\n",
    "</div>"
   ]
  },
  {
   "cell_type": "code",
   "execution_count": 16,
   "metadata": {
    "collapsed": false,
    "scrolled": true
   },
   "outputs": [
    {
     "data": {
      "image/png": "[encoded data removed]",
      "text/plain": [
       "<matplotlib.figure.Figure at 0x7fee269409d0>"
      ]
     },
     "metadata": {},
     "output_type": "display_data"
    }
   ],
   "source": [
    "pixel = np.zeros((16,16))\n",
    "for i in range(16):\n",
    "    for j in range(16):\n",
    "        pixel[i][j] = np.random.normal(mu8[i][j],sig_carre8[i][j])\n",
    "affiche_une_image(pixel)"
   ]
  },
  {
   "cell_type": "markdown",
   "metadata": {},
   "source": [
    "# 3 - On refait le travail pour tous les chiffres"
   ]
  },
  {
   "cell_type": "markdown",
   "metadata": {},
   "source": [
    "<div class=\"alert alert-block alert-info\">\n",
    "    3.1 - Créer une liste <code>parametres_tous_chiffres</code> des estimations pour tous les chiffres de 0 à 9.\n",
    "</div>"
   ]
  },
  {
   "cell_type": "code",
   "execution_count": 17,
   "metadata": {
    "collapsed": false,
    "scrolled": false
   },
   "outputs": [],
   "source": [
    "zeros = [image[i] for i in range(len(image)) if chiffre[i] == 0]\n",
    "un = [image[i] for i in range(len(image)) if chiffre[i] == 1]\n",
    "deux = [image[i] for i in range(len(image)) if chiffre[i] == 2]\n",
    "trois = [image[i] for i in range(len(image)) if chiffre[i] == 3]\n",
    "quatres = [image[i] for i in range(len(image)) if chiffre[i] == 4]\n",
    "cinq = [image[i] for i in range(len(image)) if chiffre[i] == 5]\n",
    "six = [image[i] for i in range(len(image)) if chiffre[i] == 6]\n",
    "sept = [image[i] for i in range(len(image)) if chiffre[i] == 7]\n",
    "neufs = [image[i] for i in range(len(image)) if chiffre[i] == 9]\n",
    "\n",
    "chiffres = [zeros, un, deux, trois, quatres, cinq, six, sept, huit, neufs]\n",
    "parametres_tous_chiffres = [estimation(i) for i in chiffres]"
   ]
  },
  {
   "cell_type": "markdown",
   "metadata": {},
   "source": [
    "<div class=\"alert alert-block alert-warning\">\n",
    "La loi normale (de paramètre $\\mu$ et $\\sigma^2$) est la loi de la\n",
    "    variable aléatoire $X$ réelle ($\\mathcal{X} = \\mathbb{R}$) telle que\n",
    "    $$\n",
    "    f(x) = \\frac1{\\sigma\\sqrt{2\\pi}}\\exp\\left(-\\frac{(x - \\mu)^2}{2\n",
    "    \\sigma^2}\\right).\n",
    "    $$\n",
    "    \n",
    "Nous allons faire l'hypothèse (certes un peu forte mais tellement pratique) que, dans chaque classe, les teintes des pixels d'une image sont indépendantes. On peut donc définir la loi jointe pour une image comme le produit des lois marginales.\n",
    "    \n",
    "$$f_{X_{0,0}, \\dots, X_{0, 15}, \\dots X_{15, 0}, \\dots, X_{15, 15}}(x_{0,0}, \\dots, x_{0, 15}, \\dots x_{15, 0}, \\dots, x_{15, 15}) = \\prod_{i=0}^{15} \\prod_{j=0}^{15} f_{X_{i, j}}(x_{i,j})$$\n",
    "\n",
    "En passant au logarithme, on obtient la log-densité :\n",
    "$$\\log \\left( f_{X_{0,0}, \\dots, X_{0, 15}, \\dots X_{15, 0}, \\dots, X_{15, 15}}(x_{0,0}, \\dots, x_{0, 15}, \\dots x_{15, 0}, \\dots, x_{15, 15}) \\right) = -\\frac{1}{2} \\sum_{i=0}^{15} \\sum_{j=0}^{15} \\left[ \\log(2\\pi \\sigma^2_{i,j}) + \\frac{(x_{i, j}-\\mu_{i, j})^2}{\\sigma_{i,j}^2} \\right]$$\n",
    "    \n",
    "</div>"
   ]
  },
  {
   "cell_type": "markdown",
   "metadata": {},
   "source": [
    "<div class=\"alert alert-block alert-info\">\n",
    "    3.2 - Écrire une fonction <code>log_densite</code> qui étant donné une <code>image</code> et les <code>parametres</code> d'un chiffre, calcule valeur de la fonction de densité pour une image donnée et un modèle de chiffre donné.\n",
    "    \n",
    "Dans la fonction, certaines valeurs de la matrice de variance valent 0 (ce qui pose des problèmes). Pour palier cela, ajouter la ligne suivant pour remplacer les zéros par des $10^{-3}$ :\n",
    "\n",
    "<code>sig2 = np.maximum(sig2, 1e-3)</code>\n",
    "</div>"
   ]
  },
  {
   "cell_type": "code",
   "execution_count": 18,
   "metadata": {
    "collapsed": true
   },
   "outputs": [],
   "source": [
    "def log_densite(image, parametres):\n",
    "    mu, sig2 = parametres\n",
    "    sig2 = np.maximum(sig2, 1e-3)\n",
    "    res = np.zeros((16,16))\n",
    "    for i in range(16):\n",
    "        for j in range(16):\n",
    "            res[i][j] = np.sum(np.log(2*np.pi*sig2[i][j]) + (image[i][j] - mu[i][j])**2 / sig2[i][j])\n",
    "    \n",
    "    return -np.sum(res)/2"
   ]
  },
  {
   "cell_type": "markdown",
   "metadata": {},
   "source": [
    "<div class=\"alert alert-block alert-info\">\n",
    "Exécuter le bloc suivant pour tester la fonction.\n",
    "</div>"
   ]
  },
  {
   "cell_type": "code",
   "execution_count": 19,
   "metadata": {
    "collapsed": false
   },
   "outputs": [
    {
     "data": {
      "text/plain": [
       "-143.29946650088695"
      ]
     },
     "execution_count": 19,
     "metadata": {},
     "output_type": "execute_result"
    }
   ],
   "source": [
    "log_densite(image[0], (mu8, sig_carre8))"
   ]
  },
  {
   "cell_type": "markdown",
   "metadata": {},
   "source": [
    "<div class=\"alert alert-block alert-warning\">\n",
    "    Vous devez trouver <code>-143.29946650088695</code>\n",
    "</div>"
   ]
  },
  {
   "cell_type": "markdown",
   "metadata": {},
   "source": [
    "## 4 - Le modèle le plus vraisemblable\n",
    "<div class=\"alert alert-block alert-info\">\n",
    "4.1 - Écrire une fonction <code>plus_vraisemblable</code> qui, étant donné une image et l'ensemble de paramètres déterminés dans les questions précédentes, renvoie le chiffre pour lequel la vraisemblance est la plus grande.\n",
    "    \n",
    "Comme on calcule la vraisemblance d'une seule image (pour un chiffre donné), la vraisemblance est égale à la valeur de la densité (produit portant sur une seule valeur).\n",
    "</div>"
   ]
  },
  {
   "cell_type": "code",
   "execution_count": 20,
   "metadata": {
    "collapsed": false
   },
   "outputs": [],
   "source": [
    "def plus_vraisemblable(image, parametres):\n",
    "    \n",
    "    maxi = log_densite(image, parametres[0])\n",
    "    i_max = 0\n",
    "    \n",
    "    for i in range(1, len(parametres)):\n",
    "        (mu, sigma2) = parametres[i]\n",
    "        if log_densite(image, (mu, sigma2)) > maxi:\n",
    "            \n",
    "            maxi = log_densite(image, (mu, sigma2))\n",
    "            i_max = i\n",
    "         \n",
    "    \n",
    "    return i_max"
   ]
  },
  {
   "cell_type": "markdown",
   "metadata": {},
   "source": [
    "<div class=\"alert alert-block alert-info\">\n",
    "Tester votre fonction pour voir si la vraisemblance maximale correspond à un 6\n",
    "</div>"
   ]
  },
  {
   "cell_type": "code",
   "execution_count": 21,
   "metadata": {
    "collapsed": false
   },
   "outputs": [
    {
     "data": {
      "text/plain": [
       "6"
      ]
     },
     "execution_count": 21,
     "metadata": {},
     "output_type": "execute_result"
    },
    {
     "data": {
      "image/png": "[encoded data removed]",
      "text/plain": [
       "<matplotlib.figure.Figure at 0x7fee26972ed0>"
      ]
     },
     "metadata": {},
     "output_type": "display_data"
    }
   ],
   "source": [
    "affiche_une_image(image[100])\n",
    "plus_vraisemblable(image[100], parametres_tous_chiffres)"
   ]
  },
  {
   "cell_type": "markdown",
   "metadata": {},
   "source": [
    "<div class=\"alert alert-block alert-info\">\n",
    "Q4.2 - Écrire une fonction  <code>prediction</code> qui, étant donné un tableau de données images et l'ensemble de paramètres déterminés dans les questions précédentes, revoie la liste de chiffres prédits par maximum de vraisemblance.\n",
    "</div>"
   ]
  },
  {
   "cell_type": "code",
   "execution_count": 22,
   "metadata": {
    "collapsed": false
   },
   "outputs": [],
   "source": [
    "def prediction(image, parametres):\n",
    "    res = []\n",
    "    for i in image:\n",
    "        res.append(plus_vraisemblable(i, parametres))\n",
    "    return res"
   ]
  },
  {
   "cell_type": "markdown",
   "metadata": {},
   "source": [
    "<div class=\"alert alert-block alert-info\">\n",
    "Q4.3 - Calculer dans une variable <code>chiffre_predit</code> le vecteur des prédictions pour chaque image.\n",
    "</div>"
   ]
  },
  {
   "cell_type": "code",
   "execution_count": 25,
   "metadata": {
    "collapsed": true,
    "scrolled": true
   },
   "outputs": [],
   "source": [
    "chiffre_predit = prediction(image, parametres_tous_chiffres)"
   ]
  },
  {
   "cell_type": "markdown",
   "metadata": {},
   "source": [
    "<div class=\"alert alert-block alert-info\">\n",
    "    4.4 - Écrire une fonction <code>matrice_confusion</code> qui, étant donné le vecteur de prédictions et le vecteur de vrais chiffres, calcule la matrice de confusion $10 \\times 10$ définie ainsi :\n",
    "$$\n",
    "\\begin{bmatrix} \n",
    "    n_{0, 0} & \\dots & n_{0, 15} \\\\\n",
    "    \\vdots & \\ddots & \\vdots \\\\\n",
    "    n_{15, 0} & \\dots & n_{15, 15} \n",
    "    \\end{bmatrix}\n",
    "$$\n",
    "où $n_{i, j}$ est le nombre d'occurences où on a fait la prédiction du chiffre $i$ alors que le vrai chiffre est $j$.\n",
    "</div>"
   ]
  },
  {
   "cell_type": "code",
   "execution_count": 36,
   "metadata": {
    "collapsed": false
   },
   "outputs": [
    {
     "data": {
      "text/plain": [
       "([0, 9, 7], array([0, 9, 7]))"
      ]
     },
     "execution_count": 36,
     "metadata": {},
     "output_type": "execute_result"
    }
   ],
   "source": [
    "chiffre_predit[:3], chiffre[:3]"
   ]
  },
  {
   "cell_type": "code",
   "execution_count": 44,
   "metadata": {
    "collapsed": false
   },
   "outputs": [],
   "source": [
    "def matrice_confusion(v_pred, v):\n",
    "    res = np.zeros((10,10))\n",
    "\n",
    "    for i, ch in enumerate(v):\n",
    "        res[v_pred[i], ch] += 1\n",
    "    return res"
   ]
  },
  {
   "cell_type": "markdown",
   "metadata": {},
   "source": [
    "<div class=\"alert alert-block alert-info\">\n",
    "Exécuter le bloc suivant pour afficher la matrice de confusion sous la forme d'une image. Interpréter.\n",
    "</div>"
   ]
  },
  {
   "cell_type": "code",
   "execution_count": 45,
   "metadata": {
    "collapsed": false
   },
   "outputs": [
    {
     "data": {
      "image/png": "[encoded data removed]",
      "text/plain": [
       "<matplotlib.figure.Figure at 0x7fee29936950>"
      ]
     },
     "metadata": {},
     "output_type": "display_data"
    }
   ],
   "source": [
    "_ = plt.imshow(matrice_confusion(chiffre_predit, chiffre), interpolation='none')\n",
    "_ = plt.colorbar()"
   ]
  },
  {
   "cell_type": "code",
   "execution_count": null,
   "metadata": {
    "collapsed": true
   },
   "outputs": [],
   "source": []
  }
 ],
 "metadata": {
  "anaconda-cloud": {},
  "kernelspec": {
   "display_name": "Python [conda root]",
   "language": "python",
   "name": "conda-root-py"
  },
  "language_info": {
   "codemirror_mode": {
    "name": "ipython",
    "version": 2
   },
   "file_extension": ".py",
   "mimetype": "text/x-python",
   "name": "python",
   "nbconvert_exporter": "python",
   "pygments_lexer": "ipython2",
   "version": "2.7.12"
  }
 },
 "nbformat": 4,
 "nbformat_minor": 5
}
