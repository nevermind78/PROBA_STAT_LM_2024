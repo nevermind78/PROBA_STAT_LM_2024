{
 "cells": [
  {
   "cell_type": "markdown",
   "metadata": {},
   "source": [
    "# Qui êtes-vous ?\n",
    "<div class=\"alert alert-block alert-info\">\n",
    "Écrire ci-dessous le nom, le prénom et le numéro étudiant de chaque membre du binôme :\n",
    "</div>"
   ]
  },
  {
   "cell_type": "code",
   "execution_count": 1,
   "metadata": {
    "collapsed": true
   },
   "outputs": [],
   "source": []
  },
  {
   "cell_type": "markdown",
   "metadata": {},
   "source": [
    "# Apprentissage par arbres de décision"
   ]
  },
  {
   "cell_type": "code",
   "execution_count": 2,
   "metadata": {
    "collapsed": true
   },
   "outputs": [],
   "source": [
    "import numpy as np\n",
    "import pandas as pd\n",
    "import matplotlib.pyplot as plt\n",
    "%matplotlib inline"
   ]
  },
  {
   "cell_type": "markdown",
   "metadata": {},
   "source": [
    "## 1 - Données"
   ]
  },
  {
   "cell_type": "markdown",
   "metadata": {},
   "source": [
    "<div class=\"alert alert-block alert-warning\">\n",
    "Pour illustrer le fonctionnement de l'algorithme de construction et d'utilisation d'arbres de décision, nous allons utiliser un jeu de données très simple contenu dans <code>base2D.csv</code>. Il correspond à des points dans un espace à 2 dimensions (\"X1\" et \"X2\") auxquels est associé un \"Label\" +1 ou -1, ce label correspond à la classe du point.\n",
    "</div>\n",
    "    \n",
    "<div class=\"alert alert-block alert-info\">\n",
    "Q1.1 - Charger ce jeu de données dans la variable <code>base2D</code> et visualiser ses premières lignes.\n",
    "</div>"
   ]
  },
  {
   "cell_type": "code",
   "execution_count": 3,
   "metadata": {
    "collapsed": false
   },
   "outputs": [
    {
     "data": {
      "text/html": [
       "<div>\n",
       "<table border=\"1\" class=\"dataframe\">\n",
       "  <thead>\n",
       "    <tr style=\"text-align: right;\">\n",
       "      <th></th>\n",
       "      <th>X1</th>\n",
       "      <th>X2</th>\n",
       "      <th>Label</th>\n",
       "    </tr>\n",
       "  </thead>\n",
       "  <tbody>\n",
       "    <tr>\n",
       "      <th>0</th>\n",
       "      <td>0.0</td>\n",
       "      <td>4.0</td>\n",
       "      <td>-1</td>\n",
       "    </tr>\n",
       "    <tr>\n",
       "      <th>1</th>\n",
       "      <td>1.0</td>\n",
       "      <td>3.5</td>\n",
       "      <td>-1</td>\n",
       "    </tr>\n",
       "    <tr>\n",
       "      <th>2</th>\n",
       "      <td>1.0</td>\n",
       "      <td>1.0</td>\n",
       "      <td>-1</td>\n",
       "    </tr>\n",
       "    <tr>\n",
       "      <th>3</th>\n",
       "      <td>2.0</td>\n",
       "      <td>1.0</td>\n",
       "      <td>-1</td>\n",
       "    </tr>\n",
       "    <tr>\n",
       "      <th>4</th>\n",
       "      <td>2.0</td>\n",
       "      <td>2.0</td>\n",
       "      <td>-1</td>\n",
       "    </tr>\n",
       "    <tr>\n",
       "      <th>5</th>\n",
       "      <td>4.0</td>\n",
       "      <td>4.0</td>\n",
       "      <td>-1</td>\n",
       "    </tr>\n",
       "    <tr>\n",
       "      <th>6</th>\n",
       "      <td>4.0</td>\n",
       "      <td>5.0</td>\n",
       "      <td>-1</td>\n",
       "    </tr>\n",
       "    <tr>\n",
       "      <th>7</th>\n",
       "      <td>4.0</td>\n",
       "      <td>6.0</td>\n",
       "      <td>1</td>\n",
       "    </tr>\n",
       "    <tr>\n",
       "      <th>8</th>\n",
       "      <td>4.5</td>\n",
       "      <td>1.0</td>\n",
       "      <td>1</td>\n",
       "    </tr>\n",
       "    <tr>\n",
       "      <th>9</th>\n",
       "      <td>4.5</td>\n",
       "      <td>6.0</td>\n",
       "      <td>1</td>\n",
       "    </tr>\n",
       "    <tr>\n",
       "      <th>10</th>\n",
       "      <td>5.0</td>\n",
       "      <td>1.0</td>\n",
       "      <td>1</td>\n",
       "    </tr>\n",
       "    <tr>\n",
       "      <th>11</th>\n",
       "      <td>5.0</td>\n",
       "      <td>5.0</td>\n",
       "      <td>1</td>\n",
       "    </tr>\n",
       "    <tr>\n",
       "      <th>12</th>\n",
       "      <td>6.0</td>\n",
       "      <td>2.0</td>\n",
       "      <td>1</td>\n",
       "    </tr>\n",
       "    <tr>\n",
       "      <th>13</th>\n",
       "      <td>7.0</td>\n",
       "      <td>4.0</td>\n",
       "      <td>1</td>\n",
       "    </tr>\n",
       "  </tbody>\n",
       "</table>\n",
       "</div>"
      ],
      "text/plain": [
       "     X1   X2  Label\n",
       "0   0.0  4.0     -1\n",
       "1   1.0  3.5     -1\n",
       "2   1.0  1.0     -1\n",
       "3   2.0  1.0     -1\n",
       "4   2.0  2.0     -1\n",
       "5   4.0  4.0     -1\n",
       "6   4.0  5.0     -1\n",
       "7   4.0  6.0      1\n",
       "8   4.5  1.0      1\n",
       "9   4.5  6.0      1\n",
       "10  5.0  1.0      1\n",
       "11  5.0  5.0      1\n",
       "12  6.0  2.0      1\n",
       "13  7.0  4.0      1"
      ]
     },
     "execution_count": 3,
     "metadata": {},
     "output_type": "execute_result"
    }
   ],
   "source": [
    "base2D = pd.read_csv('base-2D.csv')\n",
    "base2D"
   ]
  },
  {
   "cell_type": "markdown",
   "metadata": {},
   "source": [
    "<div class=\"alert alert-block alert-info\">\n",
    "Q1.2 - Isoler dans un tableau <code>numpy</code> que vous nommerez <code>base2D_class</code> la classe de chaque point et dans un autre tableau <code>base2D_data</code> les coordonnées des points. N'oubliez pas d'utiliser la fonction <code>to_numpy()</code> qui permet de convertir une dataframe en tableau numpy.\n",
    "</div>"
   ]
  },
  {
   "cell_type": "code",
   "execution_count": 111,
   "metadata": {
    "collapsed": false
   },
   "outputs": [
    {
     "data": {
      "text/plain": [
       "array([-1, -1, -1, -1, -1, -1, -1,  1,  1,  1,  1,  1,  1,  1])"
      ]
     },
     "execution_count": 111,
     "metadata": {},
     "output_type": "execute_result"
    }
   ],
   "source": [
    "base2D_class = np.array(base2D['Label'])\n",
    "base2D_data = base2D[['X1', 'X2']]\n",
    "# Important: base2D_class doit contenir des entiers et pas des listes d'entiers:\n",
    "# ici, pour nous : base2D_class doit être égal à \n",
    "# ----> array([-1, -1, -1, -1, -1, -1, -1,  1,  1,  1,  1,  1,  1,  1])\n",
    "# sinon, on a des soucis pour l'affichage...\n",
    "base2D_class"
   ]
  },
  {
   "cell_type": "markdown",
   "metadata": {},
   "source": [
    "## 2 - Algorithme de construction d'arbres de décision : préliminaires"
   ]
  },
  {
   "cell_type": "markdown",
   "metadata": {},
   "source": [
    "    \n",
    "<div class=\"alert alert-block alert-warning\">Certaines fonctions écrites pour le TME sur les $k$ plus proches voisins vont aussi être utile dans ce TME. Si vous les avez déjà écrites, faites un copier/coller pour les ajouter dans ce notebook.\n",
    "</div>"
   ]
  },
  {
   "cell_type": "markdown",
   "metadata": {},
   "source": [
    "<div class=\"alert alert-block alert-info\">\n",
    "\n",
    "Q2.1 - Ecrire la fonction <code>classe_majoritaire</code> qui, étant donné un array de labels rend la classe majoritaire (celle qui est possédée par le plus grand nombre d'exemples donc...). En cas d'égalité, cette fonction rend la première classe rencontrée.\n",
    "<\\div>"
   ]
  },
  {
   "cell_type": "code",
   "execution_count": 9,
   "metadata": {
    "collapsed": true
   },
   "outputs": [],
   "source": [
    "def classe_majoritaire(data):\n",
    "    val, nb = np.unique(data,return_counts=True)\n",
    "    max_nb = max(nb)\n",
    "    return [val[i] for i in range(len(np.unique(data))) if nb[i] == max_nb][0]"
   ]
  },
  {
   "cell_type": "code",
   "execution_count": 10,
   "metadata": {
    "collapsed": false
   },
   "outputs": [
    {
     "data": {
      "text/plain": [
       "-1"
      ]
     },
     "execution_count": 10,
     "metadata": {},
     "output_type": "execute_result"
    }
   ],
   "source": [
    "#Vérification sur nos données:\n",
    "classe_majoritaire(base2D_class)"
   ]
  },
  {
   "cell_type": "markdown",
   "metadata": {},
   "source": [
    "### Entropie et gain d'information\n",
    "\n",
    "    \n",
    "<div class=\"alert alert-block alert-success\">\n",
    "    \n",
    "Pour construire un arbre de décision, il est nécessaire d'avoir une mesure pour calculer le **gain d'information** apporté par l'utilisation d'un attribut pour prédire une valeur de la classe (c'est à dire, le gain apporté par la connaissance d'une valeur de l'attribut pour arriver à prédire la valeur de la classe). En cours, la mesure qui a été présentée est l'**indice de Gini** qui a été introduite pour l'approche <a target=\"NEW\" href=\"https://fr.wikipedia.org/wiki/Algorithme_CART\">CART</a> de construction d'arbres de classification proposé par Breiman, Friedman, Olshen et Stone en 1984.\n",
    "    \n",
    "    \n",
    "Dans ce TME, nous allons utiliser une mesure différente qui est une **mesure d'information**: l'**entropie** de <a target=\"NEW\" href=\"https://fr.wikipedia.org/wiki/Claude_Shannon\">Shannon</a>. Cette mesure a été introduite pour la construction d'arbres de décision dans l'approche <a target=\"NEW\" href=\"https://fr.wikipedia.org/wiki/Algorithme_ID3\">ID3</a> proposée Quinlan dès 1983, mais elle était déjà utilisée depuis les années 60 dans le domaine de la théorie de l'information pour la construction de questionnaires arborescents. \n",
    "</div>    \n",
    "\n",
    "<div class=\"alert alert-block alert-warning\">\n",
    "    \n",
    "On note $\\{c_1, c_2,..., c_k\\}$, l'ensemble des valeurs de classes possibles dans un ensemble $Y$.\n",
    "\n",
    "On note $p_1$ la probabilité de la classe $c_1$ parmi $Y$, etc., et on note $P=(p_1, p_2,..., p_k)$ la distribution de probabilités sur les classes.\n",
    "\n",
    "L'**entropie de Shannon** de la distribution $P$ est donnée par:\n",
    "\n",
    "$ H_S(P) = -\\sum_{i=1}^{k} p_i \\log_k(p_i)$\n",
    "\n",
    "Le logarithme utilisé est le logarithme en base $k$ afin d'obtenir une valeur comprise entre $0$ et $1$ de l'entropie. \n",
    "\n",
    "<\\div>"
   ]
  },
  {
   "cell_type": "markdown",
   "metadata": {},
   "source": [
    "<div class=\"alert alert-block alert-warning\">\n",
    "Remarque: pour nous, en Python, une *distribution de probabilités* est représentée par une **liste** $P=[p_1,...,p_k]$ de valeurs réelles telle que\n",
    "* pour tout $i=1,..., k$ : $0 \\leq p_i \\leq 1$\n",
    "* $\\sum_{i=1}^{k}p_i = 1$\n",
    "</div>"
   ]
  },
  {
   "cell_type": "markdown",
   "metadata": {},
   "source": [
    "<div class=\"alert alert-block alert-info\">\n",
    "Q2.2 - Ecrire la fonction <code>shannon</code> qui, étant donné une distribution de probabilités $P$ fournie sous la forme d'une liste de nombres, rend la valeur de $H_S(P)$, l'entropie de Shannon de $P$.\n",
    "</div>"
   ]
  },
  {
   "cell_type": "code",
   "execution_count": 74,
   "metadata": {
    "collapsed": false
   },
   "outputs": [],
   "source": [
    "def shannon(dp):\n",
    "    t = [dp[i] * (np.log(dp[i])/np.log(len(dp))) for i in range(len(dp)) if dp[i]!=1 and dp[i]!=0]\n",
    "    return -np.sum(t)"
   ]
  },
  {
   "cell_type": "code",
   "execution_count": 75,
   "metadata": {
    "collapsed": false
   },
   "outputs": [
    {
     "name": "stdout",
     "output_type": "stream",
     "text": [
      "H([1]) =  -0.0\n",
      "H([1,0]) =  -0.0\n",
      "H([0.25, 0.25, 0.25, 0.25]) =  1.0\n",
      "H([0.7, 0.1, 0.2, 0.0]) =  0.578389824724\n",
      "H([1.0/3, 2.0/3]) =  0.918295834054\n"
     ]
    }
   ],
   "source": [
    "# Exemples d'utilisation:\n",
    "print(\"H([1]) = \", shannon([1]))\n",
    "print(\"H([1,0]) = \", shannon([1, 0]))\n",
    "print(\"H([0.25, 0.25, 0.25, 0.25]) = \", shannon([0.25, 0.25, 0.25, 0.25]))\n",
    "print(\"H([0.7, 0.1, 0.2, 0.0]) = \", shannon([0.7, 0.1, 0.2, 0.0]))\n",
    "print(\"H([1.0/3, 2.0/3]) = \", shannon([1.0/3, 2.0/3]))"
   ]
  },
  {
   "cell_type": "markdown",
   "metadata": {},
   "source": [
    "<div class=\"alert alert-block alert-info\">\n",
    "    \n",
    "Q2.3 - Tracer, à l'aide de la fonction <code>plot</code>, la courbe donnant la valeur de <code>shannon([p, 1-p])</code> en fonction de <code>p</code>.</div>"
   ]
  },
  {
   "cell_type": "code",
   "execution_count": 77,
   "metadata": {
    "collapsed": true
   },
   "outputs": [],
   "source": [
    "# Pour plot, on a besoin de la librairie suivante:\n",
    "import matplotlib.pyplot as plt"
   ]
  },
  {
   "cell_type": "code",
   "execution_count": 101,
   "metadata": {
    "collapsed": false
   },
   "outputs": [
    {
     "data": {
      "image/png": "[encoded data removed]",
      "text/plain": [
       "<matplotlib.figure.Figure at 0x7f2342cf0d68>"
      ]
     },
     "metadata": {},
     "output_type": "display_data"
    }
   ],
   "source": [
    "def plot(p):\n",
    "    t = [shannon([p[i], 1-p[i]]) for i in range(len(p))]\n",
    "    plt.plot(p, t)\n",
    "\n",
    "plot(np.arange(0,1.1,0.001))"
   ]
  },
  {
   "cell_type": "markdown",
   "metadata": {},
   "source": [
    "Résultat attendu : \n",
    "\n",
    "<img src='Shannon.png' width=300px>\n"
   ]
  },
  {
   "cell_type": "markdown",
   "metadata": {},
   "source": [
    "<div class=\"alert alert-block alert-info\">\n",
    "\n",
    "Q2.4 - A l'aide de la fonction <code>shannon</code>, écrire la fonction <code>entropie</code> qui prend un ensemble de labels (un array numpy) en argument et renvoie l'entropie de la distribution des classes dans cet ensemble.\n",
    "</div>    "
   ]
  },
  {
   "cell_type": "code",
   "execution_count": 130,
   "metadata": {
    "collapsed": false
   },
   "outputs": [],
   "source": [
    "def entropie(lab):\n",
    "    t = [(pd.value_counts(lab)[i])/len(lab) for i in np.unique(lab)]\n",
    "    return shannon(t)"
   ]
  },
  {
   "cell_type": "code",
   "execution_count": 132,
   "metadata": {
    "collapsed": false
   },
   "outputs": [
    {
     "data": {
      "text/plain": [
       "1.0"
      ]
     },
     "execution_count": 132,
     "metadata": {},
     "output_type": "execute_result"
    }
   ],
   "source": [
    "# Exemple sur nos données :\n",
    "entropie(base2D_class)"
   ]
  },
  {
   "cell_type": "markdown",
   "metadata": {},
   "source": [
    "### Discrétisation des attributs numériques\n",
    "\n",
    "<div class=\"alert alert-block alert-success\">\n",
    "    \n",
    "**Discrétiser** un attribut numérique consiste en trouver un seuil de coupure dans son ensemble de valeurs après les avoir ordonnées. \n",
    "\n",
    "    Par exemple, soit l'attribut Age contenant les valeurs 12, 15, 17, 20, 35, 37, 40. On discrétise cet attribut en 2 intervalles en prenant un seuil, par exemple, la valeur 30: cela permet de séparer d'un côté les valeurs inférieures ou égales à 30, et de l'autre les valeurs strictement supérieures à 30.\n",
    "\n",
    "En apprentissage, lors que l'on doit discrétiser un attribut numérique, on utilise la distribution des classes sur cet ensemble de valeurs: le seuil de discrétisation est choisi afin d'optimiser la distribution des classes des exemples qui se trouvent de chaque côté du seuil. \n",
    "    \n",
    "    Par exemple, toujours avec l'attribut Age donné plus haut, soit la distribution suivante des classes +1 et -1:\n",
    "    -1, -1, -1, +1, +1, +1, +1\n",
    "    qui correspond à : la valeur d'âge 17 est associée à la classe -1, la valeur 18 est associée à la classe -1, etc.\n",
    "</div>    "
   ]
  },
  {
   "cell_type": "markdown",
   "metadata": {},
   "source": [
    "<div class=\"alert alert-block alert-warning\">\n",
    "Considérons la base d'apprentissage suivante qui donne pour une valeur d'âge d'une personne, la classe +1 si la personne peut voter, ou la classe -1 si elle ne peut pas voter:\n",
    "\n",
    "<table>\n",
    "<tr>    \n",
    "    <th>Age:</th><td>12</td><td>15</td><td>17</td><td>20</td><td>35</td><td>37</td><td>40</td>\n",
    "</tr>\n",
    "<tr>    \n",
    "    <th>peut voter:</th><td>-1</td><td>-1</td><td>-1</td><td>+1</td><td>+1</td><td>+1</td><td>+1</td>\n",
    "</tr>    \n",
    "</table>    \n",
    "\n",
    "Lors de la construction d'un arbre de décision, on souhaite discrétiser l'attribut Age en utilisant la distribution des classes: on veut un seuil de coupure dans l'ensemble des valeurs d'âges qui soit le plus en adéquation avec la classe.\n",
    "\n",
    "Pour les valeurs dans notre table, on peut dire que prendre un seuil de coupure qui soit une valeur d'âge comprise entre 17 et 20 est intéressant. Par exemple, si on choisit comme seuil la valeur 18.5 on obtient 2 intervalles:\n",
    "- les âges inférieurs ou égaux à 18.5 qui sont associés à la classe -1\n",
    "- les âges strictement supérieurs à18.5 qui sont associés à la classe +1\n",
    "\n",
    "On dit que le seuil 18.5 permet d'obtenir une discrétisation optimale pour la classe.\n",
    "</div>"
   ]
  },
  {
   "cell_type": "markdown",
   "metadata": {},
   "source": [
    "<div class=\"alert alert-block alert-success\">\n",
    "\n",
    "Mais tous les problèmes de discrétisation ne sont pas si simple, il est parfois difficile de voir un seuil de discrétisation optimal.    \n",
    "    \n",
    "Pour faire cela de façon automatique, on utile une mesure comme l'entropie de Shannon et on applique l'algorithme de discrétisation suivant:\n",
    "- on choisit un seuil dans l'ensemble des valeurs numériques: ce seuil sépare les classes en 2 sous-ensembles, celui des classes des valeurs inférieures ou égales au seuil, et celui des classes des valeurs strictement supérieures au seuil. Cela fournit donc un distribution des classes sur ces 2 ensembles.\n",
    "- on calcule le désordre des classes associées aux exemples de chaque côté du seuil et on agrège les 2 valeurs de désordre obtenues pour déterminer la qualité de la coupure.\n",
    "\n",
    "\n",
    "Soit $X$ un ensemble d'exemples, et soit $A$ un attribut que l'on souhaite discrétiser. Pour cela, on constitue l'ensemble des valeurs prises par les exemples de $X$ pour l'attribut $A$. Soit $A_X$ cet ensemble de valeurs.\n",
    "\n",
    "La discrétisation de $A_X$ s'effectue par les étapes suivantes:\n",
    "- Etape 1: ordonner de façon croissante les valeurs de $A_X$;\n",
    "- Etape 2: regarder tous les seuils possibles de coupure entre 2 valeurs consécutives de $A_X$ (on prend comme seuil de coupure la valeur médiane entre ces 2 valeurs). Chaque seuil trouvé crée 2 intervalles qui générent 2 sous-ensembles de $X$: l'ensemble $X_1$ des exemples dont la valeur pour $A$ et inférieure ou égale au seuil, et l'ensemble $X_2$ des exemples dont la valeur pour $A$ et supérieure au seuil. On détermine la qualité du seuil par la mesure présentée ci-dessous et on note $Q(seuil)$ sa valeur.\n",
    "\n",
    "La meilleure coupure pour discrétiser $A_X$ est celle qui minimise la valeur $Q(seuil)$.\n",
    "\n",
    "La mesure $Q(seuil)$ se calcule de la façon suivante:\n",
    "- on calcule l'entropie de Shannon $H_S(X_1)$ de la distribution des classes dans $X_1$\n",
    "- on calcule l'entropie de Shannon $H_S(X_2)$ de la distribution des classes dans $X_2$\n",
    "- la valeur de $Q(seuil)$ est alors:\n",
    "$Q(seuil)= \\frac{|X_1|}{|X_1|+|X_2|}H_S(X_1) + \\frac{|X_2|}{|X_1|+|X_2|}H_S(X_2)$\n",
    "où |.| désigne le cardinal de l'ensemble considéré (ie. son nombre de valeurs).\n",
    "</div>\n",
    "\n",
    "<div class=\"alert alert-block alert-warning\">\n",
    "Par exemple, soit $X=\\{17, 18, 20, 27, 35, 37, 40\\}$, chaque valeur étant associées aux classes +1, +1, -1, -1, +1, +1, -1 respectivement. Un seuil de coupure possible est $31$ ($31 = \\frac{27+35}{2}$). Ce seuil coupe $X$ en $X_1=\\{17, 18, 20, 27\\}$ et $X_2=\\{35, 37, 40\\}$.\n",
    "\n",
    "- pour $X_1$, la probabilité de chaque classe est: $p(+1)= 0.5$ et $p(-1)=0.5$ donc, $H_S(X_1)=1$;\n",
    "- pour $X_2$, la probabilité de chaque classe est: $p(+1)= \\frac{2}{3}$ et $p(-1)=\\frac{1}{3}$ donc, $H_S(X_2)=0.9182958340544896$;\n",
    "- on a donc: $$Q(seuil=31) = \\frac{4}{7} H_S(X_1) + \\frac{3}{7} H_S(X_2);$$\n",
    "soit $Q(seuil=31) = 0.9182958340544896$\n",
    "</div>\n"
   ]
  },
  {
   "cell_type": "markdown",
   "metadata": {},
   "source": [
    "<div class=\"alert alert-block alert-warning\">\n",
    "\n",
    "Ci-dessous, la méthode <code>discretise</code> qui permet de trouver le seuil de coupure optimal dans un ensemble de valeurs associées à des classes (labels).\n",
    "    \n",
    "</div>"
   ]
  },
  {
   "cell_type": "code",
   "execution_count": 133,
   "metadata": {
    "collapsed": true
   },
   "outputs": [],
   "source": [
    "def discretise(m_desc, m_class, num_col):\n",
    "    \"\"\" input:\n",
    "            - m_desc : (np.array) matrice des descriptions toutes numériques\n",
    "            - m_class : (np.array) matrice des classes (correspondant à m_desc)\n",
    "            - num_col : (int) numéro de colonne de m_desc à considérer\n",
    "        output: \n",
    "            - un tuple (seuil_trouve, entropie) qui donne le seuil trouvé et l'entropie associée\n",
    "            - (None , +Inf) si on ne peut pas discrétiser (moins de 2 valeurs d'attribut)\n",
    "    \"\"\"\n",
    "    # Liste triée des valeurs différentes présentes dans m_desc:\n",
    "    l_valeurs = np.unique(m_desc[:,num_col])\n",
    "    \n",
    "    # Si on a moins de 2 valeurs, pas la peine de discrétiser:\n",
    "    if (len(l_valeurs) < 2):\n",
    "        return ((None, float('Inf')), ([],[]))\n",
    "    \n",
    "    # Initialisation\n",
    "    best_seuil = None\n",
    "    best_entropie = float('Inf')\n",
    "    \n",
    "    # pour voir ce qui se passe, on va sauver les entropies trouvées et les points de coupures:\n",
    "    liste_entropies = []\n",
    "    liste_coupures = []\n",
    "    \n",
    "    nb_exemples = len(m_class)\n",
    "    \n",
    "    for v in l_valeurs:\n",
    "        cl_inf = m_class[m_desc[:,num_col]<=v]\n",
    "        cl_sup = m_class[m_desc[:,num_col]>v]\n",
    "        nb_inf = len(cl_inf)\n",
    "        nb_sup = len(cl_sup)\n",
    "        \n",
    "        # calcul de l'entropie de la coupure\n",
    "        val_entropie_inf = entropie(cl_inf) # entropie de l'ensemble des inf\n",
    "        val_entropie_sup = entropie(cl_sup) # entropie de l'ensemble des sup\n",
    "        \n",
    "        val_entropie = (nb_inf / float(nb_exemples)) * val_entropie_inf \\\n",
    "                       + (nb_sup / float(nb_exemples)) * val_entropie_sup\n",
    "        \n",
    "        # Ajout de la valeur trouvée pour retourner l'ensemble des entropies trouvées:\n",
    "        liste_coupures.append(v)\n",
    "        liste_entropies.append(val_entropie)\n",
    "        \n",
    "        # si cette coupure minimise l'entropie, on mémorise ce seuil et son entropie:\n",
    "        if (best_entropie > val_entropie):\n",
    "            best_entropie = val_entropie\n",
    "            best_seuil = v\n",
    "    \n",
    "    return (best_seuil, best_entropie), (liste_coupures,liste_entropies)"
   ]
  },
  {
   "cell_type": "code",
   "execution_count": 137,
   "metadata": {
    "collapsed": false
   },
   "outputs": [
    {
     "name": "stdout",
     "output_type": "stream",
     "text": [
      "Seuil de coupure trouvé:  4.0  et son entropie: 0.310608253257\n"
     ]
    }
   ],
   "source": [
    "# Exemple d'utilisation:\n",
    "numero_colonne = 0\n",
    "resultat, liste_vals = discretise(np.array(base2D_data),base2D_class,numero_colonne)\n",
    "\n",
    "print(\"Seuil de coupure trouvé: \",resultat[0],\" et son entropie:\", resultat[1])"
   ]
  },
  {
   "cell_type": "code",
   "execution_count": 138,
   "metadata": {
    "collapsed": false
   },
   "outputs": [
    {
     "data": {
      "image/png": "[encoded data removed]",
      "text/plain": [
       "<matplotlib.figure.Figure at 0x7f2342d290f0>"
      ]
     },
     "metadata": {},
     "output_type": "display_data"
    }
   ],
   "source": [
    "# affichage de la variation de l'entropie en fonction du choix du seuil:\n",
    "X,Y = liste_vals\n",
    "plt.plot(X,Y)\n",
    "plt.ylabel('entropie')\n",
    "plt.xlabel('seuil de coupure')\n",
    "plt.show()"
   ]
  },
  {
   "cell_type": "markdown",
   "metadata": {},
   "source": [
    "<div class=\"alert alert-block alert-warning\">\n",
    "Une fois un seuil de coupure $s$ trouvé sur un attribut $n$, on partitionne la base d'apprentissage en 2 ensembles:\n",
    "- l'ensemble des exemples qui ont une valeur inférieure ou égale à $s$ pour l'attribut $n$\n",
    "- l'ensemble des exemples qui ont une valeur strictement supérieure à $s$ pour l'attribut $n$\n",
    "</div>    "
   ]
  },
  {
   "cell_type": "markdown",
   "metadata": {},
   "source": [
    "<div class=\"alert alert-block alert-info\">\n",
    "\n",
    "Q2.5 - Ecrire la fonction <code>partionne</code> qui prend en argument deux numpy array $m_desc$ et $m_class$ qui représentent une base d'apprentissage, un numéro de colonne $n$ et une valeur de seuil $s$ et qui rend un tuple composé  de 2 tuples de numpy arrays:\n",
    "- le premier tuple est composé de l'ensemble des descriptions de tous les exemples de $T$ qui ont une valeur pour la colonne $n$ inférieure ou égale à $s$ et l'ensemble de leur classe;\n",
    "- le second tuple est composé de l'ensemble des descriptions de tous les exemples de $T$ qui ont une valeur pour la colonne $n$ strictement supérieure à $s$ et l'ensemble de leur classe;\n",
    "</div>"
   ]
  },
  {
   "cell_type": "code",
   "execution_count": 245,
   "metadata": {
    "collapsed": true
   },
   "outputs": [],
   "source": [
    "def partitionne(m_desc, m_class, n, s):\n",
    "    tuple1 = [m_desc[i][n] for i in range(len(m_desc)) if m_desc[i][n] <= s] , [m_class[i] for i in range(len(m_desc)) if m_desc[i][n] <= s]\n",
    "    tuple2 = [m_desc[i][n] for i in range(len(m_desc)) if m_desc[i][n] > s], [m_class[i] for i in range(len(m_desc)) if m_desc[i][n] > s]\n",
    "    return tuple1, tuple2"
   ]
  },
  {
   "cell_type": "code",
   "execution_count": 246,
   "metadata": {
    "collapsed": false
   },
   "outputs": [
    {
     "data": {
      "text/plain": [
       "1.0"
      ]
     },
     "execution_count": 246,
     "metadata": {},
     "output_type": "execute_result"
    }
   ],
   "source": [
    "np.array(base2D_data)[1][0]"
   ]
  },
  {
   "cell_type": "code",
   "execution_count": 247,
   "metadata": {
    "collapsed": false
   },
   "outputs": [],
   "source": [
    "# Exemple d'utilisation :\n",
    "((left_data,left_class), (right_data,right_class)) = partitionne(np.array(base2D_data),base2D_class, 0,4)"
   ]
  },
  {
   "cell_type": "code",
   "execution_count": 204,
   "metadata": {
    "collapsed": false
   },
   "outputs": [
    {
     "data": {
      "text/plain": [
       "([0.0, 1.0, 1.0, 2.0, 2.0, 4.0, 4.0, 4.0], [4.5, 4.5, 5.0, 5.0, 6.0, 7.0])"
      ]
     },
     "execution_count": 204,
     "metadata": {},
     "output_type": "execute_result"
    }
   ],
   "source": [
    "left_data, right_data"
   ]
  },
  {
   "cell_type": "markdown",
   "metadata": {},
   "source": [
    "## 3 - Construction d'arbres de décision\n",
    "\n",
    "<div class=\"alert alert-block alert-success\">\n",
    "    Dans cette partie, on réalise l'implémentation de l'algorithme de construction d'un arbre de décision.\n",
    "    </div>"
   ]
  },
  {
   "cell_type": "markdown",
   "metadata": {},
   "source": [
    "### Représentation d'un arbre en Python"
   ]
  },
  {
   "cell_type": "markdown",
   "metadata": {},
   "source": [
    "<div class=\"alert alert-block alert-warning\">\n",
    "Pour représenter un arbre en Python, on a besoin de définir une structure de données adéquate. \n",
    "\n",
    "Un arbre de décision est défini par des noeuds qui sont de 2 types :\n",
    "- noeud interne : c'est un noeud qui est associé à une dimension (ie. un attribut de description des exemples) et à une valeur <code>v</code> sur cette dimension, et qui possède des exactement 2 fils qui sont aussi des noeuds. Le fils gauche de ce noeud est utilisé pour les valeurs de la dimension qui sont inférieures ou égales à <code>v</code>, et le fils droit est utilisé pour les valeurs qui sont strictement supérieures à  <code>v</code>. Un noeud interne est représenté par t-uple Python <code>(Dim, Valeur, FilsG, FilsD)</code> contenant 4 éléments:\n",
    "    - <code>Dim</code> : le numéro de la dimension ;\n",
    "    - <code>Valeur</code> : la valeur <code>v</code>;\n",
    "    - <code>FilsG</code> : noeud interne à utiliser pour les valeurs de la dimension qui sont inférieures ou égales à <code>v</code>;\n",
    "    - <code>FilsD</code> : noeud interne à utiliser pour les valeurs de la dimension qui sont strictement supérieures à <code>v</code>.\n",
    "    - feuille : c'est un noeud qui est associé à un <code>label de la classe</code> et qui a la particularité de ne pas avoir de descendants. Il est représenté par une valeur qui correspond à la classe.\n",
    "\n",
    "</div>"
   ]
  },
  {
   "cell_type": "markdown",
   "metadata": {},
   "source": [
    "### Construction de l'arbre de décision"
   ]
  },
  {
   "cell_type": "markdown",
   "metadata": {},
   "source": [
    "<div class=\"alert alert-block alert-success\">\n",
    "Comme on l'a vu dans le cours, pour construire un arbre de décision à partir d'un dataset ($X$, $Y$), il faut réaliser les étapes suivantes:\n",
    "    \n",
    "1. calculer l'entropie de Shannon de l'ensemble des classes $Y$, on la note $H_S(Y)$.\n",
    "    \n",
    "2. si $H_S(Y)$ est inférieure à epsilon (qui est un réel positif donné en paramètre de l'algorithme), alors construire une feuille avec cet ensemble, la classe associée à cette feuille est la classe majoritaire dans $Y$.\n",
    "    \n",
    "3. sinon, pour chaque attribut $X_j$ qui décrit les exemples de $X$,\n",
    "    - 3.1. pour chacune des valeurs $v_{jl}$ de $X_j$ construire l'ensemble des exemples de $X$ qui possède la valeur $v_{jl}$ ainsi que l'ensemble de leurs labels.\n",
    "    - 3.2. calculer l'entropie conditionnelle de Shannon de la classe relativement à l'attribut $X_j$. On note $H_S(Y|X_j)$ cette entropie.\n",
    "    \n",
    "4. l'attribut $X_{best}$ qui **maximise le gain d'information** est choisi pour constituer un nouveau noeud $\\eta$ de l'arbre de décision:\n",
    "    - 4.1. chaque valeur de $X_{best}$ est utilisée pour décomposer ($X$, $Y$) en autant de datasets que $X_{best}$ possède de valeurs: chaque dataset est séparant $X$ et $Y$ selon la valeur prise pour $X_{best}$. \n",
    "    - 4.2. pour chaque dataset obtenu on reprend en 1 pour construire chacun des fils de $\\eta$. \n",
    "\n",
    "\n",
    "On rappelle que le gain d'information est:\n",
    "\n",
    "$$I_S(X_j,Y) = H_S(Y) - H_S(Y|X_j)$$\n",
    "\n",
    "On peut remarquer que chercher l'attribut $X_j$ qui **maximise le gain d'information** $I_S(X_j,Y)$ est équivalent à chercher $X_j$ qui **minimise l'entropie** $H_S(Y|X_j)$ (car le terme $H_S(Y)$ reste constant pour les calculs pour tous les attributs).\n",
    "    \n",
    "</div>    "
   ]
  },
  {
   "cell_type": "markdown",
   "metadata": {},
   "source": [
    "<div class=\"alert alert-block alert-info\">\n",
    "Q3.1 - Compléter la fonction <code>construit_AD</code> suivante afin qu'elle permette de construire un arbre de décision. Cette fonction rend un noeud interne qui correspond à l'arbre construit pour l'ensemble $(X,Y)$ donné.\n",
    "    </div>"
   ]
  },
  {
   "cell_type": "code",
   "execution_count": 248,
   "metadata": {
    "collapsed": false
   },
   "outputs": [],
   "source": [
    "# ------------------------ VERSION A COMPLETER !\n",
    "\n",
    "# Compléter ce code là où est indiqué : [A COMPLETER]\n",
    "\n",
    "def construit_AD(m_desc, m_class, epsilon):\n",
    "    \"\"\" input:\n",
    "            - m_desc : (np.array) matrice des descriptions toutes numériques\n",
    "            - m_class : (np.array) matrice des classes (correspondant à m_desc)\n",
    "            - epsilon : (float) seuil pour le critère d'arrêt : si l'entropie de la classe est inférieure\n",
    "              ou égale à epsilon, alors on crée une feuille. En général, epsilon vaut 0.0 mais on peut parfois,\n",
    "              dans le cas de base d'apprentissage bruitée, utiliser une valeur supérieure à 0.0              \n",
    "        output: arbre de décision correspondant\n",
    "    \"\"\"\n",
    "    if (len(m_desc) == 0):\n",
    "        return None\n",
    "    \n",
    "    # dimensions de m_desc:\n",
    "    (nb_lig, nb_col) = m_desc.shape\n",
    "    \n",
    "    entropie_class = entropie(m_class)\n",
    "    \n",
    "    # Cas d'arrêt\n",
    "    if (entropie_class <= epsilon) or (nb_lig <=1):\n",
    "        return #[A COMPLETER]\n",
    "    \n",
    "    best_col = -1\n",
    "    best_gain = float('-Inf')\n",
    "    best_seuil = 0.0\n",
    "    for i in range(0,nb_col):\n",
    "        result_discretisation = discretise(m_desc, m_class, i)\n",
    "        if type(result_discretisation) == tuple:\n",
    "            (seuil,entr), _ = result_discretisation\n",
    "            info_gain = entropie_class - entr        \n",
    "        else:\n",
    "            info_gain = best_gain # pour ne rien changer\n",
    "            \n",
    "        if info_gain > best_gain:\n",
    "            best_col = i\n",
    "            best_gain = info_gain\n",
    "            best_seuil = seuil\n",
    "\n",
    "    if (best_seuil != None):\n",
    "        ((left_data,left_class), (right_data,right_class)) = partitionne(m_desc,m_class,best_col,best_seuil)    \n",
    "        arbre_gauche = left_data\n",
    "        arbre_droit = right_data\n",
    "        return (best_col, best_seuil, arbre_gauche, arbre_droit)\n",
    "\n",
    "    # si on n'a trouvé aucun seuil sur aucun attribut:\n",
    "    return classe_majoritaire(m_class)\n"
   ]
  },
  {
   "cell_type": "code",
   "execution_count": 249,
   "metadata": {
    "collapsed": false
   },
   "outputs": [
    {
     "data": {
      "text/plain": [
       "(0,\n",
       " 4.0,\n",
       " [0.0, 1.0, 1.0, 2.0, 2.0, 4.0, 4.0, 4.0],\n",
       " [4.5, 4.5, 5.0, 5.0, 6.0, 7.0])"
      ]
     },
     "execution_count": 249,
     "metadata": {},
     "output_type": "execute_result"
    }
   ],
   "source": [
    "# Exemple d'utilisation :\n",
    "ad_base2D = construit_AD(np.array(base2D_data), base2D_class, 0)\n",
    "ad_base2D"
   ]
  },
  {
   "cell_type": "code",
   "execution_count": 188,
   "metadata": {
    "collapsed": false
   },
   "outputs": [
    {
     "data": {
      "text/plain": [
       "array([ 0. ,  1. ,  1. ,  2. ,  2. ,  4. ,  4. ,  4. ,  4.5,  4.5,  5. ,\n",
       "        5. ,  6. ,  7. ])"
      ]
     },
     "execution_count": 188,
     "metadata": {},
     "output_type": "execute_result"
    }
   ],
   "source": [
    "np.array(base2D_data)[:,0]"
   ]
  },
  {
   "cell_type": "markdown",
   "metadata": {},
   "source": [
    "### Affichage d'un arbre de décision\n",
    "\n",
    "<div class=\"alert alert-block alert-warning\">\n",
    "Pour afficher un arbre, on doit d'abord le transformer en une chaîne de caractères qui pourra par la suite être affichée avec print.\n",
    "    \n",
    "La fonction suivante, <code>arbre_tostring</code> réalise cette transformation.    \n",
    "</div>    "
   ]
  },
  {
   "cell_type": "code",
   "execution_count": null,
   "metadata": {
    "collapsed": true
   },
   "outputs": [],
   "source": [
    "def arbre_tostring(tree,level=0):\n",
    "    \"\"\" input:\n",
    "            - tree: tuple représentant un arbre de décision\n",
    "            - level: (int) niveau du noeud racine de cet arbre\n",
    "        output: (str) arbre sous la forme d'une chaîne pour affichage            \n",
    "    \"\"\"\n",
    "    res = \"\"\n",
    "    \n",
    "    prefixe = \"\\n\" + \"|\\t\"*level\n",
    "    \n",
    "    if type(tree) == tuple:\n",
    "        num_col, v_seuil, tree_left, tree_right = tree\n",
    "        res += prefixe + \"Col. \"+str(num_col) + \" <= \" + str(v_seuil)\n",
    "        res += arbre_tostring(tree_left,level+1)\n",
    "        res += prefixe + \"Col. \"+str(num_col) + \" > \" + str(v_seuil)\n",
    "        res += arbre_tostring(tree_right,level+1)\n",
    "    else:\n",
    "        res += \" : classe \" +str(tree)\n",
    "    return res"
   ]
  },
  {
   "cell_type": "code",
   "execution_count": null,
   "metadata": {
    "collapsed": true
   },
   "outputs": [],
   "source": [
    "#Exemple d'utilisation :\n",
    "arbre_tostring(ad_base2D)\n",
    "\n",
    "print(arbre_tostring(ad_base2D))"
   ]
  },
  {
   "cell_type": "markdown",
   "metadata": {},
   "source": [
    "<div class=\"alert alert-block alert-info\">\n",
    "\n",
    "\n",
    "Q3.2 - Tracer sur une feuille de papier les frontières de séparation des classes qui correspondent à l'arbre ainsi afficher. \n",
    "    \n",
    "</div>    "
   ]
  },
  {
   "cell_type": "markdown",
   "metadata": {},
   "source": [
    "### Classification d'exemples avec un arbre de décision\n",
    "\n",
    "<div class=\"alert alert-block alert-warning\">\n",
    "    La classification avec un arbre de décision est très simple. Soit $T$ un arbre, et soit $e$ la description d'un exemple dont on veut prédire la classe avec $T$:\n",
    "    \n",
    "- si $T$ est une feuille, alors la classe de $e$ est celle qui se trouve dans la feuille \n",
    "- si $T$ n'est pas une feuille, il est constitué: d'un numéro de colonne à tester $nc$, d'une valeur de seuil $s$, d'un sous-arbre gauche $Tg$ et d'un sous-arbre droit $Td$. La classe de $e$ est obtenue en classifant $e$ avec $Tg$ si la colonne $nc$ de description de $e$ est inférieure ou égale au seuil $s$, ou alors en classificant $e$ avec $Td$ si elle est strictement supérieure ) $s$.\n",
    "</div>"
   ]
  },
  {
   "cell_type": "markdown",
   "metadata": {},
   "source": [
    "<div class=\"alert alert-block alert-info\">\n",
    "\n",
    "\n",
    "Q3.3 - Ecrire la fonction <code>arbre_classifie</code> qui prend un arbre de décision et la description d'un exemple et rend la classe trouvée pour cet exemple.\n",
    "    \n",
    "</div>    "
   ]
  },
  {
   "cell_type": "code",
   "execution_count": null,
   "metadata": {
    "collapsed": true
   },
   "outputs": [],
   "source": []
  },
  {
   "cell_type": "code",
   "execution_count": null,
   "metadata": {
    "collapsed": true
   },
   "outputs": [],
   "source": [
    "# Exemple d'utilisation :\n",
    "arbre_classifie(ad_base2D,base2D_data[4,:])"
   ]
  },
  {
   "cell_type": "markdown",
   "metadata": {},
   "source": [
    "## 4 - Utilisation sur des données réelles "
   ]
  },
  {
   "cell_type": "markdown",
   "metadata": {},
   "source": [
    "<div class=\"alert alert-block alert-info\">\n",
    "\n",
    "\n",
    "Q4.1 - Expérimenter l'algorithme de construction d'arbres de décision sur les données des Iris (cf. TME sur les $k$ plus proches voisins).\n",
    "    \n",
    "- charger les données des Iris\n",
    "- construire un arbre de décision et l'afficher\n",
    "- découper aléatoirement la base des Iris en 2 sous-bases ayant exactement la même répartition des classes \n",
    "- écrire une fonction <code>arbre_taux</code> qui prend en argument un arbre de décision $T$ construit préalablement, un ensemble de description $D$ et l'ensemble des classes $C$ qui lui correspond. Cette fonction classifie chaque exemple de $D$ avec $T$ et compare la classe obtenue avec la classe donnée dans $C$. En retour, la fonction rend le taux d'erreur de prédiction réalisé sur l'ensemble $D$.\n",
    "</div>  "
   ]
  },
  {
   "cell_type": "code",
   "execution_count": null,
   "metadata": {
    "collapsed": true
   },
   "outputs": [],
   "source": []
  },
  {
   "cell_type": "code",
   "execution_count": null,
   "metadata": {
    "collapsed": true
   },
   "outputs": [],
   "source": [
    "# Exemple d'utilisation :\n",
    "ad_iris = construit_AD(iris_data, iris_class, 0)\n",
    "print(arbre_tostring(ad_iris))"
   ]
  },
  {
   "cell_type": "code",
   "execution_count": null,
   "metadata": {
    "collapsed": true
   },
   "outputs": [],
   "source": [
    "# Exemple d'utilisation :\n",
    "arbre_classifie(ad_iris,iris_data[42,:])"
   ]
  },
  {
   "cell_type": "markdown",
   "metadata": {},
   "source": [
    "<div class=\"alert alert-block alert-info\">\n",
    "\n",
    "\n",
    "Q4.2 - Comparer les performances de l'algorithme de classification par arbres de décision et de l'algorithme des $k$ plus proches voisins sur les données des Iris après avoir l'ensemble des données en 2 sous-ensembles: un ensemble d'apprentissage (pour construire le modèle) et un ensemble de test (pour évaluer le taux d'erreur du modèle appris).\n",
    "</div>  "
   ]
  },
  {
   "cell_type": "code",
   "execution_count": null,
   "metadata": {
    "collapsed": true
   },
   "outputs": [],
   "source": []
  },
  {
   "cell_type": "markdown",
   "metadata": {},
   "source": [
    "<div class=\"alert alert-block alert-info\">\n",
    "\n",
    "\n",
    "Q4.3 - (bonus) Sur le modèle de la fonction <code>shannon</code>, écrire une fonction <code>gini</code> qui calcule l'indice de Gini d'une distribution de probabilités. \n",
    "A l'aide de cette fonction, et en apportant les modifications nécessaires, écrire une version de construction d'arbres de décision qui utilise l'indice de Gini au lieu de l'entropie de Shannon.    \n",
    "</div>  "
   ]
  },
  {
   "cell_type": "code",
   "execution_count": null,
   "metadata": {
    "collapsed": true
   },
   "outputs": [],
   "source": []
  }
 ],
 "metadata": {
  "anaconda-cloud": {},
  "kernelspec": {
   "display_name": "Python 3",
   "language": "python",
   "name": "python3"
  },
  "language_info": {
   "codemirror_mode": {
    "name": "ipython",
    "version": 3
   },
   "file_extension": ".py",
   "mimetype": "text/x-python",
   "name": "python",
   "nbconvert_exporter": "python",
   "pygments_lexer": "ipython3",
   "version": "3.5.2"
  }
 },
 "nbformat": 4,
 "nbformat_minor": 5
}
