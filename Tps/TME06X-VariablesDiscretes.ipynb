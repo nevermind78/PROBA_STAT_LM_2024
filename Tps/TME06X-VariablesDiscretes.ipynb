{
 "cells": [
  {
   "cell_type": "markdown",
   "metadata": {},
   "source": [
    "# Qui êtes-vous ?\n",
    "<div class=\"alert alert-block alert-info\">\n",
    "Écrire ci-dessous le nom, le prénom et le numéro étudiant de chaque membre du binôme :\n",
    "</div>"
   ]
  },
  {
   "cell_type": "code",
   "execution_count": 1,
   "metadata": {
    "collapsed": true
   },
   "outputs": [],
   "source": []
  },
  {
   "cell_type": "markdown",
   "metadata": {},
   "source": [
    "# TME 06X - Variables discrètes"
   ]
  },
  {
   "cell_type": "code",
   "execution_count": 2,
   "metadata": {
    "collapsed": true
   },
   "outputs": [],
   "source": [
    "import numpy as np\n",
    "import pandas as pd\n",
    "import matplotlib.pyplot as plt\n",
    "%matplotlib inline"
   ]
  },
  {
   "cell_type": "markdown",
   "metadata": {},
   "source": [
    "## 1 - Manipulation d'une loi de probabilité jointe"
   ]
  },
  {
   "cell_type": "markdown",
   "metadata": {},
   "source": [
    "<div class=\"alert alert-block alert-warning\">\n",
    "Soit deux variables aléatoires $X$ et $Y$ qui suivent la loi de probabilité jointe suivante :\n",
    "$$\n",
    "    \\begin{array}{c|cccc}\n",
    "      p_{XY}(x, y) & 0 & 1 & 2 & 3 \\\\\n",
    "      \\hline\n",
    "      0 & \\frac{9}{32} & \\frac{3}{32} & \\frac{1}{32} & \\frac{7}{32} \\\\\n",
    "      1 & \\frac{1}{32} & \\frac{2}{32} & \\frac{8}{32} & \\frac{1}{32}\n",
    "    \\end{array}\n",
    "$$\n",
    "</div>"
   ]
  },
  {
   "cell_type": "markdown",
   "metadata": {},
   "source": [
    "<div class=\"alert alert-block alert-info\">\n",
    "Q1.1 - Déclarer un tableau <code>pxy</code> représentant cette loi de probabilité jointe.\n",
    "</div>"
   ]
  },
  {
   "cell_type": "code",
   "execution_count": 11,
   "metadata": {
    "collapsed": false
   },
   "outputs": [
    {
     "data": {
      "text/plain": [
       "array([[0.28125, 0.09375, 0.03125, 0.21875],\n",
       "       [0.03125, 0.0625 , 0.25   , 0.03125]])"
      ]
     },
     "execution_count": 11,
     "metadata": {},
     "output_type": "execute_result"
    }
   ],
   "source": [
    "pxy = np.array([[9./32, 3./32, 1./32, 7./32], [1./32, 2./32, 8./32, 1./32]])\n",
    "pxy"
   ]
  },
  {
   "cell_type": "markdown",
   "metadata": {},
   "source": [
    "<div class=\"alert alert-block alert-info\">\n",
    "Q1.2 - Écrire une fonction <code>est_proba</code> qui prend en paramètre un tableau numpy et qui renvoie <code>True</code> s'il s'agit d'une loi de probabilité jointe (et <code>False</code> sinon).\n",
    "    \n",
    "On vérifira que chaque valeur est comprise entre 0 et 1 et que la somme vaut 1 (à $\\epsilon$ près si nécessaire).\n",
    "</div>"
   ]
  },
  {
   "cell_type": "code",
   "execution_count": 49,
   "metadata": {
    "collapsed": false
   },
   "outputs": [],
   "source": [
    "def est_proba(tab):\n",
    "    return (np.min(tab)>=0) and np.abs((1-np.sum(tab)))<10**(-15)"
   ]
  },
  {
   "cell_type": "code",
   "execution_count": 50,
   "metadata": {
    "collapsed": false
   },
   "outputs": [
    {
     "data": {
      "text/plain": [
       "True"
      ]
     },
     "execution_count": 50,
     "metadata": {},
     "output_type": "execute_result"
    }
   ],
   "source": [
    "est_proba(pxy)"
   ]
  },
  {
   "cell_type": "markdown",
   "metadata": {},
   "source": [
    "<div class=\"alert alert-block alert-warning\">\n",
    "On rappelle qu'on peut accéder à des sous-parties d'un tableau numpy avec la syntaxe suivante (pour <code>pxy</code>) :\n",
    "<ul>\n",
    "    <li><code>pxy[1, 2]</code> renvoie la donnée située à la ligne 1 et à la colonne 2</li>\n",
    "    <li><code>pxy[0:2, 2]</code> renvoie toute la colonne 2</li>\n",
    "    <li><code>pxy[0, 0:4]</code> renvoie toute la ligne 0</li>\n",
    "</ul>\n",
    "</div>"
   ]
  },
  {
   "cell_type": "markdown",
   "metadata": {},
   "source": [
    "<div class=\"alert alert-block alert-info\">\n",
    "Q1.3 - Calculer la loi marginale de $X$ dans un tableau <code>px</code>.\n",
    "</div>"
   ]
  },
  {
   "cell_type": "code",
   "execution_count": 68,
   "metadata": {
    "collapsed": false
   },
   "outputs": [
    {
     "data": {
      "text/plain": [
       "array([0.625, 0.375])"
      ]
     },
     "execution_count": 68,
     "metadata": {},
     "output_type": "execute_result"
    }
   ],
   "source": [
    "px = np.sum(pxy, axis=1)\n",
    "px"
   ]
  },
  {
   "cell_type": "markdown",
   "metadata": {},
   "source": [
    "<div class=\"alert alert-block alert-info\">\n",
    "Q1.4 - Calculer la loi marginale de $Y$ dans un tableau <code>py</code>.\n",
    "</div>"
   ]
  },
  {
   "cell_type": "code",
   "execution_count": 67,
   "metadata": {
    "collapsed": false
   },
   "outputs": [
    {
     "data": {
      "text/plain": [
       "array([0.3125 , 0.15625, 0.28125, 0.25   ])"
      ]
     },
     "execution_count": 67,
     "metadata": {},
     "output_type": "execute_result"
    }
   ],
   "source": [
    "py = np.sum(pxy, axis=0)\n",
    "py"
   ]
  },
  {
   "cell_type": "markdown",
   "metadata": {},
   "source": [
    "<div class=\"alert alert-block alert-info\">\n",
    "Q1.5 - Calculer la loi $p_X \\times p_y$ dans un tableau <code>pxpy</code>.\n",
    "</div>"
   ]
  },
  {
   "cell_type": "code",
   "execution_count": 79,
   "metadata": {
    "collapsed": false
   },
   "outputs": [
    {
     "data": {
      "text/plain": [
       "array([[0.1953125 , 0.09765625, 0.17578125, 0.15625   ],\n",
       "       [0.1171875 , 0.05859375, 0.10546875, 0.09375   ]])"
      ]
     },
     "execution_count": 79,
     "metadata": {},
     "output_type": "execute_result"
    }
   ],
   "source": [
    "pxpy= px.reshape((-1,1))*py\n",
    "pxpy"
   ]
  },
  {
   "cell_type": "markdown",
   "metadata": {},
   "source": [
    "<div class=\"alert alert-block alert-info\">\n",
    "Q1.6 - $X$ et $Y$ sont-elles indépendantes ?\n",
    "</div>"
   ]
  },
  {
   "cell_type": "code",
   "execution_count": 82,
   "metadata": {
    "collapsed": false
   },
   "outputs": [
    {
     "data": {
      "text/plain": [
       "array([[False, False, False, False],\n",
       "       [False, False, False, False]])"
      ]
     },
     "execution_count": 82,
     "metadata": {},
     "output_type": "execute_result"
    }
   ],
   "source": [
    "pxpy == pxy\n",
    "#X et Y ne sont pas indépendantes"
   ]
  },
  {
   "cell_type": "markdown",
   "metadata": {},
   "source": [
    "<div class=\"alert alert-block alert-info\">\n",
    "Q1.7 - Écrire une fonction qui prend en paramètre un tableau représentant une loi de probabilité jointe de deux variables aléatoires discrètes et qui renvoie <code>True</code> si ces variables sont indépendantes (et <code>False</code> sinon).\n",
    "</div>"
   ]
  },
  {
   "cell_type": "code",
   "execution_count": 83,
   "metadata": {
    "collapsed": true
   },
   "outputs": [],
   "source": [
    "def independantes(tab):\n",
    "    ptabx = np.sum(tab, axis=1)\n",
    "    ptaby = np.sum(tab, axis=0)\n",
    "    ptabxy = ptabx.reshape((-1,1))*ptaby\n",
    "    return ptabxy == tab"
   ]
  },
  {
   "cell_type": "markdown",
   "metadata": {},
   "source": [
    "<div class=\"alert alert-block alert-info\">\n",
    "Q1.8 - Écrire une instruction qui teste votre fonction sur <code>pxy</code> et sur <code>pxpy</code>.\n",
    "</div>"
   ]
  },
  {
   "cell_type": "code",
   "execution_count": 85,
   "metadata": {
    "collapsed": false,
    "scrolled": false
   },
   "outputs": [
    {
     "data": {
      "text/plain": [
       "(array([[False, False, False, False],\n",
       "        [False, False, False, False]]), array([[ True,  True,  True,  True],\n",
       "        [ True,  True,  True,  True]]))"
      ]
     },
     "execution_count": 85,
     "metadata": {},
     "output_type": "execute_result"
    }
   ],
   "source": [
    "independantes(pxy), independantes(pxpy)"
   ]
  },
  {
   "cell_type": "markdown",
   "metadata": {},
   "source": [
    "## 2 - Probablités conditionnelles"
   ]
  },
  {
   "cell_type": "markdown",
   "metadata": {},
   "source": [
    "<div class=\"alert alert-block alert-warning\">\n",
    "Dans cette partie, nous allons continuer de travailler avec la loi jointe <code>pxy</code>.\n",
    "</div>"
   ]
  },
  {
   "cell_type": "markdown",
   "metadata": {},
   "source": [
    "<div class=\"alert alert-block alert-info\">\n",
    "Q2.1 - Calculer la loi conditionnelle $p_{X|Y}(x)$ dans un tableau <code>pxSy</code>.\n",
    "</div>"
   ]
  },
  {
   "cell_type": "code",
   "execution_count": 87,
   "metadata": {
    "collapsed": false
   },
   "outputs": [
    {
     "data": {
      "text/plain": [
       "array([[0.9       , 0.6       , 0.11111111, 0.875     ],\n",
       "       [0.1       , 0.4       , 0.88888889, 0.125     ]])"
      ]
     },
     "execution_count": 87,
     "metadata": {},
     "output_type": "execute_result"
    }
   ],
   "source": [
    "pxSy = pxy/py\n",
    "pxSy"
   ]
  },
  {
   "cell_type": "markdown",
   "metadata": {},
   "source": [
    "<div class=\"alert alert-block alert-info\">\n",
    "Q2.2 - De même, calculer la loi conditionnelle $p_{Y|X}(y)$ dans un tableau <code>pySx</code>.\n",
    "</div>"
   ]
  },
  {
   "cell_type": "code",
   "execution_count": 90,
   "metadata": {
    "collapsed": false
   },
   "outputs": [
    {
     "data": {
      "text/plain": [
       "array([[0.45      , 0.15      , 0.05      , 0.35      ],\n",
       "       [0.08333333, 0.16666667, 0.66666667, 0.08333333]])"
      ]
     },
     "execution_count": 90,
     "metadata": {},
     "output_type": "execute_result"
    }
   ],
   "source": [
    "pySx = pxy/(px.reshape((-1,1)))\n",
    "pySx"
   ]
  },
  {
   "cell_type": "markdown",
   "metadata": {},
   "source": [
    "<div class=\"alert alert-block alert-info\">\n",
    "Q2.3 - Chaque calcul précédent permet-il de dire si les variables $X$ et $Y$ sont indépendantes ?\n",
    "</div>"
   ]
  },
  {
   "cell_type": "code",
   "execution_count": 92,
   "metadata": {
    "collapsed": false
   },
   "outputs": [],
   "source": [
    "#Oui "
   ]
  },
  {
   "cell_type": "markdown",
   "metadata": {},
   "source": [
    "## 3 - Espérance et variance"
   ]
  },
  {
   "cell_type": "markdown",
   "metadata": {},
   "source": [
    "<div class=\"alert alert-block alert-warning\">\n",
    "Nous allons supposer que les réalisations de la variable $X$ correspondent aux indices de lignes et que les réalisations de la variable $Y$ correspondent aux indices de colonnes.\n",
    "</div>"
   ]
  },
  {
   "cell_type": "markdown",
   "metadata": {},
   "source": [
    "<div class=\"alert alert-block alert-info\">\n",
    "Q3.1 - Écrire une fonction <code>esperance</code> qui calcule l'espérance d'une variable aléatoire dont la loi <code>p</code> est donnée sous la forme d'un tableau numpy unidimensionnel.\n",
    "</div>"
   ]
  },
  {
   "cell_type": "code",
   "execution_count": 114,
   "metadata": {
    "collapsed": false
   },
   "outputs": [],
   "source": [
    "def esperance(p, v):\n",
    "    return np.sum(p*v)"
   ]
  },
  {
   "cell_type": "markdown",
   "metadata": {},
   "source": [
    "<div class=\"alert alert-block alert-info\">\n",
    "Q3.2 - Calculer l'espérance de la variable $Y$.\n",
    "</div>"
   ]
  },
  {
   "cell_type": "code",
   "execution_count": 117,
   "metadata": {
    "collapsed": false,
    "scrolled": true
   },
   "outputs": [
    {
     "data": {
      "text/plain": [
       "1.46875"
      ]
     },
     "execution_count": 117,
     "metadata": {},
     "output_type": "execute_result"
    }
   ],
   "source": [
    "variablex = np.array([0, 1])\n",
    "variabley = np.array([0, 1, 2, 3])\n",
    "esperance(py, variabley)"
   ]
  },
  {
   "cell_type": "markdown",
   "metadata": {},
   "source": [
    "<div class=\"alert alert-block alert-info\">\n",
    "Q3.3 - Calculer les espérances conditionnelles de $Y$ sachant $X = x$ pour $0 \\leqslant x < 2$.\n",
    "</div>"
   ]
  },
  {
   "cell_type": "code",
   "execution_count": 118,
   "metadata": {
    "collapsed": false
   },
   "outputs": [
    {
     "data": {
      "text/plain": [
       "(1.2999999999999998, 1.75)"
      ]
     },
     "execution_count": 118,
     "metadata": {},
     "output_type": "execute_result"
    }
   ],
   "source": [
    "esperance(pySx[0], variabley), esperance(pySx[1], variabley)"
   ]
  },
  {
   "cell_type": "markdown",
   "metadata": {},
   "source": [
    "<div class=\"alert alert-block alert-warning\">\n",
    "Pour allons à présent calculer des espérances sur la loi jointe. Pour cela, nous passerons en paramètres une fonction de $x$ et de $y$ qui renvoie un réel.\n",
    "    \n",
    "Par exemple, nous allons commencer par calculer l'espérance de $X + Y$.\n",
    "</div>"
   ]
  },
  {
   "cell_type": "markdown",
   "metadata": {},
   "source": [
    "<div class=\"alert alert-block alert-info\">\n",
    "Exécuter le bloc suivant qui définit la fonction <code>fsom</code>.\n",
    "</div>"
   ]
  },
  {
   "cell_type": "code",
   "execution_count": 119,
   "metadata": {
    "collapsed": true
   },
   "outputs": [],
   "source": [
    "def fsom(x, y):\n",
    "    return x + y"
   ]
  },
  {
   "cell_type": "markdown",
   "metadata": {},
   "source": [
    "<div class=\"alert alert-block alert-info\">\n",
    "Q3.4 - Écrire une fonction <code>esperance_jointe</code> prend en paramètres une loi jointe de deux variables <code>p</code> et une fonction de deux variables <code>f</code> et qui calcule l'espérance de $f(X, Y)$.\n",
    "</div>"
   ]
  },
  {
   "cell_type": "code",
   "execution_count": 120,
   "metadata": {
    "collapsed": true
   },
   "outputs": [],
   "source": [
    "def esperance_jointe(p, f):\n",
    "    return np.sum(p*f)"
   ]
  },
  {
   "cell_type": "markdown",
   "metadata": {},
   "source": [
    "<div class=\"alert alert-block alert-info\">\n",
    "Q3.5 - Calculer $\\mathbb{E}(X + Y)$.\n",
    "</div>"
   ]
  },
  {
   "cell_type": "code",
   "execution_count": 127,
   "metadata": {
    "collapsed": false
   },
   "outputs": [
    {
     "data": {
      "text/plain": [
       "1.84375"
      ]
     },
     "execution_count": 127,
     "metadata": {},
     "output_type": "execute_result"
    }
   ],
   "source": [
    "esperance_jointe(pxy,fsom(variablex.reshape((-1,1)),variabley))"
   ]
  },
  {
   "cell_type": "markdown",
   "metadata": {},
   "source": [
    "<div class=\"alert alert-block alert-info\">\n",
    "Q3.6 - Calculer $\\mathbb{E}(XY)$.\n",
    "</div>"
   ]
  },
  {
   "cell_type": "code",
   "execution_count": 131,
   "metadata": {
    "collapsed": false
   },
   "outputs": [
    {
     "data": {
      "text/plain": [
       "0.65625"
      ]
     },
     "execution_count": 131,
     "metadata": {},
     "output_type": "execute_result"
    }
   ],
   "source": [
    "esperance_jointe(pxy, (variablex.reshape((-1, 1))*variabley))"
   ]
  },
  {
   "cell_type": "markdown",
   "metadata": {},
   "source": [
    "<div class=\"alert alert-block alert-info\">\n",
    "Q3.7- Écrire une fonction <code>covariance</code> prend en paramètres une loi jointe de deux variables <code>p</code> et qui renvoie la covariance de $X$ et $Y$.\n",
    "</div>"
   ]
  },
  {
   "cell_type": "code",
   "execution_count": 134,
   "metadata": {
    "collapsed": true
   },
   "outputs": [],
   "source": [
    "def covariance(p, x, y):\n",
    "    return esperance_jointe(p,(x.reshape((-1, 1))*y)) - (esperance(np.sum(p, axis=1),x))*(esperance(np.sum(p, axis = 0), y))"
   ]
  },
  {
   "cell_type": "markdown",
   "metadata": {},
   "source": [
    "<div class=\"alert alert-block alert-info\">\n",
    "Q3.8 - Calculer $\\mathbb{C}ov(X, Y)$.\n",
    "</div>"
   ]
  },
  {
   "cell_type": "code",
   "execution_count": 135,
   "metadata": {
    "collapsed": false
   },
   "outputs": [
    {
     "data": {
      "text/plain": [
       "0.10546875"
      ]
     },
     "execution_count": 135,
     "metadata": {},
     "output_type": "execute_result"
    }
   ],
   "source": [
    "covariance(pxy, variablex, variabley)"
   ]
  },
  {
   "cell_type": "code",
   "execution_count": null,
   "metadata": {
    "collapsed": true
   },
   "outputs": [],
   "source": []
  }
 ],
 "metadata": {
  "anaconda-cloud": {},
  "kernelspec": {
   "display_name": "Python [conda root]",
   "language": "python",
   "name": "conda-root-py"
  },
  "language_info": {
   "codemirror_mode": {
    "name": "ipython",
    "version": 2
   },
   "file_extension": ".py",
   "mimetype": "text/x-python",
   "name": "python",
   "nbconvert_exporter": "python",
   "pygments_lexer": "ipython2",
   "version": "2.7.12"
  }
 },
 "nbformat": 4,
 "nbformat_minor": 5
}
