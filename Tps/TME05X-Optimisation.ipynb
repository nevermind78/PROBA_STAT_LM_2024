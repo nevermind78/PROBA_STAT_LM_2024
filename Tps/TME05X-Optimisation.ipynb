{
 "cells": [
  {
   "cell_type": "markdown",
   "metadata": {},
   "source": [
    "# Qui êtes-vous ?\n",
    "<div class=\"alert alert-block alert-info\">\n",
    "Écrire ci-dessous le nom, le prénom et le numéro étudiant de chaque membre du binôme :\n",
    "</div>"
   ]
  },
  {
   "cell_type": "code",
   "execution_count": 1,
   "metadata": {
    "collapsed": true
   },
   "outputs": [],
   "source": []
  },
  {
   "cell_type": "markdown",
   "metadata": {},
   "source": [
    "# TME 05X - Optimisation numérique d'une fonction"
   ]
  },
  {
   "cell_type": "code",
   "execution_count": 2,
   "metadata": {
    "collapsed": true
   },
   "outputs": [],
   "source": [
    "import numpy as np\n",
    "import pandas as pd\n",
    "import matplotlib.pyplot as plt\n",
    "%matplotlib inline"
   ]
  },
  {
   "cell_type": "markdown",
   "metadata": {},
   "source": [
    "## 1 - Comparaison entre dichotomie, point fixe et Newton"
   ]
  },
  {
   "cell_type": "markdown",
   "metadata": {},
   "source": [
    "<div class=\"alert alert-block alert-warning\">\n",
    "Dans cette première partie, nous allons comparer les vitesses de convergence des algorithmes vus en cours pour trouver les zéros d'une fonction, à savoir la dichotomie, la methode du point fixe et la méthode de Newton.\n",
    "</div>"
   ]
  },
  {
   "cell_type": "markdown",
   "metadata": {},
   "source": [
    "<div class=\"alert alert-block alert-info\">\n",
    "    Q1.1 - Définir la fonction <code>f1</code> telle que $$f_1(x) = 1 - x + \\exp(-3x).$$\n",
    "</div>"
   ]
  },
  {
   "cell_type": "code",
   "execution_count": 3,
   "metadata": {
    "collapsed": false,
    "scrolled": true
   },
   "outputs": [],
   "source": [
    "def f1(x):\n",
    "    return (1 - x + np.exp(-3*x))"
   ]
  },
  {
   "cell_type": "markdown",
   "metadata": {},
   "source": [
    "<div class=\"alert alert-block alert-info\">\n",
    "    Q1.2 - Écrire la fonction <code>dichotomie</code> qui prend en paramètre une fonction <code>f</code>, deux bornes <code>a0</code> et <code>b0</code> et une précision <code>eps</code> et qui renvoie le couple formé d'un $x^*$ tel que $f(x^*) \\simeq 0$ et du nombre d'itérations effectuées.\n",
    "</div>"
   ]
  },
  {
   "cell_type": "code",
   "execution_count": 4,
   "metadata": {
    "collapsed": true
   },
   "outputs": [],
   "source": [
    "def dichotomie(f, a0, b0, eps):\n",
    "    compt=0\n",
    "    xmin=a0\n",
    "    xmax=b0\n",
    "    xh=0\n",
    "    while (xmax-xmin)>=eps:\n",
    "        xh = (xmin + xmax) / 2.0\n",
    "        if (f(xh)*f(xmin))>0:\n",
    "            xmin=xh\n",
    "        elif (f(xh)*f(xmax))>0:\n",
    "            xmax=xh\n",
    "        compt=compt+1\n",
    "    return (xh, compt)"
   ]
  },
  {
   "cell_type": "markdown",
   "metadata": {},
   "source": [
    "<div class=\"alert alert-block alert-info\">\n",
    "Q1.3 - Testez la fonction dichotomie pour obtenir une approximation à $10^{-15}$ près du zéro de la fonction $f_1$ en partant de l'intervalle de départ $[0, 2]$.\n",
    "</div>"
   ]
  },
  {
   "cell_type": "code",
   "execution_count": 5,
   "metadata": {
    "collapsed": false
   },
   "outputs": [
    {
     "data": {
      "text/plain": [
       "(1.0436732400551056, 51)"
      ]
     },
     "execution_count": 5,
     "metadata": {},
     "output_type": "execute_result"
    }
   ],
   "source": [
    "dichotomie(f1, 0, 2, 10**(-15))"
   ]
  },
  {
   "cell_type": "markdown",
   "metadata": {},
   "source": [
    "<div class=\"alert alert-block alert-info\">\n",
    "    Q1.4 - Écrire une fonction <code>point_fixe</code> qui prend en paramètres une fonction <code>g</code>, une valeur de départ <code>x0</code> et une précision <code>eps</code> et qui renvoie le couple formé d'une approximation d'un point fixe de <code>g</code> et du nombre d'itérations pour le trouver.\n",
    "</div>"
   ]
  },
  {
   "cell_type": "code",
   "execution_count": 6,
   "metadata": {
    "collapsed": false
   },
   "outputs": [],
   "source": [
    "def point_fixe(g, x0, eps):\n",
    "    xh=g(x0)\n",
    "    x=x0\n",
    "    compt=0\n",
    "    while np.abs(xh - x)>eps:\n",
    "        x, xh = g(xh), x\n",
    "        compt = compt+1\n",
    "    return (xh, compt)"
   ]
  },
  {
   "cell_type": "markdown",
   "metadata": {},
   "source": [
    "<div class=\"alert alert-block alert-info\">\n",
    "    Q1.5 - Pour tester la méthode du point fixe, définir une fonction <code>g1</code> telle que trouver un zéro de <code>f1</code> est équivalent à trouver un point fixe de <code>g1</code>.\n",
    "</div>"
   ]
  },
  {
   "cell_type": "code",
   "execution_count": 7,
   "metadata": {
    "collapsed": true
   },
   "outputs": [],
   "source": [
    "def g1(x):\n",
    "    return f1(x) + x"
   ]
  },
  {
   "cell_type": "markdown",
   "metadata": {},
   "source": [
    "<div class=\"alert alert-block alert-info\">\n",
    "    Q1.6 - Testez la fonction <code>point_fixe</code> pour obtenir une approximation à $10^{-15}$ près du zéro de la fonction $f_1$ en partant de la valeur de départ 0.\n",
    "</div>"
   ]
  },
  {
   "cell_type": "code",
   "execution_count": 8,
   "metadata": {
    "collapsed": false
   },
   "outputs": [
    {
     "data": {
      "text/plain": [
       "(1.0436732400551065, 36)"
      ]
     },
     "execution_count": 8,
     "metadata": {},
     "output_type": "execute_result"
    }
   ],
   "source": [
    "point_fixe(g1, 0, 10**(-15))"
   ]
  },
  {
   "cell_type": "markdown",
   "metadata": {},
   "source": [
    "<div class=\"alert alert-block alert-info\">\n",
    "    Q1.7 - Écrire une fonction <code>newton</code> qui prend en paramètres une fonction <code>f</code>, sa dérivée <code>df</code>, une valeur de départ <code>x0</code> et une précision <code>eps</code> et qui renvoie le couple formé d'une approximation d'un zéro de <code>f</code> et du nombre d'itérations pour le trouver.\n",
    "</div>"
   ]
  },
  {
   "cell_type": "code",
   "execution_count": 9,
   "metadata": {
    "collapsed": false
   },
   "outputs": [],
   "source": [
    "def newton(f, df, x0, eps):\n",
    "    x=x0\n",
    "    xh=0\n",
    "    compt=0\n",
    "    while f(xh)>eps:\n",
    "        xh,x = (x-(f(x)/df(x))), xh\n",
    "        compt = compt+1\n",
    "    \n",
    "    return xh, compt"
   ]
  },
  {
   "cell_type": "markdown",
   "metadata": {},
   "source": [
    "<div class=\"alert alert-block alert-info\">\n",
    "    Q1.8 - Pour tester la méthode de Newton, définir une fonction <code>df1</code> comme étant la dérivée de la fonction <code>f1</code>.\n",
    "</div>"
   ]
  },
  {
   "cell_type": "code",
   "execution_count": 10,
   "metadata": {
    "collapsed": true
   },
   "outputs": [],
   "source": [
    "def df1(x):\n",
    "    return (-1+(-3 * np.exp(-3*x)))"
   ]
  },
  {
   "cell_type": "markdown",
   "metadata": {},
   "source": [
    "<div class=\"alert alert-block alert-info\">\n",
    "Q1.9 - Testez la fonction <code>newton</code> pour obtenir une approximation à $10^{-15}$ près du zéro de la fonction $f_1$ en partant de la valeur de départ 0.\n",
    "</div>"
   ]
  },
  {
   "cell_type": "code",
   "execution_count": 11,
   "metadata": {
    "collapsed": false
   },
   "outputs": [
    {
     "data": {
      "text/plain": [
       "(1.0436732400551065, 11)"
      ]
     },
     "execution_count": 11,
     "metadata": {},
     "output_type": "execute_result"
    }
   ],
   "source": [
    "newton(f1, df1, 0, 10**(-15))"
   ]
  },
  {
   "cell_type": "markdown",
   "metadata": {},
   "source": [
    "<div class=\"alert alert-block alert-info\">\n",
    "Exécuter la cellule suivante pour obtenir le vecteur d'entier $(1, 2, \\dots, 15)$.\n",
    "</div>"
   ]
  },
  {
   "cell_type": "code",
   "execution_count": 12,
   "metadata": {
    "collapsed": false
   },
   "outputs": [
    {
     "data": {
      "text/plain": [
       "array([ 1,  2,  3,  4,  5,  6,  7,  8,  9, 10, 11, 12, 13, 14, 15])"
      ]
     },
     "execution_count": 12,
     "metadata": {},
     "output_type": "execute_result"
    }
   ],
   "source": [
    "logeps = np.arange(1, 16, 1)\n",
    "logeps"
   ]
  },
  {
   "cell_type": "markdown",
   "metadata": {},
   "source": [
    "<div class=\"alert alert-block alert-info\">\n",
    "Q1.10 - Définir une variable <code>epsilons</code> comme étant le vecteur $(10^{-1}, 10^{-2}, ..., 10^{-15})$ à partir du vecteur <code>logeps</code> défini ci-dessus.\n",
    "</div>"
   ]
  },
  {
   "cell_type": "code",
   "execution_count": 13,
   "metadata": {
    "collapsed": false
   },
   "outputs": [
    {
     "data": {
      "text/plain": [
       "array([1.e-01, 1.e-02, 1.e-03, 1.e-04, 1.e-05, 1.e-06, 1.e-07, 1.e-08,\n",
       "       1.e-09, 1.e-10, 1.e-11, 1.e-12, 1.e-13, 1.e-14, 1.e-15])"
      ]
     },
     "execution_count": 13,
     "metadata": {},
     "output_type": "execute_result"
    }
   ],
   "source": [
    "epsilons = 10.**(-logeps)\n",
    "epsilons"
   ]
  },
  {
   "cell_type": "markdown",
   "metadata": {},
   "source": [
    "<div class=\"alert alert-block alert-info\">\n",
    "Q1.11 - Pour comparer le nombre d'itérations nécessaires à chaque méthode avec la fonction <code>f1</code>, créer un graphique où pour chaque méthode, on trace le nombre d'itérations en fonction de la précision <code>eps</code>.\n",
    "On utilisera une échelle logarithmique pour les abscisses (ce qui revient à prendre <code>logeps</code> pour les $x$). Quelle conjecture pourrait-on faire ?\n",
    "</div>"
   ]
  },
  {
   "cell_type": "code",
   "execution_count": 14,
   "metadata": {
    "collapsed": false
   },
   "outputs": [],
   "source": [
    "iterations_newton = [newton(f1, df1, 0, eps)[1] for eps in epsilons]\n",
    "iterations_dichotomie = [dichotomie(f1, 0, 2, eps)[1] for eps in epsilons]\n",
    "iterations_point_fixe = [point_fixe(g1, 0, eps)[1] for eps in epsilons]"
   ]
  },
  {
   "cell_type": "code",
   "execution_count": 15,
   "metadata": {
    "collapsed": false,
    "scrolled": true
   },
   "outputs": [
    {
     "data": {
      "text/plain": [
       "[<matplotlib.lines.Line2D at 0x7f56bff62d50>]"
      ]
     },
     "execution_count": 15,
     "metadata": {},
     "output_type": "execute_result"
    },
    {
     "data": {
      "image/png": "[encoded data removed]",
      "text/plain": [
       "<matplotlib.figure.Figure at 0x7f56c2034590>"
      ]
     },
     "metadata": {},
     "output_type": "display_data"
    }
   ],
   "source": [
    "plt.plot(logeps, iterations_newton, color='blue')\n",
    "plt.plot(logeps, iterations_dichotomie, color='red')\n",
    "plt.plot(logeps, iterations_point_fixe, color='green')"
   ]
  },
  {
   "cell_type": "markdown",
   "metadata": {},
   "source": [
    "## 2 - Newton alterné"
   ]
  },
  {
   "cell_type": "markdown",
   "metadata": {},
   "source": [
    "<div class=\"alert alert-block alert-warning\">\n",
    "Dans cette partie, nous allons utiliser une méthode de Newton alternée afin de trouver les coefficients de la droite de régression par la méthode des moindres carrés.\n",
    "</div>"
   ]
  },
  {
   "cell_type": "markdown",
   "metadata": {},
   "source": [
    "<div class=\"alert alert-block alert-info\">\n",
    "Exécuter la boite ci-dessous pour charger les données de ventes en fonction de la publicité.\n",
    "</div>"
   ]
  },
  {
   "cell_type": "code",
   "execution_count": 16,
   "metadata": {
    "collapsed": false,
    "scrolled": true
   },
   "outputs": [
    {
     "data": {
      "text/html": [
       "<div>\n",
       "<style scoped>\n",
       "    .dataframe tbody tr th:only-of-type {\n",
       "        vertical-align: middle;\n",
       "    }\n",
       "\n",
       "    .dataframe tbody tr th {\n",
       "        vertical-align: top;\n",
       "    }\n",
       "\n",
       "    .dataframe thead th {\n",
       "        text-align: right;\n",
       "    }\n",
       "</style>\n",
       "<table border=\"1\" class=\"dataframe\">\n",
       "  <thead>\n",
       "    <tr style=\"text-align: right;\">\n",
       "      <th></th>\n",
       "      <th>TV</th>\n",
       "      <th>Radio</th>\n",
       "      <th>Newspaper</th>\n",
       "      <th>Sales</th>\n",
       "    </tr>\n",
       "  </thead>\n",
       "  <tbody>\n",
       "    <tr>\n",
       "      <th>0</th>\n",
       "      <td>230.1</td>\n",
       "      <td>37.8</td>\n",
       "      <td>69.2</td>\n",
       "      <td>22.1</td>\n",
       "    </tr>\n",
       "    <tr>\n",
       "      <th>1</th>\n",
       "      <td>44.5</td>\n",
       "      <td>39.3</td>\n",
       "      <td>45.1</td>\n",
       "      <td>10.4</td>\n",
       "    </tr>\n",
       "    <tr>\n",
       "      <th>2</th>\n",
       "      <td>17.2</td>\n",
       "      <td>45.9</td>\n",
       "      <td>69.3</td>\n",
       "      <td>12.0</td>\n",
       "    </tr>\n",
       "    <tr>\n",
       "      <th>3</th>\n",
       "      <td>151.5</td>\n",
       "      <td>41.3</td>\n",
       "      <td>58.5</td>\n",
       "      <td>16.5</td>\n",
       "    </tr>\n",
       "    <tr>\n",
       "      <th>4</th>\n",
       "      <td>180.8</td>\n",
       "      <td>10.8</td>\n",
       "      <td>58.4</td>\n",
       "      <td>17.9</td>\n",
       "    </tr>\n",
       "  </tbody>\n",
       "</table>\n",
       "</div>"
      ],
      "text/plain": [
       "      TV  Radio  Newspaper  Sales\n",
       "0  230.1   37.8       69.2   22.1\n",
       "1   44.5   39.3       45.1   10.4\n",
       "2   17.2   45.9       69.3   12.0\n",
       "3  151.5   41.3       58.5   16.5\n",
       "4  180.8   10.8       58.4   17.9"
      ]
     },
     "execution_count": 16,
     "metadata": {},
     "output_type": "execute_result"
    }
   ],
   "source": [
    "data_pub = pd.read_csv('advertising.csv')\n",
    "data_pub.head() # visualisation du contenu"
   ]
  },
  {
   "cell_type": "markdown",
   "metadata": {},
   "source": [
    "<div class=\"alert alert-block alert-info\">\n",
    "Exécuter la boite ci-dessous pour définir les variables <code>tv</code> et <code>ventes</code>.\n",
    "</div>"
   ]
  },
  {
   "cell_type": "code",
   "execution_count": 17,
   "metadata": {
    "collapsed": true
   },
   "outputs": [],
   "source": [
    "tv = data_pub['TV']\n",
    "ventes = data_pub['Sales']"
   ]
  },
  {
   "cell_type": "markdown",
   "metadata": {},
   "source": [
    "<div class=\"alert alert-block alert-info\">\n",
    "Exécuter la boite ci-dessous qui reprend le travail d'un TME précédent pour visualiser la droite de régression de <code>ventes</code> en fonction de <code>tv</code>.\n",
    "</div>"
   ]
  },
  {
   "cell_type": "code",
   "execution_count": 18,
   "metadata": {
    "collapsed": false
   },
   "outputs": [
    {
     "data": {
      "image/png": "[encoded data removed]",
      "text/plain": [
       "<matplotlib.figure.Figure at 0x7f56bfe96f10>"
      ]
     },
     "metadata": {},
     "output_type": "display_data"
    }
   ],
   "source": [
    "def cov(x, y):\n",
    "    return np.mean((x - np.mean(x)) * (y - np.mean(y)))\n",
    "\n",
    "def regression_mc(x, y):\n",
    "    b = cov(x, y) / np.std(x) ** 2\n",
    "    a = np.mean(y) - b * np.mean(x)\n",
    "    return a, b\n",
    "\n",
    "def plot_regression(x, y):\n",
    "    a, b = regression_mc(x, y)\n",
    "    _ = plt.scatter(x, y, color = 'gray')\n",
    "    _ = plt.plot([np.min(x), np.max(x)], [a + b * np.min(x), a + b * np.max(x)], color = 'red')\n",
    "    return None\n",
    "\n",
    "plot_regression(tv, ventes)"
   ]
  },
  {
   "cell_type": "markdown",
   "metadata": {},
   "source": [
    "<div class=\"alert alert-block alert-info\">\n",
    "Q2.1 - Calculer les coefficients de la droite de régression $y \\simeq a + bx$ de <code>ventes</code> en fonction de <code>tv</code> par la méthode des moindres carrés.\n",
    "</div>"
   ]
  },
  {
   "cell_type": "code",
   "execution_count": 19,
   "metadata": {
    "collapsed": false
   },
   "outputs": [
    {
     "data": {
      "text/plain": [
       "(6.974821488229903, 0.05546477046955881)"
      ]
     },
     "execution_count": 19,
     "metadata": {},
     "output_type": "execute_result"
    }
   ],
   "source": [
    "regression_mc(tv, ventes)"
   ]
  },
  {
   "cell_type": "markdown",
   "metadata": {},
   "source": [
    "<div class=\"alert alert-block alert-info\">\n",
    "    Q2.2 - Définir la fonction <code>cout</code> qui étant donné deux coefficients <code>a</code> et <code>b</code> et deux séries de données <code>x</code> et <code>y</code>, renvoie le coût quadratique $C$ (celui des moindres carrés) : $$C(a, b, x, y) = \\sum_{i = 1}^{n} |a + b.x_i - y_i|^2.$$\n",
    "Calculer le coût quadratique pour les coefficients trouvés précédemment.\n",
    "</div>"
   ]
  },
  {
   "cell_type": "code",
   "execution_count": 20,
   "metadata": {
    "collapsed": false
   },
   "outputs": [
    {
     "data": {
      "text/plain": [
       "1043.5487795590257"
      ]
     },
     "execution_count": 20,
     "metadata": {},
     "output_type": "execute_result"
    }
   ],
   "source": [
    "def cout(a, b, x, y):\n",
    "    return np.sum((np.abs(a+b*x-y)**2))\n",
    "\n",
    "cout(6.974821488229903, 0.05546477046955881, tv, ventes)"
   ]
  },
  {
   "cell_type": "markdown",
   "metadata": {},
   "source": [
    "<div class=\"alert alert-block alert-info\">\n",
    "Q2.3 - Compléter les fonctions ci-dessous pour qu'elle calculent :\n",
    "<ul>\n",
    "    <li><code>dcout_da(a, b, x, y)</code> pour $\\partial_a C(a, b, x, y)$</li>\n",
    "    <li><code>dcout_db(a, b, x, y)</code> pour $\\partial_b C(a, b, x, y)$</li>\n",
    "    <li><code>d2cout_da(a, b, x, y)</code> pour $\\partial^2_a C(a, b, x, y)$</li>\n",
    "    <li><code>d2cout_db(a, b, x, y)</code> pour $\\partial^2_b C(a, b, x, y)$</li>\n",
    "</ul>\n",
    "</div>"
   ]
  },
  {
   "cell_type": "code",
   "execution_count": 48,
   "metadata": {
    "collapsed": false
   },
   "outputs": [],
   "source": [
    "def dcout_da(a, b, x, y):\n",
    "    return np.sum(2*(a+b*x-y))\n",
    "\n",
    "def dcout_db(a, b, x, y):\n",
    "    return np.sum(2*x*(a+b*x-y))\n",
    "\n",
    "def d2cout_da2(a, b, x, y):\n",
    "    return 2*len(x)\n",
    "\n",
    "def d2cout_db2(a, b, x, y):\n",
    "    return (2*np.dot(x,x))"
   ]
  },
  {
   "cell_type": "markdown",
   "metadata": {},
   "source": [
    "<div class=\"alert alert-block alert-info\">\n",
    "Q2.4 - Compléter la fonction <code>newton_alterne</code> ci-dessous qui prend en paramètres les dérivées première <code>dfa</code> et seconde <code>d2fa</code> d'une fonction de coût $f$ par rapport à $a$, les dérivées première <code>dfb</code> et seconde <code>d2fb</code> de la même fonction de coût par rapport à $b$, les coordonnées du point initial <code>a0</code>, <code>b0</code>, les données <code>x</code> et <code>y</code> et une précision <code>epsilon</code>, et qui calcule un couple $(a, b)$ qui minimise la fonction de coût.\n",
    "</div>"
   ]
  },
  {
   "cell_type": "code",
   "execution_count": 50,
   "metadata": {
    "collapsed": false,
    "scrolled": true
   },
   "outputs": [
    {
     "data": {
      "text/plain": [
       "(6.974821488229894, 0.05546477046955884)"
      ]
     },
     "execution_count": 50,
     "metadata": {},
     "output_type": "execute_result"
    },
    {
     "data": {
      "image/png": "[encoded data removed]",
      "text/plain": [
       "<matplotlib.figure.Figure at 0x7f56b9855790>"
      ]
     },
     "metadata": {},
     "output_type": "display_data"
    }
   ],
   "source": [
    "def newton_alterne(dfa, d2fa, dfb, d2fb, a0, b0, x, y, eps):\n",
    "    _ = plt.scatter(x, y, color = 'gray')\n",
    "    a = a0\n",
    "    b = b0\n",
    "    aprec = a + 2 * eps\n",
    "    bprec = b + 2 * eps\n",
    "    while max(np.abs(aprec-a), np.abs(bprec-b))> eps: \n",
    "        aprec=a\n",
    "        bprec=b\n",
    "        a = a - (dfa(a,b,x,y)/d2fa(a,b,x,y))\n",
    "        b = b - (dfb(a,b,x,y)/d2fb(a,b,x,y))\n",
    "    return a, b\n",
    "\n",
    "newton_alterne(dcout_da, d2cout_da2, dcout_db, d2cout_db2, 0, 0, tv, ventes, 1e-16)"
   ]
  },
  {
   "cell_type": "markdown",
   "metadata": {},
   "source": [
    "## 3 - Descente de gradient"
   ]
  },
  {
   "cell_type": "markdown",
   "metadata": {},
   "source": [
    "<div class=\"alert alert-block alert-info\">\n",
    "Q3.1 - Définir la fonction <code>descente_gradient</code> qui étant donné un gradient à deux dimensions <code>dfa</code>, <code>dfb</code>, un point de départ <code>ua0</code>, <code>ub0</code>, des données <code>x</code>, <code>y</code>, un pas <code\n",
    "</div>"
   ]
  },
  {
   "cell_type": "code",
   "execution_count": 58,
   "metadata": {
    "collapsed": true
   },
   "outputs": [],
   "source": [
    "def descente_gradient(dfa, dfb, ua0, ub0, x, y, gamma, eps):\n",
    "    ua = ua0\n",
    "    ub = ub0\n",
    "    uaprec = ua + 2 * eps\n",
    "    ubprec = ub + 2 * eps\n",
    "    while max(np.abs(uaprec-ua), np.abs(ubprec-ub))> eps:\n",
    "        uaprec=ua\n",
    "        ubprec=ub\n",
    "        ua = ua - gamma*np.array(dfa(ua, ub, x, y), dfb(ua, ub, x, y))\n",
    "        ub = ub - gamma*np.array(dfa(ua, ub, x, y), dfb(ua, ub, x, y))\n",
    "    return ua, ub"
   ]
  },
  {
   "cell_type": "code",
   "execution_count": 62,
   "metadata": {
    "collapsed": false
   },
   "outputs": [
    {
     "data": {
      "text/plain": [
       "(0.10261143229907187, 0.10220098656987553)"
      ]
     },
     "execution_count": 62,
     "metadata": {},
     "output_type": "execute_result"
    }
   ],
   "source": [
    "descente_gradient(dcout_da,dcout_db, 0, 0, tv, ventes, 0.00001, 1e-16)"
   ]
  },
  {
   "cell_type": "code",
   "execution_count": null,
   "metadata": {
    "collapsed": true
   },
   "outputs": [],
   "source": []
  }
 ],
 "metadata": {
  "anaconda-cloud": {},
  "kernelspec": {
   "display_name": "Python [conda root]",
   "language": "python",
   "name": "conda-root-py"
  },
  "language_info": {
   "codemirror_mode": {
    "name": "ipython",
    "version": 2
   },
   "file_extension": ".py",
   "mimetype": "text/x-python",
   "name": "python",
   "nbconvert_exporter": "python",
   "pygments_lexer": "ipython2",
   "version": "2.7.12"
  }
 },
 "nbformat": 4,
 "nbformat_minor": 5
}
